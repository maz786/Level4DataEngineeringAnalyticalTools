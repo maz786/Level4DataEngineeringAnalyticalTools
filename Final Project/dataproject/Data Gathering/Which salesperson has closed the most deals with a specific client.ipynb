{
    "metadata": {
        "kernelspec": {
            "name": "SQL",
            "display_name": "SQL",
            "language": "sql"
        },
        "language_info": {
            "name": "sql",
            "version": ""
        }
    },
    "nbformat_minor": 2,
    "nbformat": 4,
    "cells": [
        {
            "cell_type": "markdown",
            "source": [
                "**<u>Which salesperson has closed the most deals with a specific client</u>**"
            ],
            "metadata": {
                "azdata_cell_guid": "263f3e4c-56cc-4d8d-b14f-5ebb6eeb9659"
            },
            "attachments": {}
        },
        {
            "cell_type": "code",
            "source": [
                "SELECT Customers.FirstName, Customers.LastName, Employees.FirstName, Employees.LastName, COUNT(Sales.SalesID) AS NumberOfSales\n",
                "FROM Customers\n",
                "INNER JOIN Sales ON Customers.CustomerID = Sales.CustomerID\n",
                "INNER JOIN Employees ON Sales.SalesPersonID = Employees.EmployeeID\n",
                "GROUP BY Customers.FirstName, Customers.LastName, Employees.FirstName, Employees.LastName\n",
                "ORDER BY NumberOfSales DESC"
            ],
            "metadata": {
                "azdata_cell_guid": "093b902d-f704-407b-a6dd-ef7ef42216a1",
                "language": "sql"
            },
            "outputs": [
                {
                    "output_type": "display_data",
                    "data": {
                        "text/html": "(295 rows affected)"
                    },
                    "metadata": {}
                },
                {
                    "output_type": "display_data",
                    "data": {
                        "text/html": "Total execution time: 00:00:00.038"
                    },
                    "metadata": {}
                },
                {
                    "output_type": "execute_result",
                    "execution_count": 1,
                    "data": {
                        "application/vnd.dataresource+json": {
                            "schema": {
                                "fields": [
                                    {
                                        "name": "FirstName"
                                    },
                                    {
                                        "name": "LastName"
                                    },
                                    {
                                        "name": "FirstName"
                                    },
                                    {
                                        "name": "LastName"
                                    },
                                    {
                                        "name": "NumberOfSales"
                                    }
                                ]
                            },
                            "data": [
                                {
                                    "0": "Calvin",
                                    "1": "Yuan",
                                    "2": "Heather",
                                    "3": "McBadden",
                                    "4": "2"
                                },
                                {
                                    "0": "Leah",
                                    "1": "Yang",
                                    "2": "Abraham",
                                    "3": "Bennet",
                                    "4": "2"
                                },
                                {
                                    "0": "Richard",
                                    "1": "Young",
                                    "2": "Burt",
                                    "3": "Gringlesby",
                                    "4": "2"
                                },
                                {
                                    "0": "Kelvin",
                                    "1": "Yang",
                                    "2": "Albert",
                                    "3": "Ringer",
                                    "4": "2"
                                },
                                {
                                    "0": "Brendan",
                                    "1": "Yuan",
                                    "2": "Charlene",
                                    "3": "Locksley",
                                    "4": "2"
                                },
                                {
                                    "0": "Brendan",
                                    "1": "Yuan",
                                    "2": "Reginald",
                                    "3": "Blotchet-Halls",
                                    "4": "1"
                                },
                                {
                                    "0": "Brendan",
                                    "1": "Yuan",
                                    "2": "Stearns",
                                    "3": "MacFeather",
                                    "4": "1"
                                },
                                {
                                    "0": "Brent",
                                    "1": "Yang",
                                    "2": "Stearns",
                                    "3": "MacFeather",
                                    "4": "1"
                                },
                                {
                                    "0": "Brittney",
                                    "1": "Ye",
                                    "2": "Heather",
                                    "3": "McBadden",
                                    "4": "1"
                                },
                                {
                                    "0": "Calvin",
                                    "1": "Yuan",
                                    "2": "Dirk",
                                    "3": "Stringer",
                                    "4": "1"
                                },
                                {
                                    "0": "Kelvin",
                                    "1": "Yang",
                                    "2": "Sheryl",
                                    "3": "Hunter",
                                    "4": "1"
                                },
                                {
                                    "0": "Kelvin",
                                    "1": "Yuan",
                                    "2": "Michel",
                                    "3": "DeFrance",
                                    "4": "1"
                                },
                                {
                                    "0": "Kelvin",
                                    "1": "Yuan",
                                    "2": "Stearns",
                                    "3": "MacFeather",
                                    "4": "1"
                                },
                                {
                                    "0": "Krystal",
                                    "1": "Yang",
                                    "2": "Michael",
                                    "3": "O-Leary",
                                    "4": "1"
                                },
                                {
                                    "0": "Kyle",
                                    "1": "Yang",
                                    "2": "Charlene",
                                    "3": "Locksley",
                                    "4": "1"
                                },
                                {
                                    "0": "Kyle",
                                    "1": "Young",
                                    "2": "Cheryl",
                                    "3": "Carson",
                                    "4": "1"
                                },
                                {
                                    "0": "Kyle",
                                    "1": "Young",
                                    "2": "Michael",
                                    "3": "O-Leary",
                                    "4": "1"
                                },
                                {
                                    "0": "Lacey",
                                    "1": "Yang",
                                    "2": "Albert",
                                    "3": "Ringer",
                                    "4": "1"
                                },
                                {
                                    "0": "Lacey",
                                    "1": "Yang",
                                    "2": "Michel",
                                    "3": "DeFrance",
                                    "4": "1"
                                },
                                {
                                    "0": "Latoya",
                                    "1": "Yuan",
                                    "2": "Michael",
                                    "3": "O-Leary",
                                    "4": "1"
                                },
                                {
                                    "0": "Latoya",
                                    "1": "Yuan",
                                    "2": "Reginald",
                                    "3": "Blotchet-Halls",
                                    "4": "1"
                                },
                                {
                                    "0": "Richard",
                                    "1": "Young",
                                    "2": "Reginald",
                                    "3": "Blotchet-Halls",
                                    "4": "1"
                                },
                                {
                                    "0": "Rob",
                                    "1": "Young",
                                    "2": "Cheryl",
                                    "3": "Carson",
                                    "4": "1"
                                },
                                {
                                    "0": "Rob",
                                    "1": "Young",
                                    "2": "Innes",
                                    "3": "del Castillo",
                                    "4": "1"
                                },
                                {
                                    "0": "Rob",
                                    "1": "Young",
                                    "2": "Reginald",
                                    "3": "Blotchet-Halls",
                                    "4": "1"
                                },
                                {
                                    "0": "Robert",
                                    "1": "Yang",
                                    "2": "Meander",
                                    "3": "Smith",
                                    "4": "1"
                                },
                                {
                                    "0": "Roger",
                                    "1": "Yang",
                                    "2": "Stearns",
                                    "3": "MacFeather",
                                    "4": "1"
                                },
                                {
                                    "0": "Roger",
                                    "1": "Ye",
                                    "2": "Marjorie",
                                    "3": "Green",
                                    "4": "1"
                                },
                                {
                                    "0": "Roger",
                                    "1": "Ye",
                                    "2": "Stearns",
                                    "3": "MacFeather",
                                    "4": "1"
                                },
                                {
                                    "0": "Roger",
                                    "1": "Yuan",
                                    "2": "Burt",
                                    "3": "Gringlesby",
                                    "4": "1"
                                },
                                {
                                    "0": "Roger",
                                    "1": "Yuan",
                                    "2": "Cheryl",
                                    "3": "Carson",
                                    "4": "1"
                                },
                                {
                                    "0": "Rosa",
                                    "1": "Yang",
                                    "2": "Innes",
                                    "3": "del Castillo",
                                    "4": "1"
                                },
                                {
                                    "0": "Samuel",
                                    "1": "Yang",
                                    "2": "Dean",
                                    "3": "Straight",
                                    "4": "1"
                                },
                                {
                                    "0": "Sandra",
                                    "1": "Yang",
                                    "2": "Burt",
                                    "3": "Gringlesby",
                                    "4": "1"
                                },
                                {
                                    "0": "Sandra",
                                    "1": "Yang",
                                    "2": "Stearns",
                                    "3": "MacFeather",
                                    "4": "1"
                                },
                                {
                                    "0": "Sandra",
                                    "1": "Yang",
                                    "2": "Sylvia",
                                    "3": "Panteley",
                                    "4": "1"
                                },
                                {
                                    "0": "Sandra",
                                    "1": "Ye",
                                    "2": "Ann",
                                    "3": "Dull",
                                    "4": "1"
                                },
                                {
                                    "0": "Sandra",
                                    "1": "Ye",
                                    "2": "Charlene",
                                    "3": "Locksley",
                                    "4": "1"
                                },
                                {
                                    "0": "Savannah",
                                    "1": "Young",
                                    "2": "Sylvia",
                                    "3": "Panteley",
                                    "4": "1"
                                },
                                {
                                    "0": "Shannon",
                                    "1": "Yang",
                                    "2": "Innes",
                                    "3": "del Castillo",
                                    "4": "1"
                                },
                                {
                                    "0": "Shannon",
                                    "1": "Ye",
                                    "2": "Charlene",
                                    "3": "Locksley",
                                    "4": "1"
                                },
                                {
                                    "0": "Sierra",
                                    "1": "Young",
                                    "2": "Anne",
                                    "3": "Ringer",
                                    "4": "1"
                                },
                                {
                                    "0": "Stacey",
                                    "1": "Yang",
                                    "2": "Dean",
                                    "3": "Straight",
                                    "4": "1"
                                },
                                {
                                    "0": "Stacey",
                                    "1": "Ye",
                                    "2": "Albert",
                                    "3": "Ringer",
                                    "4": "1"
                                },
                                {
                                    "0": "Stacey",
                                    "1": "Ye",
                                    "2": "Cheryl",
                                    "3": "Carson",
                                    "4": "1"
                                },
                                {
                                    "0": "Stephanie",
                                    "1": "Young",
                                    "2": "Morningstar",
                                    "3": "Greene",
                                    "4": "1"
                                },
                                {
                                    "0": "Steve",
                                    "1": "Yang",
                                    "2": "Charlene",
                                    "3": "Locksley",
                                    "4": "1"
                                },
                                {
                                    "0": "Steve",
                                    "1": "Yang",
                                    "2": "Reginald",
                                    "3": "Blotchet-Halls",
                                    "4": "1"
                                },
                                {
                                    "0": "Steve",
                                    "1": "Yang",
                                    "2": "Stearns",
                                    "3": "MacFeather",
                                    "4": "1"
                                },
                                {
                                    "0": "Susan",
                                    "1": "Yang",
                                    "2": "Reginald",
                                    "3": "Blotchet-Halls",
                                    "4": "1"
                                },
                                {
                                    "0": "Susan",
                                    "1": "Ye",
                                    "2": "Cheryl",
                                    "3": "Carson",
                                    "4": "1"
                                },
                                {
                                    "0": "Suzanne",
                                    "1": "Yang",
                                    "2": "Albert",
                                    "3": "Ringer",
                                    "4": "1"
                                },
                                {
                                    "0": "Suzanne",
                                    "1": "Yang",
                                    "2": "Marjorie",
                                    "3": "Green",
                                    "4": "1"
                                },
                                {
                                    "0": "Suzanne",
                                    "1": "Yang",
                                    "2": "Michael",
                                    "3": "O-Leary",
                                    "4": "1"
                                },
                                {
                                    "0": "Suzanne",
                                    "1": "Yang",
                                    "2": "Michel",
                                    "3": "DeFrance",
                                    "4": "1"
                                },
                                {
                                    "0": "Tai",
                                    "1": "Yee",
                                    "2": "Burt",
                                    "3": "Gringlesby",
                                    "4": "1"
                                },
                                {
                                    "0": "Tamara",
                                    "1": "Yang",
                                    "2": "Dirk",
                                    "3": "Stringer",
                                    "4": "1"
                                },
                                {
                                    "0": "Tara",
                                    "1": "Yuan",
                                    "2": "Burt",
                                    "3": "Gringlesby",
                                    "4": "1"
                                },
                                {
                                    "0": "Terrence",
                                    "1": "Yuan",
                                    "2": "Albert",
                                    "3": "Ringer",
                                    "4": "1"
                                },
                                {
                                    "0": "Terry",
                                    "1": "Yuan",
                                    "2": "Dean",
                                    "3": "Straight",
                                    "4": "1"
                                },
                                {
                                    "0": "Thomas",
                                    "1": "Yang",
                                    "2": "Marjorie",
                                    "3": "Green",
                                    "4": "1"
                                },
                                {
                                    "0": "Thomas",
                                    "1": "Young",
                                    "2": "Innes",
                                    "3": "del Castillo",
                                    "4": "1"
                                },
                                {
                                    "0": "Thomas",
                                    "1": "Young",
                                    "2": "Sylvia",
                                    "3": "Panteley",
                                    "4": "1"
                                },
                                {
                                    "0": "Tiffany",
                                    "1": "Yang",
                                    "2": "Meander",
                                    "3": "Smith",
                                    "4": "1"
                                },
                                {
                                    "0": "Timothy",
                                    "1": "Young",
                                    "2": "Michael",
                                    "3": "O-Leary",
                                    "4": "1"
                                },
                                {
                                    "0": "Timothy",
                                    "1": "Young",
                                    "2": "Sylvia",
                                    "3": "Panteley",
                                    "4": "1"
                                },
                                {
                                    "0": "Tom",
                                    "1": "Youtsey",
                                    "2": "Burt",
                                    "3": "Gringlesby",
                                    "4": "1"
                                },
                                {
                                    "0": "Tracy",
                                    "1": "Yuan",
                                    "2": "Marjorie",
                                    "3": "Green",
                                    "4": "1"
                                },
                                {
                                    "0": "Trisha",
                                    "1": "Ye",
                                    "2": "Burt",
                                    "3": "Gringlesby",
                                    "4": "1"
                                },
                                {
                                    "0": "Valerie",
                                    "1": "Yang",
                                    "2": "Michel",
                                    "3": "DeFrance",
                                    "4": "1"
                                },
                                {
                                    "0": "Valerie",
                                    "1": "Ye",
                                    "2": "Innes",
                                    "3": "del Castillo",
                                    "4": "1"
                                },
                                {
                                    "0": "Vincent",
                                    "1": "Ye",
                                    "2": "Innes",
                                    "3": "del Castillo",
                                    "4": "1"
                                },
                                {
                                    "0": "Vincent",
                                    "1": "Ye",
                                    "2": "Sylvia",
                                    "3": "Panteley",
                                    "4": "1"
                                },
                                {
                                    "0": "Warren",
                                    "1": "Yang",
                                    "2": "Anne",
                                    "3": "Ringer",
                                    "4": "1"
                                },
                                {
                                    "0": "Warren",
                                    "1": "Ye",
                                    "2": "Meander",
                                    "3": "Smith",
                                    "4": "1"
                                },
                                {
                                    "0": "Warren",
                                    "1": "Yuan",
                                    "2": "Dean",
                                    "3": "Straight",
                                    "4": "1"
                                },
                                {
                                    "0": "Warren",
                                    "1": "Yuan",
                                    "2": "Michel",
                                    "3": "DeFrance",
                                    "4": "1"
                                },
                                {
                                    "0": "Willie",
                                    "1": "Ye",
                                    "2": "Stearns",
                                    "3": "MacFeather",
                                    "4": "1"
                                },
                                {
                                    "0": "Willie",
                                    "1": "Yuan",
                                    "2": "Burt",
                                    "3": "Gringlesby",
                                    "4": "1"
                                },
                                {
                                    "0": "Willie",
                                    "1": "Yuan",
                                    "2": "Livia",
                                    "3": "Karsen",
                                    "4": "1"
                                },
                                {
                                    "0": "Wyatt",
                                    "1": "Young",
                                    "2": "Anne",
                                    "3": "Ringer",
                                    "4": "1"
                                },
                                {
                                    "0": "Xavier",
                                    "1": "Young",
                                    "2": "Heather",
                                    "3": "McBadden",
                                    "4": "1"
                                },
                                {
                                    "0": "Xavier",
                                    "1": "Young",
                                    "2": "Innes",
                                    "3": "del Castillo",
                                    "4": "1"
                                },
                                {
                                    "0": "Yolanda",
                                    "1": "Yuan",
                                    "2": "Livia",
                                    "3": "Karsen",
                                    "4": "1"
                                },
                                {
                                    "0": "Zachary",
                                    "1": "Yang",
                                    "2": "Dirk",
                                    "3": "Stringer",
                                    "4": "1"
                                },
                                {
                                    "0": "Leah",
                                    "1": "Yang",
                                    "2": "Innes",
                                    "3": "del Castillo",
                                    "4": "1"
                                },
                                {
                                    "0": "Logan",
                                    "1": "Yang",
                                    "2": "Albert",
                                    "3": "Ringer",
                                    "4": "1"
                                },
                                {
                                    "0": "Logan",
                                    "1": "Yang",
                                    "2": "Michael",
                                    "3": "O-Leary",
                                    "4": "1"
                                },
                                {
                                    "0": "Louis",
                                    "1": "Yang",
                                    "2": "Michael",
                                    "3": "O-Leary",
                                    "4": "1"
                                },
                                {
                                    "0": "Louis",
                                    "1": "Ye",
                                    "2": "Meander",
                                    "3": "Smith",
                                    "4": "1"
                                },
                                {
                                    "0": "Louis",
                                    "1": "Ye",
                                    "2": "Morningstar",
                                    "3": "Greene",
                                    "4": "1"
                                },
                                {
                                    "0": "Luis",
                                    "1": "Yang",
                                    "2": "Cheryl",
                                    "3": "Carson",
                                    "4": "1"
                                },
                                {
                                    "0": "Luke",
                                    "1": "Yang",
                                    "2": "Cheryl",
                                    "3": "Carson",
                                    "4": "1"
                                },
                                {
                                    "0": "Mackenzie",
                                    "1": "Young",
                                    "2": "Abraham",
                                    "3": "Bennet",
                                    "4": "1"
                                },
                                {
                                    "0": "Mackenzie",
                                    "1": "Young",
                                    "2": "Ann",
                                    "3": "Dull",
                                    "4": "1"
                                },
                                {
                                    "0": "Madeline",
                                    "1": "Young",
                                    "2": "Johnson",
                                    "3": "White",
                                    "4": "1"
                                },
                                {
                                    "0": "Mandy",
                                    "1": "Ye",
                                    "2": "Burt",
                                    "3": "Gringlesby",
                                    "4": "1"
                                },
                                {
                                    "0": "Marcus",
                                    "1": "Young",
                                    "2": "Marjorie",
                                    "3": "Green",
                                    "4": "1"
                                },
                                {
                                    "0": "Marcus",
                                    "1": "Young",
                                    "2": "Stearns",
                                    "3": "MacFeather",
                                    "4": "1"
                                },
                                {
                                    "0": "Margaret",
                                    "1": "Ye",
                                    "2": "Sylvia",
                                    "3": "Panteley",
                                    "4": "1"
                                },
                                {
                                    "0": "Marshall",
                                    "1": "Yang",
                                    "2": "Charlene",
                                    "3": "Locksley",
                                    "4": "1"
                                },
                                {
                                    "0": "Marshall",
                                    "1": "Yang",
                                    "2": "Reginald",
                                    "3": "Blotchet-Halls",
                                    "4": "1"
                                },
                                {
                                    "0": "Marshall",
                                    "1": "Ye",
                                    "2": "Livia",
                                    "3": "Karsen",
                                    "4": "1"
                                },
                                {
                                    "0": "Martha",
                                    "1": "Yang",
                                    "2": "Michel",
                                    "3": "DeFrance",
                                    "4": "1"
                                },
                                {
                                    "0": "Martha",
                                    "1": "Ye",
                                    "2": "Ann",
                                    "3": "Dull",
                                    "4": "1"
                                },
                                {
                                    "0": "Martha",
                                    "1": "Ye",
                                    "2": "Marjorie",
                                    "3": "Green",
                                    "4": "1"
                                },
                                {
                                    "0": "Maurice",
                                    "1": "Yuan",
                                    "2": "Akiko",
                                    "3": "Yokomoto",
                                    "4": "1"
                                },
                                {
                                    "0": "Maurice",
                                    "1": "Yuan",
                                    "2": "Innes",
                                    "3": "del Castillo",
                                    "4": "1"
                                },
                                {
                                    "0": "Micah",
                                    "1": "Yang",
                                    "2": "Livia",
                                    "3": "Karsen",
                                    "4": "1"
                                },
                                {
                                    "0": "Michele",
                                    "1": "Yuan",
                                    "2": "Akiko",
                                    "3": "Yokomoto",
                                    "4": "1"
                                },
                                {
                                    "0": "Miguel",
                                    "1": "Young",
                                    "2": "Charlene",
                                    "3": "Locksley",
                                    "4": "1"
                                },
                                {
                                    "0": "Miguel",
                                    "1": "Young",
                                    "2": "Reginald",
                                    "3": "Blotchet-Halls",
                                    "4": "1"
                                },
                                {
                                    "0": "Misty",
                                    "1": "Yuan",
                                    "2": "Livia",
                                    "3": "Karsen",
                                    "4": "1"
                                },
                                {
                                    "0": "Misty",
                                    "1": "Yuan",
                                    "2": "Reginald",
                                    "3": "Blotchet-Halls",
                                    "4": "1"
                                },
                                {
                                    "0": "Natalie",
                                    "1": "Young",
                                    "2": "Akiko",
                                    "3": "Yokomoto",
                                    "4": "1"
                                },
                                {
                                    "0": "Nathan",
                                    "1": "Yang",
                                    "2": "Johnson",
                                    "3": "White",
                                    "4": "1"
                                },
                                {
                                    "0": "Nathan",
                                    "1": "Young",
                                    "2": "Michel",
                                    "3": "DeFrance",
                                    "4": "1"
                                },
                                {
                                    "0": "Noah",
                                    "1": "Yang",
                                    "2": "Michael",
                                    "3": "O-Leary",
                                    "4": "1"
                                },
                                {
                                    "0": "Norimichi",
                                    "1": "Yonekura",
                                    "2": "Heather",
                                    "3": "McBadden",
                                    "4": "1"
                                },
                                {
                                    "0": "Norimichi",
                                    "1": "Yonekura",
                                    "2": "Morningstar",
                                    "3": "Greene",
                                    "4": "1"
                                },
                                {
                                    "0": "Nuan",
                                    "1": "Yu",
                                    "2": "Johnson",
                                    "3": "White",
                                    "4": "1"
                                },
                                {
                                    "0": "Nuan",
                                    "1": "Yuan",
                                    "2": "Dirk",
                                    "3": "Stringer",
                                    "4": "1"
                                },
                                {
                                    "0": "Omar",
                                    "1": "Yang",
                                    "2": "Akiko",
                                    "3": "Yokomoto",
                                    "4": "1"
                                },
                                {
                                    "0": "Omar",
                                    "1": "Ye",
                                    "2": "Meander",
                                    "3": "Smith",
                                    "4": "1"
                                },
                                {
                                    "0": "Rafael",
                                    "1": "Yang",
                                    "2": "Anne",
                                    "3": "Ringer",
                                    "4": "1"
                                },
                                {
                                    "0": "Rafael",
                                    "1": "Yang",
                                    "2": "Innes",
                                    "3": "del Castillo",
                                    "4": "1"
                                },
                                {
                                    "0": "Rafael",
                                    "1": "Ye",
                                    "2": "Morningstar",
                                    "3": "Greene",
                                    "4": "1"
                                },
                                {
                                    "0": "Rafael",
                                    "1": "Ye",
                                    "2": "Reginald",
                                    "3": "Blotchet-Halls",
                                    "4": "1"
                                },
                                {
                                    "0": "Ramon",
                                    "1": "Yang",
                                    "2": "Livia",
                                    "3": "Karsen",
                                    "4": "1"
                                },
                                {
                                    "0": "Ramon",
                                    "1": "Ye",
                                    "2": "Johnson",
                                    "3": "White",
                                    "4": "1"
                                },
                                {
                                    "0": "Randy",
                                    "1": "Yang",
                                    "2": "Charlene",
                                    "3": "Locksley",
                                    "4": "1"
                                },
                                {
                                    "0": "Randy",
                                    "1": "Yang",
                                    "2": "Dirk",
                                    "3": "Stringer",
                                    "4": "1"
                                },
                                {
                                    "0": "Randy",
                                    "1": "Yang",
                                    "2": "Reginald",
                                    "3": "Blotchet-Halls",
                                    "4": "1"
                                },
                                {
                                    "0": "Randy",
                                    "1": "Ye",
                                    "2": "Reginald",
                                    "3": "Blotchet-Halls",
                                    "4": "1"
                                },
                                {
                                    "0": "Aaron",
                                    "1": "Yang",
                                    "2": "Ann",
                                    "3": "Dull",
                                    "4": "1"
                                },
                                {
                                    "0": "Aaron",
                                    "1": "Yang",
                                    "2": "Dirk",
                                    "3": "Stringer",
                                    "4": "1"
                                },
                                {
                                    "0": "Adam",
                                    "1": "Young",
                                    "2": "Johnson",
                                    "3": "White",
                                    "4": "1"
                                },
                                {
                                    "0": "Alan",
                                    "1": "Ye",
                                    "2": "Johnson",
                                    "3": "White",
                                    "4": "1"
                                },
                                {
                                    "0": "Alan",
                                    "1": "Ye",
                                    "2": "Stearns",
                                    "3": "MacFeather",
                                    "4": "1"
                                },
                                {
                                    "0": "Alejandro",
                                    "1": "Ye",
                                    "2": "Sheryl",
                                    "3": "Hunter",
                                    "4": "1"
                                },
                                {
                                    "0": "Alexandra",
                                    "1": "Young",
                                    "2": "Meander",
                                    "3": "Smith",
                                    "4": "1"
                                },
                                {
                                    "0": "Alisha",
                                    "1": "Yang",
                                    "2": "Anne",
                                    "3": "Ringer",
                                    "4": "1"
                                },
                                {
                                    "0": "Alisha",
                                    "1": "Yang",
                                    "2": "Charlene",
                                    "3": "Locksley",
                                    "4": "1"
                                },
                                {
                                    "0": "Alisha",
                                    "1": "Ye",
                                    "2": "Marjorie",
                                    "3": "Green",
                                    "4": "1"
                                },
                                {
                                    "0": "Alisha",
                                    "1": "Yuan",
                                    "2": "Dirk",
                                    "3": "Stringer",
                                    "4": "1"
                                },
                                {
                                    "0": "Alisha",
                                    "1": "Yuan",
                                    "2": "Sheryl",
                                    "3": "Hunter",
                                    "4": "1"
                                },
                                {
                                    "0": "Alisha",
                                    "1": "Yuan",
                                    "2": "Sylvia",
                                    "3": "Panteley",
                                    "4": "1"
                                },
                                {
                                    "0": "Alison",
                                    "1": "Yuan",
                                    "2": "Innes",
                                    "3": "del Castillo",
                                    "4": "1"
                                },
                                {
                                    "0": "Alison",
                                    "1": "Yuan",
                                    "2": "Stearns",
                                    "3": "MacFeather",
                                    "4": "1"
                                },
                                {
                                    "0": "Alvin",
                                    "1": "Yang",
                                    "2": "Abraham",
                                    "3": "Bennet",
                                    "4": "1"
                                },
                                {
                                    "0": "Alvin",
                                    "1": "Ye",
                                    "2": "Cheryl",
                                    "3": "Carson",
                                    "4": "1"
                                },
                                {
                                    "0": "Alvin",
                                    "1": "Ye",
                                    "2": "Sheryl",
                                    "3": "Hunter",
                                    "4": "1"
                                },
                                {
                                    "0": "Alvin",
                                    "1": "Yuan",
                                    "2": "Akiko",
                                    "3": "Yokomoto",
                                    "4": "1"
                                },
                                {
                                    "0": "Alvin",
                                    "1": "Yuan",
                                    "2": "Burt",
                                    "3": "Gringlesby",
                                    "4": "1"
                                },
                                {
                                    "0": "Alvin",
                                    "1": "Yuan",
                                    "2": "Michael",
                                    "3": "O-Leary",
                                    "4": "1"
                                },
                                {
                                    "0": "Amanda",
                                    "1": "Young",
                                    "2": "Burt",
                                    "3": "Gringlesby",
                                    "4": "1"
                                },
                                {
                                    "0": "Amanda",
                                    "1": "Young",
                                    "2": "Livia",
                                    "3": "Karsen",
                                    "4": "1"
                                },
                                {
                                    "0": "Amanda",
                                    "1": "Young",
                                    "2": "Marjorie",
                                    "3": "Green",
                                    "4": "1"
                                },
                                {
                                    "0": "Andrea",
                                    "1": "Young",
                                    "2": "Marjorie",
                                    "3": "Green",
                                    "4": "1"
                                },
                                {
                                    "0": "Angel",
                                    "1": "Young",
                                    "2": "Heather",
                                    "3": "McBadden",
                                    "4": "1"
                                },
                                {
                                    "0": "Arthur",
                                    "1": "Yasinski",
                                    "2": "Anne",
                                    "3": "Ringer",
                                    "4": "1"
                                },
                                {
                                    "0": "Bailey",
                                    "1": "Young",
                                    "2": "Dean",
                                    "3": "Straight",
                                    "4": "1"
                                },
                                {
                                    "0": "Barbara",
                                    "1": "Ye",
                                    "2": "Reginald",
                                    "3": "Blotchet-Halls",
                                    "4": "1"
                                },
                                {
                                    "0": "Barbara",
                                    "1": "Yuan",
                                    "2": "Meander",
                                    "3": "Smith",
                                    "4": "1"
                                },
                                {
                                    "0": "Bethany",
                                    "1": "Yuan",
                                    "2": "Abraham",
                                    "3": "Bennet",
                                    "4": "1"
                                },
                                {
                                    "0": "Bianca",
                                    "1": "Yang",
                                    "2": "Heather",
                                    "3": "McBadden",
                                    "4": "1"
                                },
                                {
                                    "0": "Blake",
                                    "1": "Young",
                                    "2": "Anne",
                                    "3": "Ringer",
                                    "4": "1"
                                },
                                {
                                    "0": "Brad",
                                    "1": "Yuan",
                                    "2": "Dirk",
                                    "3": "Stringer",
                                    "4": "1"
                                },
                                {
                                    "0": "Bradley",
                                    "1": "Yuan",
                                    "2": "Cheryl",
                                    "3": "Carson",
                                    "4": "1"
                                },
                                {
                                    "0": "Cameron",
                                    "1": "Yang",
                                    "2": "Marjorie",
                                    "3": "Green",
                                    "4": "1"
                                },
                                {
                                    "0": "Candice",
                                    "1": "Ye",
                                    "2": "Dean",
                                    "3": "Straight",
                                    "4": "1"
                                },
                                {
                                    "0": "Cara",
                                    "1": "Ye",
                                    "2": "Abraham",
                                    "3": "Bennet",
                                    "4": "1"
                                },
                                {
                                    "0": "Carl",
                                    "1": "Yuan",
                                    "2": "Charlene",
                                    "3": "Locksley",
                                    "4": "1"
                                },
                                {
                                    "0": "Casey",
                                    "1": "Yuan",
                                    "2": "Morningstar",
                                    "3": "Greene",
                                    "4": "1"
                                },
                                {
                                    "0": "Cedric",
                                    "1": "Ye",
                                    "2": "Livia",
                                    "3": "Karsen",
                                    "4": "1"
                                },
                                {
                                    "0": "Cedric",
                                    "1": "Yuan",
                                    "2": "Sheryl",
                                    "3": "Hunter",
                                    "4": "1"
                                },
                                {
                                    "0": "Christine",
                                    "1": "Yuan",
                                    "2": "Heather",
                                    "3": "McBadden",
                                    "4": "1"
                                },
                                {
                                    "0": "Christine",
                                    "1": "Yuan",
                                    "2": "Stearns",
                                    "3": "MacFeather",
                                    "4": "1"
                                },
                                {
                                    "0": "Christy",
                                    "1": "Ye",
                                    "2": "Charlene",
                                    "3": "Locksley",
                                    "4": "1"
                                },
                                {
                                    "0": "Clarence",
                                    "1": "Yuan",
                                    "2": "Meander",
                                    "3": "Smith",
                                    "4": "1"
                                },
                                {
                                    "0": "Clayton",
                                    "1": "Yang",
                                    "2": "Ann",
                                    "3": "Dull",
                                    "4": "1"
                                },
                                {
                                    "0": "Colin",
                                    "1": "Yang",
                                    "2": "Albert",
                                    "3": "Ringer",
                                    "4": "1"
                                },
                                {
                                    "0": "Colin",
                                    "1": "Yang",
                                    "2": "Sylvia",
                                    "3": "Panteley",
                                    "4": "1"
                                },
                                {
                                    "0": "Colleen",
                                    "1": "Yang",
                                    "2": "Livia",
                                    "3": "Karsen",
                                    "4": "1"
                                },
                                {
                                    "0": "Colleen",
                                    "1": "Yuan",
                                    "2": "Cheryl",
                                    "3": "Carson",
                                    "4": "1"
                                },
                                {
                                    "0": "Colleen",
                                    "1": "Yuan",
                                    "2": "Michael",
                                    "3": "O-Leary",
                                    "4": "1"
                                },
                                {
                                    "0": "Colleen",
                                    "1": "Yuan",
                                    "2": "Reginald",
                                    "3": "Blotchet-Halls",
                                    "4": "1"
                                },
                                {
                                    "0": "Connor",
                                    "1": "Yang",
                                    "2": "Michael",
                                    "3": "O-Leary",
                                    "4": "1"
                                },
                                {
                                    "0": "Connor",
                                    "1": "Yang",
                                    "2": "Michel",
                                    "3": "DeFrance",
                                    "4": "1"
                                },
                                {
                                    "0": "Connor",
                                    "1": "Yang",
                                    "2": "Stearns",
                                    "3": "MacFeather",
                                    "4": "1"
                                },
                                {
                                    "0": "Corey",
                                    "1": "Yuan",
                                    "2": "Marjorie",
                                    "3": "Green",
                                    "4": "1"
                                },
                                {
                                    "0": "Courtney",
                                    "1": "Young",
                                    "2": "Anne",
                                    "3": "Ringer",
                                    "4": "1"
                                },
                                {
                                    "0": "Cristina",
                                    "1": "Yuan",
                                    "2": "Livia",
                                    "3": "Karsen",
                                    "4": "1"
                                },
                                {
                                    "0": "Cristina",
                                    "1": "Yuan",
                                    "2": "Meander",
                                    "3": "Smith",
                                    "4": "1"
                                },
                                {
                                    "0": "Cristina",
                                    "1": "Yuan",
                                    "2": "Michel",
                                    "3": "DeFrance",
                                    "4": "1"
                                },
                                {
                                    "0": "Crystal",
                                    "1": "Yang",
                                    "2": "Stearns",
                                    "3": "MacFeather",
                                    "4": "1"
                                },
                                {
                                    "0": "Dalton",
                                    "1": "Young",
                                    "2": "Reginald",
                                    "3": "Blotchet-Halls",
                                    "4": "1"
                                },
                                {
                                    "0": "Damien",
                                    "1": "Ye",
                                    "2": "Akiko",
                                    "3": "Yokomoto",
                                    "4": "1"
                                },
                                {
                                    "0": "Damien",
                                    "1": "Ye",
                                    "2": "Livia",
                                    "3": "Karsen",
                                    "4": "1"
                                },
                                {
                                    "0": "Darryl",
                                    "1": "Yang",
                                    "2": "Albert",
                                    "3": "Ringer",
                                    "4": "1"
                                },
                                {
                                    "0": "Darryl",
                                    "1": "Yang",
                                    "2": "Cheryl",
                                    "3": "Carson",
                                    "4": "1"
                                },
                                {
                                    "0": "David",
                                    "1": "Yang",
                                    "2": "Michel",
                                    "3": "DeFrance",
                                    "4": "1"
                                },
                                {
                                    "0": "Dawn",
                                    "1": "Ye",
                                    "2": "Michel",
                                    "3": "DeFrance",
                                    "4": "1"
                                },
                                {
                                    "0": "Dawn",
                                    "1": "Yuan",
                                    "2": "Sylvia",
                                    "3": "Panteley",
                                    "4": "1"
                                },
                                {
                                    "0": "Dennis",
                                    "1": "Yang",
                                    "2": "Burt",
                                    "3": "Gringlesby",
                                    "4": "1"
                                },
                                {
                                    "0": "Derek",
                                    "1": "Yuan",
                                    "2": "Johnson",
                                    "3": "White",
                                    "4": "1"
                                },
                                {
                                    "0": "Devin",
                                    "1": "Young",
                                    "2": "Johnson",
                                    "3": "White",
                                    "4": "1"
                                },
                                {
                                    "0": "Edward",
                                    "1": "Young",
                                    "2": "Dirk",
                                    "3": "Stringer",
                                    "4": "1"
                                },
                                {
                                    "0": "Edward",
                                    "1": "Young",
                                    "2": "Michel",
                                    "3": "DeFrance",
                                    "4": "1"
                                },
                                {
                                    "0": "Edwin",
                                    "1": "Yang",
                                    "2": "Cheryl",
                                    "3": "Carson",
                                    "4": "1"
                                },
                                {
                                    "0": "Edwin",
                                    "1": "Yang",
                                    "2": "Johnson",
                                    "3": "White",
                                    "4": "1"
                                },
                                {
                                    "0": "Edwin",
                                    "1": "Ye",
                                    "2": "Ann",
                                    "3": "Dull",
                                    "4": "1"
                                },
                                {
                                    "0": "Edwin",
                                    "1": "Ye",
                                    "2": "Charlene",
                                    "3": "Locksley",
                                    "4": "1"
                                },
                                {
                                    "0": "Elijah",
                                    "1": "Young",
                                    "2": "Johnson",
                                    "3": "White",
                                    "4": "1"
                                },
                                {
                                    "0": "Ethan",
                                    "1": "Yang",
                                    "2": "Dirk",
                                    "3": "Stringer",
                                    "4": "1"
                                },
                                {
                                    "0": "Eugene",
                                    "1": "Yang",
                                    "2": "Dean",
                                    "3": "Straight",
                                    "4": "1"
                                },
                                {
                                    "0": "Franklin",
                                    "1": "Yuan",
                                    "2": "Cheryl",
                                    "3": "Carson",
                                    "4": "1"
                                },
                                {
                                    "0": "Franklin",
                                    "1": "Yuan",
                                    "2": "Sheryl",
                                    "3": "Hunter",
                                    "4": "1"
                                },
                                {
                                    "0": "Gabriel",
                                    "1": "Yang",
                                    "2": "Anne",
                                    "3": "Ringer",
                                    "4": "1"
                                },
                                {
                                    "0": "Gabriel",
                                    "1": "Yang",
                                    "2": "Michel",
                                    "3": "DeFrance",
                                    "4": "1"
                                },
                                {
                                    "0": "Gabriel",
                                    "1": "Young",
                                    "2": "Charlene",
                                    "3": "Locksley",
                                    "4": "1"
                                },
                                {
                                    "0": "Gabriella",
                                    "1": "Young",
                                    "2": "Ann",
                                    "3": "Dull",
                                    "4": "1"
                                },
                                {
                                    "0": "Garrett",
                                    "1": "Young",
                                    "2": "Dean",
                                    "3": "Straight",
                                    "4": "1"
                                },
                                {
                                    "0": "Gary",
                                    "1": "Yukish",
                                    "2": "Cheryl",
                                    "3": "Carson",
                                    "4": "1"
                                },
                                {
                                    "0": "Gilbert",
                                    "1": "Yang",
                                    "2": "Charlene",
                                    "3": "Locksley",
                                    "4": "1"
                                },
                                {
                                    "0": "Gilbert",
                                    "1": "Yang",
                                    "2": "Dirk",
                                    "3": "Stringer",
                                    "4": "1"
                                },
                                {
                                    "0": "Gilbert",
                                    "1": "Yang",
                                    "2": "Livia",
                                    "3": "Karsen",
                                    "4": "1"
                                },
                                {
                                    "0": "Gilbert",
                                    "1": "Yang",
                                    "2": "Sylvia",
                                    "3": "Panteley",
                                    "4": "1"
                                },
                                {
                                    "0": "Gilbert",
                                    "1": "Ye",
                                    "2": "Anne",
                                    "3": "Ringer",
                                    "4": "1"
                                },
                                {
                                    "0": "Gregory",
                                    "1": "Yuan",
                                    "2": "Ann",
                                    "3": "Dull",
                                    "4": "1"
                                },
                                {
                                    "0": "Heather",
                                    "1": "Yang",
                                    "2": "Charlene",
                                    "3": "Locksley",
                                    "4": "1"
                                },
                                {
                                    "0": "Ian",
                                    "1": "Young",
                                    "2": "Marjorie",
                                    "3": "Green",
                                    "4": "1"
                                },
                                {
                                    "0": "Ian",
                                    "1": "Yuhasz",
                                    "2": "Michel",
                                    "3": "DeFrance",
                                    "4": "1"
                                },
                                {
                                    "0": "Jack",
                                    "1": "Yang",
                                    "2": "Livia",
                                    "3": "Karsen",
                                    "4": "1"
                                },
                                {
                                    "0": "Jackson",
                                    "1": "Yang",
                                    "2": "Abraham",
                                    "3": "Bennet",
                                    "4": "1"
                                },
                                {
                                    "0": "Jaclyn",
                                    "1": "Yang",
                                    "2": "Anne",
                                    "3": "Ringer",
                                    "4": "1"
                                },
                                {
                                    "0": "Jaclyn",
                                    "1": "Yang",
                                    "2": "Cheryl",
                                    "3": "Carson",
                                    "4": "1"
                                },
                                {
                                    "0": "Jaclyn",
                                    "1": "Ye",
                                    "2": "Heather",
                                    "3": "McBadden",
                                    "4": "1"
                                },
                                {
                                    "0": "Jaclyn",
                                    "1": "Ye",
                                    "2": "Morningstar",
                                    "3": "Greene",
                                    "4": "1"
                                },
                                {
                                    "0": "Jaclyn",
                                    "1": "Yuan",
                                    "2": "Michael",
                                    "3": "O-Leary",
                                    "4": "1"
                                },
                                {
                                    "0": "Jaclyn",
                                    "1": "Yuan",
                                    "2": "Stearns",
                                    "3": "MacFeather",
                                    "4": "1"
                                },
                                {
                                    "0": "Jake",
                                    "1": "Yang",
                                    "2": "Akiko",
                                    "3": "Yokomoto",
                                    "4": "1"
                                },
                                {
                                    "0": "James",
                                    "1": "Young",
                                    "2": "Cheryl",
                                    "3": "Carson",
                                    "4": "1"
                                },
                                {
                                    "0": "James",
                                    "1": "Young",
                                    "2": "Dean",
                                    "3": "Straight",
                                    "4": "1"
                                },
                                {
                                    "0": "Jamie",
                                    "1": "Ye",
                                    "2": "Meander",
                                    "3": "Smith",
                                    "4": "1"
                                },
                                {
                                    "0": "Jamie",
                                    "1": "Ye",
                                    "2": "Sylvia",
                                    "3": "Panteley",
                                    "4": "1"
                                },
                                {
                                    "0": "Janet",
                                    "1": "Young",
                                    "2": "Dean",
                                    "3": "Straight",
                                    "4": "1"
                                },
                                {
                                    "0": "Janet",
                                    "1": "Young",
                                    "2": "Morningstar",
                                    "3": "Greene",
                                    "4": "1"
                                },
                                {
                                    "0": "Jason",
                                    "1": "Yang",
                                    "2": "Reginald",
                                    "3": "Blotchet-Halls",
                                    "4": "1"
                                },
                                {
                                    "0": "Jason",
                                    "1": "Young",
                                    "2": "Albert",
                                    "3": "Ringer",
                                    "4": "1"
                                },
                                {
                                    "0": "Jenna",
                                    "1": "Young",
                                    "2": "Morningstar",
                                    "3": "Greene",
                                    "4": "1"
                                },
                                {
                                    "0": "Jenny",
                                    "1": "Yang",
                                    "2": "Marjorie",
                                    "3": "Green",
                                    "4": "1"
                                },
                                {
                                    "0": "Jerry",
                                    "1": "Yuan",
                                    "2": "Abraham",
                                    "3": "Bennet",
                                    "4": "1"
                                },
                                {
                                    "0": "Jesse",
                                    "1": "Young",
                                    "2": "Morningstar",
                                    "3": "Greene",
                                    "4": "1"
                                },
                                {
                                    "0": "Jessie",
                                    "1": "Yang",
                                    "2": "Dirk",
                                    "3": "Stringer",
                                    "4": "1"
                                },
                                {
                                    "0": "Jessie",
                                    "1": "Yang",
                                    "2": "Meander",
                                    "3": "Smith",
                                    "4": "1"
                                },
                                {
                                    "0": "Jessie",
                                    "1": "Ye",
                                    "2": "Johnson",
                                    "3": "White",
                                    "4": "1"
                                },
                                {
                                    "0": "Jessie",
                                    "1": "Ye",
                                    "2": "Stearns",
                                    "3": "MacFeather",
                                    "4": "1"
                                },
                                {
                                    "0": "Johnny",
                                    "1": "Yuan",
                                    "2": "Stearns",
                                    "3": "MacFeather",
                                    "4": "1"
                                },
                                {
                                    "0": "Jon",
                                    "1": "Ye",
                                    "2": "Sheryl",
                                    "3": "Hunter",
                                    "4": "1"
                                },
                                {
                                    "0": "Jon",
                                    "1": "Yuan",
                                    "2": "Abraham",
                                    "3": "Bennet",
                                    "4": "1"
                                },
                                {
                                    "0": "Jon",
                                    "1": "Yuan",
                                    "2": "Innes",
                                    "3": "del Castillo",
                                    "4": "1"
                                },
                                {
                                    "0": "Jonathan",
                                    "1": "Yang",
                                    "2": "Burt",
                                    "3": "Gringlesby",
                                    "4": "1"
                                },
                                {
                                    "0": "Jonathan",
                                    "1": "Yang",
                                    "2": "Dean",
                                    "3": "Straight",
                                    "4": "1"
                                },
                                {
                                    "0": "Jonathan",
                                    "1": "Yang",
                                    "2": "Livia",
                                    "3": "Karsen",
                                    "4": "1"
                                },
                                {
                                    "0": "Jonathan",
                                    "1": "Yang",
                                    "2": "Michael",
                                    "3": "O-Leary",
                                    "4": "1"
                                },
                                {
                                    "0": "Jonathan",
                                    "1": "Young",
                                    "2": "Albert",
                                    "3": "Ringer",
                                    "4": "1"
                                },
                                {
                                    "0": "Jonathan",
                                    "1": "Young",
                                    "2": "Stearns",
                                    "3": "MacFeather",
                                    "4": "1"
                                },
                                {
                                    "0": "Jordan",
                                    "1": "Young",
                                    "2": "Abraham",
                                    "3": "Bennet",
                                    "4": "1"
                                },
                                {
                                    "0": "Jordan",
                                    "1": "Young",
                                    "2": "Sheryl",
                                    "3": "Hunter",
                                    "4": "1"
                                },
                                {
                                    "0": "Jorge",
                                    "1": "Ye",
                                    "2": "Sylvia",
                                    "3": "Panteley",
                                    "4": "1"
                                },
                                {
                                    "0": "Jose",
                                    "1": "Yang",
                                    "2": "Livia",
                                    "3": "Karsen",
                                    "4": "1"
                                },
                                {
                                    "0": "Jose",
                                    "1": "Young",
                                    "2": "Sylvia",
                                    "3": "Panteley",
                                    "4": "1"
                                },
                                {
                                    "0": "Julia",
                                    "1": "Young",
                                    "2": "Ann",
                                    "3": "Dull",
                                    "4": "1"
                                },
                                {
                                    "0": "Justin",
                                    "1": "Yang",
                                    "2": "Albert",
                                    "3": "Ringer",
                                    "4": "1"
                                },
                                {
                                    "0": "Kara",
                                    "1": "Yuan",
                                    "2": "Johnson",
                                    "3": "White",
                                    "4": "1"
                                },
                                {
                                    "0": "Kara",
                                    "1": "Yuan",
                                    "2": "Livia",
                                    "3": "Karsen",
                                    "4": "1"
                                },
                                {
                                    "0": "Kara",
                                    "1": "Yuan",
                                    "2": "Michel",
                                    "3": "DeFrance",
                                    "4": "1"
                                },
                                {
                                    "0": "Karen",
                                    "1": "Ye",
                                    "2": "Meander",
                                    "3": "Smith",
                                    "4": "1"
                                },
                                {
                                    "0": "Karen",
                                    "1": "Ye",
                                    "2": "Michael",
                                    "3": "O-Leary",
                                    "4": "1"
                                },
                                {
                                    "0": "Karen",
                                    "1": "Ye",
                                    "2": "Morningstar",
                                    "3": "Greene",
                                    "4": "1"
                                },
                                {
                                    "0": "Karl",
                                    "1": "Yuan",
                                    "2": "Michel",
                                    "3": "DeFrance",
                                    "4": "1"
                                },
                                {
                                    "0": "Kate",
                                    "1": "Yuan",
                                    "2": "Albert",
                                    "3": "Ringer",
                                    "4": "1"
                                },
                                {
                                    "0": "Kate",
                                    "1": "Yuan",
                                    "2": "Dirk",
                                    "3": "Stringer",
                                    "4": "1"
                                },
                                {
                                    "0": "Kate",
                                    "1": "Yuan",
                                    "2": "Reginald",
                                    "3": "Blotchet-Halls",
                                    "4": "1"
                                },
                                {
                                    "0": "Katelyn",
                                    "1": "Young",
                                    "2": "Albert",
                                    "3": "Ringer",
                                    "4": "1"
                                },
                                {
                                    "0": "Katelyn",
                                    "1": "Young",
                                    "2": "Charlene",
                                    "3": "Locksley",
                                    "4": "1"
                                },
                                {
                                    "0": "Katelyn",
                                    "1": "Young",
                                    "2": "Cheryl",
                                    "3": "Carson",
                                    "4": "1"
                                },
                                {
                                    "0": "Katelyn",
                                    "1": "Young",
                                    "2": "Johnson",
                                    "3": "White",
                                    "4": "1"
                                },
                                {
                                    "0": "Katherine",
                                    "1": "Young",
                                    "2": "Charlene",
                                    "3": "Locksley",
                                    "4": "1"
                                },
                                {
                                    "0": "Katie",
                                    "1": "Yuan",
                                    "2": "Morningstar",
                                    "3": "Greene",
                                    "4": "1"
                                },
                                {
                                    "0": "Katrina",
                                    "1": "Yuan",
                                    "2": "Marjorie",
                                    "3": "Green",
                                    "4": "1"
                                },
                                {
                                    "0": "Kaylee",
                                    "1": "Young",
                                    "2": "Charlene",
                                    "3": "Locksley",
                                    "4": "1"
                                },
                                {
                                    "0": "Kaylee",
                                    "1": "Young",
                                    "2": "Michael",
                                    "3": "O-Leary",
                                    "4": "1"
                                },
                                {
                                    "0": "Kelli",
                                    "1": "Ye",
                                    "2": "Michel",
                                    "3": "DeFrance",
                                    "4": "1"
                                }
                            ]
                        },
                        "text/html": "<table><tr><th>FirstName</th><th>LastName</th><th>FirstName</th><th>LastName</th><th>NumberOfSales</th></tr><tr><td>Calvin</td><td>Yuan</td><td>Heather</td><td>McBadden</td><td>2</td></tr><tr><td>Leah</td><td>Yang</td><td>Abraham</td><td>Bennet</td><td>2</td></tr><tr><td>Richard</td><td>Young</td><td>Burt</td><td>Gringlesby</td><td>2</td></tr><tr><td>Kelvin</td><td>Yang</td><td>Albert</td><td>Ringer</td><td>2</td></tr><tr><td>Brendan</td><td>Yuan</td><td>Charlene</td><td>Locksley</td><td>2</td></tr><tr><td>Brendan</td><td>Yuan</td><td>Reginald</td><td>Blotchet-Halls</td><td>1</td></tr><tr><td>Brendan</td><td>Yuan</td><td>Stearns</td><td>MacFeather</td><td>1</td></tr><tr><td>Brent</td><td>Yang</td><td>Stearns</td><td>MacFeather</td><td>1</td></tr><tr><td>Brittney</td><td>Ye</td><td>Heather</td><td>McBadden</td><td>1</td></tr><tr><td>Calvin</td><td>Yuan</td><td>Dirk</td><td>Stringer</td><td>1</td></tr><tr><td>Kelvin</td><td>Yang</td><td>Sheryl</td><td>Hunter</td><td>1</td></tr><tr><td>Kelvin</td><td>Yuan</td><td>Michel</td><td>DeFrance</td><td>1</td></tr><tr><td>Kelvin</td><td>Yuan</td><td>Stearns</td><td>MacFeather</td><td>1</td></tr><tr><td>Krystal</td><td>Yang</td><td>Michael</td><td>O-Leary</td><td>1</td></tr><tr><td>Kyle</td><td>Yang</td><td>Charlene</td><td>Locksley</td><td>1</td></tr><tr><td>Kyle</td><td>Young</td><td>Cheryl</td><td>Carson</td><td>1</td></tr><tr><td>Kyle</td><td>Young</td><td>Michael</td><td>O-Leary</td><td>1</td></tr><tr><td>Lacey</td><td>Yang</td><td>Albert</td><td>Ringer</td><td>1</td></tr><tr><td>Lacey</td><td>Yang</td><td>Michel</td><td>DeFrance</td><td>1</td></tr><tr><td>Latoya</td><td>Yuan</td><td>Michael</td><td>O-Leary</td><td>1</td></tr><tr><td>Latoya</td><td>Yuan</td><td>Reginald</td><td>Blotchet-Halls</td><td>1</td></tr><tr><td>Richard</td><td>Young</td><td>Reginald</td><td>Blotchet-Halls</td><td>1</td></tr><tr><td>Rob</td><td>Young</td><td>Cheryl</td><td>Carson</td><td>1</td></tr><tr><td>Rob</td><td>Young</td><td>Innes</td><td>del Castillo</td><td>1</td></tr><tr><td>Rob</td><td>Young</td><td>Reginald</td><td>Blotchet-Halls</td><td>1</td></tr><tr><td>Robert</td><td>Yang</td><td>Meander</td><td>Smith</td><td>1</td></tr><tr><td>Roger</td><td>Yang</td><td>Stearns</td><td>MacFeather</td><td>1</td></tr><tr><td>Roger</td><td>Ye</td><td>Marjorie</td><td>Green</td><td>1</td></tr><tr><td>Roger</td><td>Ye</td><td>Stearns</td><td>MacFeather</td><td>1</td></tr><tr><td>Roger</td><td>Yuan</td><td>Burt</td><td>Gringlesby</td><td>1</td></tr><tr><td>Roger</td><td>Yuan</td><td>Cheryl</td><td>Carson</td><td>1</td></tr><tr><td>Rosa</td><td>Yang</td><td>Innes</td><td>del Castillo</td><td>1</td></tr><tr><td>Samuel</td><td>Yang</td><td>Dean</td><td>Straight</td><td>1</td></tr><tr><td>Sandra</td><td>Yang</td><td>Burt</td><td>Gringlesby</td><td>1</td></tr><tr><td>Sandra</td><td>Yang</td><td>Stearns</td><td>MacFeather</td><td>1</td></tr><tr><td>Sandra</td><td>Yang</td><td>Sylvia</td><td>Panteley</td><td>1</td></tr><tr><td>Sandra</td><td>Ye</td><td>Ann</td><td>Dull</td><td>1</td></tr><tr><td>Sandra</td><td>Ye</td><td>Charlene</td><td>Locksley</td><td>1</td></tr><tr><td>Savannah</td><td>Young</td><td>Sylvia</td><td>Panteley</td><td>1</td></tr><tr><td>Shannon</td><td>Yang</td><td>Innes</td><td>del Castillo</td><td>1</td></tr><tr><td>Shannon</td><td>Ye</td><td>Charlene</td><td>Locksley</td><td>1</td></tr><tr><td>Sierra</td><td>Young</td><td>Anne</td><td>Ringer</td><td>1</td></tr><tr><td>Stacey</td><td>Yang</td><td>Dean</td><td>Straight</td><td>1</td></tr><tr><td>Stacey</td><td>Ye</td><td>Albert</td><td>Ringer</td><td>1</td></tr><tr><td>Stacey</td><td>Ye</td><td>Cheryl</td><td>Carson</td><td>1</td></tr><tr><td>Stephanie</td><td>Young</td><td>Morningstar</td><td>Greene</td><td>1</td></tr><tr><td>Steve</td><td>Yang</td><td>Charlene</td><td>Locksley</td><td>1</td></tr><tr><td>Steve</td><td>Yang</td><td>Reginald</td><td>Blotchet-Halls</td><td>1</td></tr><tr><td>Steve</td><td>Yang</td><td>Stearns</td><td>MacFeather</td><td>1</td></tr><tr><td>Susan</td><td>Yang</td><td>Reginald</td><td>Blotchet-Halls</td><td>1</td></tr><tr><td>Susan</td><td>Ye</td><td>Cheryl</td><td>Carson</td><td>1</td></tr><tr><td>Suzanne</td><td>Yang</td><td>Albert</td><td>Ringer</td><td>1</td></tr><tr><td>Suzanne</td><td>Yang</td><td>Marjorie</td><td>Green</td><td>1</td></tr><tr><td>Suzanne</td><td>Yang</td><td>Michael</td><td>O-Leary</td><td>1</td></tr><tr><td>Suzanne</td><td>Yang</td><td>Michel</td><td>DeFrance</td><td>1</td></tr><tr><td>Tai</td><td>Yee</td><td>Burt</td><td>Gringlesby</td><td>1</td></tr><tr><td>Tamara</td><td>Yang</td><td>Dirk</td><td>Stringer</td><td>1</td></tr><tr><td>Tara</td><td>Yuan</td><td>Burt</td><td>Gringlesby</td><td>1</td></tr><tr><td>Terrence</td><td>Yuan</td><td>Albert</td><td>Ringer</td><td>1</td></tr><tr><td>Terry</td><td>Yuan</td><td>Dean</td><td>Straight</td><td>1</td></tr><tr><td>Thomas</td><td>Yang</td><td>Marjorie</td><td>Green</td><td>1</td></tr><tr><td>Thomas</td><td>Young</td><td>Innes</td><td>del Castillo</td><td>1</td></tr><tr><td>Thomas</td><td>Young</td><td>Sylvia</td><td>Panteley</td><td>1</td></tr><tr><td>Tiffany</td><td>Yang</td><td>Meander</td><td>Smith</td><td>1</td></tr><tr><td>Timothy</td><td>Young</td><td>Michael</td><td>O-Leary</td><td>1</td></tr><tr><td>Timothy</td><td>Young</td><td>Sylvia</td><td>Panteley</td><td>1</td></tr><tr><td>Tom</td><td>Youtsey</td><td>Burt</td><td>Gringlesby</td><td>1</td></tr><tr><td>Tracy</td><td>Yuan</td><td>Marjorie</td><td>Green</td><td>1</td></tr><tr><td>Trisha</td><td>Ye</td><td>Burt</td><td>Gringlesby</td><td>1</td></tr><tr><td>Valerie</td><td>Yang</td><td>Michel</td><td>DeFrance</td><td>1</td></tr><tr><td>Valerie</td><td>Ye</td><td>Innes</td><td>del Castillo</td><td>1</td></tr><tr><td>Vincent</td><td>Ye</td><td>Innes</td><td>del Castillo</td><td>1</td></tr><tr><td>Vincent</td><td>Ye</td><td>Sylvia</td><td>Panteley</td><td>1</td></tr><tr><td>Warren</td><td>Yang</td><td>Anne</td><td>Ringer</td><td>1</td></tr><tr><td>Warren</td><td>Ye</td><td>Meander</td><td>Smith</td><td>1</td></tr><tr><td>Warren</td><td>Yuan</td><td>Dean</td><td>Straight</td><td>1</td></tr><tr><td>Warren</td><td>Yuan</td><td>Michel</td><td>DeFrance</td><td>1</td></tr><tr><td>Willie</td><td>Ye</td><td>Stearns</td><td>MacFeather</td><td>1</td></tr><tr><td>Willie</td><td>Yuan</td><td>Burt</td><td>Gringlesby</td><td>1</td></tr><tr><td>Willie</td><td>Yuan</td><td>Livia</td><td>Karsen</td><td>1</td></tr><tr><td>Wyatt</td><td>Young</td><td>Anne</td><td>Ringer</td><td>1</td></tr><tr><td>Xavier</td><td>Young</td><td>Heather</td><td>McBadden</td><td>1</td></tr><tr><td>Xavier</td><td>Young</td><td>Innes</td><td>del Castillo</td><td>1</td></tr><tr><td>Yolanda</td><td>Yuan</td><td>Livia</td><td>Karsen</td><td>1</td></tr><tr><td>Zachary</td><td>Yang</td><td>Dirk</td><td>Stringer</td><td>1</td></tr><tr><td>Leah</td><td>Yang</td><td>Innes</td><td>del Castillo</td><td>1</td></tr><tr><td>Logan</td><td>Yang</td><td>Albert</td><td>Ringer</td><td>1</td></tr><tr><td>Logan</td><td>Yang</td><td>Michael</td><td>O-Leary</td><td>1</td></tr><tr><td>Louis</td><td>Yang</td><td>Michael</td><td>O-Leary</td><td>1</td></tr><tr><td>Louis</td><td>Ye</td><td>Meander</td><td>Smith</td><td>1</td></tr><tr><td>Louis</td><td>Ye</td><td>Morningstar</td><td>Greene</td><td>1</td></tr><tr><td>Luis</td><td>Yang</td><td>Cheryl</td><td>Carson</td><td>1</td></tr><tr><td>Luke</td><td>Yang</td><td>Cheryl</td><td>Carson</td><td>1</td></tr><tr><td>Mackenzie</td><td>Young</td><td>Abraham</td><td>Bennet</td><td>1</td></tr><tr><td>Mackenzie</td><td>Young</td><td>Ann</td><td>Dull</td><td>1</td></tr><tr><td>Madeline</td><td>Young</td><td>Johnson</td><td>White</td><td>1</td></tr><tr><td>Mandy</td><td>Ye</td><td>Burt</td><td>Gringlesby</td><td>1</td></tr><tr><td>Marcus</td><td>Young</td><td>Marjorie</td><td>Green</td><td>1</td></tr><tr><td>Marcus</td><td>Young</td><td>Stearns</td><td>MacFeather</td><td>1</td></tr><tr><td>Margaret</td><td>Ye</td><td>Sylvia</td><td>Panteley</td><td>1</td></tr><tr><td>Marshall</td><td>Yang</td><td>Charlene</td><td>Locksley</td><td>1</td></tr><tr><td>Marshall</td><td>Yang</td><td>Reginald</td><td>Blotchet-Halls</td><td>1</td></tr><tr><td>Marshall</td><td>Ye</td><td>Livia</td><td>Karsen</td><td>1</td></tr><tr><td>Martha</td><td>Yang</td><td>Michel</td><td>DeFrance</td><td>1</td></tr><tr><td>Martha</td><td>Ye</td><td>Ann</td><td>Dull</td><td>1</td></tr><tr><td>Martha</td><td>Ye</td><td>Marjorie</td><td>Green</td><td>1</td></tr><tr><td>Maurice</td><td>Yuan</td><td>Akiko</td><td>Yokomoto</td><td>1</td></tr><tr><td>Maurice</td><td>Yuan</td><td>Innes</td><td>del Castillo</td><td>1</td></tr><tr><td>Micah</td><td>Yang</td><td>Livia</td><td>Karsen</td><td>1</td></tr><tr><td>Michele</td><td>Yuan</td><td>Akiko</td><td>Yokomoto</td><td>1</td></tr><tr><td>Miguel</td><td>Young</td><td>Charlene</td><td>Locksley</td><td>1</td></tr><tr><td>Miguel</td><td>Young</td><td>Reginald</td><td>Blotchet-Halls</td><td>1</td></tr><tr><td>Misty</td><td>Yuan</td><td>Livia</td><td>Karsen</td><td>1</td></tr><tr><td>Misty</td><td>Yuan</td><td>Reginald</td><td>Blotchet-Halls</td><td>1</td></tr><tr><td>Natalie</td><td>Young</td><td>Akiko</td><td>Yokomoto</td><td>1</td></tr><tr><td>Nathan</td><td>Yang</td><td>Johnson</td><td>White</td><td>1</td></tr><tr><td>Nathan</td><td>Young</td><td>Michel</td><td>DeFrance</td><td>1</td></tr><tr><td>Noah</td><td>Yang</td><td>Michael</td><td>O-Leary</td><td>1</td></tr><tr><td>Norimichi</td><td>Yonekura</td><td>Heather</td><td>McBadden</td><td>1</td></tr><tr><td>Norimichi</td><td>Yonekura</td><td>Morningstar</td><td>Greene</td><td>1</td></tr><tr><td>Nuan</td><td>Yu</td><td>Johnson</td><td>White</td><td>1</td></tr><tr><td>Nuan</td><td>Yuan</td><td>Dirk</td><td>Stringer</td><td>1</td></tr><tr><td>Omar</td><td>Yang</td><td>Akiko</td><td>Yokomoto</td><td>1</td></tr><tr><td>Omar</td><td>Ye</td><td>Meander</td><td>Smith</td><td>1</td></tr><tr><td>Rafael</td><td>Yang</td><td>Anne</td><td>Ringer</td><td>1</td></tr><tr><td>Rafael</td><td>Yang</td><td>Innes</td><td>del Castillo</td><td>1</td></tr><tr><td>Rafael</td><td>Ye</td><td>Morningstar</td><td>Greene</td><td>1</td></tr><tr><td>Rafael</td><td>Ye</td><td>Reginald</td><td>Blotchet-Halls</td><td>1</td></tr><tr><td>Ramon</td><td>Yang</td><td>Livia</td><td>Karsen</td><td>1</td></tr><tr><td>Ramon</td><td>Ye</td><td>Johnson</td><td>White</td><td>1</td></tr><tr><td>Randy</td><td>Yang</td><td>Charlene</td><td>Locksley</td><td>1</td></tr><tr><td>Randy</td><td>Yang</td><td>Dirk</td><td>Stringer</td><td>1</td></tr><tr><td>Randy</td><td>Yang</td><td>Reginald</td><td>Blotchet-Halls</td><td>1</td></tr><tr><td>Randy</td><td>Ye</td><td>Reginald</td><td>Blotchet-Halls</td><td>1</td></tr><tr><td>Aaron</td><td>Yang</td><td>Ann</td><td>Dull</td><td>1</td></tr><tr><td>Aaron</td><td>Yang</td><td>Dirk</td><td>Stringer</td><td>1</td></tr><tr><td>Adam</td><td>Young</td><td>Johnson</td><td>White</td><td>1</td></tr><tr><td>Alan</td><td>Ye</td><td>Johnson</td><td>White</td><td>1</td></tr><tr><td>Alan</td><td>Ye</td><td>Stearns</td><td>MacFeather</td><td>1</td></tr><tr><td>Alejandro</td><td>Ye</td><td>Sheryl</td><td>Hunter</td><td>1</td></tr><tr><td>Alexandra</td><td>Young</td><td>Meander</td><td>Smith</td><td>1</td></tr><tr><td>Alisha</td><td>Yang</td><td>Anne</td><td>Ringer</td><td>1</td></tr><tr><td>Alisha</td><td>Yang</td><td>Charlene</td><td>Locksley</td><td>1</td></tr><tr><td>Alisha</td><td>Ye</td><td>Marjorie</td><td>Green</td><td>1</td></tr><tr><td>Alisha</td><td>Yuan</td><td>Dirk</td><td>Stringer</td><td>1</td></tr><tr><td>Alisha</td><td>Yuan</td><td>Sheryl</td><td>Hunter</td><td>1</td></tr><tr><td>Alisha</td><td>Yuan</td><td>Sylvia</td><td>Panteley</td><td>1</td></tr><tr><td>Alison</td><td>Yuan</td><td>Innes</td><td>del Castillo</td><td>1</td></tr><tr><td>Alison</td><td>Yuan</td><td>Stearns</td><td>MacFeather</td><td>1</td></tr><tr><td>Alvin</td><td>Yang</td><td>Abraham</td><td>Bennet</td><td>1</td></tr><tr><td>Alvin</td><td>Ye</td><td>Cheryl</td><td>Carson</td><td>1</td></tr><tr><td>Alvin</td><td>Ye</td><td>Sheryl</td><td>Hunter</td><td>1</td></tr><tr><td>Alvin</td><td>Yuan</td><td>Akiko</td><td>Yokomoto</td><td>1</td></tr><tr><td>Alvin</td><td>Yuan</td><td>Burt</td><td>Gringlesby</td><td>1</td></tr><tr><td>Alvin</td><td>Yuan</td><td>Michael</td><td>O-Leary</td><td>1</td></tr><tr><td>Amanda</td><td>Young</td><td>Burt</td><td>Gringlesby</td><td>1</td></tr><tr><td>Amanda</td><td>Young</td><td>Livia</td><td>Karsen</td><td>1</td></tr><tr><td>Amanda</td><td>Young</td><td>Marjorie</td><td>Green</td><td>1</td></tr><tr><td>Andrea</td><td>Young</td><td>Marjorie</td><td>Green</td><td>1</td></tr><tr><td>Angel</td><td>Young</td><td>Heather</td><td>McBadden</td><td>1</td></tr><tr><td>Arthur</td><td>Yasinski</td><td>Anne</td><td>Ringer</td><td>1</td></tr><tr><td>Bailey</td><td>Young</td><td>Dean</td><td>Straight</td><td>1</td></tr><tr><td>Barbara</td><td>Ye</td><td>Reginald</td><td>Blotchet-Halls</td><td>1</td></tr><tr><td>Barbara</td><td>Yuan</td><td>Meander</td><td>Smith</td><td>1</td></tr><tr><td>Bethany</td><td>Yuan</td><td>Abraham</td><td>Bennet</td><td>1</td></tr><tr><td>Bianca</td><td>Yang</td><td>Heather</td><td>McBadden</td><td>1</td></tr><tr><td>Blake</td><td>Young</td><td>Anne</td><td>Ringer</td><td>1</td></tr><tr><td>Brad</td><td>Yuan</td><td>Dirk</td><td>Stringer</td><td>1</td></tr><tr><td>Bradley</td><td>Yuan</td><td>Cheryl</td><td>Carson</td><td>1</td></tr><tr><td>Cameron</td><td>Yang</td><td>Marjorie</td><td>Green</td><td>1</td></tr><tr><td>Candice</td><td>Ye</td><td>Dean</td><td>Straight</td><td>1</td></tr><tr><td>Cara</td><td>Ye</td><td>Abraham</td><td>Bennet</td><td>1</td></tr><tr><td>Carl</td><td>Yuan</td><td>Charlene</td><td>Locksley</td><td>1</td></tr><tr><td>Casey</td><td>Yuan</td><td>Morningstar</td><td>Greene</td><td>1</td></tr><tr><td>Cedric</td><td>Ye</td><td>Livia</td><td>Karsen</td><td>1</td></tr><tr><td>Cedric</td><td>Yuan</td><td>Sheryl</td><td>Hunter</td><td>1</td></tr><tr><td>Christine</td><td>Yuan</td><td>Heather</td><td>McBadden</td><td>1</td></tr><tr><td>Christine</td><td>Yuan</td><td>Stearns</td><td>MacFeather</td><td>1</td></tr><tr><td>Christy</td><td>Ye</td><td>Charlene</td><td>Locksley</td><td>1</td></tr><tr><td>Clarence</td><td>Yuan</td><td>Meander</td><td>Smith</td><td>1</td></tr><tr><td>Clayton</td><td>Yang</td><td>Ann</td><td>Dull</td><td>1</td></tr><tr><td>Colin</td><td>Yang</td><td>Albert</td><td>Ringer</td><td>1</td></tr><tr><td>Colin</td><td>Yang</td><td>Sylvia</td><td>Panteley</td><td>1</td></tr><tr><td>Colleen</td><td>Yang</td><td>Livia</td><td>Karsen</td><td>1</td></tr><tr><td>Colleen</td><td>Yuan</td><td>Cheryl</td><td>Carson</td><td>1</td></tr><tr><td>Colleen</td><td>Yuan</td><td>Michael</td><td>O-Leary</td><td>1</td></tr><tr><td>Colleen</td><td>Yuan</td><td>Reginald</td><td>Blotchet-Halls</td><td>1</td></tr><tr><td>Connor</td><td>Yang</td><td>Michael</td><td>O-Leary</td><td>1</td></tr><tr><td>Connor</td><td>Yang</td><td>Michel</td><td>DeFrance</td><td>1</td></tr><tr><td>Connor</td><td>Yang</td><td>Stearns</td><td>MacFeather</td><td>1</td></tr><tr><td>Corey</td><td>Yuan</td><td>Marjorie</td><td>Green</td><td>1</td></tr><tr><td>Courtney</td><td>Young</td><td>Anne</td><td>Ringer</td><td>1</td></tr><tr><td>Cristina</td><td>Yuan</td><td>Livia</td><td>Karsen</td><td>1</td></tr><tr><td>Cristina</td><td>Yuan</td><td>Meander</td><td>Smith</td><td>1</td></tr><tr><td>Cristina</td><td>Yuan</td><td>Michel</td><td>DeFrance</td><td>1</td></tr><tr><td>Crystal</td><td>Yang</td><td>Stearns</td><td>MacFeather</td><td>1</td></tr><tr><td>Dalton</td><td>Young</td><td>Reginald</td><td>Blotchet-Halls</td><td>1</td></tr><tr><td>Damien</td><td>Ye</td><td>Akiko</td><td>Yokomoto</td><td>1</td></tr><tr><td>Damien</td><td>Ye</td><td>Livia</td><td>Karsen</td><td>1</td></tr><tr><td>Darryl</td><td>Yang</td><td>Albert</td><td>Ringer</td><td>1</td></tr><tr><td>Darryl</td><td>Yang</td><td>Cheryl</td><td>Carson</td><td>1</td></tr><tr><td>David</td><td>Yang</td><td>Michel</td><td>DeFrance</td><td>1</td></tr><tr><td>Dawn</td><td>Ye</td><td>Michel</td><td>DeFrance</td><td>1</td></tr><tr><td>Dawn</td><td>Yuan</td><td>Sylvia</td><td>Panteley</td><td>1</td></tr><tr><td>Dennis</td><td>Yang</td><td>Burt</td><td>Gringlesby</td><td>1</td></tr><tr><td>Derek</td><td>Yuan</td><td>Johnson</td><td>White</td><td>1</td></tr><tr><td>Devin</td><td>Young</td><td>Johnson</td><td>White</td><td>1</td></tr><tr><td>Edward</td><td>Young</td><td>Dirk</td><td>Stringer</td><td>1</td></tr><tr><td>Edward</td><td>Young</td><td>Michel</td><td>DeFrance</td><td>1</td></tr><tr><td>Edwin</td><td>Yang</td><td>Cheryl</td><td>Carson</td><td>1</td></tr><tr><td>Edwin</td><td>Yang</td><td>Johnson</td><td>White</td><td>1</td></tr><tr><td>Edwin</td><td>Ye</td><td>Ann</td><td>Dull</td><td>1</td></tr><tr><td>Edwin</td><td>Ye</td><td>Charlene</td><td>Locksley</td><td>1</td></tr><tr><td>Elijah</td><td>Young</td><td>Johnson</td><td>White</td><td>1</td></tr><tr><td>Ethan</td><td>Yang</td><td>Dirk</td><td>Stringer</td><td>1</td></tr><tr><td>Eugene</td><td>Yang</td><td>Dean</td><td>Straight</td><td>1</td></tr><tr><td>Franklin</td><td>Yuan</td><td>Cheryl</td><td>Carson</td><td>1</td></tr><tr><td>Franklin</td><td>Yuan</td><td>Sheryl</td><td>Hunter</td><td>1</td></tr><tr><td>Gabriel</td><td>Yang</td><td>Anne</td><td>Ringer</td><td>1</td></tr><tr><td>Gabriel</td><td>Yang</td><td>Michel</td><td>DeFrance</td><td>1</td></tr><tr><td>Gabriel</td><td>Young</td><td>Charlene</td><td>Locksley</td><td>1</td></tr><tr><td>Gabriella</td><td>Young</td><td>Ann</td><td>Dull</td><td>1</td></tr><tr><td>Garrett</td><td>Young</td><td>Dean</td><td>Straight</td><td>1</td></tr><tr><td>Gary</td><td>Yukish</td><td>Cheryl</td><td>Carson</td><td>1</td></tr><tr><td>Gilbert</td><td>Yang</td><td>Charlene</td><td>Locksley</td><td>1</td></tr><tr><td>Gilbert</td><td>Yang</td><td>Dirk</td><td>Stringer</td><td>1</td></tr><tr><td>Gilbert</td><td>Yang</td><td>Livia</td><td>Karsen</td><td>1</td></tr><tr><td>Gilbert</td><td>Yang</td><td>Sylvia</td><td>Panteley</td><td>1</td></tr><tr><td>Gilbert</td><td>Ye</td><td>Anne</td><td>Ringer</td><td>1</td></tr><tr><td>Gregory</td><td>Yuan</td><td>Ann</td><td>Dull</td><td>1</td></tr><tr><td>Heather</td><td>Yang</td><td>Charlene</td><td>Locksley</td><td>1</td></tr><tr><td>Ian</td><td>Young</td><td>Marjorie</td><td>Green</td><td>1</td></tr><tr><td>Ian</td><td>Yuhasz</td><td>Michel</td><td>DeFrance</td><td>1</td></tr><tr><td>Jack</td><td>Yang</td><td>Livia</td><td>Karsen</td><td>1</td></tr><tr><td>Jackson</td><td>Yang</td><td>Abraham</td><td>Bennet</td><td>1</td></tr><tr><td>Jaclyn</td><td>Yang</td><td>Anne</td><td>Ringer</td><td>1</td></tr><tr><td>Jaclyn</td><td>Yang</td><td>Cheryl</td><td>Carson</td><td>1</td></tr><tr><td>Jaclyn</td><td>Ye</td><td>Heather</td><td>McBadden</td><td>1</td></tr><tr><td>Jaclyn</td><td>Ye</td><td>Morningstar</td><td>Greene</td><td>1</td></tr><tr><td>Jaclyn</td><td>Yuan</td><td>Michael</td><td>O-Leary</td><td>1</td></tr><tr><td>Jaclyn</td><td>Yuan</td><td>Stearns</td><td>MacFeather</td><td>1</td></tr><tr><td>Jake</td><td>Yang</td><td>Akiko</td><td>Yokomoto</td><td>1</td></tr><tr><td>James</td><td>Young</td><td>Cheryl</td><td>Carson</td><td>1</td></tr><tr><td>James</td><td>Young</td><td>Dean</td><td>Straight</td><td>1</td></tr><tr><td>Jamie</td><td>Ye</td><td>Meander</td><td>Smith</td><td>1</td></tr><tr><td>Jamie</td><td>Ye</td><td>Sylvia</td><td>Panteley</td><td>1</td></tr><tr><td>Janet</td><td>Young</td><td>Dean</td><td>Straight</td><td>1</td></tr><tr><td>Janet</td><td>Young</td><td>Morningstar</td><td>Greene</td><td>1</td></tr><tr><td>Jason</td><td>Yang</td><td>Reginald</td><td>Blotchet-Halls</td><td>1</td></tr><tr><td>Jason</td><td>Young</td><td>Albert</td><td>Ringer</td><td>1</td></tr><tr><td>Jenna</td><td>Young</td><td>Morningstar</td><td>Greene</td><td>1</td></tr><tr><td>Jenny</td><td>Yang</td><td>Marjorie</td><td>Green</td><td>1</td></tr><tr><td>Jerry</td><td>Yuan</td><td>Abraham</td><td>Bennet</td><td>1</td></tr><tr><td>Jesse</td><td>Young</td><td>Morningstar</td><td>Greene</td><td>1</td></tr><tr><td>Jessie</td><td>Yang</td><td>Dirk</td><td>Stringer</td><td>1</td></tr><tr><td>Jessie</td><td>Yang</td><td>Meander</td><td>Smith</td><td>1</td></tr><tr><td>Jessie</td><td>Ye</td><td>Johnson</td><td>White</td><td>1</td></tr><tr><td>Jessie</td><td>Ye</td><td>Stearns</td><td>MacFeather</td><td>1</td></tr><tr><td>Johnny</td><td>Yuan</td><td>Stearns</td><td>MacFeather</td><td>1</td></tr><tr><td>Jon</td><td>Ye</td><td>Sheryl</td><td>Hunter</td><td>1</td></tr><tr><td>Jon</td><td>Yuan</td><td>Abraham</td><td>Bennet</td><td>1</td></tr><tr><td>Jon</td><td>Yuan</td><td>Innes</td><td>del Castillo</td><td>1</td></tr><tr><td>Jonathan</td><td>Yang</td><td>Burt</td><td>Gringlesby</td><td>1</td></tr><tr><td>Jonathan</td><td>Yang</td><td>Dean</td><td>Straight</td><td>1</td></tr><tr><td>Jonathan</td><td>Yang</td><td>Livia</td><td>Karsen</td><td>1</td></tr><tr><td>Jonathan</td><td>Yang</td><td>Michael</td><td>O-Leary</td><td>1</td></tr><tr><td>Jonathan</td><td>Young</td><td>Albert</td><td>Ringer</td><td>1</td></tr><tr><td>Jonathan</td><td>Young</td><td>Stearns</td><td>MacFeather</td><td>1</td></tr><tr><td>Jordan</td><td>Young</td><td>Abraham</td><td>Bennet</td><td>1</td></tr><tr><td>Jordan</td><td>Young</td><td>Sheryl</td><td>Hunter</td><td>1</td></tr><tr><td>Jorge</td><td>Ye</td><td>Sylvia</td><td>Panteley</td><td>1</td></tr><tr><td>Jose</td><td>Yang</td><td>Livia</td><td>Karsen</td><td>1</td></tr><tr><td>Jose</td><td>Young</td><td>Sylvia</td><td>Panteley</td><td>1</td></tr><tr><td>Julia</td><td>Young</td><td>Ann</td><td>Dull</td><td>1</td></tr><tr><td>Justin</td><td>Yang</td><td>Albert</td><td>Ringer</td><td>1</td></tr><tr><td>Kara</td><td>Yuan</td><td>Johnson</td><td>White</td><td>1</td></tr><tr><td>Kara</td><td>Yuan</td><td>Livia</td><td>Karsen</td><td>1</td></tr><tr><td>Kara</td><td>Yuan</td><td>Michel</td><td>DeFrance</td><td>1</td></tr><tr><td>Karen</td><td>Ye</td><td>Meander</td><td>Smith</td><td>1</td></tr><tr><td>Karen</td><td>Ye</td><td>Michael</td><td>O-Leary</td><td>1</td></tr><tr><td>Karen</td><td>Ye</td><td>Morningstar</td><td>Greene</td><td>1</td></tr><tr><td>Karl</td><td>Yuan</td><td>Michel</td><td>DeFrance</td><td>1</td></tr><tr><td>Kate</td><td>Yuan</td><td>Albert</td><td>Ringer</td><td>1</td></tr><tr><td>Kate</td><td>Yuan</td><td>Dirk</td><td>Stringer</td><td>1</td></tr><tr><td>Kate</td><td>Yuan</td><td>Reginald</td><td>Blotchet-Halls</td><td>1</td></tr><tr><td>Katelyn</td><td>Young</td><td>Albert</td><td>Ringer</td><td>1</td></tr><tr><td>Katelyn</td><td>Young</td><td>Charlene</td><td>Locksley</td><td>1</td></tr><tr><td>Katelyn</td><td>Young</td><td>Cheryl</td><td>Carson</td><td>1</td></tr><tr><td>Katelyn</td><td>Young</td><td>Johnson</td><td>White</td><td>1</td></tr><tr><td>Katherine</td><td>Young</td><td>Charlene</td><td>Locksley</td><td>1</td></tr><tr><td>Katie</td><td>Yuan</td><td>Morningstar</td><td>Greene</td><td>1</td></tr><tr><td>Katrina</td><td>Yuan</td><td>Marjorie</td><td>Green</td><td>1</td></tr><tr><td>Kaylee</td><td>Young</td><td>Charlene</td><td>Locksley</td><td>1</td></tr><tr><td>Kaylee</td><td>Young</td><td>Michael</td><td>O-Leary</td><td>1</td></tr><tr><td>Kelli</td><td>Ye</td><td>Michel</td><td>DeFrance</td><td>1</td></tr></table>"
                    },
                    "metadata": {}
                }
            ],
            "execution_count": 1
        },
        {
            "cell_type": "markdown",
            "source": [
                "You could obtain the following insights, analyses, trends, and patterns by running this query:\n",
                "\n",
                "- It would display the total amount of sales made by every client, sorted by first and last name.\n",
                "- It would display the total amount of sales made by every salesperson, organised by first and last name.\n",
                "- Given that the query is sorted by the quantity of sales, you might use it to find the clients and salespeople who have generated the highest revenue.\n",
                "- Given that the query uses an INNER JOIN to connect the Customers, Sales, and Employees tables based on the shared fields of CustomerID and SalesPersonID, it would allow you to examine the relationship between customers, salespeople, and sales.\n",
                "\n",
                "Based on the report, you might be able to spot patterns or trends in sales or customer behaviour that could be utilised to guide business decisions or suggest solutions for any problems the organisation is currently having. You might observe, for instance, that some goods or product categories are underperforming, or that some salespeople or clients are more successful than others. Identifying poor items or salespeople and offering suggestions on how to enhance their performance, or identifying successful products or salespeople and searching for methods to duplicate their success, may also help you spot chances for improvement."
            ],
            "metadata": {
                "language": "sql",
                "azdata_cell_guid": "e1e509ee-f67f-41d9-a96b-726733b25d7c"
            },
            "attachments": {}
        }
    ]
}