{
    "metadata": {
        "kernelspec": {
            "name": "SQL",
            "display_name": "SQL",
            "language": "sql"
        },
        "language_info": {
            "name": "sql",
            "version": ""
        }
    },
    "nbformat_minor": 2,
    "nbformat": 4,
    "cells": [
        {
            "cell_type": "markdown",
            "source": [
                "**<u>Sales detail</u>**"
            ],
            "metadata": {
                "azdata_cell_guid": "fab8a6fd-cecf-45d1-a335-e0b359c57bb4"
            },
            "attachments": {}
        },
        {
            "cell_type": "code",
            "source": [
                "SELECT Sales.SalesID, Sales.Quantity, Products.Name\n",
                "FROM Sales\n",
                "INNER JOIN Products ON Sales.ProductID = Products.ProductID\n",
                "WHERE Products.Name LIKE '%Mountain%'\n",
                "OR Products.Name LIKE '%Frame%'"
            ],
            "metadata": {
                "azdata_cell_guid": "87898593-35bd-461e-888c-bafe867fdbc6",
                "language": "sql"
            },
            "outputs": [
                {
                    "output_type": "display_data",
                    "data": {
                        "text/html": "(90 rows affected)"
                    },
                    "metadata": {}
                },
                {
                    "output_type": "display_data",
                    "data": {
                        "text/html": "Total execution time: 00:00:00.043"
                    },
                    "metadata": {}
                },
                {
                    "output_type": "execute_result",
                    "execution_count": 1,
                    "data": {
                        "application/vnd.dataresource+json": {
                            "schema": {
                                "fields": [
                                    {
                                        "name": "SalesID"
                                    },
                                    {
                                        "name": "Quantity"
                                    },
                                    {
                                        "name": "Name"
                                    }
                                ]
                            },
                            "data": [
                                {
                                    "0": "90",
                                    "1": "6",
                                    "2": "Mountain End Caps"
                                },
                                {
                                    "0": "254",
                                    "1": "6",
                                    "2": "Mountain End Caps"
                                },
                                {
                                    "0": "246",
                                    "1": "10",
                                    "2": "LL Mountain Rim"
                                },
                                {
                                    "0": "204",
                                    "1": "2",
                                    "2": "ML Mountain Rim"
                                },
                                {
                                    "0": "2",
                                    "1": "9",
                                    "2": "HL Mountain Seat Assembly"
                                },
                                {
                                    "0": "263",
                                    "1": "1",
                                    "2": "HL Mountain Seat Assembly"
                                },
                                {
                                    "0": "35",
                                    "1": "2",
                                    "2": "HL Road Frame - Black 58"
                                },
                                {
                                    "0": "74",
                                    "1": "9",
                                    "2": "HL Road Frame - Red 58"
                                },
                                {
                                    "0": "43",
                                    "1": "9",
                                    "2": "Mountain Bike Socks M"
                                },
                                {
                                    "0": "266",
                                    "1": "7",
                                    "2": "Mountain Bike Socks M"
                                },
                                {
                                    "0": "168",
                                    "1": "1",
                                    "2": "Mountain Bike Socks L"
                                },
                                {
                                    "0": "75",
                                    "1": "9",
                                    "2": "Mountain Bike Socks L"
                                },
                                {
                                    "0": "36",
                                    "1": "1",
                                    "2": "HL Road Frame - Red 44"
                                },
                                {
                                    "0": "162",
                                    "1": "1",
                                    "2": "HL Road Frame - Red 44"
                                },
                                {
                                    "0": "113",
                                    "1": "6",
                                    "2": "HL Road Frame - Red 48"
                                },
                                {
                                    "0": "121",
                                    "1": "9",
                                    "2": "HL Road Frame - Red 52"
                                },
                                {
                                    "0": "255",
                                    "1": "3",
                                    "2": "LL Road Frame - Red 52"
                                },
                                {
                                    "0": "173",
                                    "1": "9",
                                    "2": "LL Road Frame - Red 62"
                                },
                                {
                                    "0": "29",
                                    "1": "10",
                                    "2": "ML Road Frame - Red 58"
                                },
                                {
                                    "0": "149",
                                    "1": "8",
                                    "2": "LL Road Frame - Black 52"
                                },
                                {
                                    "0": "276",
                                    "1": "7",
                                    "2": "LL Road Frame - Black 52"
                                },
                                {
                                    "0": "190",
                                    "1": "8",
                                    "2": "HL Mountain Frame - Silver 44"
                                },
                                {
                                    "0": "101",
                                    "1": "6",
                                    "2": "HL Mountain Frame - Silver 44"
                                },
                                {
                                    "0": "71",
                                    "1": "1",
                                    "2": "HL Mountain Frame - Black 42"
                                },
                                {
                                    "0": "80",
                                    "1": "6",
                                    "2": "HL Mountain Frame - Black 44"
                                },
                                {
                                    "0": "49",
                                    "1": "9",
                                    "2": "HL Mountain Frame - Black 46"
                                },
                                {
                                    "0": "166",
                                    "1": "8",
                                    "2": "HL Mountain Frame - Black 46"
                                },
                                {
                                    "0": "232",
                                    "1": "7",
                                    "2": "HL Mountain Frame - Black 46"
                                },
                                {
                                    "0": "126",
                                    "1": "4",
                                    "2": "Mountain-100 Silver 38"
                                },
                                {
                                    "0": "264",
                                    "1": "10",
                                    "2": "Mountain-100 Silver 38"
                                },
                                {
                                    "0": "287",
                                    "1": "7",
                                    "2": "Mountain-100 Black 38"
                                },
                                {
                                    "0": "257",
                                    "1": "8",
                                    "2": "Mountain-100 Black 42"
                                },
                                {
                                    "0": "72",
                                    "1": "6",
                                    "2": "Mountain-100 Black 48"
                                },
                                {
                                    "0": "3",
                                    "1": "2",
                                    "2": "Mountain-200 Silver 38"
                                },
                                {
                                    "0": "202",
                                    "1": "2",
                                    "2": "Mountain-200 Silver 42"
                                },
                                {
                                    "0": "144",
                                    "1": "1",
                                    "2": "Mountain-200 Silver 46"
                                },
                                {
                                    "0": "185",
                                    "1": "9",
                                    "2": "Mountain-200 Black 38"
                                },
                                {
                                    "0": "161",
                                    "1": "7",
                                    "2": "Mountain-200 Black 38"
                                },
                                {
                                    "0": "208",
                                    "1": "1",
                                    "2": "Mountain-300 Black 40"
                                },
                                {
                                    "0": "115",
                                    "1": "10",
                                    "2": "Mountain-300 Black 48"
                                },
                                {
                                    "0": "163",
                                    "1": "2",
                                    "2": "ML Mountain Handlebars"
                                },
                                {
                                    "0": "102",
                                    "1": "6",
                                    "2": "HL Mountain Handlebars"
                                },
                                {
                                    "0": "184",
                                    "1": "5",
                                    "2": "ML Mountain Frame - Black 38"
                                },
                                {
                                    "0": "230",
                                    "1": "9",
                                    "2": "ML Mountain Frame - Black 48"
                                },
                                {
                                    "0": "288",
                                    "1": "7",
                                    "2": "ML Mountain Frame - Black 48"
                                },
                                {
                                    "0": "106",
                                    "1": "5",
                                    "2": "ML Road Frame-W - Yellow 42"
                                },
                                {
                                    "0": "280",
                                    "1": "9",
                                    "2": "HL Road Frame - Black 44"
                                },
                                {
                                    "0": "251",
                                    "1": "4",
                                    "2": "HL Road Frame - Black 44"
                                },
                                {
                                    "0": "203",
                                    "1": "6",
                                    "2": "HL Road Frame - Black 52"
                                },
                                {
                                    "0": "179",
                                    "1": "1",
                                    "2": "HL Road Frame - Black 52"
                                },
                                {
                                    "0": "59",
                                    "1": "2",
                                    "2": "Womens Mountain Shorts M"
                                },
                                {
                                    "0": "103",
                                    "1": "4",
                                    "2": "Womens Mountain Shorts M"
                                },
                                {
                                    "0": "117",
                                    "1": "1",
                                    "2": "Womens Mountain Shorts L"
                                },
                                {
                                    "0": "159",
                                    "1": "8",
                                    "2": "Fender Set - Mountain"
                                },
                                {
                                    "0": "267",
                                    "1": "3",
                                    "2": "Fender Set - Mountain"
                                },
                                {
                                    "0": "175",
                                    "1": "10",
                                    "2": "HL Touring Frame - Yellow 60"
                                },
                                {
                                    "0": "199",
                                    "1": "4",
                                    "2": "HL Touring Frame - Yellow 60"
                                },
                                {
                                    "0": "277",
                                    "1": "10",
                                    "2": "HL Touring Frame - Yellow 46"
                                },
                                {
                                    "0": "16",
                                    "1": "6",
                                    "2": "HL Touring Frame - Yellow 46"
                                },
                                {
                                    "0": "220",
                                    "1": "4",
                                    "2": "HL Touring Frame - Yellow 54"
                                },
                                {
                                    "0": "114",
                                    "1": "5",
                                    "2": "HL Touring Frame - Blue 46"
                                },
                                {
                                    "0": "40",
                                    "1": "1",
                                    "2": "HL Touring Frame - Blue 54"
                                },
                                {
                                    "0": "54",
                                    "1": "10",
                                    "2": "HL Touring Frame - Blue 60"
                                },
                                {
                                    "0": "253",
                                    "1": "10",
                                    "2": "LL Touring Frame - Blue 58"
                                },
                                {
                                    "0": "17",
                                    "1": "6",
                                    "2": "LL Touring Frame - Blue 62"
                                },
                                {
                                    "0": "20",
                                    "1": "9",
                                    "2": "LL Touring Frame - Yellow 58"
                                },
                                {
                                    "0": "249",
                                    "1": "4",
                                    "2": "LL Touring Frame - Yellow 58"
                                },
                                {
                                    "0": "152",
                                    "1": "2",
                                    "2": "ML Mountain Frame-W - Silver 46"
                                },
                                {
                                    "0": "192",
                                    "1": "5",
                                    "2": "LL Mountain Seat/Saddle"
                                },
                                {
                                    "0": "228",
                                    "1": "1",
                                    "2": "LL Mountain Seat/Saddle"
                                },
                                {
                                    "0": "128",
                                    "1": "10",
                                    "2": "ML Mountain Seat/Saddle"
                                },
                                {
                                    "0": "294",
                                    "1": "6",
                                    "2": "ML Mountain Seat/Saddle"
                                },
                                {
                                    "0": "12",
                                    "1": "10",
                                    "2": "LL Mountain Frame - Silver 42"
                                },
                                {
                                    "0": "215",
                                    "1": "3",
                                    "2": "Mountain Tire Tube"
                                },
                                {
                                    "0": "56",
                                    "1": "4",
                                    "2": "LL Mountain Frame - Black 52"
                                },
                                {
                                    "0": "109",
                                    "1": "6",
                                    "2": "LL Mountain Tire"
                                },
                                {
                                    "0": "167",
                                    "1": "2",
                                    "2": "LL Mountain Pedal"
                                },
                                {
                                    "0": "31",
                                    "1": "4",
                                    "2": "ML Mountain Frame-W - Silver 38"
                                },
                                {
                                    "0": "27",
                                    "1": "7",
                                    "2": "Mountain-400-W Silver 42"
                                },
                                {
                                    "0": "191",
                                    "1": "9",
                                    "2": "Mountain-400-W Silver 46"
                                },
                                {
                                    "0": "186",
                                    "1": "7",
                                    "2": "Mountain-400-W Silver 46"
                                },
                                {
                                    "0": "24",
                                    "1": "5",
                                    "2": "Mountain-500 Silver 42"
                                },
                                {
                                    "0": "295",
                                    "1": "10",
                                    "2": "Mountain-500 Silver 42"
                                },
                                {
                                    "0": "182",
                                    "1": "8",
                                    "2": "Mountain-500 Silver 44"
                                },
                                {
                                    "0": "214",
                                    "1": "9",
                                    "2": "Mountain-500 Silver 48"
                                },
                                {
                                    "0": "297",
                                    "1": "9",
                                    "2": "Mountain-500 Silver 48"
                                },
                                {
                                    "0": "226",
                                    "1": "1",
                                    "2": "Mountain-500 Silver 52"
                                },
                                {
                                    "0": "198",
                                    "1": "6",
                                    "2": "Mountain-500 Black 40"
                                },
                                {
                                    "0": "177",
                                    "1": "2",
                                    "2": "Mountain-500 Black 40"
                                },
                                {
                                    "0": "9",
                                    "1": "10",
                                    "2": "Mountain-500 Black 52"
                                }
                            ]
                        },
                        "text/html": "<table><tr><th>SalesID</th><th>Quantity</th><th>Name</th></tr><tr><td>90</td><td>6</td><td>Mountain End Caps</td></tr><tr><td>254</td><td>6</td><td>Mountain End Caps</td></tr><tr><td>246</td><td>10</td><td>LL Mountain Rim</td></tr><tr><td>204</td><td>2</td><td>ML Mountain Rim</td></tr><tr><td>2</td><td>9</td><td>HL Mountain Seat Assembly</td></tr><tr><td>263</td><td>1</td><td>HL Mountain Seat Assembly</td></tr><tr><td>35</td><td>2</td><td>HL Road Frame - Black 58</td></tr><tr><td>74</td><td>9</td><td>HL Road Frame - Red 58</td></tr><tr><td>43</td><td>9</td><td>Mountain Bike Socks M</td></tr><tr><td>266</td><td>7</td><td>Mountain Bike Socks M</td></tr><tr><td>168</td><td>1</td><td>Mountain Bike Socks L</td></tr><tr><td>75</td><td>9</td><td>Mountain Bike Socks L</td></tr><tr><td>36</td><td>1</td><td>HL Road Frame - Red 44</td></tr><tr><td>162</td><td>1</td><td>HL Road Frame - Red 44</td></tr><tr><td>113</td><td>6</td><td>HL Road Frame - Red 48</td></tr><tr><td>121</td><td>9</td><td>HL Road Frame - Red 52</td></tr><tr><td>255</td><td>3</td><td>LL Road Frame - Red 52</td></tr><tr><td>173</td><td>9</td><td>LL Road Frame - Red 62</td></tr><tr><td>29</td><td>10</td><td>ML Road Frame - Red 58</td></tr><tr><td>149</td><td>8</td><td>LL Road Frame - Black 52</td></tr><tr><td>276</td><td>7</td><td>LL Road Frame - Black 52</td></tr><tr><td>190</td><td>8</td><td>HL Mountain Frame - Silver 44</td></tr><tr><td>101</td><td>6</td><td>HL Mountain Frame - Silver 44</td></tr><tr><td>71</td><td>1</td><td>HL Mountain Frame - Black 42</td></tr><tr><td>80</td><td>6</td><td>HL Mountain Frame - Black 44</td></tr><tr><td>49</td><td>9</td><td>HL Mountain Frame - Black 46</td></tr><tr><td>166</td><td>8</td><td>HL Mountain Frame - Black 46</td></tr><tr><td>232</td><td>7</td><td>HL Mountain Frame - Black 46</td></tr><tr><td>126</td><td>4</td><td>Mountain-100 Silver 38</td></tr><tr><td>264</td><td>10</td><td>Mountain-100 Silver 38</td></tr><tr><td>287</td><td>7</td><td>Mountain-100 Black 38</td></tr><tr><td>257</td><td>8</td><td>Mountain-100 Black 42</td></tr><tr><td>72</td><td>6</td><td>Mountain-100 Black 48</td></tr><tr><td>3</td><td>2</td><td>Mountain-200 Silver 38</td></tr><tr><td>202</td><td>2</td><td>Mountain-200 Silver 42</td></tr><tr><td>144</td><td>1</td><td>Mountain-200 Silver 46</td></tr><tr><td>185</td><td>9</td><td>Mountain-200 Black 38</td></tr><tr><td>161</td><td>7</td><td>Mountain-200 Black 38</td></tr><tr><td>208</td><td>1</td><td>Mountain-300 Black 40</td></tr><tr><td>115</td><td>10</td><td>Mountain-300 Black 48</td></tr><tr><td>163</td><td>2</td><td>ML Mountain Handlebars</td></tr><tr><td>102</td><td>6</td><td>HL Mountain Handlebars</td></tr><tr><td>184</td><td>5</td><td>ML Mountain Frame - Black 38</td></tr><tr><td>230</td><td>9</td><td>ML Mountain Frame - Black 48</td></tr><tr><td>288</td><td>7</td><td>ML Mountain Frame - Black 48</td></tr><tr><td>106</td><td>5</td><td>ML Road Frame-W - Yellow 42</td></tr><tr><td>280</td><td>9</td><td>HL Road Frame - Black 44</td></tr><tr><td>251</td><td>4</td><td>HL Road Frame - Black 44</td></tr><tr><td>203</td><td>6</td><td>HL Road Frame - Black 52</td></tr><tr><td>179</td><td>1</td><td>HL Road Frame - Black 52</td></tr><tr><td>59</td><td>2</td><td>Womens Mountain Shorts M</td></tr><tr><td>103</td><td>4</td><td>Womens Mountain Shorts M</td></tr><tr><td>117</td><td>1</td><td>Womens Mountain Shorts L</td></tr><tr><td>159</td><td>8</td><td>Fender Set - Mountain</td></tr><tr><td>267</td><td>3</td><td>Fender Set - Mountain</td></tr><tr><td>175</td><td>10</td><td>HL Touring Frame - Yellow 60</td></tr><tr><td>199</td><td>4</td><td>HL Touring Frame - Yellow 60</td></tr><tr><td>277</td><td>10</td><td>HL Touring Frame - Yellow 46</td></tr><tr><td>16</td><td>6</td><td>HL Touring Frame - Yellow 46</td></tr><tr><td>220</td><td>4</td><td>HL Touring Frame - Yellow 54</td></tr><tr><td>114</td><td>5</td><td>HL Touring Frame - Blue 46</td></tr><tr><td>40</td><td>1</td><td>HL Touring Frame - Blue 54</td></tr><tr><td>54</td><td>10</td><td>HL Touring Frame - Blue 60</td></tr><tr><td>253</td><td>10</td><td>LL Touring Frame - Blue 58</td></tr><tr><td>17</td><td>6</td><td>LL Touring Frame - Blue 62</td></tr><tr><td>20</td><td>9</td><td>LL Touring Frame - Yellow 58</td></tr><tr><td>249</td><td>4</td><td>LL Touring Frame - Yellow 58</td></tr><tr><td>152</td><td>2</td><td>ML Mountain Frame-W - Silver 46</td></tr><tr><td>192</td><td>5</td><td>LL Mountain Seat/Saddle</td></tr><tr><td>228</td><td>1</td><td>LL Mountain Seat/Saddle</td></tr><tr><td>128</td><td>10</td><td>ML Mountain Seat/Saddle</td></tr><tr><td>294</td><td>6</td><td>ML Mountain Seat/Saddle</td></tr><tr><td>12</td><td>10</td><td>LL Mountain Frame - Silver 42</td></tr><tr><td>215</td><td>3</td><td>Mountain Tire Tube</td></tr><tr><td>56</td><td>4</td><td>LL Mountain Frame - Black 52</td></tr><tr><td>109</td><td>6</td><td>LL Mountain Tire</td></tr><tr><td>167</td><td>2</td><td>LL Mountain Pedal</td></tr><tr><td>31</td><td>4</td><td>ML Mountain Frame-W - Silver 38</td></tr><tr><td>27</td><td>7</td><td>Mountain-400-W Silver 42</td></tr><tr><td>191</td><td>9</td><td>Mountain-400-W Silver 46</td></tr><tr><td>186</td><td>7</td><td>Mountain-400-W Silver 46</td></tr><tr><td>24</td><td>5</td><td>Mountain-500 Silver 42</td></tr><tr><td>295</td><td>10</td><td>Mountain-500 Silver 42</td></tr><tr><td>182</td><td>8</td><td>Mountain-500 Silver 44</td></tr><tr><td>214</td><td>9</td><td>Mountain-500 Silver 48</td></tr><tr><td>297</td><td>9</td><td>Mountain-500 Silver 48</td></tr><tr><td>226</td><td>1</td><td>Mountain-500 Silver 52</td></tr><tr><td>198</td><td>6</td><td>Mountain-500 Black 40</td></tr><tr><td>177</td><td>2</td><td>Mountain-500 Black 40</td></tr><tr><td>9</td><td>10</td><td>Mountain-500 Black 52</td></tr></table>"
                    },
                    "metadata": {}
                }
            ],
            "execution_count": 1
        },
        {
            "cell_type": "markdown",
            "source": [
                "You might learn more about sales of bicycle products that are categorised as either mountain or frame from the given search. You may perform data mining on this information to find trends and patterns in the sales of these products. To determine whether total sales of mountain or frame items have increased or decreased, for instance, you could examine sales data collected over a period of time. To determine if there are any patterns in sales, you might also have a look at elements like the salesperson in charge of the sale and the customer who made the purchase.\n",
                "\n",
                "  \n",
                "\n",
                "On the basis of the trends and patterns discovered through data mining, forecasting techniques might also be used to estimate future sales of mountain and frame items. This can entail developing a predictive model using statistical or machine learning methods.\n",
                "\n",
                "  \n",
                "\n",
                "In terms of data modelling, you could utilise the sales data to develop a model that illustrates the connections between various elements, such as the volume of goods sold, their price, and the purchaser. This could assist you in determining the variables that affect the sales of mountain and frame products and provide suggestions for future sales optimization.\n",
                "\n",
                "  \n",
                "\n",
                "Overall, using the offered query would give you insightful information on the sales of mountain and frame items and enable you to utilise a variety of research techniques to spot trends and patterns and provide the company with well-informed recommendations."
            ],
            "metadata": {
                "azdata_cell_guid": "ab95646a-d21f-4d41-bb3b-6a1ff56cab7a"
            },
            "attachments": {}
        }
    ]
}