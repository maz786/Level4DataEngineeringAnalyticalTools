{
    "metadata": {
        "kernelspec": {
            "name": "SQL",
            "display_name": "SQL",
            "language": "sql"
        },
        "language_info": {
            "name": "sql",
            "version": ""
        }
    },
    "nbformat_minor": 2,
    "nbformat": 4,
    "cells": [
        {
            "cell_type": "markdown",
            "source": [
                "First, you might run the following query to obtain a list of all sold goods with the names \"Mountain\" or \"Frame,\" along with sales figures for each:"
            ],
            "metadata": {
                "azdata_cell_guid": "dc716e59-ffd0-4101-9e0d-06bfb8a6d467"
            },
            "attachments": {}
        },
        {
            "cell_type": "code",
            "source": [
                "SELECT Products.Name, SUM(Sales.Quantity) as TotalQuantity, SUM(Sales.Quantity * Products.Price) as TotalRevenue\n",
                "FROM Sales\n",
                "INNER JOIN Products ON Sales.ProductID = Products.ProductID\n",
                "WHERE Products.Name LIKE '%Mountain%' OR Products.Name LIKE '%Frame%'\n",
                "GROUP BY Products.Name"
            ],
            "metadata": {
                "azdata_cell_guid": "72a1165a-35a2-44f2-aa8c-6e24ea61da6b",
                "language": "sql"
            },
            "outputs": [
                {
                    "output_type": "display_data",
                    "data": {
                        "text/html": "(65 rows affected)"
                    },
                    "metadata": {}
                },
                {
                    "output_type": "display_data",
                    "data": {
                        "text/html": "Total execution time: 00:00:00.033"
                    },
                    "metadata": {}
                },
                {
                    "output_type": "execute_result",
                    "metadata": {},
                    "execution_count": 1,
                    "data": {
                        "application/vnd.dataresource+json": {
                            "schema": {
                                "fields": [
                                    {
                                        "name": "Name"
                                    },
                                    {
                                        "name": "TotalQuantity"
                                    },
                                    {
                                        "name": "TotalRevenue"
                                    }
                                ]
                            },
                            "data": [
                                {
                                    "0": "Fender Set - Mountain",
                                    "1": "11",
                                    "2": "241.78"
                                },
                                {
                                    "0": "HL Mountain Frame - Black 42",
                                    "1": "1",
                                    "2": "1349.60"
                                },
                                {
                                    "0": "HL Mountain Frame - Black 44",
                                    "1": "6",
                                    "2": "8097.60"
                                },
                                {
                                    "0": "HL Mountain Frame - Black 46",
                                    "1": "24",
                                    "2": "32390.40"
                                },
                                {
                                    "0": "HL Mountain Frame - Silver 44",
                                    "1": "14",
                                    "2": "19103.00"
                                },
                                {
                                    "0": "HL Mountain Handlebars",
                                    "1": "6",
                                    "2": "721.62"
                                },
                                {
                                    "0": "HL Mountain Seat Assembly",
                                    "1": "10",
                                    "2": "1969.20"
                                },
                                {
                                    "0": "HL Road Frame - Black 44",
                                    "1": "13",
                                    "2": "18609.50"
                                },
                                {
                                    "0": "HL Road Frame - Black 52",
                                    "1": "7",
                                    "2": "10020.50"
                                },
                                {
                                    "0": "HL Road Frame - Black 58",
                                    "1": "2",
                                    "2": "2863.00"
                                },
                                {
                                    "0": "HL Road Frame - Red 44",
                                    "1": "2",
                                    "2": "2863.00"
                                },
                                {
                                    "0": "HL Road Frame - Red 48",
                                    "1": "6",
                                    "2": "8589.00"
                                },
                                {
                                    "0": "HL Road Frame - Red 52",
                                    "1": "9",
                                    "2": "12883.50"
                                },
                                {
                                    "0": "HL Road Frame - Red 58",
                                    "1": "9",
                                    "2": "12883.50"
                                },
                                {
                                    "0": "HL Touring Frame - Blue 46",
                                    "1": "5",
                                    "2": "5019.55"
                                },
                                {
                                    "0": "HL Touring Frame - Blue 54",
                                    "1": "1",
                                    "2": "1003.91"
                                },
                                {
                                    "0": "HL Touring Frame - Blue 60",
                                    "1": "10",
                                    "2": "10039.10"
                                },
                                {
                                    "0": "HL Touring Frame - Yellow 46",
                                    "1": "16",
                                    "2": "16062.56"
                                },
                                {
                                    "0": "HL Touring Frame - Yellow 54",
                                    "1": "4",
                                    "2": "4015.64"
                                },
                                {
                                    "0": "HL Touring Frame - Yellow 60",
                                    "1": "14",
                                    "2": "14054.74"
                                },
                                {
                                    "0": "LL Mountain Frame - Black 52",
                                    "1": "4",
                                    "2": "999.16"
                                },
                                {
                                    "0": "LL Mountain Frame - Silver 42",
                                    "1": "10",
                                    "2": "2640.50"
                                },
                                {
                                    "0": "LL Mountain Pedal",
                                    "1": "2",
                                    "2": "80.98"
                                },
                                {
                                    "0": "LL Mountain Rim",
                                    "1": "10",
                                    "2": "6084.00"
                                },
                                {
                                    "0": "LL Mountain Seat/Saddle",
                                    "1": "6",
                                    "2": "162.72"
                                },
                                {
                                    "0": "LL Mountain Tire",
                                    "1": "6",
                                    "2": "149.94"
                                },
                                {
                                    "0": "LL Road Frame - Black 52",
                                    "1": "15",
                                    "2": "5058.30"
                                },
                                {
                                    "0": "LL Road Frame - Red 52",
                                    "1": "3",
                                    "2": "1011.66"
                                },
                                {
                                    "0": "LL Road Frame - Red 62",
                                    "1": "9",
                                    "2": "3034.98"
                                },
                                {
                                    "0": "LL Touring Frame - Blue 58",
                                    "1": "10",
                                    "2": "3334.20"
                                },
                                {
                                    "0": "LL Touring Frame - Blue 62",
                                    "1": "6",
                                    "2": "2000.52"
                                },
                                {
                                    "0": "LL Touring Frame - Yellow 58",
                                    "1": "13",
                                    "2": "4334.46"
                                },
                                {
                                    "0": "ML Mountain Frame - Black 38",
                                    "1": "5",
                                    "2": "1743.80"
                                },
                                {
                                    "0": "ML Mountain Frame - Black 48",
                                    "1": "16",
                                    "2": "5580.16"
                                },
                                {
                                    "0": "ML Mountain Frame-W - Silver 38",
                                    "1": "4",
                                    "2": "1456.36"
                                },
                                {
                                    "0": "ML Mountain Frame-W - Silver 46",
                                    "1": "2",
                                    "2": "728.18"
                                },
                                {
                                    "0": "ML Mountain Handlebars",
                                    "1": "2",
                                    "2": "123.84"
                                },
                                {
                                    "0": "ML Mountain Rim",
                                    "1": "2",
                                    "2": "1828.80"
                                },
                                {
                                    "0": "ML Mountain Seat/Saddle",
                                    "1": "16",
                                    "2": "626.24"
                                },
                                {
                                    "0": "ML Road Frame - Red 58",
                                    "1": "10",
                                    "2": "5948.30"
                                },
                                {
                                    "0": "ML Road Frame-W - Yellow 42",
                                    "1": "5",
                                    "2": "2974.15"
                                },
                                {
                                    "0": "Mountain Bike Socks L",
                                    "1": "10",
                                    "2": "95.00"
                                },
                                {
                                    "0": "Mountain Bike Socks M",
                                    "1": "16",
                                    "2": "152.00"
                                },
                                {
                                    "0": "Mountain End Caps",
                                    "1": "12",
                                    "2": "7084.80"
                                },
                                {
                                    "0": "Mountain Tire Tube",
                                    "1": "3",
                                    "2": "14.97"
                                },
                                {
                                    "0": "Mountain-100 Black 38",
                                    "1": "7",
                                    "2": "23624.93"
                                },
                                {
                                    "0": "Mountain-100 Black 42",
                                    "1": "8",
                                    "2": "26999.92"
                                },
                                {
                                    "0": "Mountain-100 Black 48",
                                    "1": "6",
                                    "2": "20249.94"
                                },
                                {
                                    "0": "Mountain-100 Silver 38",
                                    "1": "14",
                                    "2": "47599.86"
                                },
                                {
                                    "0": "Mountain-200 Black 38",
                                    "1": "16",
                                    "2": "36719.84"
                                },
                                {
                                    "0": "Mountain-200 Silver 38",
                                    "1": "2",
                                    "2": "4639.98"
                                },
                                {
                                    "0": "Mountain-200 Silver 42",
                                    "1": "2",
                                    "2": "4639.98"
                                },
                                {
                                    "0": "Mountain-200 Silver 46",
                                    "1": "1",
                                    "2": "2319.99"
                                },
                                {
                                    "0": "Mountain-300 Black 40",
                                    "1": "1",
                                    "2": "1079.99"
                                },
                                {
                                    "0": "Mountain-300 Black 48",
                                    "1": "10",
                                    "2": "10799.90"
                                },
                                {
                                    "0": "Mountain-400-W Silver 42",
                                    "1": "7",
                                    "2": "5386.43"
                                },
                                {
                                    "0": "Mountain-400-W Silver 46",
                                    "1": "16",
                                    "2": "12311.84"
                                },
                                {
                                    "0": "Mountain-500 Black 40",
                                    "1": "8",
                                    "2": "4319.92"
                                },
                                {
                                    "0": "Mountain-500 Black 52",
                                    "1": "10",
                                    "2": "5399.90"
                                },
                                {
                                    "0": "Mountain-500 Silver 42",
                                    "1": "15",
                                    "2": "8474.85"
                                },
                                {
                                    "0": "Mountain-500 Silver 44",
                                    "1": "8",
                                    "2": "4519.92"
                                },
                                {
                                    "0": "Mountain-500 Silver 48",
                                    "1": "18",
                                    "2": "10169.82"
                                },
                                {
                                    "0": "Mountain-500 Silver 52",
                                    "1": "1",
                                    "2": "564.99"
                                },
                                {
                                    "0": "Womens Mountain Shorts L",
                                    "1": "1",
                                    "2": "69.99"
                                },
                                {
                                    "0": "Womens Mountain Shorts M",
                                    "1": "6",
                                    "2": "419.94"
                                }
                            ]
                        },
                        "text/html": [
                            "<table>",
                            "<tr><th>Name</th><th>TotalQuantity</th><th>TotalRevenue</th></tr>",
                            "<tr><td>Fender Set - Mountain</td><td>11</td><td>241.78</td></tr>",
                            "<tr><td>HL Mountain Frame - Black 42</td><td>1</td><td>1349.60</td></tr>",
                            "<tr><td>HL Mountain Frame - Black 44</td><td>6</td><td>8097.60</td></tr>",
                            "<tr><td>HL Mountain Frame - Black 46</td><td>24</td><td>32390.40</td></tr>",
                            "<tr><td>HL Mountain Frame - Silver 44</td><td>14</td><td>19103.00</td></tr>",
                            "<tr><td>HL Mountain Handlebars</td><td>6</td><td>721.62</td></tr>",
                            "<tr><td>HL Mountain Seat Assembly</td><td>10</td><td>1969.20</td></tr>",
                            "<tr><td>HL Road Frame - Black 44</td><td>13</td><td>18609.50</td></tr>",
                            "<tr><td>HL Road Frame - Black 52</td><td>7</td><td>10020.50</td></tr>",
                            "<tr><td>HL Road Frame - Black 58</td><td>2</td><td>2863.00</td></tr>",
                            "<tr><td>HL Road Frame - Red 44</td><td>2</td><td>2863.00</td></tr>",
                            "<tr><td>HL Road Frame - Red 48</td><td>6</td><td>8589.00</td></tr>",
                            "<tr><td>HL Road Frame - Red 52</td><td>9</td><td>12883.50</td></tr>",
                            "<tr><td>HL Road Frame - Red 58</td><td>9</td><td>12883.50</td></tr>",
                            "<tr><td>HL Touring Frame - Blue 46</td><td>5</td><td>5019.55</td></tr>",
                            "<tr><td>HL Touring Frame - Blue 54</td><td>1</td><td>1003.91</td></tr>",
                            "<tr><td>HL Touring Frame - Blue 60</td><td>10</td><td>10039.10</td></tr>",
                            "<tr><td>HL Touring Frame - Yellow 46</td><td>16</td><td>16062.56</td></tr>",
                            "<tr><td>HL Touring Frame - Yellow 54</td><td>4</td><td>4015.64</td></tr>",
                            "<tr><td>HL Touring Frame - Yellow 60</td><td>14</td><td>14054.74</td></tr>",
                            "<tr><td>LL Mountain Frame - Black 52</td><td>4</td><td>999.16</td></tr>",
                            "<tr><td>LL Mountain Frame - Silver 42</td><td>10</td><td>2640.50</td></tr>",
                            "<tr><td>LL Mountain Pedal</td><td>2</td><td>80.98</td></tr>",
                            "<tr><td>LL Mountain Rim</td><td>10</td><td>6084.00</td></tr>",
                            "<tr><td>LL Mountain Seat/Saddle</td><td>6</td><td>162.72</td></tr>",
                            "<tr><td>LL Mountain Tire</td><td>6</td><td>149.94</td></tr>",
                            "<tr><td>LL Road Frame - Black 52</td><td>15</td><td>5058.30</td></tr>",
                            "<tr><td>LL Road Frame - Red 52</td><td>3</td><td>1011.66</td></tr>",
                            "<tr><td>LL Road Frame - Red 62</td><td>9</td><td>3034.98</td></tr>",
                            "<tr><td>LL Touring Frame - Blue 58</td><td>10</td><td>3334.20</td></tr>",
                            "<tr><td>LL Touring Frame - Blue 62</td><td>6</td><td>2000.52</td></tr>",
                            "<tr><td>LL Touring Frame - Yellow 58</td><td>13</td><td>4334.46</td></tr>",
                            "<tr><td>ML Mountain Frame - Black 38</td><td>5</td><td>1743.80</td></tr>",
                            "<tr><td>ML Mountain Frame - Black 48</td><td>16</td><td>5580.16</td></tr>",
                            "<tr><td>ML Mountain Frame-W - Silver 38</td><td>4</td><td>1456.36</td></tr>",
                            "<tr><td>ML Mountain Frame-W - Silver 46</td><td>2</td><td>728.18</td></tr>",
                            "<tr><td>ML Mountain Handlebars</td><td>2</td><td>123.84</td></tr>",
                            "<tr><td>ML Mountain Rim</td><td>2</td><td>1828.80</td></tr>",
                            "<tr><td>ML Mountain Seat/Saddle</td><td>16</td><td>626.24</td></tr>",
                            "<tr><td>ML Road Frame - Red 58</td><td>10</td><td>5948.30</td></tr>",
                            "<tr><td>ML Road Frame-W - Yellow 42</td><td>5</td><td>2974.15</td></tr>",
                            "<tr><td>Mountain Bike Socks L</td><td>10</td><td>95.00</td></tr>",
                            "<tr><td>Mountain Bike Socks M</td><td>16</td><td>152.00</td></tr>",
                            "<tr><td>Mountain End Caps</td><td>12</td><td>7084.80</td></tr>",
                            "<tr><td>Mountain Tire Tube</td><td>3</td><td>14.97</td></tr>",
                            "<tr><td>Mountain-100 Black 38</td><td>7</td><td>23624.93</td></tr>",
                            "<tr><td>Mountain-100 Black 42</td><td>8</td><td>26999.92</td></tr>",
                            "<tr><td>Mountain-100 Black 48</td><td>6</td><td>20249.94</td></tr>",
                            "<tr><td>Mountain-100 Silver 38</td><td>14</td><td>47599.86</td></tr>",
                            "<tr><td>Mountain-200 Black 38</td><td>16</td><td>36719.84</td></tr>",
                            "<tr><td>Mountain-200 Silver 38</td><td>2</td><td>4639.98</td></tr>",
                            "<tr><td>Mountain-200 Silver 42</td><td>2</td><td>4639.98</td></tr>",
                            "<tr><td>Mountain-200 Silver 46</td><td>1</td><td>2319.99</td></tr>",
                            "<tr><td>Mountain-300 Black 40</td><td>1</td><td>1079.99</td></tr>",
                            "<tr><td>Mountain-300 Black 48</td><td>10</td><td>10799.90</td></tr>",
                            "<tr><td>Mountain-400-W Silver 42</td><td>7</td><td>5386.43</td></tr>",
                            "<tr><td>Mountain-400-W Silver 46</td><td>16</td><td>12311.84</td></tr>",
                            "<tr><td>Mountain-500 Black 40</td><td>8</td><td>4319.92</td></tr>",
                            "<tr><td>Mountain-500 Black 52</td><td>10</td><td>5399.90</td></tr>",
                            "<tr><td>Mountain-500 Silver 42</td><td>15</td><td>8474.85</td></tr>",
                            "<tr><td>Mountain-500 Silver 44</td><td>8</td><td>4519.92</td></tr>",
                            "<tr><td>Mountain-500 Silver 48</td><td>18</td><td>10169.82</td></tr>",
                            "<tr><td>Mountain-500 Silver 52</td><td>1</td><td>564.99</td></tr>",
                            "<tr><td>Womens Mountain Shorts L</td><td>1</td><td>69.99</td></tr>",
                            "<tr><td>Womens Mountain Shorts M</td><td>6</td><td>419.94</td></tr>",
                            "</table>"
                        ]
                    }
                }
            ],
            "execution_count": 1
        },
        {
            "cell_type": "markdown",
            "source": [
                "With this search, you might get a list of all the goods that have \"Mountain\" or \"Frame\" in their names, together with information on how many of each item have been sold overall and how much money they have brought in overall. After that, you might examine this data to determine which goods are succeeding and which are failing.\n",
                "\n",
                "  \n",
                "\n",
                "You might use the following formula to obtain a breakdown of sales by product:"
            ],
            "metadata": {
                "azdata_cell_guid": "81e8c836-0dc4-4425-b613-3ea9dc73a162"
            },
            "attachments": {}
        },
        {
            "cell_type": "code",
            "source": [
                "SELECT Products.Name, SUM(Sales.Quantity) as TotalQuantity, SUM(Sales.Quantity * Products.Price) as TotalRevenue\n",
                "FROM Sales\n",
                "INNER JOIN Products ON Sales.ProductID = Products.ProductID\n",
                "GROUP BY Products.Name"
            ],
            "metadata": {
                "azdata_cell_guid": "b8dac2ca-d345-4d62-8bc3-950f79d213b5",
                "language": "sql"
            },
            "outputs": [
                {
                    "output_type": "display_data",
                    "data": {
                        "text/html": "(224 rows affected)"
                    },
                    "metadata": {}
                },
                {
                    "output_type": "display_data",
                    "data": {
                        "text/html": "Total execution time: 00:00:00.026"
                    },
                    "metadata": {}
                },
                {
                    "output_type": "execute_result",
                    "metadata": {},
                    "execution_count": 2,
                    "data": {
                        "application/vnd.dataresource+json": {
                            "schema": {
                                "fields": [
                                    {
                                        "name": "Name"
                                    },
                                    {
                                        "name": "TotalQuantity"
                                    },
                                    {
                                        "name": "TotalRevenue"
                                    }
                                ]
                            },
                            "data": [
                                {
                                    "0": "Bearing Ball",
                                    "1": "5",
                                    "2": "4.00"
                                },
                                {
                                    "0": "Blade",
                                    "1": "1",
                                    "2": "189.60"
                                },
                                {
                                    "0": "Cable Lock",
                                    "1": "9",
                                    "2": "225.00"
                                },
                                {
                                    "0": "Chain Stays",
                                    "1": "4",
                                    "2": "259.20"
                                },
                                {
                                    "0": "Chainring",
                                    "1": "10",
                                    "2": "1932.00"
                                },
                                {
                                    "0": "Chainring Bolts",
                                    "1": "4",
                                    "2": "0.00"
                                },
                                {
                                    "0": "Classic Vest M",
                                    "1": "16",
                                    "2": "1016.00"
                                },
                                {
                                    "0": "Cone-Shaped Race",
                                    "1": "1",
                                    "2": "909.00"
                                },
                                {
                                    "0": "Decal 2",
                                    "1": "7",
                                    "2": "912.80"
                                },
                                {
                                    "0": "External Lock Washer 3",
                                    "1": "7",
                                    "2": "0.00"
                                },
                                {
                                    "0": "External Lock Washer 4",
                                    "1": "8",
                                    "2": "0.00"
                                },
                                {
                                    "0": "External Lock Washer 5",
                                    "1": "8",
                                    "2": "0.00"
                                },
                                {
                                    "0": "Fender Set - Mountain",
                                    "1": "11",
                                    "2": "241.78"
                                },
                                {
                                    "0": "Flat Washer 1",
                                    "1": "12",
                                    "2": "0.00"
                                },
                                {
                                    "0": "Flat Washer 2",
                                    "1": "4",
                                    "2": "0.00"
                                },
                                {
                                    "0": "Flat Washer 5",
                                    "1": "16",
                                    "2": "6681.60"
                                },
                                {
                                    "0": "Fork Crown",
                                    "1": "10",
                                    "2": "3500.00"
                                },
                                {
                                    "0": "Fork End",
                                    "1": "16",
                                    "2": "6355.20"
                                },
                                {
                                    "0": "Freewheel",
                                    "1": "5",
                                    "2": "2656.00"
                                },
                                {
                                    "0": "Front Brakes",
                                    "1": "7",
                                    "2": "745.50"
                                },
                                {
                                    "0": "Front Derailleur",
                                    "1": "2",
                                    "2": "182.98"
                                },
                                {
                                    "0": "Front Derailleur Linkage",
                                    "1": "5",
                                    "2": "0.00"
                                },
                                {
                                    "0": "Full-Finger Gloves S",
                                    "1": "10",
                                    "2": "379.90"
                                },
                                {
                                    "0": "Guide Pulley",
                                    "1": "6",
                                    "2": "3408.00"
                                },
                                {
                                    "0": "Half-Finger Gloves L",
                                    "1": "4",
                                    "2": "97.96"
                                },
                                {
                                    "0": "Handlebar Tube",
                                    "1": "17",
                                    "2": "10825.60"
                                },
                                {
                                    "0": "Headset Ball Bearings",
                                    "1": "8",
                                    "2": "0.00"
                                },
                                {
                                    "0": "Hex Nut 1",
                                    "1": "10",
                                    "2": "0.00"
                                },
                                {
                                    "0": "Hex Nut 10",
                                    "1": "5",
                                    "2": "2322.00"
                                },
                                {
                                    "0": "Hex Nut 17",
                                    "1": "9",
                                    "2": "1360.80"
                                },
                                {
                                    "0": "Hex Nut 19",
                                    "1": "10",
                                    "2": "4764.00"
                                },
                                {
                                    "0": "Hex Nut 2",
                                    "1": "4",
                                    "2": "0.00"
                                },
                                {
                                    "0": "Hex Nut 20",
                                    "1": "3",
                                    "2": "234.00"
                                },
                                {
                                    "0": "Hex Nut 22",
                                    "1": "17",
                                    "2": "1298.80"
                                },
                                {
                                    "0": "Hex Nut 4",
                                    "1": "18",
                                    "2": "2844.00"
                                },
                                {
                                    "0": "Hex Nut 6",
                                    "1": "5",
                                    "2": "1128.00"
                                },
                                {
                                    "0": "Hex Nut 8",
                                    "1": "5",
                                    "2": "760.00"
                                },
                                {
                                    "0": "Hex Nut 9",
                                    "1": "2",
                                    "2": "304.80"
                                },
                                {
                                    "0": "Hitch Rack - 4-Bike",
                                    "1": "10",
                                    "2": "1200.00"
                                },
                                {
                                    "0": "HL Bottom Bracket",
                                    "1": "6",
                                    "2": "728.94"
                                },
                                {
                                    "0": "HL Crankarm",
                                    "1": "8",
                                    "2": "2552.00"
                                },
                                {
                                    "0": "HL Crankset",
                                    "1": "7",
                                    "2": "2834.93"
                                },
                                {
                                    "0": "HL Grip Tape",
                                    "1": "8",
                                    "2": "0.00"
                                },
                                {
                                    "0": "HL Headset",
                                    "1": "15",
                                    "2": "1870.95"
                                },
                                {
                                    "0": "HL Hub",
                                    "1": "4",
                                    "2": "2887.20"
                                },
                                {
                                    "0": "HL Mountain Frame - Black 42",
                                    "1": "1",
                                    "2": "1349.60"
                                },
                                {
                                    "0": "HL Mountain Frame - Black 44",
                                    "1": "6",
                                    "2": "8097.60"
                                },
                                {
                                    "0": "HL Mountain Frame - Black 46",
                                    "1": "24",
                                    "2": "32390.40"
                                },
                                {
                                    "0": "HL Mountain Frame - Silver 44",
                                    "1": "14",
                                    "2": "19103.00"
                                },
                                {
                                    "0": "HL Mountain Handlebars",
                                    "1": "6",
                                    "2": "721.62"
                                },
                                {
                                    "0": "HL Mountain Seat Assembly",
                                    "1": "10",
                                    "2": "1969.20"
                                },
                                {
                                    "0": "HL Nipple",
                                    "1": "6",
                                    "2": "1178.40"
                                },
                                {
                                    "0": "HL Road Frame - Black 44",
                                    "1": "13",
                                    "2": "18609.50"
                                },
                                {
                                    "0": "HL Road Frame - Black 52",
                                    "1": "7",
                                    "2": "10020.50"
                                },
                                {
                                    "0": "HL Road Frame - Black 58",
                                    "1": "2",
                                    "2": "2863.00"
                                },
                                {
                                    "0": "HL Road Frame - Red 44",
                                    "1": "2",
                                    "2": "2863.00"
                                },
                                {
                                    "0": "HL Road Frame - Red 48",
                                    "1": "6",
                                    "2": "8589.00"
                                },
                                {
                                    "0": "HL Road Frame - Red 52",
                                    "1": "9",
                                    "2": "12883.50"
                                },
                                {
                                    "0": "HL Road Frame - Red 58",
                                    "1": "9",
                                    "2": "12883.50"
                                },
                                {
                                    "0": "HL Road Front Wheel",
                                    "1": "7",
                                    "2": "2310.42"
                                },
                                {
                                    "0": "HL Road Handlebars",
                                    "1": "5",
                                    "2": "601.35"
                                },
                                {
                                    "0": "HL Road Rim",
                                    "1": "5",
                                    "2": "0.00"
                                },
                                {
                                    "0": "HL Road Tire",
                                    "1": "6",
                                    "2": "195.60"
                                },
                                {
                                    "0": "HL Shell",
                                    "1": "8",
                                    "2": "841.60"
                                },
                                {
                                    "0": "HL Touring Frame - Blue 46",
                                    "1": "5",
                                    "2": "5019.55"
                                },
                                {
                                    "0": "HL Touring Frame - Blue 54",
                                    "1": "1",
                                    "2": "1003.91"
                                },
                                {
                                    "0": "HL Touring Frame - Blue 60",
                                    "1": "10",
                                    "2": "10039.10"
                                },
                                {
                                    "0": "HL Touring Frame - Yellow 46",
                                    "1": "16",
                                    "2": "16062.56"
                                },
                                {
                                    "0": "HL Touring Frame - Yellow 54",
                                    "1": "4",
                                    "2": "4015.64"
                                },
                                {
                                    "0": "HL Touring Frame - Yellow 60",
                                    "1": "14",
                                    "2": "14054.74"
                                },
                                {
                                    "0": "Internal Lock Washer 1",
                                    "1": "25",
                                    "2": "0.00"
                                },
                                {
                                    "0": "Internal Lock Washer 6",
                                    "1": "9",
                                    "2": "4503.60"
                                },
                                {
                                    "0": "LL Fork",
                                    "1": "2",
                                    "2": "296.44"
                                },
                                {
                                    "0": "LL Mountain Frame - Black 52",
                                    "1": "4",
                                    "2": "999.16"
                                },
                                {
                                    "0": "LL Mountain Frame - Silver 42",
                                    "1": "10",
                                    "2": "2640.50"
                                },
                                {
                                    "0": "LL Mountain Pedal",
                                    "1": "2",
                                    "2": "80.98"
                                },
                                {
                                    "0": "LL Mountain Rim",
                                    "1": "10",
                                    "2": "6084.00"
                                },
                                {
                                    "0": "LL Mountain Seat/Saddle",
                                    "1": "6",
                                    "2": "162.72"
                                },
                                {
                                    "0": "LL Mountain Tire",
                                    "1": "6",
                                    "2": "149.94"
                                },
                                {
                                    "0": "LL Nipple",
                                    "1": "8",
                                    "2": "1568.00"
                                },
                                {
                                    "0": "LL Road Frame - Black 52",
                                    "1": "15",
                                    "2": "5058.30"
                                },
                                {
                                    "0": "LL Road Frame - Red 52",
                                    "1": "3",
                                    "2": "1011.66"
                                },
                                {
                                    "0": "LL Road Frame - Red 62",
                                    "1": "9",
                                    "2": "3034.98"
                                },
                                {
                                    "0": "LL Road Front Wheel",
                                    "1": "8",
                                    "2": "684.52"
                                },
                                {
                                    "0": "LL Road Handlebars",
                                    "1": "13",
                                    "2": "579.02"
                                },
                                {
                                    "0": "LL Road Rear Wheel",
                                    "1": "8",
                                    "2": "900.52"
                                },
                                {
                                    "0": "LL Road Seat Assembly",
                                    "1": "2",
                                    "2": "266.68"
                                },
                                {
                                    "0": "LL Road Seat/Saddle",
                                    "1": "17",
                                    "2": "461.04"
                                },
                                {
                                    "0": "LL Road Tire",
                                    "1": "7",
                                    "2": "150.43"
                                },
                                {
                                    "0": "LL Shell",
                                    "1": "9",
                                    "2": "5670.00"
                                },
                                {
                                    "0": "LL Spindle/Axle",
                                    "1": "1",
                                    "2": "418.40"
                                },
                                {
                                    "0": "LL Touring Frame - Blue 58",
                                    "1": "10",
                                    "2": "3334.20"
                                },
                                {
                                    "0": "LL Touring Frame - Blue 62",
                                    "1": "6",
                                    "2": "2000.52"
                                },
                                {
                                    "0": "LL Touring Frame - Yellow 58",
                                    "1": "13",
                                    "2": "4334.46"
                                },
                                {
                                    "0": "LL Touring Seat Assembly",
                                    "1": "1",
                                    "2": "133.34"
                                },
                                {
                                    "0": "LL Touring Seat/Saddle",
                                    "1": "2",
                                    "2": "54.24"
                                },
                                {
                                    "0": "Lock Nut 13",
                                    "1": "10",
                                    "2": "1792.00"
                                },
                                {
                                    "0": "Lock Nut 15",
                                    "1": "6",
                                    "2": "3290.40"
                                },
                                {
                                    "0": "Lock Nut 18",
                                    "1": "15",
                                    "2": "8280.00"
                                },
                                {
                                    "0": "Lock Nut 22",
                                    "1": "14",
                                    "2": "1246.00"
                                },
                                {
                                    "0": "Lock Nut 6",
                                    "1": "8",
                                    "2": "2107.20"
                                },
                                {
                                    "0": "Lock Nut 7",
                                    "1": "8",
                                    "2": "1414.40"
                                },
                                {
                                    "0": "Lock Ring",
                                    "1": "20",
                                    "2": "16596.00"
                                },
                                {
                                    "0": "Lock Washer 10",
                                    "1": "23",
                                    "2": "0.00"
                                },
                                {
                                    "0": "Lock Washer 3",
                                    "1": "4",
                                    "2": "0.00"
                                },
                                {
                                    "0": "Lock Washer 5",
                                    "1": "9",
                                    "2": "0.00"
                                },
                                {
                                    "0": "Lock Washer 7",
                                    "1": "7",
                                    "2": "3948.00"
                                },
                                {
                                    "0": "Lock Washer 8",
                                    "1": "2",
                                    "2": "0.00"
                                },
                                {
                                    "0": "Long-Sleeve Logo Jersey L",
                                    "1": "10",
                                    "2": "499.90"
                                },
                                {
                                    "0": "Long-Sleeve Logo Jersey M",
                                    "1": "5",
                                    "2": "249.95"
                                },
                                {
                                    "0": "Long-Sleeve Logo Jersey S",
                                    "1": "9",
                                    "2": "449.91"
                                },
                                {
                                    "0": "Long-Sleeve Logo Jersey XL",
                                    "1": "7",
                                    "2": "349.93"
                                },
                                {
                                    "0": "Mens Sports Shorts L",
                                    "1": "3",
                                    "2": "179.97"
                                },
                                {
                                    "0": "Metal Bar 1",
                                    "1": "1",
                                    "2": "190.80"
                                },
                                {
                                    "0": "Metal Bar 2",
                                    "1": "9",
                                    "2": "5162.40"
                                },
                                {
                                    "0": "Metal Plate 2",
                                    "1": "3",
                                    "2": "1724.40"
                                },
                                {
                                    "0": "Metal Sheet 1",
                                    "1": "5",
                                    "2": "2928.00"
                                },
                                {
                                    "0": "Metal Sheet 2",
                                    "1": "2",
                                    "2": "964.00"
                                },
                                {
                                    "0": "Metal Sheet 5",
                                    "1": "2",
                                    "2": "777.60"
                                },
                                {
                                    "0": "Metal Sheet 6",
                                    "1": "6",
                                    "2": "2337.60"
                                },
                                {
                                    "0": "Metal Sheet 7",
                                    "1": "7",
                                    "2": "5420.80"
                                },
                                {
                                    "0": "Metal Tread Plate",
                                    "1": "9",
                                    "2": "0.00"
                                },
                                {
                                    "0": "ML Headset",
                                    "1": "12",
                                    "2": "1227.48"
                                },
                                {
                                    "0": "ML Mountain Frame - Black 38",
                                    "1": "5",
                                    "2": "1743.80"
                                },
                                {
                                    "0": "ML Mountain Frame - Black 48",
                                    "1": "16",
                                    "2": "5580.16"
                                },
                                {
                                    "0": "ML Mountain Frame-W - Silver 38",
                                    "1": "4",
                                    "2": "1456.36"
                                },
                                {
                                    "0": "ML Mountain Frame-W - Silver 46",
                                    "1": "2",
                                    "2": "728.18"
                                },
                                {
                                    "0": "ML Mountain Handlebars",
                                    "1": "2",
                                    "2": "123.84"
                                },
                                {
                                    "0": "ML Mountain Rim",
                                    "1": "2",
                                    "2": "1828.80"
                                },
                                {
                                    "0": "ML Mountain Seat/Saddle",
                                    "1": "16",
                                    "2": "626.24"
                                },
                                {
                                    "0": "ML Road Frame - Red 58",
                                    "1": "10",
                                    "2": "5948.30"
                                },
                                {
                                    "0": "ML Road Frame-W - Yellow 42",
                                    "1": "5",
                                    "2": "2974.15"
                                },
                                {
                                    "0": "ML Road Handlebars",
                                    "1": "8",
                                    "2": "495.36"
                                },
                                {
                                    "0": "ML Road Pedal",
                                    "1": "4",
                                    "2": "248.36"
                                },
                                {
                                    "0": "ML Road Rim",
                                    "1": "7",
                                    "2": "0.00"
                                },
                                {
                                    "0": "ML Road Tire",
                                    "1": "5",
                                    "2": "124.95"
                                },
                                {
                                    "0": "ML Touring Seat Assembly",
                                    "1": "2",
                                    "2": "294.28"
                                },
                                {
                                    "0": "ML Touring Seat/Saddle",
                                    "1": "2",
                                    "2": "78.28"
                                },
                                {
                                    "0": "Mountain Bike Socks L",
                                    "1": "10",
                                    "2": "95.00"
                                },
                                {
                                    "0": "Mountain Bike Socks M",
                                    "1": "16",
                                    "2": "152.00"
                                },
                                {
                                    "0": "Mountain End Caps",
                                    "1": "12",
                                    "2": "7084.80"
                                },
                                {
                                    "0": "Mountain Tire Tube",
                                    "1": "3",
                                    "2": "14.97"
                                },
                                {
                                    "0": "Mountain-100 Black 38",
                                    "1": "7",
                                    "2": "23624.93"
                                },
                                {
                                    "0": "Mountain-100 Black 42",
                                    "1": "8",
                                    "2": "26999.92"
                                },
                                {
                                    "0": "Mountain-100 Black 48",
                                    "1": "6",
                                    "2": "20249.94"
                                },
                                {
                                    "0": "Mountain-100 Silver 38",
                                    "1": "14",
                                    "2": "47599.86"
                                },
                                {
                                    "0": "Mountain-200 Black 38",
                                    "1": "16",
                                    "2": "36719.84"
                                },
                                {
                                    "0": "Mountain-200 Silver 38",
                                    "1": "2",
                                    "2": "4639.98"
                                },
                                {
                                    "0": "Mountain-200 Silver 42",
                                    "1": "2",
                                    "2": "4639.98"
                                },
                                {
                                    "0": "Mountain-200 Silver 46",
                                    "1": "1",
                                    "2": "2319.99"
                                },
                                {
                                    "0": "Mountain-300 Black 40",
                                    "1": "1",
                                    "2": "1079.99"
                                },
                                {
                                    "0": "Mountain-300 Black 48",
                                    "1": "10",
                                    "2": "10799.90"
                                },
                                {
                                    "0": "Mountain-400-W Silver 42",
                                    "1": "7",
                                    "2": "5386.43"
                                },
                                {
                                    "0": "Mountain-400-W Silver 46",
                                    "1": "16",
                                    "2": "12311.84"
                                },
                                {
                                    "0": "Mountain-500 Black 40",
                                    "1": "8",
                                    "2": "4319.92"
                                },
                                {
                                    "0": "Mountain-500 Black 52",
                                    "1": "10",
                                    "2": "5399.90"
                                },
                                {
                                    "0": "Mountain-500 Silver 42",
                                    "1": "15",
                                    "2": "8474.85"
                                },
                                {
                                    "0": "Mountain-500 Silver 44",
                                    "1": "8",
                                    "2": "4519.92"
                                },
                                {
                                    "0": "Mountain-500 Silver 48",
                                    "1": "18",
                                    "2": "10169.82"
                                },
                                {
                                    "0": "Mountain-500 Silver 52",
                                    "1": "1",
                                    "2": "564.99"
                                },
                                {
                                    "0": "Paint - Black",
                                    "1": "1",
                                    "2": "688.80"
                                },
                                {
                                    "0": "Paint - Red",
                                    "1": "5",
                                    "2": "493.00"
                                },
                                {
                                    "0": "Patch Kit/8 Patches",
                                    "1": "1",
                                    "2": "2.29"
                                },
                                {
                                    "0": "Rear Derailleur Cage",
                                    "1": "6",
                                    "2": "7333.20"
                                },
                                {
                                    "0": "Road Bottle Cage",
                                    "1": "9",
                                    "2": "80.91"
                                },
                                {
                                    "0": "Road-150 Red 44",
                                    "1": "11",
                                    "2": "39360.97"
                                },
                                {
                                    "0": "Road-150 Red 48",
                                    "1": "12",
                                    "2": "42939.24"
                                },
                                {
                                    "0": "Road-150 Red 52",
                                    "1": "7",
                                    "2": "25047.89"
                                },
                                {
                                    "0": "Road-250 Red 44",
                                    "1": "7",
                                    "2": "17103.45"
                                },
                                {
                                    "0": "Road-250 Red 48",
                                    "1": "9",
                                    "2": "21990.15"
                                },
                                {
                                    "0": "Road-350-W Yellow 40",
                                    "1": "14",
                                    "2": "23813.86"
                                },
                                {
                                    "0": "Road-350-W Yellow 42",
                                    "1": "7",
                                    "2": "11906.93"
                                },
                                {
                                    "0": "Road-350-W Yellow 48",
                                    "1": "2",
                                    "2": "3401.98"
                                },
                                {
                                    "0": "Road-450 Red 44",
                                    "1": "1",
                                    "2": "1457.99"
                                },
                                {
                                    "0": "Road-450 Red 48",
                                    "1": "2",
                                    "2": "2915.98"
                                },
                                {
                                    "0": "Road-450 Red 52",
                                    "1": "13",
                                    "2": "18953.87"
                                },
                                {
                                    "0": "Road-550-W Yellow 38",
                                    "1": "9",
                                    "2": "10084.41"
                                },
                                {
                                    "0": "Road-550-W Yellow 40",
                                    "1": "2",
                                    "2": "2240.98"
                                },
                                {
                                    "0": "Road-550-W Yellow 42",
                                    "1": "6",
                                    "2": "6722.94"
                                },
                                {
                                    "0": "Road-550-W Yellow 44",
                                    "1": "4",
                                    "2": "4481.96"
                                },
                                {
                                    "0": "Road-650 Black 44",
                                    "1": "6",
                                    "2": "4697.94"
                                },
                                {
                                    "0": "Road-650 Black 48",
                                    "1": "4",
                                    "2": "3131.96"
                                },
                                {
                                    "0": "Road-650 Black 58",
                                    "1": "9",
                                    "2": "7046.91"
                                },
                                {
                                    "0": "Road-650 Red 44",
                                    "1": "2",
                                    "2": "1565.98"
                                },
                                {
                                    "0": "Road-650 Red 48",
                                    "1": "7",
                                    "2": "5480.93"
                                },
                                {
                                    "0": "Road-650 Red 58",
                                    "1": "4",
                                    "2": "3131.96"
                                },
                                {
                                    "0": "Road-650 Red 62",
                                    "1": "14",
                                    "2": "10961.86"
                                },
                                {
                                    "0": "Road-750 Black 52",
                                    "1": "8",
                                    "2": "4319.92"
                                },
                                {
                                    "0": "Seat Stays",
                                    "1": "5",
                                    "2": "4256.00"
                                },
                                {
                                    "0": "Seat Tube",
                                    "1": "2",
                                    "2": "426.40"
                                },
                                {
                                    "0": "Short-Sleeve Classic Jersey S",
                                    "1": "6",
                                    "2": "323.94"
                                },
                                {
                                    "0": "Spokes",
                                    "1": "9",
                                    "2": "7588.80"
                                },
                                {
                                    "0": "Taillights - Battery-PoweRed",
                                    "1": "6",
                                    "2": "83.94"
                                },
                                {
                                    "0": "Thin-Jam Hex Nut 1",
                                    "1": "8",
                                    "2": "1155.20"
                                },
                                {
                                    "0": "Thin-Jam Hex Nut 10",
                                    "1": "14",
                                    "2": "2016.00"
                                },
                                {
                                    "0": "Thin-Jam Hex Nut 14",
                                    "1": "3",
                                    "2": "222.00"
                                },
                                {
                                    "0": "Thin-Jam Hex Nut 15",
                                    "1": "2",
                                    "2": "145.20"
                                },
                                {
                                    "0": "Thin-Jam Hex Nut 3",
                                    "1": "7",
                                    "2": "3082.80"
                                },
                                {
                                    "0": "Thin-Jam Hex Nut 6",
                                    "1": "12",
                                    "2": "1756.80"
                                },
                                {
                                    "0": "Thin-Jam Hex Nut 7",
                                    "1": "7",
                                    "2": "3116.40"
                                },
                                {
                                    "0": "Thin-Jam Hex Nut 8",
                                    "1": "10",
                                    "2": "4464.00"
                                },
                                {
                                    "0": "Thin-Jam Lock Nut 10",
                                    "1": "6",
                                    "2": "1015.20"
                                },
                                {
                                    "0": "Thin-Jam Lock Nut 12",
                                    "1": "7",
                                    "2": "4883.20"
                                },
                                {
                                    "0": "Thin-Jam Lock Nut 16",
                                    "1": "8",
                                    "2": "683.20"
                                },
                                {
                                    "0": "Thin-Jam Lock Nut 2",
                                    "1": "1",
                                    "2": "170.00"
                                },
                                {
                                    "0": "Thin-Jam Lock Nut 5",
                                    "1": "7",
                                    "2": "599.20"
                                },
                                {
                                    "0": "Thin-Jam Lock Nut 7",
                                    "1": "9",
                                    "2": "4687.20"
                                },
                                {
                                    "0": "Thin-Jam Lock Nut 9",
                                    "1": "9",
                                    "2": "759.60"
                                },
                                {
                                    "0": "Touring Rear Wheel",
                                    "1": "10",
                                    "2": "2450.10"
                                },
                                {
                                    "0": "Touring-1000 Blue 50",
                                    "1": "10",
                                    "2": "23840.70"
                                },
                                {
                                    "0": "Touring-1000 Blue 54",
                                    "1": "8",
                                    "2": "19072.56"
                                },
                                {
                                    "0": "Touring-1000 Blue 60",
                                    "1": "4",
                                    "2": "9536.28"
                                },
                                {
                                    "0": "Touring-1000 Yellow 46",
                                    "1": "3",
                                    "2": "7152.21"
                                },
                                {
                                    "0": "Touring-2000 Blue 46",
                                    "1": "9",
                                    "2": "10933.65"
                                },
                                {
                                    "0": "Touring-2000 Blue 50",
                                    "1": "5",
                                    "2": "6074.25"
                                },
                                {
                                    "0": "Touring-2000 Blue 54",
                                    "1": "9",
                                    "2": "10933.65"
                                },
                                {
                                    "0": "Touring-3000 Blue 44",
                                    "1": "5",
                                    "2": "3711.75"
                                },
                                {
                                    "0": "Touring-3000 Blue 62",
                                    "1": "9",
                                    "2": "6681.15"
                                },
                                {
                                    "0": "Touring-3000 Yellow 44",
                                    "1": "9",
                                    "2": "6681.15"
                                },
                                {
                                    "0": "Touring-3000 Yellow 54",
                                    "1": "10",
                                    "2": "7423.50"
                                },
                                {
                                    "0": "Touring-Panniers Large",
                                    "1": "4",
                                    "2": "500.00"
                                },
                                {
                                    "0": "Womens Mountain Shorts L",
                                    "1": "1",
                                    "2": "69.99"
                                },
                                {
                                    "0": "Womens Mountain Shorts M",
                                    "1": "6",
                                    "2": "419.94"
                                },
                                {
                                    "0": "Womens Tights L",
                                    "1": "1",
                                    "2": "74.99"
                                }
                            ]
                        },
                        "text/html": [
                            "<table>",
                            "<tr><th>Name</th><th>TotalQuantity</th><th>TotalRevenue</th></tr>",
                            "<tr><td>Bearing Ball</td><td>5</td><td>4.00</td></tr>",
                            "<tr><td>Blade</td><td>1</td><td>189.60</td></tr>",
                            "<tr><td>Cable Lock</td><td>9</td><td>225.00</td></tr>",
                            "<tr><td>Chain Stays</td><td>4</td><td>259.20</td></tr>",
                            "<tr><td>Chainring</td><td>10</td><td>1932.00</td></tr>",
                            "<tr><td>Chainring Bolts</td><td>4</td><td>0.00</td></tr>",
                            "<tr><td>Classic Vest M</td><td>16</td><td>1016.00</td></tr>",
                            "<tr><td>Cone-Shaped Race</td><td>1</td><td>909.00</td></tr>",
                            "<tr><td>Decal 2</td><td>7</td><td>912.80</td></tr>",
                            "<tr><td>External Lock Washer 3</td><td>7</td><td>0.00</td></tr>",
                            "<tr><td>External Lock Washer 4</td><td>8</td><td>0.00</td></tr>",
                            "<tr><td>External Lock Washer 5</td><td>8</td><td>0.00</td></tr>",
                            "<tr><td>Fender Set - Mountain</td><td>11</td><td>241.78</td></tr>",
                            "<tr><td>Flat Washer 1</td><td>12</td><td>0.00</td></tr>",
                            "<tr><td>Flat Washer 2</td><td>4</td><td>0.00</td></tr>",
                            "<tr><td>Flat Washer 5</td><td>16</td><td>6681.60</td></tr>",
                            "<tr><td>Fork Crown</td><td>10</td><td>3500.00</td></tr>",
                            "<tr><td>Fork End</td><td>16</td><td>6355.20</td></tr>",
                            "<tr><td>Freewheel</td><td>5</td><td>2656.00</td></tr>",
                            "<tr><td>Front Brakes</td><td>7</td><td>745.50</td></tr>",
                            "<tr><td>Front Derailleur</td><td>2</td><td>182.98</td></tr>",
                            "<tr><td>Front Derailleur Linkage</td><td>5</td><td>0.00</td></tr>",
                            "<tr><td>Full-Finger Gloves S</td><td>10</td><td>379.90</td></tr>",
                            "<tr><td>Guide Pulley</td><td>6</td><td>3408.00</td></tr>",
                            "<tr><td>Half-Finger Gloves L</td><td>4</td><td>97.96</td></tr>",
                            "<tr><td>Handlebar Tube</td><td>17</td><td>10825.60</td></tr>",
                            "<tr><td>Headset Ball Bearings</td><td>8</td><td>0.00</td></tr>",
                            "<tr><td>Hex Nut 1</td><td>10</td><td>0.00</td></tr>",
                            "<tr><td>Hex Nut 10</td><td>5</td><td>2322.00</td></tr>",
                            "<tr><td>Hex Nut 17</td><td>9</td><td>1360.80</td></tr>",
                            "<tr><td>Hex Nut 19</td><td>10</td><td>4764.00</td></tr>",
                            "<tr><td>Hex Nut 2</td><td>4</td><td>0.00</td></tr>",
                            "<tr><td>Hex Nut 20</td><td>3</td><td>234.00</td></tr>",
                            "<tr><td>Hex Nut 22</td><td>17</td><td>1298.80</td></tr>",
                            "<tr><td>Hex Nut 4</td><td>18</td><td>2844.00</td></tr>",
                            "<tr><td>Hex Nut 6</td><td>5</td><td>1128.00</td></tr>",
                            "<tr><td>Hex Nut 8</td><td>5</td><td>760.00</td></tr>",
                            "<tr><td>Hex Nut 9</td><td>2</td><td>304.80</td></tr>",
                            "<tr><td>Hitch Rack - 4-Bike</td><td>10</td><td>1200.00</td></tr>",
                            "<tr><td>HL Bottom Bracket</td><td>6</td><td>728.94</td></tr>",
                            "<tr><td>HL Crankarm</td><td>8</td><td>2552.00</td></tr>",
                            "<tr><td>HL Crankset</td><td>7</td><td>2834.93</td></tr>",
                            "<tr><td>HL Grip Tape</td><td>8</td><td>0.00</td></tr>",
                            "<tr><td>HL Headset</td><td>15</td><td>1870.95</td></tr>",
                            "<tr><td>HL Hub</td><td>4</td><td>2887.20</td></tr>",
                            "<tr><td>HL Mountain Frame - Black 42</td><td>1</td><td>1349.60</td></tr>",
                            "<tr><td>HL Mountain Frame - Black 44</td><td>6</td><td>8097.60</td></tr>",
                            "<tr><td>HL Mountain Frame - Black 46</td><td>24</td><td>32390.40</td></tr>",
                            "<tr><td>HL Mountain Frame - Silver 44</td><td>14</td><td>19103.00</td></tr>",
                            "<tr><td>HL Mountain Handlebars</td><td>6</td><td>721.62</td></tr>",
                            "<tr><td>HL Mountain Seat Assembly</td><td>10</td><td>1969.20</td></tr>",
                            "<tr><td>HL Nipple</td><td>6</td><td>1178.40</td></tr>",
                            "<tr><td>HL Road Frame - Black 44</td><td>13</td><td>18609.50</td></tr>",
                            "<tr><td>HL Road Frame - Black 52</td><td>7</td><td>10020.50</td></tr>",
                            "<tr><td>HL Road Frame - Black 58</td><td>2</td><td>2863.00</td></tr>",
                            "<tr><td>HL Road Frame - Red 44</td><td>2</td><td>2863.00</td></tr>",
                            "<tr><td>HL Road Frame - Red 48</td><td>6</td><td>8589.00</td></tr>",
                            "<tr><td>HL Road Frame - Red 52</td><td>9</td><td>12883.50</td></tr>",
                            "<tr><td>HL Road Frame - Red 58</td><td>9</td><td>12883.50</td></tr>",
                            "<tr><td>HL Road Front Wheel</td><td>7</td><td>2310.42</td></tr>",
                            "<tr><td>HL Road Handlebars</td><td>5</td><td>601.35</td></tr>",
                            "<tr><td>HL Road Rim</td><td>5</td><td>0.00</td></tr>",
                            "<tr><td>HL Road Tire</td><td>6</td><td>195.60</td></tr>",
                            "<tr><td>HL Shell</td><td>8</td><td>841.60</td></tr>",
                            "<tr><td>HL Touring Frame - Blue 46</td><td>5</td><td>5019.55</td></tr>",
                            "<tr><td>HL Touring Frame - Blue 54</td><td>1</td><td>1003.91</td></tr>",
                            "<tr><td>HL Touring Frame - Blue 60</td><td>10</td><td>10039.10</td></tr>",
                            "<tr><td>HL Touring Frame - Yellow 46</td><td>16</td><td>16062.56</td></tr>",
                            "<tr><td>HL Touring Frame - Yellow 54</td><td>4</td><td>4015.64</td></tr>",
                            "<tr><td>HL Touring Frame - Yellow 60</td><td>14</td><td>14054.74</td></tr>",
                            "<tr><td>Internal Lock Washer 1</td><td>25</td><td>0.00</td></tr>",
                            "<tr><td>Internal Lock Washer 6</td><td>9</td><td>4503.60</td></tr>",
                            "<tr><td>LL Fork</td><td>2</td><td>296.44</td></tr>",
                            "<tr><td>LL Mountain Frame - Black 52</td><td>4</td><td>999.16</td></tr>",
                            "<tr><td>LL Mountain Frame - Silver 42</td><td>10</td><td>2640.50</td></tr>",
                            "<tr><td>LL Mountain Pedal</td><td>2</td><td>80.98</td></tr>",
                            "<tr><td>LL Mountain Rim</td><td>10</td><td>6084.00</td></tr>",
                            "<tr><td>LL Mountain Seat/Saddle</td><td>6</td><td>162.72</td></tr>",
                            "<tr><td>LL Mountain Tire</td><td>6</td><td>149.94</td></tr>",
                            "<tr><td>LL Nipple</td><td>8</td><td>1568.00</td></tr>",
                            "<tr><td>LL Road Frame - Black 52</td><td>15</td><td>5058.30</td></tr>",
                            "<tr><td>LL Road Frame - Red 52</td><td>3</td><td>1011.66</td></tr>",
                            "<tr><td>LL Road Frame - Red 62</td><td>9</td><td>3034.98</td></tr>",
                            "<tr><td>LL Road Front Wheel</td><td>8</td><td>684.52</td></tr>",
                            "<tr><td>LL Road Handlebars</td><td>13</td><td>579.02</td></tr>",
                            "<tr><td>LL Road Rear Wheel</td><td>8</td><td>900.52</td></tr>",
                            "<tr><td>LL Road Seat Assembly</td><td>2</td><td>266.68</td></tr>",
                            "<tr><td>LL Road Seat/Saddle</td><td>17</td><td>461.04</td></tr>",
                            "<tr><td>LL Road Tire</td><td>7</td><td>150.43</td></tr>",
                            "<tr><td>LL Shell</td><td>9</td><td>5670.00</td></tr>",
                            "<tr><td>LL Spindle/Axle</td><td>1</td><td>418.40</td></tr>",
                            "<tr><td>LL Touring Frame - Blue 58</td><td>10</td><td>3334.20</td></tr>",
                            "<tr><td>LL Touring Frame - Blue 62</td><td>6</td><td>2000.52</td></tr>",
                            "<tr><td>LL Touring Frame - Yellow 58</td><td>13</td><td>4334.46</td></tr>",
                            "<tr><td>LL Touring Seat Assembly</td><td>1</td><td>133.34</td></tr>",
                            "<tr><td>LL Touring Seat/Saddle</td><td>2</td><td>54.24</td></tr>",
                            "<tr><td>Lock Nut 13</td><td>10</td><td>1792.00</td></tr>",
                            "<tr><td>Lock Nut 15</td><td>6</td><td>3290.40</td></tr>",
                            "<tr><td>Lock Nut 18</td><td>15</td><td>8280.00</td></tr>",
                            "<tr><td>Lock Nut 22</td><td>14</td><td>1246.00</td></tr>",
                            "<tr><td>Lock Nut 6</td><td>8</td><td>2107.20</td></tr>",
                            "<tr><td>Lock Nut 7</td><td>8</td><td>1414.40</td></tr>",
                            "<tr><td>Lock Ring</td><td>20</td><td>16596.00</td></tr>",
                            "<tr><td>Lock Washer 10</td><td>23</td><td>0.00</td></tr>",
                            "<tr><td>Lock Washer 3</td><td>4</td><td>0.00</td></tr>",
                            "<tr><td>Lock Washer 5</td><td>9</td><td>0.00</td></tr>",
                            "<tr><td>Lock Washer 7</td><td>7</td><td>3948.00</td></tr>",
                            "<tr><td>Lock Washer 8</td><td>2</td><td>0.00</td></tr>",
                            "<tr><td>Long-Sleeve Logo Jersey L</td><td>10</td><td>499.90</td></tr>",
                            "<tr><td>Long-Sleeve Logo Jersey M</td><td>5</td><td>249.95</td></tr>",
                            "<tr><td>Long-Sleeve Logo Jersey S</td><td>9</td><td>449.91</td></tr>",
                            "<tr><td>Long-Sleeve Logo Jersey XL</td><td>7</td><td>349.93</td></tr>",
                            "<tr><td>Mens Sports Shorts L</td><td>3</td><td>179.97</td></tr>",
                            "<tr><td>Metal Bar 1</td><td>1</td><td>190.80</td></tr>",
                            "<tr><td>Metal Bar 2</td><td>9</td><td>5162.40</td></tr>",
                            "<tr><td>Metal Plate 2</td><td>3</td><td>1724.40</td></tr>",
                            "<tr><td>Metal Sheet 1</td><td>5</td><td>2928.00</td></tr>",
                            "<tr><td>Metal Sheet 2</td><td>2</td><td>964.00</td></tr>",
                            "<tr><td>Metal Sheet 5</td><td>2</td><td>777.60</td></tr>",
                            "<tr><td>Metal Sheet 6</td><td>6</td><td>2337.60</td></tr>",
                            "<tr><td>Metal Sheet 7</td><td>7</td><td>5420.80</td></tr>",
                            "<tr><td>Metal Tread Plate</td><td>9</td><td>0.00</td></tr>",
                            "<tr><td>ML Headset</td><td>12</td><td>1227.48</td></tr>",
                            "<tr><td>ML Mountain Frame - Black 38</td><td>5</td><td>1743.80</td></tr>",
                            "<tr><td>ML Mountain Frame - Black 48</td><td>16</td><td>5580.16</td></tr>",
                            "<tr><td>ML Mountain Frame-W - Silver 38</td><td>4</td><td>1456.36</td></tr>",
                            "<tr><td>ML Mountain Frame-W - Silver 46</td><td>2</td><td>728.18</td></tr>",
                            "<tr><td>ML Mountain Handlebars</td><td>2</td><td>123.84</td></tr>",
                            "<tr><td>ML Mountain Rim</td><td>2</td><td>1828.80</td></tr>",
                            "<tr><td>ML Mountain Seat/Saddle</td><td>16</td><td>626.24</td></tr>",
                            "<tr><td>ML Road Frame - Red 58</td><td>10</td><td>5948.30</td></tr>",
                            "<tr><td>ML Road Frame-W - Yellow 42</td><td>5</td><td>2974.15</td></tr>",
                            "<tr><td>ML Road Handlebars</td><td>8</td><td>495.36</td></tr>",
                            "<tr><td>ML Road Pedal</td><td>4</td><td>248.36</td></tr>",
                            "<tr><td>ML Road Rim</td><td>7</td><td>0.00</td></tr>",
                            "<tr><td>ML Road Tire</td><td>5</td><td>124.95</td></tr>",
                            "<tr><td>ML Touring Seat Assembly</td><td>2</td><td>294.28</td></tr>",
                            "<tr><td>ML Touring Seat/Saddle</td><td>2</td><td>78.28</td></tr>",
                            "<tr><td>Mountain Bike Socks L</td><td>10</td><td>95.00</td></tr>",
                            "<tr><td>Mountain Bike Socks M</td><td>16</td><td>152.00</td></tr>",
                            "<tr><td>Mountain End Caps</td><td>12</td><td>7084.80</td></tr>",
                            "<tr><td>Mountain Tire Tube</td><td>3</td><td>14.97</td></tr>",
                            "<tr><td>Mountain-100 Black 38</td><td>7</td><td>23624.93</td></tr>",
                            "<tr><td>Mountain-100 Black 42</td><td>8</td><td>26999.92</td></tr>",
                            "<tr><td>Mountain-100 Black 48</td><td>6</td><td>20249.94</td></tr>",
                            "<tr><td>Mountain-100 Silver 38</td><td>14</td><td>47599.86</td></tr>",
                            "<tr><td>Mountain-200 Black 38</td><td>16</td><td>36719.84</td></tr>",
                            "<tr><td>Mountain-200 Silver 38</td><td>2</td><td>4639.98</td></tr>",
                            "<tr><td>Mountain-200 Silver 42</td><td>2</td><td>4639.98</td></tr>",
                            "<tr><td>Mountain-200 Silver 46</td><td>1</td><td>2319.99</td></tr>",
                            "<tr><td>Mountain-300 Black 40</td><td>1</td><td>1079.99</td></tr>",
                            "<tr><td>Mountain-300 Black 48</td><td>10</td><td>10799.90</td></tr>",
                            "<tr><td>Mountain-400-W Silver 42</td><td>7</td><td>5386.43</td></tr>",
                            "<tr><td>Mountain-400-W Silver 46</td><td>16</td><td>12311.84</td></tr>",
                            "<tr><td>Mountain-500 Black 40</td><td>8</td><td>4319.92</td></tr>",
                            "<tr><td>Mountain-500 Black 52</td><td>10</td><td>5399.90</td></tr>",
                            "<tr><td>Mountain-500 Silver 42</td><td>15</td><td>8474.85</td></tr>",
                            "<tr><td>Mountain-500 Silver 44</td><td>8</td><td>4519.92</td></tr>",
                            "<tr><td>Mountain-500 Silver 48</td><td>18</td><td>10169.82</td></tr>",
                            "<tr><td>Mountain-500 Silver 52</td><td>1</td><td>564.99</td></tr>",
                            "<tr><td>Paint - Black</td><td>1</td><td>688.80</td></tr>",
                            "<tr><td>Paint - Red</td><td>5</td><td>493.00</td></tr>",
                            "<tr><td>Patch Kit/8 Patches</td><td>1</td><td>2.29</td></tr>",
                            "<tr><td>Rear Derailleur Cage</td><td>6</td><td>7333.20</td></tr>",
                            "<tr><td>Road Bottle Cage</td><td>9</td><td>80.91</td></tr>",
                            "<tr><td>Road-150 Red 44</td><td>11</td><td>39360.97</td></tr>",
                            "<tr><td>Road-150 Red 48</td><td>12</td><td>42939.24</td></tr>",
                            "<tr><td>Road-150 Red 52</td><td>7</td><td>25047.89</td></tr>",
                            "<tr><td>Road-250 Red 44</td><td>7</td><td>17103.45</td></tr>",
                            "<tr><td>Road-250 Red 48</td><td>9</td><td>21990.15</td></tr>",
                            "<tr><td>Road-350-W Yellow 40</td><td>14</td><td>23813.86</td></tr>",
                            "<tr><td>Road-350-W Yellow 42</td><td>7</td><td>11906.93</td></tr>",
                            "<tr><td>Road-350-W Yellow 48</td><td>2</td><td>3401.98</td></tr>",
                            "<tr><td>Road-450 Red 44</td><td>1</td><td>1457.99</td></tr>",
                            "<tr><td>Road-450 Red 48</td><td>2</td><td>2915.98</td></tr>",
                            "<tr><td>Road-450 Red 52</td><td>13</td><td>18953.87</td></tr>",
                            "<tr><td>Road-550-W Yellow 38</td><td>9</td><td>10084.41</td></tr>",
                            "<tr><td>Road-550-W Yellow 40</td><td>2</td><td>2240.98</td></tr>",
                            "<tr><td>Road-550-W Yellow 42</td><td>6</td><td>6722.94</td></tr>",
                            "<tr><td>Road-550-W Yellow 44</td><td>4</td><td>4481.96</td></tr>",
                            "<tr><td>Road-650 Black 44</td><td>6</td><td>4697.94</td></tr>",
                            "<tr><td>Road-650 Black 48</td><td>4</td><td>3131.96</td></tr>",
                            "<tr><td>Road-650 Black 58</td><td>9</td><td>7046.91</td></tr>",
                            "<tr><td>Road-650 Red 44</td><td>2</td><td>1565.98</td></tr>",
                            "<tr><td>Road-650 Red 48</td><td>7</td><td>5480.93</td></tr>",
                            "<tr><td>Road-650 Red 58</td><td>4</td><td>3131.96</td></tr>",
                            "<tr><td>Road-650 Red 62</td><td>14</td><td>10961.86</td></tr>",
                            "<tr><td>Road-750 Black 52</td><td>8</td><td>4319.92</td></tr>",
                            "<tr><td>Seat Stays</td><td>5</td><td>4256.00</td></tr>",
                            "<tr><td>Seat Tube</td><td>2</td><td>426.40</td></tr>",
                            "<tr><td>Short-Sleeve Classic Jersey S</td><td>6</td><td>323.94</td></tr>",
                            "<tr><td>Spokes</td><td>9</td><td>7588.80</td></tr>",
                            "<tr><td>Taillights - Battery-PoweRed</td><td>6</td><td>83.94</td></tr>",
                            "<tr><td>Thin-Jam Hex Nut 1</td><td>8</td><td>1155.20</td></tr>",
                            "<tr><td>Thin-Jam Hex Nut 10</td><td>14</td><td>2016.00</td></tr>",
                            "<tr><td>Thin-Jam Hex Nut 14</td><td>3</td><td>222.00</td></tr>",
                            "<tr><td>Thin-Jam Hex Nut 15</td><td>2</td><td>145.20</td></tr>",
                            "<tr><td>Thin-Jam Hex Nut 3</td><td>7</td><td>3082.80</td></tr>",
                            "<tr><td>Thin-Jam Hex Nut 6</td><td>12</td><td>1756.80</td></tr>",
                            "<tr><td>Thin-Jam Hex Nut 7</td><td>7</td><td>3116.40</td></tr>",
                            "<tr><td>Thin-Jam Hex Nut 8</td><td>10</td><td>4464.00</td></tr>",
                            "<tr><td>Thin-Jam Lock Nut 10</td><td>6</td><td>1015.20</td></tr>",
                            "<tr><td>Thin-Jam Lock Nut 12</td><td>7</td><td>4883.20</td></tr>",
                            "<tr><td>Thin-Jam Lock Nut 16</td><td>8</td><td>683.20</td></tr>",
                            "<tr><td>Thin-Jam Lock Nut 2</td><td>1</td><td>170.00</td></tr>",
                            "<tr><td>Thin-Jam Lock Nut 5</td><td>7</td><td>599.20</td></tr>",
                            "<tr><td>Thin-Jam Lock Nut 7</td><td>9</td><td>4687.20</td></tr>",
                            "<tr><td>Thin-Jam Lock Nut 9</td><td>9</td><td>759.60</td></tr>",
                            "<tr><td>Touring Rear Wheel</td><td>10</td><td>2450.10</td></tr>",
                            "<tr><td>Touring-1000 Blue 50</td><td>10</td><td>23840.70</td></tr>",
                            "<tr><td>Touring-1000 Blue 54</td><td>8</td><td>19072.56</td></tr>",
                            "<tr><td>Touring-1000 Blue 60</td><td>4</td><td>9536.28</td></tr>",
                            "<tr><td>Touring-1000 Yellow 46</td><td>3</td><td>7152.21</td></tr>",
                            "<tr><td>Touring-2000 Blue 46</td><td>9</td><td>10933.65</td></tr>",
                            "<tr><td>Touring-2000 Blue 50</td><td>5</td><td>6074.25</td></tr>",
                            "<tr><td>Touring-2000 Blue 54</td><td>9</td><td>10933.65</td></tr>",
                            "<tr><td>Touring-3000 Blue 44</td><td>5</td><td>3711.75</td></tr>",
                            "<tr><td>Touring-3000 Blue 62</td><td>9</td><td>6681.15</td></tr>",
                            "<tr><td>Touring-3000 Yellow 44</td><td>9</td><td>6681.15</td></tr>",
                            "<tr><td>Touring-3000 Yellow 54</td><td>10</td><td>7423.50</td></tr>",
                            "<tr><td>Touring-Panniers Large</td><td>4</td><td>500.00</td></tr>",
                            "<tr><td>Womens Mountain Shorts L</td><td>1</td><td>69.99</td></tr>",
                            "<tr><td>Womens Mountain Shorts M</td><td>6</td><td>419.94</td></tr>",
                            "<tr><td>Womens Tights L</td><td>1</td><td>74.99</td></tr>",
                            "</table>"
                        ]
                    }
                }
            ],
            "execution_count": 2
        },
        {
            "cell_type": "markdown",
            "source": [
                "This search would return a list of all the products sold, together with information on each product's total sales volume and revenue. The most popular products and those that are making the most money might then be determined by analysing this data.\n",
                "\n",
                "  \n",
                "\n",
                "You could use the following example to analyse client loyalty:"
            ],
            "metadata": {
                "azdata_cell_guid": "eeb462ec-c530-498d-b594-35fcc11326a6"
            },
            "attachments": {}
        },
        {
            "cell_type": "code",
            "source": [
                "SELECT Customers.FirstName, Customers.LastName, SUM(Sales.Quantity) as TotalQuantity, SUM(Sales.Quantity * Products.Price) as TotalSpent\n",
                "FROM Sales\n",
                "INNER JOIN Customers ON Sales.CustomerID = Customers.CustomerID\n",
                "INNER JOIN Products ON Sales.ProductID = Products.ProductID\n",
                "GROUP BY Customers.FirstName, Customers.LastName"
            ],
            "metadata": {
                "azdata_cell_guid": "27e473a3-a60a-4dc0-808c-55cc9871886f",
                "language": "sql"
            },
            "outputs": [
                {
                    "output_type": "display_data",
                    "data": {
                        "text/html": "(199 rows affected)"
                    },
                    "metadata": {}
                },
                {
                    "output_type": "display_data",
                    "data": {
                        "text/html": "Total execution time: 00:00:00.031"
                    },
                    "metadata": {}
                },
                {
                    "output_type": "execute_result",
                    "metadata": {},
                    "execution_count": 3,
                    "data": {
                        "application/vnd.dataresource+json": {
                            "schema": {
                                "fields": [
                                    {
                                        "name": "FirstName"
                                    },
                                    {
                                        "name": "LastName"
                                    },
                                    {
                                        "name": "TotalQuantity"
                                    },
                                    {
                                        "name": "TotalSpent"
                                    }
                                ]
                            },
                            "data": [
                                {
                                    "0": "Aaron",
                                    "1": "Yang",
                                    "2": "10",
                                    "3": "18362.40"
                                },
                                {
                                    "0": "Alisha",
                                    "1": "Yang",
                                    "2": "10",
                                    "3": "6234.99"
                                },
                                {
                                    "0": "Alvin",
                                    "1": "Yang",
                                    "2": "7",
                                    "3": "349.93"
                                },
                                {
                                    "0": "Bianca",
                                    "1": "Yang",
                                    "2": "10",
                                    "3": "0.00"
                                },
                                {
                                    "0": "Brent",
                                    "1": "Yang",
                                    "2": "8",
                                    "3": "1568.00"
                                },
                                {
                                    "0": "Cameron",
                                    "1": "Yang",
                                    "2": "1",
                                    "3": "1079.99"
                                },
                                {
                                    "0": "Clayton",
                                    "1": "Yang",
                                    "2": "2",
                                    "3": "1079.98"
                                },
                                {
                                    "0": "Colin",
                                    "1": "Yang",
                                    "2": "11",
                                    "3": "10162.69"
                                },
                                {
                                    "0": "Colleen",
                                    "1": "Yang",
                                    "2": "2",
                                    "3": "123.84"
                                },
                                {
                                    "0": "Connor",
                                    "1": "Yang",
                                    "2": "20",
                                    "3": "11751.38"
                                },
                                {
                                    "0": "Crystal",
                                    "1": "Yang",
                                    "2": "4",
                                    "3": "1320.24"
                                },
                                {
                                    "0": "Darryl",
                                    "1": "Yang",
                                    "2": "12",
                                    "3": "684.52"
                                },
                                {
                                    "0": "David",
                                    "1": "Yang",
                                    "2": "9",
                                    "3": "12883.50"
                                },
                                {
                                    "0": "Dennis",
                                    "1": "Yang",
                                    "2": "2",
                                    "3": "292.80"
                                },
                                {
                                    "0": "Edwin",
                                    "1": "Yang",
                                    "2": "8",
                                    "3": "4481.96"
                                },
                                {
                                    "0": "Ethan",
                                    "1": "Yang",
                                    "2": "7",
                                    "3": "16064.93"
                                },
                                {
                                    "0": "Eugene",
                                    "1": "Yang",
                                    "2": "6",
                                    "3": "3290.40"
                                },
                                {
                                    "0": "Gabriel",
                                    "1": "Yang",
                                    "2": "12",
                                    "3": "6886.80"
                                },
                                {
                                    "0": "Gilbert",
                                    "1": "Yang",
                                    "2": "25",
                                    "3": "6424.76"
                                },
                                {
                                    "0": "Heather",
                                    "1": "Yang",
                                    "2": "7",
                                    "3": "5196.45"
                                },
                                {
                                    "0": "Jack",
                                    "1": "Yang",
                                    "2": "7",
                                    "3": "0.00"
                                },
                                {
                                    "0": "Jackson",
                                    "1": "Yang",
                                    "2": "2",
                                    "3": "2429.70"
                                },
                                {
                                    "0": "Jaclyn",
                                    "1": "Yang",
                                    "2": "11",
                                    "3": "11711.25"
                                },
                                {
                                    "0": "Jake",
                                    "1": "Yang",
                                    "2": "3",
                                    "3": "0.00"
                                },
                                {
                                    "0": "Jason",
                                    "1": "Yang",
                                    "2": "9",
                                    "3": "12883.50"
                                },
                                {
                                    "0": "Jenny",
                                    "1": "Yang",
                                    "2": "4",
                                    "3": "2969.40"
                                },
                                {
                                    "0": "Jessie",
                                    "1": "Yang",
                                    "2": "9",
                                    "3": "565.35"
                                },
                                {
                                    "0": "Jonathan",
                                    "1": "Yang",
                                    "2": "14",
                                    "3": "1396.39"
                                },
                                {
                                    "0": "Jose",
                                    "1": "Yang",
                                    "2": "4",
                                    "3": "248.36"
                                },
                                {
                                    "0": "Justin",
                                    "1": "Yang",
                                    "2": "7",
                                    "3": "2360.54"
                                },
                                {
                                    "0": "Kelvin",
                                    "1": "Yang",
                                    "2": "18",
                                    "3": "1294.74"
                                },
                                {
                                    "0": "Krystal",
                                    "1": "Yang",
                                    "2": "10",
                                    "3": "635.00"
                                },
                                {
                                    "0": "Kyle",
                                    "1": "Yang",
                                    "2": "7",
                                    "3": "2834.93"
                                },
                                {
                                    "0": "Lacey",
                                    "1": "Yang",
                                    "2": "10",
                                    "3": "3107.96"
                                },
                                {
                                    "0": "Leah",
                                    "1": "Yang",
                                    "2": "17",
                                    "3": "12807.48"
                                },
                                {
                                    "0": "Logan",
                                    "1": "Yang",
                                    "2": "11",
                                    "3": "6213.41"
                                },
                                {
                                    "0": "Louis",
                                    "1": "Yang",
                                    "2": "4",
                                    "3": "2887.20"
                                },
                                {
                                    "0": "Luis",
                                    "1": "Yang",
                                    "2": "9",
                                    "3": "12883.50"
                                },
                                {
                                    "0": "Luke",
                                    "1": "Yang",
                                    "2": "7",
                                    "3": "23624.93"
                                },
                                {
                                    "0": "Marshall",
                                    "1": "Yang",
                                    "2": "12",
                                    "3": "472.38"
                                },
                                {
                                    "0": "Martha",
                                    "1": "Yang",
                                    "2": "4",
                                    "3": "13599.96"
                                },
                                {
                                    "0": "Micah",
                                    "1": "Yang",
                                    "2": "4",
                                    "3": "1333.68"
                                },
                                {
                                    "0": "Nathan",
                                    "1": "Yang",
                                    "2": "9",
                                    "3": "6925.41"
                                },
                                {
                                    "0": "Noah",
                                    "1": "Yang",
                                    "2": "6",
                                    "3": "3239.94"
                                },
                                {
                                    "0": "Omar",
                                    "1": "Yang",
                                    "2": "2",
                                    "3": "4639.98"
                                },
                                {
                                    "0": "Rafael",
                                    "1": "Yang",
                                    "2": "12",
                                    "3": "1143.60"
                                },
                                {
                                    "0": "Ramon",
                                    "1": "Yang",
                                    "2": "1",
                                    "3": "9.50"
                                },
                                {
                                    "0": "Randy",
                                    "1": "Yang",
                                    "2": "10",
                                    "3": "11464.47"
                                },
                                {
                                    "0": "Robert",
                                    "1": "Yang",
                                    "2": "3",
                                    "3": "149.97"
                                },
                                {
                                    "0": "Roger",
                                    "1": "Yang",
                                    "2": "9",
                                    "3": "7046.91"
                                },
                                {
                                    "0": "Rosa",
                                    "1": "Yang",
                                    "2": "6",
                                    "3": "234.84"
                                },
                                {
                                    "0": "Samuel",
                                    "1": "Yang",
                                    "2": "6",
                                    "3": "3542.40"
                                },
                                {
                                    "0": "Sandra",
                                    "1": "Yang",
                                    "2": "25",
                                    "3": "16869.53"
                                },
                                {
                                    "0": "Shannon",
                                    "1": "Yang",
                                    "2": "2",
                                    "3": "338.40"
                                },
                                {
                                    "0": "Stacey",
                                    "1": "Yang",
                                    "2": "9",
                                    "3": "0.00"
                                },
                                {
                                    "0": "Steve",
                                    "1": "Yang",
                                    "2": "19",
                                    "3": "11091.94"
                                },
                                {
                                    "0": "Susan",
                                    "1": "Yang",
                                    "2": "8",
                                    "3": "10796.80"
                                },
                                {
                                    "0": "Suzanne",
                                    "1": "Yang",
                                    "2": "27",
                                    "3": "10729.38"
                                },
                                {
                                    "0": "Tamara",
                                    "1": "Yang",
                                    "2": "1",
                                    "3": "196.92"
                                },
                                {
                                    "0": "Thomas",
                                    "1": "Yang",
                                    "2": "3",
                                    "3": "7152.21"
                                },
                                {
                                    "0": "Tiffany",
                                    "1": "Yang",
                                    "2": "9",
                                    "3": "5084.91"
                                },
                                {
                                    "0": "Valerie",
                                    "1": "Yang",
                                    "2": "3",
                                    "3": "2227.05"
                                },
                                {
                                    "0": "Warren",
                                    "1": "Yang",
                                    "2": "7",
                                    "3": "3116.40"
                                },
                                {
                                    "0": "Zachary",
                                    "1": "Yang",
                                    "2": "1",
                                    "3": "27.12"
                                },
                                {
                                    "0": "Arthur",
                                    "1": "Yasinski",
                                    "2": "7",
                                    "3": "534.80"
                                },
                                {
                                    "0": "Alan",
                                    "1": "Ye",
                                    "2": "10",
                                    "3": "1453.82"
                                },
                                {
                                    "0": "Alejandro",
                                    "1": "Ye",
                                    "2": "6",
                                    "3": "8097.60"
                                },
                                {
                                    "0": "Alisha",
                                    "1": "Ye",
                                    "2": "6",
                                    "3": "149.94"
                                },
                                {
                                    "0": "Alvin",
                                    "1": "Ye",
                                    "2": "10",
                                    "3": "17721.08"
                                },
                                {
                                    "0": "Barbara",
                                    "1": "Ye",
                                    "2": "6",
                                    "3": "4697.94"
                                },
                                {
                                    "0": "Brittney",
                                    "1": "Ye",
                                    "2": "10",
                                    "3": "499.90"
                                },
                                {
                                    "0": "Candice",
                                    "1": "Ye",
                                    "2": "2",
                                    "3": "2863.00"
                                },
                                {
                                    "0": "Cara",
                                    "1": "Ye",
                                    "2": "7",
                                    "3": "66.50"
                                },
                                {
                                    "0": "Cedric",
                                    "1": "Ye",
                                    "2": "4",
                                    "3": "6803.96"
                                },
                                {
                                    "0": "Christy",
                                    "1": "Ye",
                                    "2": "5",
                                    "3": "189.95"
                                },
                                {
                                    "0": "Damien",
                                    "1": "Ye",
                                    "2": "9",
                                    "3": "8058.99"
                                },
                                {
                                    "0": "Dawn",
                                    "1": "Ye",
                                    "2": "1",
                                    "3": "64.80"
                                },
                                {
                                    "0": "Edwin",
                                    "1": "Ye",
                                    "2": "11",
                                    "3": "1462.07"
                                },
                                {
                                    "0": "Gilbert",
                                    "1": "Ye",
                                    "2": "9",
                                    "3": "225.00"
                                },
                                {
                                    "0": "Jaclyn",
                                    "1": "Ye",
                                    "2": "5",
                                    "3": "1045.36"
                                },
                                {
                                    "0": "Jamie",
                                    "1": "Ye",
                                    "2": "8",
                                    "3": "6469.50"
                                },
                                {
                                    "0": "Jessie",
                                    "1": "Ye",
                                    "2": "7",
                                    "3": "3531.50"
                                },
                                {
                                    "0": "Jon",
                                    "1": "Ye",
                                    "2": "10",
                                    "3": "10039.10"
                                },
                                {
                                    "0": "Jorge",
                                    "1": "Ye",
                                    "2": "5",
                                    "3": "2656.00"
                                },
                                {
                                    "0": "Karen",
                                    "1": "Ye",
                                    "2": "14",
                                    "3": "1525.20"
                                },
                                {
                                    "0": "Kelli",
                                    "1": "Ye",
                                    "2": "10",
                                    "3": "3334.20"
                                },
                                {
                                    "0": "Louis",
                                    "1": "Ye",
                                    "2": "13",
                                    "3": "18816.68"
                                },
                                {
                                    "0": "Mandy",
                                    "1": "Ye",
                                    "2": "6",
                                    "3": "381.00"
                                },
                                {
                                    "0": "Margaret",
                                    "1": "Ye",
                                    "2": "6",
                                    "3": "6722.94"
                                },
                                {
                                    "0": "Marshall",
                                    "1": "Ye",
                                    "2": "3",
                                    "3": "65.94"
                                },
                                {
                                    "0": "Martha",
                                    "1": "Ye",
                                    "2": "11",
                                    "3": "8403.99"
                                },
                                {
                                    "0": "Omar",
                                    "1": "Ye",
                                    "2": "6",
                                    "3": "20249.94"
                                },
                                {
                                    "0": "Rafael",
                                    "1": "Ye",
                                    "2": "15",
                                    "3": "7829.90"
                                },
                                {
                                    "0": "Ramon",
                                    "1": "Ye",
                                    "2": "4",
                                    "3": "1670.40"
                                },
                                {
                                    "0": "Randy",
                                    "1": "Ye",
                                    "2": "10",
                                    "3": "5649.90"
                                },
                                {
                                    "0": "Roger",
                                    "1": "Ye",
                                    "2": "11",
                                    "3": "11675.94"
                                },
                                {
                                    "0": "Sandra",
                                    "1": "Ye",
                                    "2": "11",
                                    "3": "1011.66"
                                },
                                {
                                    "0": "Shannon",
                                    "1": "Ye",
                                    "2": "1",
                                    "3": "0.00"
                                },
                                {
                                    "0": "Stacey",
                                    "1": "Ye",
                                    "2": "17",
                                    "3": "21496.51"
                                },
                                {
                                    "0": "Susan",
                                    "1": "Ye",
                                    "2": "3",
                                    "3": "1656.00"
                                },
                                {
                                    "0": "Trisha",
                                    "1": "Ye",
                                    "2": "9",
                                    "3": "85.50"
                                },
                                {
                                    "0": "Valerie",
                                    "1": "Ye",
                                    "2": "9",
                                    "3": "4687.20"
                                },
                                {
                                    "0": "Vincent",
                                    "1": "Ye",
                                    "2": "10",
                                    "3": "25047.89"
                                },
                                {
                                    "0": "Warren",
                                    "1": "Ye",
                                    "2": "8",
                                    "3": "175.84"
                                },
                                {
                                    "0": "Willie",
                                    "1": "Ye",
                                    "2": "1",
                                    "3": "170.00"
                                },
                                {
                                    "0": "Tai",
                                    "1": "Yee",
                                    "2": "4",
                                    "3": "1400.00"
                                },
                                {
                                    "0": "Norimichi",
                                    "1": "Yonekura",
                                    "2": "13",
                                    "3": "4166.40"
                                },
                                {
                                    "0": "Adam",
                                    "1": "Young",
                                    "2": "6",
                                    "3": "2383.20"
                                },
                                {
                                    "0": "Alexandra",
                                    "1": "Young",
                                    "2": "3",
                                    "3": "507.60"
                                },
                                {
                                    "0": "Amanda",
                                    "1": "Young",
                                    "2": "25",
                                    "3": "5880.72"
                                },
                                {
                                    "0": "Andrea",
                                    "1": "Young",
                                    "2": "4",
                                    "3": "0.00"
                                },
                                {
                                    "0": "Angel",
                                    "1": "Young",
                                    "2": "10",
                                    "3": "17009.90"
                                },
                                {
                                    "0": "Bailey",
                                    "1": "Young",
                                    "2": "3",
                                    "3": "222.00"
                                },
                                {
                                    "0": "Blake",
                                    "1": "Young",
                                    "2": "7",
                                    "3": "0.00"
                                },
                                {
                                    "0": "Courtney",
                                    "1": "Young",
                                    "2": "8",
                                    "3": "0.00"
                                },
                                {
                                    "0": "Dalton",
                                    "1": "Young",
                                    "2": "9",
                                    "3": "920.61"
                                },
                                {
                                    "0": "Devin",
                                    "1": "Young",
                                    "2": "7",
                                    "3": "5480.93"
                                },
                                {
                                    "0": "Edward",
                                    "1": "Young",
                                    "2": "10",
                                    "3": "3109.75"
                                },
                                {
                                    "0": "Elijah",
                                    "1": "Young",
                                    "2": "1",
                                    "3": "1349.60"
                                },
                                {
                                    "0": "Gabriel",
                                    "1": "Young",
                                    "2": "9",
                                    "3": "3138.84"
                                },
                                {
                                    "0": "Gabriella",
                                    "1": "Young",
                                    "2": "10",
                                    "3": "8298.00"
                                },
                                {
                                    "0": "Garrett",
                                    "1": "Young",
                                    "2": "5",
                                    "3": "0.00"
                                },
                                {
                                    "0": "Ian",
                                    "1": "Young",
                                    "2": "7",
                                    "3": "840.00"
                                },
                                {
                                    "0": "James",
                                    "1": "Young",
                                    "2": "7",
                                    "3": "3711.75"
                                },
                                {
                                    "0": "Janet",
                                    "1": "Young",
                                    "2": "13",
                                    "3": "34014.87"
                                },
                                {
                                    "0": "Jason",
                                    "1": "Young",
                                    "2": "10",
                                    "3": "764.00"
                                },
                                {
                                    "0": "Jenna",
                                    "1": "Young",
                                    "2": "7",
                                    "3": "5386.43"
                                },
                                {
                                    "0": "Jesse",
                                    "1": "Young",
                                    "2": "2",
                                    "3": "4639.98"
                                },
                                {
                                    "0": "Jonathan",
                                    "1": "Young",
                                    "2": "12",
                                    "3": "403.26"
                                },
                                {
                                    "0": "Jordan",
                                    "1": "Young",
                                    "2": "13",
                                    "3": "26999.92"
                                },
                                {
                                    "0": "Jose",
                                    "1": "Young",
                                    "2": "7",
                                    "3": "0.00"
                                },
                                {
                                    "0": "Julia",
                                    "1": "Young",
                                    "2": "7",
                                    "3": "0.00"
                                },
                                {
                                    "0": "Katelyn",
                                    "1": "Young",
                                    "2": "27",
                                    "3": "14432.62"
                                },
                                {
                                    "0": "Katherine",
                                    "1": "Young",
                                    "2": "4",
                                    "3": "0.00"
                                },
                                {
                                    "0": "Kaylee",
                                    "1": "Young",
                                    "2": "14",
                                    "3": "3082.80"
                                },
                                {
                                    "0": "Kyle",
                                    "1": "Young",
                                    "2": "7",
                                    "3": "2636.39"
                                },
                                {
                                    "0": "Mackenzie",
                                    "1": "Young",
                                    "2": "6",
                                    "3": "99.56"
                                },
                                {
                                    "0": "Madeline",
                                    "1": "Young",
                                    "2": "1",
                                    "3": "133.34"
                                },
                                {
                                    "0": "Marcus",
                                    "1": "Young",
                                    "2": "8",
                                    "3": "5972.10"
                                },
                                {
                                    "0": "Miguel",
                                    "1": "Young",
                                    "2": "11",
                                    "3": "1080.80"
                                },
                                {
                                    "0": "Natalie",
                                    "1": "Young",
                                    "2": "6",
                                    "3": "948.00"
                                },
                                {
                                    "0": "Nathan",
                                    "1": "Young",
                                    "2": "7",
                                    "3": "10205.93"
                                },
                                {
                                    "0": "Richard",
                                    "1": "Young",
                                    "2": "11",
                                    "3": "3965.10"
                                },
                                {
                                    "0": "Rob",
                                    "1": "Young",
                                    "2": "12",
                                    "3": "1627.90"
                                },
                                {
                                    "0": "Savannah",
                                    "1": "Young",
                                    "2": "7",
                                    "3": "3124.80"
                                },
                                {
                                    "0": "Sierra",
                                    "1": "Young",
                                    "2": "2",
                                    "3": "2240.98"
                                },
                                {
                                    "0": "Stephanie",
                                    "1": "Young",
                                    "2": "7",
                                    "3": "3948.00"
                                },
                                {
                                    "0": "Thomas",
                                    "1": "Young",
                                    "2": "9",
                                    "3": "3131.96"
                                },
                                {
                                    "0": "Timothy",
                                    "1": "Young",
                                    "2": "12",
                                    "3": "3053.76"
                                },
                                {
                                    "0": "Wyatt",
                                    "1": "Young",
                                    "2": "5",
                                    "3": "2322.00"
                                },
                                {
                                    "0": "Xavier",
                                    "1": "Young",
                                    "2": "12",
                                    "3": "12506.40"
                                },
                                {
                                    "0": "Tom",
                                    "1": "Youtsey",
                                    "2": "10",
                                    "3": "5399.90"
                                },
                                {
                                    "0": "Nuan",
                                    "1": "Yu",
                                    "2": "1",
                                    "3": "1431.50"
                                },
                                {
                                    "0": "Alisha",
                                    "1": "Yuan",
                                    "2": "20",
                                    "3": "10164.04"
                                },
                                {
                                    "0": "Alison",
                                    "1": "Yuan",
                                    "2": "15",
                                    "3": "35963.89"
                                },
                                {
                                    "0": "Alvin",
                                    "1": "Yuan",
                                    "2": "20",
                                    "3": "22859.35"
                                },
                                {
                                    "0": "Barbara",
                                    "1": "Yuan",
                                    "2": "6",
                                    "3": "2505.60"
                                },
                                {
                                    "0": "Bethany",
                                    "1": "Yuan",
                                    "2": "8",
                                    "3": "2552.00"
                                },
                                {
                                    "0": "Brad",
                                    "1": "Yuan",
                                    "2": "8",
                                    "3": "0.00"
                                },
                                {
                                    "0": "Bradley",
                                    "1": "Yuan",
                                    "2": "3",
                                    "3": "990.18"
                                },
                                {
                                    "0": "Brendan",
                                    "1": "Yuan",
                                    "2": "23",
                                    "3": "2012.24"
                                },
                                {
                                    "0": "Calvin",
                                    "1": "Yuan",
                                    "2": "18",
                                    "3": "18325.32"
                                },
                                {
                                    "0": "Carl",
                                    "1": "Yuan",
                                    "2": "5",
                                    "3": "124.95"
                                },
                                {
                                    "0": "Casey",
                                    "1": "Yuan",
                                    "2": "4",
                                    "3": "0.00"
                                },
                                {
                                    "0": "Cedric",
                                    "1": "Yuan",
                                    "2": "8",
                                    "3": "1414.40"
                                },
                                {
                                    "0": "Christine",
                                    "1": "Yuan",
                                    "2": "12",
                                    "3": "496.92"
                                },
                                {
                                    "0": "Clarence",
                                    "1": "Yuan",
                                    "2": "6",
                                    "3": "2000.52"
                                },
                                {
                                    "0": "Colleen",
                                    "1": "Yuan",
                                    "2": "13",
                                    "3": "6820.17"
                                },
                                {
                                    "0": "Corey",
                                    "1": "Yuan",
                                    "2": "10",
                                    "3": "10039.10"
                                },
                                {
                                    "0": "Cristina",
                                    "1": "Yuan",
                                    "2": "4",
                                    "3": "538.47"
                                },
                                {
                                    "0": "Dawn",
                                    "1": "Yuan",
                                    "2": "5",
                                    "3": "5019.55"
                                },
                                {
                                    "0": "Derek",
                                    "1": "Yuan",
                                    "2": "5",
                                    "3": "493.00"
                                },
                                {
                                    "0": "Franklin",
                                    "1": "Yuan",
                                    "2": "7",
                                    "3": "2156.00"
                                },
                                {
                                    "0": "Gregory",
                                    "1": "Yuan",
                                    "2": "10",
                                    "3": "1792.00"
                                },
                                {
                                    "0": "Jaclyn",
                                    "1": "Yuan",
                                    "2": "9",
                                    "3": "12089.91"
                                },
                                {
                                    "0": "Jerry",
                                    "1": "Yuan",
                                    "2": "4",
                                    "3": "2159.96"
                                },
                                {
                                    "0": "Johnny",
                                    "1": "Yuan",
                                    "2": "2",
                                    "3": "145.20"
                                },
                                {
                                    "0": "Jon",
                                    "1": "Yuan",
                                    "2": "18",
                                    "3": "2147.82"
                                },
                                {
                                    "0": "Kara",
                                    "1": "Yuan",
                                    "2": "15",
                                    "3": "7149.50"
                                },
                                {
                                    "0": "Karl",
                                    "1": "Yuan",
                                    "2": "1",
                                    "3": "2.29"
                                },
                                {
                                    "0": "Kate",
                                    "1": "Yuan",
                                    "2": "17",
                                    "3": "13060.80"
                                },
                                {
                                    "0": "Katie",
                                    "1": "Yuan",
                                    "2": "4",
                                    "3": "3131.96"
                                },
                                {
                                    "0": "Katrina",
                                    "1": "Yuan",
                                    "2": "10",
                                    "3": "23840.70"
                                },
                                {
                                    "0": "Kelvin",
                                    "1": "Yuan",
                                    "2": "12",
                                    "3": "2907.18"
                                },
                                {
                                    "0": "Latoya",
                                    "1": "Yuan",
                                    "2": "14",
                                    "3": "26405.76"
                                },
                                {
                                    "0": "Maurice",
                                    "1": "Yuan",
                                    "2": "9",
                                    "3": "8823.00"
                                },
                                {
                                    "0": "Michele",
                                    "1": "Yuan",
                                    "2": "10",
                                    "3": "2450.10"
                                },
                                {
                                    "0": "Misty",
                                    "1": "Yuan",
                                    "2": "9",
                                    "3": "10175.38"
                                },
                                {
                                    "0": "Nuan",
                                    "1": "Yuan",
                                    "2": "3",
                                    "3": "133.62"
                                },
                                {
                                    "0": "Roger",
                                    "1": "Yuan",
                                    "2": "10",
                                    "3": "8063.60"
                                },
                                {
                                    "0": "Tara",
                                    "1": "Yuan",
                                    "2": "5",
                                    "3": "4256.00"
                                },
                                {
                                    "0": "Terrence",
                                    "1": "Yuan",
                                    "2": "7",
                                    "3": "2441.32"
                                },
                                {
                                    "0": "Terry",
                                    "1": "Yuan",
                                    "2": "7",
                                    "3": "599.20"
                                },
                                {
                                    "0": "Tracy",
                                    "1": "Yuan",
                                    "2": "7",
                                    "3": "745.50"
                                },
                                {
                                    "0": "Warren",
                                    "1": "Yuan",
                                    "2": "10",
                                    "3": "5455.55"
                                },
                                {
                                    "0": "Willie",
                                    "1": "Yuan",
                                    "2": "12",
                                    "3": "1494.24"
                                },
                                {
                                    "0": "Yolanda",
                                    "1": "Yuan",
                                    "2": "9",
                                    "3": "3000.78"
                                },
                                {
                                    "0": "Ian",
                                    "1": "Yuhasz",
                                    "2": "10",
                                    "3": "10039.10"
                                },
                                {
                                    "0": "Gary",
                                    "1": "Yukish",
                                    "2": "9",
                                    "3": "21990.15"
                                }
                            ]
                        },
                        "text/html": [
                            "<table>",
                            "<tr><th>FirstName</th><th>LastName</th><th>TotalQuantity</th><th>TotalSpent</th></tr>",
                            "<tr><td>Aaron</td><td>Yang</td><td>10</td><td>18362.40</td></tr>",
                            "<tr><td>Alisha</td><td>Yang</td><td>10</td><td>6234.99</td></tr>",
                            "<tr><td>Alvin</td><td>Yang</td><td>7</td><td>349.93</td></tr>",
                            "<tr><td>Bianca</td><td>Yang</td><td>10</td><td>0.00</td></tr>",
                            "<tr><td>Brent</td><td>Yang</td><td>8</td><td>1568.00</td></tr>",
                            "<tr><td>Cameron</td><td>Yang</td><td>1</td><td>1079.99</td></tr>",
                            "<tr><td>Clayton</td><td>Yang</td><td>2</td><td>1079.98</td></tr>",
                            "<tr><td>Colin</td><td>Yang</td><td>11</td><td>10162.69</td></tr>",
                            "<tr><td>Colleen</td><td>Yang</td><td>2</td><td>123.84</td></tr>",
                            "<tr><td>Connor</td><td>Yang</td><td>20</td><td>11751.38</td></tr>",
                            "<tr><td>Crystal</td><td>Yang</td><td>4</td><td>1320.24</td></tr>",
                            "<tr><td>Darryl</td><td>Yang</td><td>12</td><td>684.52</td></tr>",
                            "<tr><td>David</td><td>Yang</td><td>9</td><td>12883.50</td></tr>",
                            "<tr><td>Dennis</td><td>Yang</td><td>2</td><td>292.80</td></tr>",
                            "<tr><td>Edwin</td><td>Yang</td><td>8</td><td>4481.96</td></tr>",
                            "<tr><td>Ethan</td><td>Yang</td><td>7</td><td>16064.93</td></tr>",
                            "<tr><td>Eugene</td><td>Yang</td><td>6</td><td>3290.40</td></tr>",
                            "<tr><td>Gabriel</td><td>Yang</td><td>12</td><td>6886.80</td></tr>",
                            "<tr><td>Gilbert</td><td>Yang</td><td>25</td><td>6424.76</td></tr>",
                            "<tr><td>Heather</td><td>Yang</td><td>7</td><td>5196.45</td></tr>",
                            "<tr><td>Jack</td><td>Yang</td><td>7</td><td>0.00</td></tr>",
                            "<tr><td>Jackson</td><td>Yang</td><td>2</td><td>2429.70</td></tr>",
                            "<tr><td>Jaclyn</td><td>Yang</td><td>11</td><td>11711.25</td></tr>",
                            "<tr><td>Jake</td><td>Yang</td><td>3</td><td>0.00</td></tr>",
                            "<tr><td>Jason</td><td>Yang</td><td>9</td><td>12883.50</td></tr>",
                            "<tr><td>Jenny</td><td>Yang</td><td>4</td><td>2969.40</td></tr>",
                            "<tr><td>Jessie</td><td>Yang</td><td>9</td><td>565.35</td></tr>",
                            "<tr><td>Jonathan</td><td>Yang</td><td>14</td><td>1396.39</td></tr>",
                            "<tr><td>Jose</td><td>Yang</td><td>4</td><td>248.36</td></tr>",
                            "<tr><td>Justin</td><td>Yang</td><td>7</td><td>2360.54</td></tr>",
                            "<tr><td>Kelvin</td><td>Yang</td><td>18</td><td>1294.74</td></tr>",
                            "<tr><td>Krystal</td><td>Yang</td><td>10</td><td>635.00</td></tr>",
                            "<tr><td>Kyle</td><td>Yang</td><td>7</td><td>2834.93</td></tr>",
                            "<tr><td>Lacey</td><td>Yang</td><td>10</td><td>3107.96</td></tr>",
                            "<tr><td>Leah</td><td>Yang</td><td>17</td><td>12807.48</td></tr>",
                            "<tr><td>Logan</td><td>Yang</td><td>11</td><td>6213.41</td></tr>",
                            "<tr><td>Louis</td><td>Yang</td><td>4</td><td>2887.20</td></tr>",
                            "<tr><td>Luis</td><td>Yang</td><td>9</td><td>12883.50</td></tr>",
                            "<tr><td>Luke</td><td>Yang</td><td>7</td><td>23624.93</td></tr>",
                            "<tr><td>Marshall</td><td>Yang</td><td>12</td><td>472.38</td></tr>",
                            "<tr><td>Martha</td><td>Yang</td><td>4</td><td>13599.96</td></tr>",
                            "<tr><td>Micah</td><td>Yang</td><td>4</td><td>1333.68</td></tr>",
                            "<tr><td>Nathan</td><td>Yang</td><td>9</td><td>6925.41</td></tr>",
                            "<tr><td>Noah</td><td>Yang</td><td>6</td><td>3239.94</td></tr>",
                            "<tr><td>Omar</td><td>Yang</td><td>2</td><td>4639.98</td></tr>",
                            "<tr><td>Rafael</td><td>Yang</td><td>12</td><td>1143.60</td></tr>",
                            "<tr><td>Ramon</td><td>Yang</td><td>1</td><td>9.50</td></tr>",
                            "<tr><td>Randy</td><td>Yang</td><td>10</td><td>11464.47</td></tr>",
                            "<tr><td>Robert</td><td>Yang</td><td>3</td><td>149.97</td></tr>",
                            "<tr><td>Roger</td><td>Yang</td><td>9</td><td>7046.91</td></tr>",
                            "<tr><td>Rosa</td><td>Yang</td><td>6</td><td>234.84</td></tr>",
                            "<tr><td>Samuel</td><td>Yang</td><td>6</td><td>3542.40</td></tr>",
                            "<tr><td>Sandra</td><td>Yang</td><td>25</td><td>16869.53</td></tr>",
                            "<tr><td>Shannon</td><td>Yang</td><td>2</td><td>338.40</td></tr>",
                            "<tr><td>Stacey</td><td>Yang</td><td>9</td><td>0.00</td></tr>",
                            "<tr><td>Steve</td><td>Yang</td><td>19</td><td>11091.94</td></tr>",
                            "<tr><td>Susan</td><td>Yang</td><td>8</td><td>10796.80</td></tr>",
                            "<tr><td>Suzanne</td><td>Yang</td><td>27</td><td>10729.38</td></tr>",
                            "<tr><td>Tamara</td><td>Yang</td><td>1</td><td>196.92</td></tr>",
                            "<tr><td>Thomas</td><td>Yang</td><td>3</td><td>7152.21</td></tr>",
                            "<tr><td>Tiffany</td><td>Yang</td><td>9</td><td>5084.91</td></tr>",
                            "<tr><td>Valerie</td><td>Yang</td><td>3</td><td>2227.05</td></tr>",
                            "<tr><td>Warren</td><td>Yang</td><td>7</td><td>3116.40</td></tr>",
                            "<tr><td>Zachary</td><td>Yang</td><td>1</td><td>27.12</td></tr>",
                            "<tr><td>Arthur</td><td>Yasinski</td><td>7</td><td>534.80</td></tr>",
                            "<tr><td>Alan</td><td>Ye</td><td>10</td><td>1453.82</td></tr>",
                            "<tr><td>Alejandro</td><td>Ye</td><td>6</td><td>8097.60</td></tr>",
                            "<tr><td>Alisha</td><td>Ye</td><td>6</td><td>149.94</td></tr>",
                            "<tr><td>Alvin</td><td>Ye</td><td>10</td><td>17721.08</td></tr>",
                            "<tr><td>Barbara</td><td>Ye</td><td>6</td><td>4697.94</td></tr>",
                            "<tr><td>Brittney</td><td>Ye</td><td>10</td><td>499.90</td></tr>",
                            "<tr><td>Candice</td><td>Ye</td><td>2</td><td>2863.00</td></tr>",
                            "<tr><td>Cara</td><td>Ye</td><td>7</td><td>66.50</td></tr>",
                            "<tr><td>Cedric</td><td>Ye</td><td>4</td><td>6803.96</td></tr>",
                            "<tr><td>Christy</td><td>Ye</td><td>5</td><td>189.95</td></tr>",
                            "<tr><td>Damien</td><td>Ye</td><td>9</td><td>8058.99</td></tr>",
                            "<tr><td>Dawn</td><td>Ye</td><td>1</td><td>64.80</td></tr>",
                            "<tr><td>Edwin</td><td>Ye</td><td>11</td><td>1462.07</td></tr>",
                            "<tr><td>Gilbert</td><td>Ye</td><td>9</td><td>225.00</td></tr>",
                            "<tr><td>Jaclyn</td><td>Ye</td><td>5</td><td>1045.36</td></tr>",
                            "<tr><td>Jamie</td><td>Ye</td><td>8</td><td>6469.50</td></tr>",
                            "<tr><td>Jessie</td><td>Ye</td><td>7</td><td>3531.50</td></tr>",
                            "<tr><td>Jon</td><td>Ye</td><td>10</td><td>10039.10</td></tr>",
                            "<tr><td>Jorge</td><td>Ye</td><td>5</td><td>2656.00</td></tr>",
                            "<tr><td>Karen</td><td>Ye</td><td>14</td><td>1525.20</td></tr>",
                            "<tr><td>Kelli</td><td>Ye</td><td>10</td><td>3334.20</td></tr>",
                            "<tr><td>Louis</td><td>Ye</td><td>13</td><td>18816.68</td></tr>",
                            "<tr><td>Mandy</td><td>Ye</td><td>6</td><td>381.00</td></tr>",
                            "<tr><td>Margaret</td><td>Ye</td><td>6</td><td>6722.94</td></tr>",
                            "<tr><td>Marshall</td><td>Ye</td><td>3</td><td>65.94</td></tr>",
                            "<tr><td>Martha</td><td>Ye</td><td>11</td><td>8403.99</td></tr>",
                            "<tr><td>Omar</td><td>Ye</td><td>6</td><td>20249.94</td></tr>",
                            "<tr><td>Rafael</td><td>Ye</td><td>15</td><td>7829.90</td></tr>",
                            "<tr><td>Ramon</td><td>Ye</td><td>4</td><td>1670.40</td></tr>",
                            "<tr><td>Randy</td><td>Ye</td><td>10</td><td>5649.90</td></tr>",
                            "<tr><td>Roger</td><td>Ye</td><td>11</td><td>11675.94</td></tr>",
                            "<tr><td>Sandra</td><td>Ye</td><td>11</td><td>1011.66</td></tr>",
                            "<tr><td>Shannon</td><td>Ye</td><td>1</td><td>0.00</td></tr>",
                            "<tr><td>Stacey</td><td>Ye</td><td>17</td><td>21496.51</td></tr>",
                            "<tr><td>Susan</td><td>Ye</td><td>3</td><td>1656.00</td></tr>",
                            "<tr><td>Trisha</td><td>Ye</td><td>9</td><td>85.50</td></tr>",
                            "<tr><td>Valerie</td><td>Ye</td><td>9</td><td>4687.20</td></tr>",
                            "<tr><td>Vincent</td><td>Ye</td><td>10</td><td>25047.89</td></tr>",
                            "<tr><td>Warren</td><td>Ye</td><td>8</td><td>175.84</td></tr>",
                            "<tr><td>Willie</td><td>Ye</td><td>1</td><td>170.00</td></tr>",
                            "<tr><td>Tai</td><td>Yee</td><td>4</td><td>1400.00</td></tr>",
                            "<tr><td>Norimichi</td><td>Yonekura</td><td>13</td><td>4166.40</td></tr>",
                            "<tr><td>Adam</td><td>Young</td><td>6</td><td>2383.20</td></tr>",
                            "<tr><td>Alexandra</td><td>Young</td><td>3</td><td>507.60</td></tr>",
                            "<tr><td>Amanda</td><td>Young</td><td>25</td><td>5880.72</td></tr>",
                            "<tr><td>Andrea</td><td>Young</td><td>4</td><td>0.00</td></tr>",
                            "<tr><td>Angel</td><td>Young</td><td>10</td><td>17009.90</td></tr>",
                            "<tr><td>Bailey</td><td>Young</td><td>3</td><td>222.00</td></tr>",
                            "<tr><td>Blake</td><td>Young</td><td>7</td><td>0.00</td></tr>",
                            "<tr><td>Courtney</td><td>Young</td><td>8</td><td>0.00</td></tr>",
                            "<tr><td>Dalton</td><td>Young</td><td>9</td><td>920.61</td></tr>",
                            "<tr><td>Devin</td><td>Young</td><td>7</td><td>5480.93</td></tr>",
                            "<tr><td>Edward</td><td>Young</td><td>10</td><td>3109.75</td></tr>",
                            "<tr><td>Elijah</td><td>Young</td><td>1</td><td>1349.60</td></tr>",
                            "<tr><td>Gabriel</td><td>Young</td><td>9</td><td>3138.84</td></tr>",
                            "<tr><td>Gabriella</td><td>Young</td><td>10</td><td>8298.00</td></tr>",
                            "<tr><td>Garrett</td><td>Young</td><td>5</td><td>0.00</td></tr>",
                            "<tr><td>Ian</td><td>Young</td><td>7</td><td>840.00</td></tr>",
                            "<tr><td>James</td><td>Young</td><td>7</td><td>3711.75</td></tr>",
                            "<tr><td>Janet</td><td>Young</td><td>13</td><td>34014.87</td></tr>",
                            "<tr><td>Jason</td><td>Young</td><td>10</td><td>764.00</td></tr>",
                            "<tr><td>Jenna</td><td>Young</td><td>7</td><td>5386.43</td></tr>",
                            "<tr><td>Jesse</td><td>Young</td><td>2</td><td>4639.98</td></tr>",
                            "<tr><td>Jonathan</td><td>Young</td><td>12</td><td>403.26</td></tr>",
                            "<tr><td>Jordan</td><td>Young</td><td>13</td><td>26999.92</td></tr>",
                            "<tr><td>Jose</td><td>Young</td><td>7</td><td>0.00</td></tr>",
                            "<tr><td>Julia</td><td>Young</td><td>7</td><td>0.00</td></tr>",
                            "<tr><td>Katelyn</td><td>Young</td><td>27</td><td>14432.62</td></tr>",
                            "<tr><td>Katherine</td><td>Young</td><td>4</td><td>0.00</td></tr>",
                            "<tr><td>Kaylee</td><td>Young</td><td>14</td><td>3082.80</td></tr>",
                            "<tr><td>Kyle</td><td>Young</td><td>7</td><td>2636.39</td></tr>",
                            "<tr><td>Mackenzie</td><td>Young</td><td>6</td><td>99.56</td></tr>",
                            "<tr><td>Madeline</td><td>Young</td><td>1</td><td>133.34</td></tr>",
                            "<tr><td>Marcus</td><td>Young</td><td>8</td><td>5972.10</td></tr>",
                            "<tr><td>Miguel</td><td>Young</td><td>11</td><td>1080.80</td></tr>",
                            "<tr><td>Natalie</td><td>Young</td><td>6</td><td>948.00</td></tr>",
                            "<tr><td>Nathan</td><td>Young</td><td>7</td><td>10205.93</td></tr>",
                            "<tr><td>Richard</td><td>Young</td><td>11</td><td>3965.10</td></tr>",
                            "<tr><td>Rob</td><td>Young</td><td>12</td><td>1627.90</td></tr>",
                            "<tr><td>Savannah</td><td>Young</td><td>7</td><td>3124.80</td></tr>",
                            "<tr><td>Sierra</td><td>Young</td><td>2</td><td>2240.98</td></tr>",
                            "<tr><td>Stephanie</td><td>Young</td><td>7</td><td>3948.00</td></tr>",
                            "<tr><td>Thomas</td><td>Young</td><td>9</td><td>3131.96</td></tr>",
                            "<tr><td>Timothy</td><td>Young</td><td>12</td><td>3053.76</td></tr>",
                            "<tr><td>Wyatt</td><td>Young</td><td>5</td><td>2322.00</td></tr>",
                            "<tr><td>Xavier</td><td>Young</td><td>12</td><td>12506.40</td></tr>",
                            "<tr><td>Tom</td><td>Youtsey</td><td>10</td><td>5399.90</td></tr>",
                            "<tr><td>Nuan</td><td>Yu</td><td>1</td><td>1431.50</td></tr>",
                            "<tr><td>Alisha</td><td>Yuan</td><td>20</td><td>10164.04</td></tr>",
                            "<tr><td>Alison</td><td>Yuan</td><td>15</td><td>35963.89</td></tr>",
                            "<tr><td>Alvin</td><td>Yuan</td><td>20</td><td>22859.35</td></tr>",
                            "<tr><td>Barbara</td><td>Yuan</td><td>6</td><td>2505.60</td></tr>",
                            "<tr><td>Bethany</td><td>Yuan</td><td>8</td><td>2552.00</td></tr>",
                            "<tr><td>Brad</td><td>Yuan</td><td>8</td><td>0.00</td></tr>",
                            "<tr><td>Bradley</td><td>Yuan</td><td>3</td><td>990.18</td></tr>",
                            "<tr><td>Brendan</td><td>Yuan</td><td>23</td><td>2012.24</td></tr>",
                            "<tr><td>Calvin</td><td>Yuan</td><td>18</td><td>18325.32</td></tr>",
                            "<tr><td>Carl</td><td>Yuan</td><td>5</td><td>124.95</td></tr>",
                            "<tr><td>Casey</td><td>Yuan</td><td>4</td><td>0.00</td></tr>",
                            "<tr><td>Cedric</td><td>Yuan</td><td>8</td><td>1414.40</td></tr>",
                            "<tr><td>Christine</td><td>Yuan</td><td>12</td><td>496.92</td></tr>",
                            "<tr><td>Clarence</td><td>Yuan</td><td>6</td><td>2000.52</td></tr>",
                            "<tr><td>Colleen</td><td>Yuan</td><td>13</td><td>6820.17</td></tr>",
                            "<tr><td>Corey</td><td>Yuan</td><td>10</td><td>10039.10</td></tr>",
                            "<tr><td>Cristina</td><td>Yuan</td><td>4</td><td>538.47</td></tr>",
                            "<tr><td>Dawn</td><td>Yuan</td><td>5</td><td>5019.55</td></tr>",
                            "<tr><td>Derek</td><td>Yuan</td><td>5</td><td>493.00</td></tr>",
                            "<tr><td>Franklin</td><td>Yuan</td><td>7</td><td>2156.00</td></tr>",
                            "<tr><td>Gregory</td><td>Yuan</td><td>10</td><td>1792.00</td></tr>",
                            "<tr><td>Jaclyn</td><td>Yuan</td><td>9</td><td>12089.91</td></tr>",
                            "<tr><td>Jerry</td><td>Yuan</td><td>4</td><td>2159.96</td></tr>",
                            "<tr><td>Johnny</td><td>Yuan</td><td>2</td><td>145.20</td></tr>",
                            "<tr><td>Jon</td><td>Yuan</td><td>18</td><td>2147.82</td></tr>",
                            "<tr><td>Kara</td><td>Yuan</td><td>15</td><td>7149.50</td></tr>",
                            "<tr><td>Karl</td><td>Yuan</td><td>1</td><td>2.29</td></tr>",
                            "<tr><td>Kate</td><td>Yuan</td><td>17</td><td>13060.80</td></tr>",
                            "<tr><td>Katie</td><td>Yuan</td><td>4</td><td>3131.96</td></tr>",
                            "<tr><td>Katrina</td><td>Yuan</td><td>10</td><td>23840.70</td></tr>",
                            "<tr><td>Kelvin</td><td>Yuan</td><td>12</td><td>2907.18</td></tr>",
                            "<tr><td>Latoya</td><td>Yuan</td><td>14</td><td>26405.76</td></tr>",
                            "<tr><td>Maurice</td><td>Yuan</td><td>9</td><td>8823.00</td></tr>",
                            "<tr><td>Michele</td><td>Yuan</td><td>10</td><td>2450.10</td></tr>",
                            "<tr><td>Misty</td><td>Yuan</td><td>9</td><td>10175.38</td></tr>",
                            "<tr><td>Nuan</td><td>Yuan</td><td>3</td><td>133.62</td></tr>",
                            "<tr><td>Roger</td><td>Yuan</td><td>10</td><td>8063.60</td></tr>",
                            "<tr><td>Tara</td><td>Yuan</td><td>5</td><td>4256.00</td></tr>",
                            "<tr><td>Terrence</td><td>Yuan</td><td>7</td><td>2441.32</td></tr>",
                            "<tr><td>Terry</td><td>Yuan</td><td>7</td><td>599.20</td></tr>",
                            "<tr><td>Tracy</td><td>Yuan</td><td>7</td><td>745.50</td></tr>",
                            "<tr><td>Warren</td><td>Yuan</td><td>10</td><td>5455.55</td></tr>",
                            "<tr><td>Willie</td><td>Yuan</td><td>12</td><td>1494.24</td></tr>",
                            "<tr><td>Yolanda</td><td>Yuan</td><td>9</td><td>3000.78</td></tr>",
                            "<tr><td>Ian</td><td>Yuhasz</td><td>10</td><td>10039.10</td></tr>",
                            "<tr><td>Gary</td><td>Yukish</td><td>9</td><td>21990.15</td></tr>",
                            "</table>"
                        ]
                    }
                }
            ],
            "execution_count": 3
        },
        {
            "cell_type": "markdown",
            "source": [
                "You would receive a list of all the consumers along with information on how many things they collectively bought and how much money they collectively spent. Then, you might examine this information to determine which clients are the most devoted and which are the most lucrative.  \n",
                "\n",
                "  \n",
                "\n",
                "You might be able to find any problems or suggestions for the company based on the answers to these queries. For instance, you can suggest that the company discontinue some products or change their pricing strategy if you discover that they are not selling well or are only bringing in a small amount of money. Similar to this, if you notice that some consumers are making large purchases or spending a lot of money, you might suggest that the company develop loyalty programmes or other measures to entice those customers to keep doing business with the company."
            ],
            "metadata": {
                "azdata_cell_guid": "e3940146-6a0a-4c2a-907d-4af816c9df07"
            },
            "attachments": {}
        }
    ]
}