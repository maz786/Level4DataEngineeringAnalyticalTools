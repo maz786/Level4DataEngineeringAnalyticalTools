{
    "metadata": {
        "kernelspec": {
            "name": "SQL",
            "display_name": "SQL",
            "language": "sql"
        },
        "language_info": {
            "name": "sql",
            "version": ""
        }
    },
    "nbformat_minor": 2,
    "nbformat": 4,
    "cells": [
        {
            "cell_type": "markdown",
            "source": [
                "**<u>This will provide you with a list of products with a price higher than 50 along with the overall number of sales and average price for each product, all organised by product name.</u>**"
            ],
            "metadata": {
                "azdata_cell_guid": "0d3b4742-5bdf-4703-8f27-9256ac2ae38e"
            },
            "attachments": {}
        },
        {
            "cell_type": "code",
            "source": [
                "SELECT Products.Name, SUM(Sales.Quantity) as TotalQuantity, AVG(Products.Price) as AveragePrice\n",
                "FROM Sales\n",
                "INNER JOIN Products ON Sales.ProductID = Products.ProductID\n",
                "WHERE Products.Price > 50\n",
                "GROUP BY Products.Name "
            ],
            "metadata": {
                "azdata_cell_guid": "02b7e394-c998-4f9f-a941-e9588fdc02ca",
                "language": "sql"
            },
            "outputs": [
                {
                    "output_type": "display_data",
                    "data": {
                        "text/html": "(179 rows affected)"
                    },
                    "metadata": {}
                },
                {
                    "output_type": "display_data",
                    "data": {
                        "text/html": "Total execution time: 00:00:00.035"
                    },
                    "metadata": {}
                },
                {
                    "output_type": "execute_result",
                    "execution_count": 1,
                    "data": {
                        "application/vnd.dataresource+json": {
                            "schema": {
                                "fields": [
                                    {
                                        "name": "Name"
                                    },
                                    {
                                        "name": "TotalQuantity"
                                    },
                                    {
                                        "name": "AveragePrice"
                                    }
                                ]
                            },
                            "data": [
                                {
                                    "0": "Blade",
                                    "1": "1",
                                    "2": "189.60"
                                },
                                {
                                    "0": "Chain Stays",
                                    "1": "4",
                                    "2": "64.80"
                                },
                                {
                                    "0": "Chainring",
                                    "1": "10",
                                    "2": "193.20"
                                },
                                {
                                    "0": "Classic Vest M",
                                    "1": "16",
                                    "2": "63.50"
                                },
                                {
                                    "0": "Cone-Shaped Race",
                                    "1": "1",
                                    "2": "909.00"
                                },
                                {
                                    "0": "Decal 2",
                                    "1": "7",
                                    "2": "130.40"
                                },
                                {
                                    "0": "Flat Washer 5",
                                    "1": "16",
                                    "2": "417.60"
                                },
                                {
                                    "0": "Fork Crown",
                                    "1": "10",
                                    "2": "350.00"
                                },
                                {
                                    "0": "Fork End",
                                    "1": "16",
                                    "2": "397.20"
                                },
                                {
                                    "0": "Freewheel",
                                    "1": "5",
                                    "2": "531.20"
                                },
                                {
                                    "0": "Front Brakes",
                                    "1": "7",
                                    "2": "106.50"
                                },
                                {
                                    "0": "Front Derailleur",
                                    "1": "2",
                                    "2": "91.49"
                                },
                                {
                                    "0": "Guide Pulley",
                                    "1": "6",
                                    "2": "568.00"
                                },
                                {
                                    "0": "Handlebar Tube",
                                    "1": "17",
                                    "2": "636.80"
                                },
                                {
                                    "0": "Hex Nut 10",
                                    "1": "5",
                                    "2": "464.40"
                                },
                                {
                                    "0": "Hex Nut 17",
                                    "1": "9",
                                    "2": "151.20"
                                },
                                {
                                    "0": "Hex Nut 19",
                                    "1": "10",
                                    "2": "476.40"
                                },
                                {
                                    "0": "Hex Nut 20",
                                    "1": "3",
                                    "2": "78.00"
                                },
                                {
                                    "0": "Hex Nut 22",
                                    "1": "17",
                                    "2": "76.40"
                                },
                                {
                                    "0": "Hex Nut 4",
                                    "1": "18",
                                    "2": "158.00"
                                },
                                {
                                    "0": "Hex Nut 6",
                                    "1": "5",
                                    "2": "225.60"
                                },
                                {
                                    "0": "Hex Nut 8",
                                    "1": "5",
                                    "2": "152.00"
                                },
                                {
                                    "0": "Hex Nut 9",
                                    "1": "2",
                                    "2": "152.40"
                                },
                                {
                                    "0": "Hitch Rack - 4-Bike",
                                    "1": "10",
                                    "2": "120.00"
                                },
                                {
                                    "0": "HL Bottom Bracket",
                                    "1": "6",
                                    "2": "121.49"
                                },
                                {
                                    "0": "HL Crankarm",
                                    "1": "8",
                                    "2": "319.00"
                                },
                                {
                                    "0": "HL Crankset",
                                    "1": "7",
                                    "2": "404.99"
                                },
                                {
                                    "0": "HL Headset",
                                    "1": "15",
                                    "2": "124.73"
                                },
                                {
                                    "0": "HL Hub",
                                    "1": "4",
                                    "2": "721.80"
                                },
                                {
                                    "0": "HL Mountain Frame - Black 42",
                                    "1": "1",
                                    "2": "1349.60"
                                },
                                {
                                    "0": "HL Mountain Frame - Black 44",
                                    "1": "6",
                                    "2": "1349.60"
                                },
                                {
                                    "0": "HL Mountain Frame - Black 46",
                                    "1": "24",
                                    "2": "1349.60"
                                },
                                {
                                    "0": "HL Mountain Frame - Silver 44",
                                    "1": "14",
                                    "2": "1364.50"
                                },
                                {
                                    "0": "HL Mountain Handlebars",
                                    "1": "6",
                                    "2": "120.27"
                                },
                                {
                                    "0": "HL Mountain Seat Assembly",
                                    "1": "10",
                                    "2": "196.92"
                                },
                                {
                                    "0": "HL Nipple",
                                    "1": "6",
                                    "2": "196.40"
                                },
                                {
                                    "0": "HL Road Frame - Black 44",
                                    "1": "13",
                                    "2": "1431.50"
                                },
                                {
                                    "0": "HL Road Frame - Black 52",
                                    "1": "7",
                                    "2": "1431.50"
                                },
                                {
                                    "0": "HL Road Frame - Black 58",
                                    "1": "2",
                                    "2": "1431.50"
                                },
                                {
                                    "0": "HL Road Frame - Red 44",
                                    "1": "2",
                                    "2": "1431.50"
                                },
                                {
                                    "0": "HL Road Frame - Red 48",
                                    "1": "6",
                                    "2": "1431.50"
                                },
                                {
                                    "0": "HL Road Frame - Red 52",
                                    "1": "9",
                                    "2": "1431.50"
                                },
                                {
                                    "0": "HL Road Frame - Red 58",
                                    "1": "9",
                                    "2": "1431.50"
                                },
                                {
                                    "0": "HL Road Front Wheel",
                                    "1": "7",
                                    "2": "330.06"
                                },
                                {
                                    "0": "HL Road Handlebars",
                                    "1": "5",
                                    "2": "120.27"
                                },
                                {
                                    "0": "HL Shell",
                                    "1": "8",
                                    "2": "105.20"
                                },
                                {
                                    "0": "HL Touring Frame - Blue 46",
                                    "1": "5",
                                    "2": "1003.91"
                                },
                                {
                                    "0": "HL Touring Frame - Blue 54",
                                    "1": "1",
                                    "2": "1003.91"
                                },
                                {
                                    "0": "HL Touring Frame - Blue 60",
                                    "1": "10",
                                    "2": "1003.91"
                                },
                                {
                                    "0": "HL Touring Frame - Yellow 46",
                                    "1": "16",
                                    "2": "1003.91"
                                },
                                {
                                    "0": "HL Touring Frame - Yellow 54",
                                    "1": "4",
                                    "2": "1003.91"
                                },
                                {
                                    "0": "HL Touring Frame - Yellow 60",
                                    "1": "14",
                                    "2": "1003.91"
                                },
                                {
                                    "0": "Internal Lock Washer 6",
                                    "1": "9",
                                    "2": "500.40"
                                },
                                {
                                    "0": "LL Fork",
                                    "1": "2",
                                    "2": "148.22"
                                },
                                {
                                    "0": "LL Mountain Frame - Black 52",
                                    "1": "4",
                                    "2": "249.79"
                                },
                                {
                                    "0": "LL Mountain Frame - Silver 42",
                                    "1": "10",
                                    "2": "264.05"
                                },
                                {
                                    "0": "LL Mountain Rim",
                                    "1": "10",
                                    "2": "608.40"
                                },
                                {
                                    "0": "LL Nipple",
                                    "1": "8",
                                    "2": "196.00"
                                },
                                {
                                    "0": "LL Road Frame - Black 52",
                                    "1": "15",
                                    "2": "337.22"
                                },
                                {
                                    "0": "LL Road Frame - Red 52",
                                    "1": "3",
                                    "2": "337.22"
                                },
                                {
                                    "0": "LL Road Frame - Red 62",
                                    "1": "9",
                                    "2": "337.22"
                                },
                                {
                                    "0": "LL Road Front Wheel",
                                    "1": "8",
                                    "2": "85.565"
                                },
                                {
                                    "0": "LL Road Rear Wheel",
                                    "1": "8",
                                    "2": "112.565"
                                },
                                {
                                    "0": "LL Road Seat Assembly",
                                    "1": "2",
                                    "2": "133.34"
                                },
                                {
                                    "0": "LL Shell",
                                    "1": "9",
                                    "2": "630.00"
                                },
                                {
                                    "0": "LL Spindle/Axle",
                                    "1": "1",
                                    "2": "418.40"
                                },
                                {
                                    "0": "LL Touring Frame - Blue 58",
                                    "1": "10",
                                    "2": "333.42"
                                },
                                {
                                    "0": "LL Touring Frame - Blue 62",
                                    "1": "6",
                                    "2": "333.42"
                                },
                                {
                                    "0": "LL Touring Frame - Yellow 58",
                                    "1": "13",
                                    "2": "333.42"
                                },
                                {
                                    "0": "LL Touring Seat Assembly",
                                    "1": "1",
                                    "2": "133.34"
                                },
                                {
                                    "0": "Lock Nut 13",
                                    "1": "10",
                                    "2": "179.20"
                                },
                                {
                                    "0": "Lock Nut 15",
                                    "1": "6",
                                    "2": "548.40"
                                },
                                {
                                    "0": "Lock Nut 18",
                                    "1": "15",
                                    "2": "552.00"
                                },
                                {
                                    "0": "Lock Nut 22",
                                    "1": "14",
                                    "2": "89.00"
                                },
                                {
                                    "0": "Lock Nut 6",
                                    "1": "8",
                                    "2": "263.40"
                                },
                                {
                                    "0": "Lock Nut 7",
                                    "1": "8",
                                    "2": "176.80"
                                },
                                {
                                    "0": "Lock Ring",
                                    "1": "20",
                                    "2": "829.80"
                                },
                                {
                                    "0": "Lock Washer 7",
                                    "1": "7",
                                    "2": "564.00"
                                },
                                {
                                    "0": "Mens Sports Shorts L",
                                    "1": "3",
                                    "2": "59.99"
                                },
                                {
                                    "0": "Metal Bar 1",
                                    "1": "1",
                                    "2": "190.80"
                                },
                                {
                                    "0": "Metal Bar 2",
                                    "1": "9",
                                    "2": "573.60"
                                },
                                {
                                    "0": "Metal Plate 2",
                                    "1": "3",
                                    "2": "574.80"
                                },
                                {
                                    "0": "Metal Sheet 1",
                                    "1": "5",
                                    "2": "585.60"
                                },
                                {
                                    "0": "Metal Sheet 2",
                                    "1": "2",
                                    "2": "482.00"
                                },
                                {
                                    "0": "Metal Sheet 5",
                                    "1": "2",
                                    "2": "388.80"
                                },
                                {
                                    "0": "Metal Sheet 6",
                                    "1": "6",
                                    "2": "389.60"
                                },
                                {
                                    "0": "Metal Sheet 7",
                                    "1": "7",
                                    "2": "774.40"
                                },
                                {
                                    "0": "ML Headset",
                                    "1": "12",
                                    "2": "102.29"
                                },
                                {
                                    "0": "ML Mountain Frame - Black 38",
                                    "1": "5",
                                    "2": "348.76"
                                },
                                {
                                    "0": "ML Mountain Frame - Black 48",
                                    "1": "16",
                                    "2": "348.76"
                                },
                                {
                                    "0": "ML Mountain Frame-W - Silver 38",
                                    "1": "4",
                                    "2": "364.09"
                                },
                                {
                                    "0": "ML Mountain Frame-W - Silver 46",
                                    "1": "2",
                                    "2": "364.09"
                                },
                                {
                                    "0": "ML Mountain Handlebars",
                                    "1": "2",
                                    "2": "61.92"
                                },
                                {
                                    "0": "ML Mountain Rim",
                                    "1": "2",
                                    "2": "914.40"
                                },
                                {
                                    "0": "ML Road Frame - Red 58",
                                    "1": "10",
                                    "2": "594.83"
                                },
                                {
                                    "0": "ML Road Frame-W - Yellow 42",
                                    "1": "5",
                                    "2": "594.83"
                                },
                                {
                                    "0": "ML Road Handlebars",
                                    "1": "8",
                                    "2": "61.92"
                                },
                                {
                                    "0": "ML Road Pedal",
                                    "1": "4",
                                    "2": "62.09"
                                },
                                {
                                    "0": "ML Touring Seat Assembly",
                                    "1": "2",
                                    "2": "147.14"
                                },
                                {
                                    "0": "Mountain End Caps",
                                    "1": "12",
                                    "2": "590.40"
                                },
                                {
                                    "0": "Mountain-100 Black 38",
                                    "1": "7",
                                    "2": "3374.99"
                                },
                                {
                                    "0": "Mountain-100 Black 42",
                                    "1": "8",
                                    "2": "3374.99"
                                },
                                {
                                    "0": "Mountain-100 Black 48",
                                    "1": "6",
                                    "2": "3374.99"
                                },
                                {
                                    "0": "Mountain-100 Silver 38",
                                    "1": "14",
                                    "2": "3399.99"
                                },
                                {
                                    "0": "Mountain-200 Black 38",
                                    "1": "16",
                                    "2": "2294.99"
                                },
                                {
                                    "0": "Mountain-200 Silver 38",
                                    "1": "2",
                                    "2": "2319.99"
                                },
                                {
                                    "0": "Mountain-200 Silver 42",
                                    "1": "2",
                                    "2": "2319.99"
                                },
                                {
                                    "0": "Mountain-200 Silver 46",
                                    "1": "1",
                                    "2": "2319.99"
                                },
                                {
                                    "0": "Mountain-300 Black 40",
                                    "1": "1",
                                    "2": "1079.99"
                                },
                                {
                                    "0": "Mountain-300 Black 48",
                                    "1": "10",
                                    "2": "1079.99"
                                },
                                {
                                    "0": "Mountain-400-W Silver 42",
                                    "1": "7",
                                    "2": "769.49"
                                },
                                {
                                    "0": "Mountain-400-W Silver 46",
                                    "1": "16",
                                    "2": "769.49"
                                },
                                {
                                    "0": "Mountain-500 Black 40",
                                    "1": "8",
                                    "2": "539.99"
                                },
                                {
                                    "0": "Mountain-500 Black 52",
                                    "1": "10",
                                    "2": "539.99"
                                },
                                {
                                    "0": "Mountain-500 Silver 42",
                                    "1": "15",
                                    "2": "564.99"
                                },
                                {
                                    "0": "Mountain-500 Silver 44",
                                    "1": "8",
                                    "2": "564.99"
                                },
                                {
                                    "0": "Mountain-500 Silver 48",
                                    "1": "18",
                                    "2": "564.99"
                                },
                                {
                                    "0": "Mountain-500 Silver 52",
                                    "1": "1",
                                    "2": "564.99"
                                },
                                {
                                    "0": "Paint - Black",
                                    "1": "1",
                                    "2": "688.80"
                                },
                                {
                                    "0": "Paint - Red",
                                    "1": "5",
                                    "2": "98.60"
                                },
                                {
                                    "0": "Rear Derailleur Cage",
                                    "1": "6",
                                    "2": "1222.20"
                                },
                                {
                                    "0": "Road-150 Red 44",
                                    "1": "11",
                                    "2": "3578.27"
                                },
                                {
                                    "0": "Road-150 Red 48",
                                    "1": "12",
                                    "2": "3578.27"
                                },
                                {
                                    "0": "Road-150 Red 52",
                                    "1": "7",
                                    "2": "3578.27"
                                },
                                {
                                    "0": "Road-250 Red 44",
                                    "1": "7",
                                    "2": "2443.35"
                                },
                                {
                                    "0": "Road-250 Red 48",
                                    "1": "9",
                                    "2": "2443.35"
                                },
                                {
                                    "0": "Road-350-W Yellow 40",
                                    "1": "14",
                                    "2": "1700.99"
                                },
                                {
                                    "0": "Road-350-W Yellow 42",
                                    "1": "7",
                                    "2": "1700.99"
                                },
                                {
                                    "0": "Road-350-W Yellow 48",
                                    "1": "2",
                                    "2": "1700.99"
                                },
                                {
                                    "0": "Road-450 Red 44",
                                    "1": "1",
                                    "2": "1457.99"
                                },
                                {
                                    "0": "Road-450 Red 48",
                                    "1": "2",
                                    "2": "1457.99"
                                },
                                {
                                    "0": "Road-450 Red 52",
                                    "1": "13",
                                    "2": "1457.99"
                                },
                                {
                                    "0": "Road-550-W Yellow 38",
                                    "1": "9",
                                    "2": "1120.49"
                                },
                                {
                                    "0": "Road-550-W Yellow 40",
                                    "1": "2",
                                    "2": "1120.49"
                                },
                                {
                                    "0": "Road-550-W Yellow 42",
                                    "1": "6",
                                    "2": "1120.49"
                                },
                                {
                                    "0": "Road-550-W Yellow 44",
                                    "1": "4",
                                    "2": "1120.49"
                                },
                                {
                                    "0": "Road-650 Black 44",
                                    "1": "6",
                                    "2": "782.99"
                                },
                                {
                                    "0": "Road-650 Black 48",
                                    "1": "4",
                                    "2": "782.99"
                                },
                                {
                                    "0": "Road-650 Black 58",
                                    "1": "9",
                                    "2": "782.99"
                                },
                                {
                                    "0": "Road-650 Red 44",
                                    "1": "2",
                                    "2": "782.99"
                                },
                                {
                                    "0": "Road-650 Red 48",
                                    "1": "7",
                                    "2": "782.99"
                                },
                                {
                                    "0": "Road-650 Red 58",
                                    "1": "4",
                                    "2": "782.99"
                                },
                                {
                                    "0": "Road-650 Red 62",
                                    "1": "14",
                                    "2": "782.99"
                                },
                                {
                                    "0": "Road-750 Black 52",
                                    "1": "8",
                                    "2": "539.99"
                                },
                                {
                                    "0": "Seat Stays",
                                    "1": "5",
                                    "2": "851.20"
                                },
                                {
                                    "0": "Seat Tube",
                                    "1": "2",
                                    "2": "213.20"
                                },
                                {
                                    "0": "Short-Sleeve Classic Jersey S",
                                    "1": "6",
                                    "2": "53.99"
                                },
                                {
                                    "0": "Spokes",
                                    "1": "9",
                                    "2": "843.20"
                                },
                                {
                                    "0": "Thin-Jam Hex Nut 1",
                                    "1": "8",
                                    "2": "144.40"
                                },
                                {
                                    "0": "Thin-Jam Hex Nut 10",
                                    "1": "14",
                                    "2": "144.00"
                                },
                                {
                                    "0": "Thin-Jam Hex Nut 14",
                                    "1": "3",
                                    "2": "74.00"
                                },
                                {
                                    "0": "Thin-Jam Hex Nut 15",
                                    "1": "2",
                                    "2": "72.60"
                                },
                                {
                                    "0": "Thin-Jam Hex Nut 3",
                                    "1": "7",
                                    "2": "440.40"
                                },
                                {
                                    "0": "Thin-Jam Hex Nut 6",
                                    "1": "12",
                                    "2": "146.40"
                                },
                                {
                                    "0": "Thin-Jam Hex Nut 7",
                                    "1": "7",
                                    "2": "445.20"
                                },
                                {
                                    "0": "Thin-Jam Hex Nut 8",
                                    "1": "10",
                                    "2": "446.40"
                                },
                                {
                                    "0": "Thin-Jam Lock Nut 10",
                                    "1": "6",
                                    "2": "169.20"
                                },
                                {
                                    "0": "Thin-Jam Lock Nut 12",
                                    "1": "7",
                                    "2": "697.60"
                                },
                                {
                                    "0": "Thin-Jam Lock Nut 16",
                                    "1": "8",
                                    "2": "85.40"
                                },
                                {
                                    "0": "Thin-Jam Lock Nut 2",
                                    "1": "1",
                                    "2": "170.00"
                                },
                                {
                                    "0": "Thin-Jam Lock Nut 5",
                                    "1": "7",
                                    "2": "85.60"
                                },
                                {
                                    "0": "Thin-Jam Lock Nut 7",
                                    "1": "9",
                                    "2": "520.80"
                                },
                                {
                                    "0": "Thin-Jam Lock Nut 9",
                                    "1": "9",
                                    "2": "84.40"
                                },
                                {
                                    "0": "Touring Rear Wheel",
                                    "1": "10",
                                    "2": "245.01"
                                },
                                {
                                    "0": "Touring-1000 Blue 50",
                                    "1": "10",
                                    "2": "2384.07"
                                },
                                {
                                    "0": "Touring-1000 Blue 54",
                                    "1": "8",
                                    "2": "2384.07"
                                },
                                {
                                    "0": "Touring-1000 Blue 60",
                                    "1": "4",
                                    "2": "2384.07"
                                },
                                {
                                    "0": "Touring-1000 Yellow 46",
                                    "1": "3",
                                    "2": "2384.07"
                                },
                                {
                                    "0": "Touring-2000 Blue 46",
                                    "1": "9",
                                    "2": "1214.85"
                                },
                                {
                                    "0": "Touring-2000 Blue 50",
                                    "1": "5",
                                    "2": "1214.85"
                                },
                                {
                                    "0": "Touring-2000 Blue 54",
                                    "1": "9",
                                    "2": "1214.85"
                                },
                                {
                                    "0": "Touring-3000 Blue 44",
                                    "1": "5",
                                    "2": "742.35"
                                },
                                {
                                    "0": "Touring-3000 Blue 62",
                                    "1": "9",
                                    "2": "742.35"
                                },
                                {
                                    "0": "Touring-3000 Yellow 44",
                                    "1": "9",
                                    "2": "742.35"
                                },
                                {
                                    "0": "Touring-3000 Yellow 54",
                                    "1": "10",
                                    "2": "742.35"
                                },
                                {
                                    "0": "Touring-Panniers Large",
                                    "1": "4",
                                    "2": "125.00"
                                },
                                {
                                    "0": "Womens Mountain Shorts L",
                                    "1": "1",
                                    "2": "69.99"
                                },
                                {
                                    "0": "Womens Mountain Shorts M",
                                    "1": "6",
                                    "2": "69.99"
                                },
                                {
                                    "0": "Womens Tights L",
                                    "1": "1",
                                    "2": "74.99"
                                }
                            ]
                        },
                        "text/html": "<table><tr><th>Name</th><th>TotalQuantity</th><th>AveragePrice</th></tr><tr><td>Blade</td><td>1</td><td>189.60</td></tr><tr><td>Chain Stays</td><td>4</td><td>64.80</td></tr><tr><td>Chainring</td><td>10</td><td>193.20</td></tr><tr><td>Classic Vest M</td><td>16</td><td>63.50</td></tr><tr><td>Cone-Shaped Race</td><td>1</td><td>909.00</td></tr><tr><td>Decal 2</td><td>7</td><td>130.40</td></tr><tr><td>Flat Washer 5</td><td>16</td><td>417.60</td></tr><tr><td>Fork Crown</td><td>10</td><td>350.00</td></tr><tr><td>Fork End</td><td>16</td><td>397.20</td></tr><tr><td>Freewheel</td><td>5</td><td>531.20</td></tr><tr><td>Front Brakes</td><td>7</td><td>106.50</td></tr><tr><td>Front Derailleur</td><td>2</td><td>91.49</td></tr><tr><td>Guide Pulley</td><td>6</td><td>568.00</td></tr><tr><td>Handlebar Tube</td><td>17</td><td>636.80</td></tr><tr><td>Hex Nut 10</td><td>5</td><td>464.40</td></tr><tr><td>Hex Nut 17</td><td>9</td><td>151.20</td></tr><tr><td>Hex Nut 19</td><td>10</td><td>476.40</td></tr><tr><td>Hex Nut 20</td><td>3</td><td>78.00</td></tr><tr><td>Hex Nut 22</td><td>17</td><td>76.40</td></tr><tr><td>Hex Nut 4</td><td>18</td><td>158.00</td></tr><tr><td>Hex Nut 6</td><td>5</td><td>225.60</td></tr><tr><td>Hex Nut 8</td><td>5</td><td>152.00</td></tr><tr><td>Hex Nut 9</td><td>2</td><td>152.40</td></tr><tr><td>Hitch Rack - 4-Bike</td><td>10</td><td>120.00</td></tr><tr><td>HL Bottom Bracket</td><td>6</td><td>121.49</td></tr><tr><td>HL Crankarm</td><td>8</td><td>319.00</td></tr><tr><td>HL Crankset</td><td>7</td><td>404.99</td></tr><tr><td>HL Headset</td><td>15</td><td>124.73</td></tr><tr><td>HL Hub</td><td>4</td><td>721.80</td></tr><tr><td>HL Mountain Frame - Black 42</td><td>1</td><td>1349.60</td></tr><tr><td>HL Mountain Frame - Black 44</td><td>6</td><td>1349.60</td></tr><tr><td>HL Mountain Frame - Black 46</td><td>24</td><td>1349.60</td></tr><tr><td>HL Mountain Frame - Silver 44</td><td>14</td><td>1364.50</td></tr><tr><td>HL Mountain Handlebars</td><td>6</td><td>120.27</td></tr><tr><td>HL Mountain Seat Assembly</td><td>10</td><td>196.92</td></tr><tr><td>HL Nipple</td><td>6</td><td>196.40</td></tr><tr><td>HL Road Frame - Black 44</td><td>13</td><td>1431.50</td></tr><tr><td>HL Road Frame - Black 52</td><td>7</td><td>1431.50</td></tr><tr><td>HL Road Frame - Black 58</td><td>2</td><td>1431.50</td></tr><tr><td>HL Road Frame - Red 44</td><td>2</td><td>1431.50</td></tr><tr><td>HL Road Frame - Red 48</td><td>6</td><td>1431.50</td></tr><tr><td>HL Road Frame - Red 52</td><td>9</td><td>1431.50</td></tr><tr><td>HL Road Frame - Red 58</td><td>9</td><td>1431.50</td></tr><tr><td>HL Road Front Wheel</td><td>7</td><td>330.06</td></tr><tr><td>HL Road Handlebars</td><td>5</td><td>120.27</td></tr><tr><td>HL Shell</td><td>8</td><td>105.20</td></tr><tr><td>HL Touring Frame - Blue 46</td><td>5</td><td>1003.91</td></tr><tr><td>HL Touring Frame - Blue 54</td><td>1</td><td>1003.91</td></tr><tr><td>HL Touring Frame - Blue 60</td><td>10</td><td>1003.91</td></tr><tr><td>HL Touring Frame - Yellow 46</td><td>16</td><td>1003.91</td></tr><tr><td>HL Touring Frame - Yellow 54</td><td>4</td><td>1003.91</td></tr><tr><td>HL Touring Frame - Yellow 60</td><td>14</td><td>1003.91</td></tr><tr><td>Internal Lock Washer 6</td><td>9</td><td>500.40</td></tr><tr><td>LL Fork</td><td>2</td><td>148.22</td></tr><tr><td>LL Mountain Frame - Black 52</td><td>4</td><td>249.79</td></tr><tr><td>LL Mountain Frame - Silver 42</td><td>10</td><td>264.05</td></tr><tr><td>LL Mountain Rim</td><td>10</td><td>608.40</td></tr><tr><td>LL Nipple</td><td>8</td><td>196.00</td></tr><tr><td>LL Road Frame - Black 52</td><td>15</td><td>337.22</td></tr><tr><td>LL Road Frame - Red 52</td><td>3</td><td>337.22</td></tr><tr><td>LL Road Frame - Red 62</td><td>9</td><td>337.22</td></tr><tr><td>LL Road Front Wheel</td><td>8</td><td>85.565</td></tr><tr><td>LL Road Rear Wheel</td><td>8</td><td>112.565</td></tr><tr><td>LL Road Seat Assembly</td><td>2</td><td>133.34</td></tr><tr><td>LL Shell</td><td>9</td><td>630.00</td></tr><tr><td>LL Spindle/Axle</td><td>1</td><td>418.40</td></tr><tr><td>LL Touring Frame - Blue 58</td><td>10</td><td>333.42</td></tr><tr><td>LL Touring Frame - Blue 62</td><td>6</td><td>333.42</td></tr><tr><td>LL Touring Frame - Yellow 58</td><td>13</td><td>333.42</td></tr><tr><td>LL Touring Seat Assembly</td><td>1</td><td>133.34</td></tr><tr><td>Lock Nut 13</td><td>10</td><td>179.20</td></tr><tr><td>Lock Nut 15</td><td>6</td><td>548.40</td></tr><tr><td>Lock Nut 18</td><td>15</td><td>552.00</td></tr><tr><td>Lock Nut 22</td><td>14</td><td>89.00</td></tr><tr><td>Lock Nut 6</td><td>8</td><td>263.40</td></tr><tr><td>Lock Nut 7</td><td>8</td><td>176.80</td></tr><tr><td>Lock Ring</td><td>20</td><td>829.80</td></tr><tr><td>Lock Washer 7</td><td>7</td><td>564.00</td></tr><tr><td>Mens Sports Shorts L</td><td>3</td><td>59.99</td></tr><tr><td>Metal Bar 1</td><td>1</td><td>190.80</td></tr><tr><td>Metal Bar 2</td><td>9</td><td>573.60</td></tr><tr><td>Metal Plate 2</td><td>3</td><td>574.80</td></tr><tr><td>Metal Sheet 1</td><td>5</td><td>585.60</td></tr><tr><td>Metal Sheet 2</td><td>2</td><td>482.00</td></tr><tr><td>Metal Sheet 5</td><td>2</td><td>388.80</td></tr><tr><td>Metal Sheet 6</td><td>6</td><td>389.60</td></tr><tr><td>Metal Sheet 7</td><td>7</td><td>774.40</td></tr><tr><td>ML Headset</td><td>12</td><td>102.29</td></tr><tr><td>ML Mountain Frame - Black 38</td><td>5</td><td>348.76</td></tr><tr><td>ML Mountain Frame - Black 48</td><td>16</td><td>348.76</td></tr><tr><td>ML Mountain Frame-W - Silver 38</td><td>4</td><td>364.09</td></tr><tr><td>ML Mountain Frame-W - Silver 46</td><td>2</td><td>364.09</td></tr><tr><td>ML Mountain Handlebars</td><td>2</td><td>61.92</td></tr><tr><td>ML Mountain Rim</td><td>2</td><td>914.40</td></tr><tr><td>ML Road Frame - Red 58</td><td>10</td><td>594.83</td></tr><tr><td>ML Road Frame-W - Yellow 42</td><td>5</td><td>594.83</td></tr><tr><td>ML Road Handlebars</td><td>8</td><td>61.92</td></tr><tr><td>ML Road Pedal</td><td>4</td><td>62.09</td></tr><tr><td>ML Touring Seat Assembly</td><td>2</td><td>147.14</td></tr><tr><td>Mountain End Caps</td><td>12</td><td>590.40</td></tr><tr><td>Mountain-100 Black 38</td><td>7</td><td>3374.99</td></tr><tr><td>Mountain-100 Black 42</td><td>8</td><td>3374.99</td></tr><tr><td>Mountain-100 Black 48</td><td>6</td><td>3374.99</td></tr><tr><td>Mountain-100 Silver 38</td><td>14</td><td>3399.99</td></tr><tr><td>Mountain-200 Black 38</td><td>16</td><td>2294.99</td></tr><tr><td>Mountain-200 Silver 38</td><td>2</td><td>2319.99</td></tr><tr><td>Mountain-200 Silver 42</td><td>2</td><td>2319.99</td></tr><tr><td>Mountain-200 Silver 46</td><td>1</td><td>2319.99</td></tr><tr><td>Mountain-300 Black 40</td><td>1</td><td>1079.99</td></tr><tr><td>Mountain-300 Black 48</td><td>10</td><td>1079.99</td></tr><tr><td>Mountain-400-W Silver 42</td><td>7</td><td>769.49</td></tr><tr><td>Mountain-400-W Silver 46</td><td>16</td><td>769.49</td></tr><tr><td>Mountain-500 Black 40</td><td>8</td><td>539.99</td></tr><tr><td>Mountain-500 Black 52</td><td>10</td><td>539.99</td></tr><tr><td>Mountain-500 Silver 42</td><td>15</td><td>564.99</td></tr><tr><td>Mountain-500 Silver 44</td><td>8</td><td>564.99</td></tr><tr><td>Mountain-500 Silver 48</td><td>18</td><td>564.99</td></tr><tr><td>Mountain-500 Silver 52</td><td>1</td><td>564.99</td></tr><tr><td>Paint - Black</td><td>1</td><td>688.80</td></tr><tr><td>Paint - Red</td><td>5</td><td>98.60</td></tr><tr><td>Rear Derailleur Cage</td><td>6</td><td>1222.20</td></tr><tr><td>Road-150 Red 44</td><td>11</td><td>3578.27</td></tr><tr><td>Road-150 Red 48</td><td>12</td><td>3578.27</td></tr><tr><td>Road-150 Red 52</td><td>7</td><td>3578.27</td></tr><tr><td>Road-250 Red 44</td><td>7</td><td>2443.35</td></tr><tr><td>Road-250 Red 48</td><td>9</td><td>2443.35</td></tr><tr><td>Road-350-W Yellow 40</td><td>14</td><td>1700.99</td></tr><tr><td>Road-350-W Yellow 42</td><td>7</td><td>1700.99</td></tr><tr><td>Road-350-W Yellow 48</td><td>2</td><td>1700.99</td></tr><tr><td>Road-450 Red 44</td><td>1</td><td>1457.99</td></tr><tr><td>Road-450 Red 48</td><td>2</td><td>1457.99</td></tr><tr><td>Road-450 Red 52</td><td>13</td><td>1457.99</td></tr><tr><td>Road-550-W Yellow 38</td><td>9</td><td>1120.49</td></tr><tr><td>Road-550-W Yellow 40</td><td>2</td><td>1120.49</td></tr><tr><td>Road-550-W Yellow 42</td><td>6</td><td>1120.49</td></tr><tr><td>Road-550-W Yellow 44</td><td>4</td><td>1120.49</td></tr><tr><td>Road-650 Black 44</td><td>6</td><td>782.99</td></tr><tr><td>Road-650 Black 48</td><td>4</td><td>782.99</td></tr><tr><td>Road-650 Black 58</td><td>9</td><td>782.99</td></tr><tr><td>Road-650 Red 44</td><td>2</td><td>782.99</td></tr><tr><td>Road-650 Red 48</td><td>7</td><td>782.99</td></tr><tr><td>Road-650 Red 58</td><td>4</td><td>782.99</td></tr><tr><td>Road-650 Red 62</td><td>14</td><td>782.99</td></tr><tr><td>Road-750 Black 52</td><td>8</td><td>539.99</td></tr><tr><td>Seat Stays</td><td>5</td><td>851.20</td></tr><tr><td>Seat Tube</td><td>2</td><td>213.20</td></tr><tr><td>Short-Sleeve Classic Jersey S</td><td>6</td><td>53.99</td></tr><tr><td>Spokes</td><td>9</td><td>843.20</td></tr><tr><td>Thin-Jam Hex Nut 1</td><td>8</td><td>144.40</td></tr><tr><td>Thin-Jam Hex Nut 10</td><td>14</td><td>144.00</td></tr><tr><td>Thin-Jam Hex Nut 14</td><td>3</td><td>74.00</td></tr><tr><td>Thin-Jam Hex Nut 15</td><td>2</td><td>72.60</td></tr><tr><td>Thin-Jam Hex Nut 3</td><td>7</td><td>440.40</td></tr><tr><td>Thin-Jam Hex Nut 6</td><td>12</td><td>146.40</td></tr><tr><td>Thin-Jam Hex Nut 7</td><td>7</td><td>445.20</td></tr><tr><td>Thin-Jam Hex Nut 8</td><td>10</td><td>446.40</td></tr><tr><td>Thin-Jam Lock Nut 10</td><td>6</td><td>169.20</td></tr><tr><td>Thin-Jam Lock Nut 12</td><td>7</td><td>697.60</td></tr><tr><td>Thin-Jam Lock Nut 16</td><td>8</td><td>85.40</td></tr><tr><td>Thin-Jam Lock Nut 2</td><td>1</td><td>170.00</td></tr><tr><td>Thin-Jam Lock Nut 5</td><td>7</td><td>85.60</td></tr><tr><td>Thin-Jam Lock Nut 7</td><td>9</td><td>520.80</td></tr><tr><td>Thin-Jam Lock Nut 9</td><td>9</td><td>84.40</td></tr><tr><td>Touring Rear Wheel</td><td>10</td><td>245.01</td></tr><tr><td>Touring-1000 Blue 50</td><td>10</td><td>2384.07</td></tr><tr><td>Touring-1000 Blue 54</td><td>8</td><td>2384.07</td></tr><tr><td>Touring-1000 Blue 60</td><td>4</td><td>2384.07</td></tr><tr><td>Touring-1000 Yellow 46</td><td>3</td><td>2384.07</td></tr><tr><td>Touring-2000 Blue 46</td><td>9</td><td>1214.85</td></tr><tr><td>Touring-2000 Blue 50</td><td>5</td><td>1214.85</td></tr><tr><td>Touring-2000 Blue 54</td><td>9</td><td>1214.85</td></tr><tr><td>Touring-3000 Blue 44</td><td>5</td><td>742.35</td></tr><tr><td>Touring-3000 Blue 62</td><td>9</td><td>742.35</td></tr><tr><td>Touring-3000 Yellow 44</td><td>9</td><td>742.35</td></tr><tr><td>Touring-3000 Yellow 54</td><td>10</td><td>742.35</td></tr><tr><td>Touring-Panniers Large</td><td>4</td><td>125.00</td></tr><tr><td>Womens Mountain Shorts L</td><td>1</td><td>69.99</td></tr><tr><td>Womens Mountain Shorts M</td><td>6</td><td>69.99</td></tr><tr><td>Womens Tights L</td><td>1</td><td>74.99</td></tr></table>"
                    },
                    "metadata": {}
                }
            ],
            "execution_count": 1
        },
        {
            "cell_type": "markdown",
            "source": [
                "You can use the given query to get a breakdown of sales by product, especially for items with a price higher than $50. Both the overall sales volume and the typical price for each item are displayed.\n",
                "\n",
                "  \n",
                "\n",
                "You must adjust the query to include a filter for only bike products, such as frames and mountain bikes, in order to respond to the report's first request, which is to indicate how sales on the bike product category (frames and mountain) are performing. In the WHERE clause, you can achieve this by including a condition like WHERE clause, like WHERE Products. Name IN ('Frame', 'Mountain Bike').\n",
                "\n",
                "  \n",
                "\n",
                "The query you gave is adequate to respond to the report's second request, which asks for a breakdown of sales by product. It will provide the overall sales volume and the typical price for each item with a price higher than 50.\n",
                "\n",
                "  \n",
                "\n",
                "You must use the Customers and Sales databases to fulfil the third report request, which is to provide statistics on customer loyalty. To accomplish this, run a query that connects the Sales and Customers tables, groups the results by customer, and returns the results. For instance:"
            ],
            "metadata": {
                "azdata_cell_guid": "7c4de924-a970-4dc1-b395-afa68ffa819a"
            },
            "attachments": {}
        },
        {
            "cell_type": "code",
            "source": [
                "SELECT Customers.FirstName, Customers.LastName, SUM(Sales.Quantity) as TotalQuantity\n",
                "FROM Customers\n",
                "INNER JOIN Sales ON Customers.CustomerID = Sales.CustomerID\n",
                "GROUP BY Customers.FirstName, Customers.LastName"
            ],
            "metadata": {
                "azdata_cell_guid": "bb9449f0-0010-4cae-8ebe-386f9a42067d",
                "language": "sql"
            },
            "outputs": [
                {
                    "output_type": "display_data",
                    "data": {
                        "text/html": "(199 rows affected)"
                    },
                    "metadata": {}
                },
                {
                    "output_type": "display_data",
                    "data": {
                        "text/html": "Total execution time: 00:00:00.115"
                    },
                    "metadata": {}
                },
                {
                    "output_type": "execute_result",
                    "metadata": {},
                    "execution_count": 1,
                    "data": {
                        "application/vnd.dataresource+json": {
                            "schema": {
                                "fields": [
                                    {
                                        "name": "FirstName"
                                    },
                                    {
                                        "name": "LastName"
                                    },
                                    {
                                        "name": "TotalQuantity"
                                    }
                                ]
                            },
                            "data": [
                                {
                                    "0": "Aaron",
                                    "1": "Yang",
                                    "2": "10"
                                },
                                {
                                    "0": "Alisha",
                                    "1": "Yang",
                                    "2": "10"
                                },
                                {
                                    "0": "Alvin",
                                    "1": "Yang",
                                    "2": "7"
                                },
                                {
                                    "0": "Bianca",
                                    "1": "Yang",
                                    "2": "10"
                                },
                                {
                                    "0": "Brent",
                                    "1": "Yang",
                                    "2": "8"
                                },
                                {
                                    "0": "Cameron",
                                    "1": "Yang",
                                    "2": "1"
                                },
                                {
                                    "0": "Clayton",
                                    "1": "Yang",
                                    "2": "2"
                                },
                                {
                                    "0": "Colin",
                                    "1": "Yang",
                                    "2": "11"
                                },
                                {
                                    "0": "Colleen",
                                    "1": "Yang",
                                    "2": "2"
                                },
                                {
                                    "0": "Connor",
                                    "1": "Yang",
                                    "2": "20"
                                },
                                {
                                    "0": "Crystal",
                                    "1": "Yang",
                                    "2": "4"
                                },
                                {
                                    "0": "Darryl",
                                    "1": "Yang",
                                    "2": "12"
                                },
                                {
                                    "0": "David",
                                    "1": "Yang",
                                    "2": "9"
                                },
                                {
                                    "0": "Dennis",
                                    "1": "Yang",
                                    "2": "2"
                                },
                                {
                                    "0": "Edwin",
                                    "1": "Yang",
                                    "2": "8"
                                },
                                {
                                    "0": "Ethan",
                                    "1": "Yang",
                                    "2": "7"
                                },
                                {
                                    "0": "Eugene",
                                    "1": "Yang",
                                    "2": "6"
                                },
                                {
                                    "0": "Gabriel",
                                    "1": "Yang",
                                    "2": "12"
                                },
                                {
                                    "0": "Gilbert",
                                    "1": "Yang",
                                    "2": "25"
                                },
                                {
                                    "0": "Heather",
                                    "1": "Yang",
                                    "2": "7"
                                },
                                {
                                    "0": "Jack",
                                    "1": "Yang",
                                    "2": "7"
                                },
                                {
                                    "0": "Jackson",
                                    "1": "Yang",
                                    "2": "2"
                                },
                                {
                                    "0": "Jaclyn",
                                    "1": "Yang",
                                    "2": "11"
                                },
                                {
                                    "0": "Jake",
                                    "1": "Yang",
                                    "2": "3"
                                },
                                {
                                    "0": "Jason",
                                    "1": "Yang",
                                    "2": "9"
                                },
                                {
                                    "0": "Jenny",
                                    "1": "Yang",
                                    "2": "4"
                                },
                                {
                                    "0": "Jessie",
                                    "1": "Yang",
                                    "2": "9"
                                },
                                {
                                    "0": "Jonathan",
                                    "1": "Yang",
                                    "2": "14"
                                },
                                {
                                    "0": "Jose",
                                    "1": "Yang",
                                    "2": "4"
                                },
                                {
                                    "0": "Justin",
                                    "1": "Yang",
                                    "2": "7"
                                },
                                {
                                    "0": "Kelvin",
                                    "1": "Yang",
                                    "2": "18"
                                },
                                {
                                    "0": "Krystal",
                                    "1": "Yang",
                                    "2": "10"
                                },
                                {
                                    "0": "Kyle",
                                    "1": "Yang",
                                    "2": "7"
                                },
                                {
                                    "0": "Lacey",
                                    "1": "Yang",
                                    "2": "10"
                                },
                                {
                                    "0": "Leah",
                                    "1": "Yang",
                                    "2": "17"
                                },
                                {
                                    "0": "Logan",
                                    "1": "Yang",
                                    "2": "11"
                                },
                                {
                                    "0": "Louis",
                                    "1": "Yang",
                                    "2": "4"
                                },
                                {
                                    "0": "Luis",
                                    "1": "Yang",
                                    "2": "9"
                                },
                                {
                                    "0": "Luke",
                                    "1": "Yang",
                                    "2": "7"
                                },
                                {
                                    "0": "Marshall",
                                    "1": "Yang",
                                    "2": "12"
                                },
                                {
                                    "0": "Martha",
                                    "1": "Yang",
                                    "2": "4"
                                },
                                {
                                    "0": "Micah",
                                    "1": "Yang",
                                    "2": "4"
                                },
                                {
                                    "0": "Nathan",
                                    "1": "Yang",
                                    "2": "9"
                                },
                                {
                                    "0": "Noah",
                                    "1": "Yang",
                                    "2": "6"
                                },
                                {
                                    "0": "Omar",
                                    "1": "Yang",
                                    "2": "2"
                                },
                                {
                                    "0": "Rafael",
                                    "1": "Yang",
                                    "2": "12"
                                },
                                {
                                    "0": "Ramon",
                                    "1": "Yang",
                                    "2": "1"
                                },
                                {
                                    "0": "Randy",
                                    "1": "Yang",
                                    "2": "10"
                                },
                                {
                                    "0": "Robert",
                                    "1": "Yang",
                                    "2": "3"
                                },
                                {
                                    "0": "Roger",
                                    "1": "Yang",
                                    "2": "9"
                                },
                                {
                                    "0": "Rosa",
                                    "1": "Yang",
                                    "2": "6"
                                },
                                {
                                    "0": "Samuel",
                                    "1": "Yang",
                                    "2": "6"
                                },
                                {
                                    "0": "Sandra",
                                    "1": "Yang",
                                    "2": "25"
                                },
                                {
                                    "0": "Shannon",
                                    "1": "Yang",
                                    "2": "2"
                                },
                                {
                                    "0": "Stacey",
                                    "1": "Yang",
                                    "2": "9"
                                },
                                {
                                    "0": "Steve",
                                    "1": "Yang",
                                    "2": "19"
                                },
                                {
                                    "0": "Susan",
                                    "1": "Yang",
                                    "2": "8"
                                },
                                {
                                    "0": "Suzanne",
                                    "1": "Yang",
                                    "2": "27"
                                },
                                {
                                    "0": "Tamara",
                                    "1": "Yang",
                                    "2": "1"
                                },
                                {
                                    "0": "Thomas",
                                    "1": "Yang",
                                    "2": "3"
                                },
                                {
                                    "0": "Tiffany",
                                    "1": "Yang",
                                    "2": "9"
                                },
                                {
                                    "0": "Valerie",
                                    "1": "Yang",
                                    "2": "3"
                                },
                                {
                                    "0": "Warren",
                                    "1": "Yang",
                                    "2": "7"
                                },
                                {
                                    "0": "Zachary",
                                    "1": "Yang",
                                    "2": "1"
                                },
                                {
                                    "0": "Arthur",
                                    "1": "Yasinski",
                                    "2": "7"
                                },
                                {
                                    "0": "Alan",
                                    "1": "Ye",
                                    "2": "10"
                                },
                                {
                                    "0": "Alejandro",
                                    "1": "Ye",
                                    "2": "6"
                                },
                                {
                                    "0": "Alisha",
                                    "1": "Ye",
                                    "2": "6"
                                },
                                {
                                    "0": "Alvin",
                                    "1": "Ye",
                                    "2": "10"
                                },
                                {
                                    "0": "Barbara",
                                    "1": "Ye",
                                    "2": "6"
                                },
                                {
                                    "0": "Brittney",
                                    "1": "Ye",
                                    "2": "10"
                                },
                                {
                                    "0": "Candice",
                                    "1": "Ye",
                                    "2": "2"
                                },
                                {
                                    "0": "Cara",
                                    "1": "Ye",
                                    "2": "7"
                                },
                                {
                                    "0": "Cedric",
                                    "1": "Ye",
                                    "2": "4"
                                },
                                {
                                    "0": "Christy",
                                    "1": "Ye",
                                    "2": "5"
                                },
                                {
                                    "0": "Damien",
                                    "1": "Ye",
                                    "2": "9"
                                },
                                {
                                    "0": "Dawn",
                                    "1": "Ye",
                                    "2": "1"
                                },
                                {
                                    "0": "Edwin",
                                    "1": "Ye",
                                    "2": "11"
                                },
                                {
                                    "0": "Gilbert",
                                    "1": "Ye",
                                    "2": "9"
                                },
                                {
                                    "0": "Jaclyn",
                                    "1": "Ye",
                                    "2": "5"
                                },
                                {
                                    "0": "Jamie",
                                    "1": "Ye",
                                    "2": "8"
                                },
                                {
                                    "0": "Jessie",
                                    "1": "Ye",
                                    "2": "7"
                                },
                                {
                                    "0": "Jon",
                                    "1": "Ye",
                                    "2": "10"
                                },
                                {
                                    "0": "Jorge",
                                    "1": "Ye",
                                    "2": "5"
                                },
                                {
                                    "0": "Karen",
                                    "1": "Ye",
                                    "2": "14"
                                },
                                {
                                    "0": "Kelli",
                                    "1": "Ye",
                                    "2": "10"
                                },
                                {
                                    "0": "Louis",
                                    "1": "Ye",
                                    "2": "13"
                                },
                                {
                                    "0": "Mandy",
                                    "1": "Ye",
                                    "2": "6"
                                },
                                {
                                    "0": "Margaret",
                                    "1": "Ye",
                                    "2": "6"
                                },
                                {
                                    "0": "Marshall",
                                    "1": "Ye",
                                    "2": "3"
                                },
                                {
                                    "0": "Martha",
                                    "1": "Ye",
                                    "2": "11"
                                },
                                {
                                    "0": "Omar",
                                    "1": "Ye",
                                    "2": "6"
                                },
                                {
                                    "0": "Rafael",
                                    "1": "Ye",
                                    "2": "15"
                                },
                                {
                                    "0": "Ramon",
                                    "1": "Ye",
                                    "2": "4"
                                },
                                {
                                    "0": "Randy",
                                    "1": "Ye",
                                    "2": "10"
                                },
                                {
                                    "0": "Roger",
                                    "1": "Ye",
                                    "2": "11"
                                },
                                {
                                    "0": "Sandra",
                                    "1": "Ye",
                                    "2": "11"
                                },
                                {
                                    "0": "Shannon",
                                    "1": "Ye",
                                    "2": "1"
                                },
                                {
                                    "0": "Stacey",
                                    "1": "Ye",
                                    "2": "17"
                                },
                                {
                                    "0": "Susan",
                                    "1": "Ye",
                                    "2": "3"
                                },
                                {
                                    "0": "Trisha",
                                    "1": "Ye",
                                    "2": "9"
                                },
                                {
                                    "0": "Valerie",
                                    "1": "Ye",
                                    "2": "9"
                                },
                                {
                                    "0": "Vincent",
                                    "1": "Ye",
                                    "2": "10"
                                },
                                {
                                    "0": "Warren",
                                    "1": "Ye",
                                    "2": "8"
                                },
                                {
                                    "0": "Willie",
                                    "1": "Ye",
                                    "2": "1"
                                },
                                {
                                    "0": "Tai",
                                    "1": "Yee",
                                    "2": "4"
                                },
                                {
                                    "0": "Norimichi",
                                    "1": "Yonekura",
                                    "2": "13"
                                },
                                {
                                    "0": "Adam",
                                    "1": "Young",
                                    "2": "6"
                                },
                                {
                                    "0": "Alexandra",
                                    "1": "Young",
                                    "2": "3"
                                },
                                {
                                    "0": "Amanda",
                                    "1": "Young",
                                    "2": "25"
                                },
                                {
                                    "0": "Andrea",
                                    "1": "Young",
                                    "2": "4"
                                },
                                {
                                    "0": "Angel",
                                    "1": "Young",
                                    "2": "10"
                                },
                                {
                                    "0": "Bailey",
                                    "1": "Young",
                                    "2": "3"
                                },
                                {
                                    "0": "Blake",
                                    "1": "Young",
                                    "2": "7"
                                },
                                {
                                    "0": "Courtney",
                                    "1": "Young",
                                    "2": "8"
                                },
                                {
                                    "0": "Dalton",
                                    "1": "Young",
                                    "2": "9"
                                },
                                {
                                    "0": "Devin",
                                    "1": "Young",
                                    "2": "7"
                                },
                                {
                                    "0": "Edward",
                                    "1": "Young",
                                    "2": "10"
                                },
                                {
                                    "0": "Elijah",
                                    "1": "Young",
                                    "2": "1"
                                },
                                {
                                    "0": "Gabriel",
                                    "1": "Young",
                                    "2": "9"
                                },
                                {
                                    "0": "Gabriella",
                                    "1": "Young",
                                    "2": "10"
                                },
                                {
                                    "0": "Garrett",
                                    "1": "Young",
                                    "2": "5"
                                },
                                {
                                    "0": "Ian",
                                    "1": "Young",
                                    "2": "7"
                                },
                                {
                                    "0": "James",
                                    "1": "Young",
                                    "2": "7"
                                },
                                {
                                    "0": "Janet",
                                    "1": "Young",
                                    "2": "13"
                                },
                                {
                                    "0": "Jason",
                                    "1": "Young",
                                    "2": "10"
                                },
                                {
                                    "0": "Jenna",
                                    "1": "Young",
                                    "2": "7"
                                },
                                {
                                    "0": "Jesse",
                                    "1": "Young",
                                    "2": "2"
                                },
                                {
                                    "0": "Jonathan",
                                    "1": "Young",
                                    "2": "12"
                                },
                                {
                                    "0": "Jordan",
                                    "1": "Young",
                                    "2": "13"
                                },
                                {
                                    "0": "Jose",
                                    "1": "Young",
                                    "2": "7"
                                },
                                {
                                    "0": "Julia",
                                    "1": "Young",
                                    "2": "7"
                                },
                                {
                                    "0": "Katelyn",
                                    "1": "Young",
                                    "2": "27"
                                },
                                {
                                    "0": "Katherine",
                                    "1": "Young",
                                    "2": "4"
                                },
                                {
                                    "0": "Kaylee",
                                    "1": "Young",
                                    "2": "14"
                                },
                                {
                                    "0": "Kyle",
                                    "1": "Young",
                                    "2": "7"
                                },
                                {
                                    "0": "Mackenzie",
                                    "1": "Young",
                                    "2": "6"
                                },
                                {
                                    "0": "Madeline",
                                    "1": "Young",
                                    "2": "1"
                                },
                                {
                                    "0": "Marcus",
                                    "1": "Young",
                                    "2": "8"
                                },
                                {
                                    "0": "Miguel",
                                    "1": "Young",
                                    "2": "11"
                                },
                                {
                                    "0": "Natalie",
                                    "1": "Young",
                                    "2": "6"
                                },
                                {
                                    "0": "Nathan",
                                    "1": "Young",
                                    "2": "7"
                                },
                                {
                                    "0": "Richard",
                                    "1": "Young",
                                    "2": "11"
                                },
                                {
                                    "0": "Rob",
                                    "1": "Young",
                                    "2": "12"
                                },
                                {
                                    "0": "Savannah",
                                    "1": "Young",
                                    "2": "7"
                                },
                                {
                                    "0": "Sierra",
                                    "1": "Young",
                                    "2": "2"
                                },
                                {
                                    "0": "Stephanie",
                                    "1": "Young",
                                    "2": "7"
                                },
                                {
                                    "0": "Thomas",
                                    "1": "Young",
                                    "2": "9"
                                },
                                {
                                    "0": "Timothy",
                                    "1": "Young",
                                    "2": "12"
                                },
                                {
                                    "0": "Wyatt",
                                    "1": "Young",
                                    "2": "5"
                                },
                                {
                                    "0": "Xavier",
                                    "1": "Young",
                                    "2": "12"
                                },
                                {
                                    "0": "Tom",
                                    "1": "Youtsey",
                                    "2": "10"
                                },
                                {
                                    "0": "Nuan",
                                    "1": "Yu",
                                    "2": "1"
                                },
                                {
                                    "0": "Alisha",
                                    "1": "Yuan",
                                    "2": "20"
                                },
                                {
                                    "0": "Alison",
                                    "1": "Yuan",
                                    "2": "15"
                                },
                                {
                                    "0": "Alvin",
                                    "1": "Yuan",
                                    "2": "20"
                                },
                                {
                                    "0": "Barbara",
                                    "1": "Yuan",
                                    "2": "6"
                                },
                                {
                                    "0": "Bethany",
                                    "1": "Yuan",
                                    "2": "8"
                                },
                                {
                                    "0": "Brad",
                                    "1": "Yuan",
                                    "2": "8"
                                },
                                {
                                    "0": "Bradley",
                                    "1": "Yuan",
                                    "2": "3"
                                },
                                {
                                    "0": "Brendan",
                                    "1": "Yuan",
                                    "2": "23"
                                },
                                {
                                    "0": "Calvin",
                                    "1": "Yuan",
                                    "2": "18"
                                },
                                {
                                    "0": "Carl",
                                    "1": "Yuan",
                                    "2": "5"
                                },
                                {
                                    "0": "Casey",
                                    "1": "Yuan",
                                    "2": "4"
                                },
                                {
                                    "0": "Cedric",
                                    "1": "Yuan",
                                    "2": "8"
                                },
                                {
                                    "0": "Christine",
                                    "1": "Yuan",
                                    "2": "12"
                                },
                                {
                                    "0": "Clarence",
                                    "1": "Yuan",
                                    "2": "6"
                                },
                                {
                                    "0": "Colleen",
                                    "1": "Yuan",
                                    "2": "13"
                                },
                                {
                                    "0": "Corey",
                                    "1": "Yuan",
                                    "2": "10"
                                },
                                {
                                    "0": "Cristina",
                                    "1": "Yuan",
                                    "2": "4"
                                },
                                {
                                    "0": "Dawn",
                                    "1": "Yuan",
                                    "2": "5"
                                },
                                {
                                    "0": "Derek",
                                    "1": "Yuan",
                                    "2": "5"
                                },
                                {
                                    "0": "Franklin",
                                    "1": "Yuan",
                                    "2": "7"
                                },
                                {
                                    "0": "Gregory",
                                    "1": "Yuan",
                                    "2": "10"
                                },
                                {
                                    "0": "Jaclyn",
                                    "1": "Yuan",
                                    "2": "9"
                                },
                                {
                                    "0": "Jerry",
                                    "1": "Yuan",
                                    "2": "4"
                                },
                                {
                                    "0": "Johnny",
                                    "1": "Yuan",
                                    "2": "2"
                                },
                                {
                                    "0": "Jon",
                                    "1": "Yuan",
                                    "2": "18"
                                },
                                {
                                    "0": "Kara",
                                    "1": "Yuan",
                                    "2": "15"
                                },
                                {
                                    "0": "Karl",
                                    "1": "Yuan",
                                    "2": "1"
                                },
                                {
                                    "0": "Kate",
                                    "1": "Yuan",
                                    "2": "17"
                                },
                                {
                                    "0": "Katie",
                                    "1": "Yuan",
                                    "2": "4"
                                },
                                {
                                    "0": "Katrina",
                                    "1": "Yuan",
                                    "2": "10"
                                },
                                {
                                    "0": "Kelvin",
                                    "1": "Yuan",
                                    "2": "12"
                                },
                                {
                                    "0": "Latoya",
                                    "1": "Yuan",
                                    "2": "14"
                                },
                                {
                                    "0": "Maurice",
                                    "1": "Yuan",
                                    "2": "9"
                                },
                                {
                                    "0": "Michele",
                                    "1": "Yuan",
                                    "2": "10"
                                },
                                {
                                    "0": "Misty",
                                    "1": "Yuan",
                                    "2": "9"
                                },
                                {
                                    "0": "Nuan",
                                    "1": "Yuan",
                                    "2": "3"
                                },
                                {
                                    "0": "Roger",
                                    "1": "Yuan",
                                    "2": "10"
                                },
                                {
                                    "0": "Tara",
                                    "1": "Yuan",
                                    "2": "5"
                                },
                                {
                                    "0": "Terrence",
                                    "1": "Yuan",
                                    "2": "7"
                                },
                                {
                                    "0": "Terry",
                                    "1": "Yuan",
                                    "2": "7"
                                },
                                {
                                    "0": "Tracy",
                                    "1": "Yuan",
                                    "2": "7"
                                },
                                {
                                    "0": "Warren",
                                    "1": "Yuan",
                                    "2": "10"
                                },
                                {
                                    "0": "Willie",
                                    "1": "Yuan",
                                    "2": "12"
                                },
                                {
                                    "0": "Yolanda",
                                    "1": "Yuan",
                                    "2": "9"
                                },
                                {
                                    "0": "Ian",
                                    "1": "Yuhasz",
                                    "2": "10"
                                },
                                {
                                    "0": "Gary",
                                    "1": "Yukish",
                                    "2": "9"
                                }
                            ]
                        },
                        "text/html": [
                            "<table>",
                            "<tr><th>FirstName</th><th>LastName</th><th>TotalQuantity</th></tr>",
                            "<tr><td>Aaron</td><td>Yang</td><td>10</td></tr>",
                            "<tr><td>Alisha</td><td>Yang</td><td>10</td></tr>",
                            "<tr><td>Alvin</td><td>Yang</td><td>7</td></tr>",
                            "<tr><td>Bianca</td><td>Yang</td><td>10</td></tr>",
                            "<tr><td>Brent</td><td>Yang</td><td>8</td></tr>",
                            "<tr><td>Cameron</td><td>Yang</td><td>1</td></tr>",
                            "<tr><td>Clayton</td><td>Yang</td><td>2</td></tr>",
                            "<tr><td>Colin</td><td>Yang</td><td>11</td></tr>",
                            "<tr><td>Colleen</td><td>Yang</td><td>2</td></tr>",
                            "<tr><td>Connor</td><td>Yang</td><td>20</td></tr>",
                            "<tr><td>Crystal</td><td>Yang</td><td>4</td></tr>",
                            "<tr><td>Darryl</td><td>Yang</td><td>12</td></tr>",
                            "<tr><td>David</td><td>Yang</td><td>9</td></tr>",
                            "<tr><td>Dennis</td><td>Yang</td><td>2</td></tr>",
                            "<tr><td>Edwin</td><td>Yang</td><td>8</td></tr>",
                            "<tr><td>Ethan</td><td>Yang</td><td>7</td></tr>",
                            "<tr><td>Eugene</td><td>Yang</td><td>6</td></tr>",
                            "<tr><td>Gabriel</td><td>Yang</td><td>12</td></tr>",
                            "<tr><td>Gilbert</td><td>Yang</td><td>25</td></tr>",
                            "<tr><td>Heather</td><td>Yang</td><td>7</td></tr>",
                            "<tr><td>Jack</td><td>Yang</td><td>7</td></tr>",
                            "<tr><td>Jackson</td><td>Yang</td><td>2</td></tr>",
                            "<tr><td>Jaclyn</td><td>Yang</td><td>11</td></tr>",
                            "<tr><td>Jake</td><td>Yang</td><td>3</td></tr>",
                            "<tr><td>Jason</td><td>Yang</td><td>9</td></tr>",
                            "<tr><td>Jenny</td><td>Yang</td><td>4</td></tr>",
                            "<tr><td>Jessie</td><td>Yang</td><td>9</td></tr>",
                            "<tr><td>Jonathan</td><td>Yang</td><td>14</td></tr>",
                            "<tr><td>Jose</td><td>Yang</td><td>4</td></tr>",
                            "<tr><td>Justin</td><td>Yang</td><td>7</td></tr>",
                            "<tr><td>Kelvin</td><td>Yang</td><td>18</td></tr>",
                            "<tr><td>Krystal</td><td>Yang</td><td>10</td></tr>",
                            "<tr><td>Kyle</td><td>Yang</td><td>7</td></tr>",
                            "<tr><td>Lacey</td><td>Yang</td><td>10</td></tr>",
                            "<tr><td>Leah</td><td>Yang</td><td>17</td></tr>",
                            "<tr><td>Logan</td><td>Yang</td><td>11</td></tr>",
                            "<tr><td>Louis</td><td>Yang</td><td>4</td></tr>",
                            "<tr><td>Luis</td><td>Yang</td><td>9</td></tr>",
                            "<tr><td>Luke</td><td>Yang</td><td>7</td></tr>",
                            "<tr><td>Marshall</td><td>Yang</td><td>12</td></tr>",
                            "<tr><td>Martha</td><td>Yang</td><td>4</td></tr>",
                            "<tr><td>Micah</td><td>Yang</td><td>4</td></tr>",
                            "<tr><td>Nathan</td><td>Yang</td><td>9</td></tr>",
                            "<tr><td>Noah</td><td>Yang</td><td>6</td></tr>",
                            "<tr><td>Omar</td><td>Yang</td><td>2</td></tr>",
                            "<tr><td>Rafael</td><td>Yang</td><td>12</td></tr>",
                            "<tr><td>Ramon</td><td>Yang</td><td>1</td></tr>",
                            "<tr><td>Randy</td><td>Yang</td><td>10</td></tr>",
                            "<tr><td>Robert</td><td>Yang</td><td>3</td></tr>",
                            "<tr><td>Roger</td><td>Yang</td><td>9</td></tr>",
                            "<tr><td>Rosa</td><td>Yang</td><td>6</td></tr>",
                            "<tr><td>Samuel</td><td>Yang</td><td>6</td></tr>",
                            "<tr><td>Sandra</td><td>Yang</td><td>25</td></tr>",
                            "<tr><td>Shannon</td><td>Yang</td><td>2</td></tr>",
                            "<tr><td>Stacey</td><td>Yang</td><td>9</td></tr>",
                            "<tr><td>Steve</td><td>Yang</td><td>19</td></tr>",
                            "<tr><td>Susan</td><td>Yang</td><td>8</td></tr>",
                            "<tr><td>Suzanne</td><td>Yang</td><td>27</td></tr>",
                            "<tr><td>Tamara</td><td>Yang</td><td>1</td></tr>",
                            "<tr><td>Thomas</td><td>Yang</td><td>3</td></tr>",
                            "<tr><td>Tiffany</td><td>Yang</td><td>9</td></tr>",
                            "<tr><td>Valerie</td><td>Yang</td><td>3</td></tr>",
                            "<tr><td>Warren</td><td>Yang</td><td>7</td></tr>",
                            "<tr><td>Zachary</td><td>Yang</td><td>1</td></tr>",
                            "<tr><td>Arthur</td><td>Yasinski</td><td>7</td></tr>",
                            "<tr><td>Alan</td><td>Ye</td><td>10</td></tr>",
                            "<tr><td>Alejandro</td><td>Ye</td><td>6</td></tr>",
                            "<tr><td>Alisha</td><td>Ye</td><td>6</td></tr>",
                            "<tr><td>Alvin</td><td>Ye</td><td>10</td></tr>",
                            "<tr><td>Barbara</td><td>Ye</td><td>6</td></tr>",
                            "<tr><td>Brittney</td><td>Ye</td><td>10</td></tr>",
                            "<tr><td>Candice</td><td>Ye</td><td>2</td></tr>",
                            "<tr><td>Cara</td><td>Ye</td><td>7</td></tr>",
                            "<tr><td>Cedric</td><td>Ye</td><td>4</td></tr>",
                            "<tr><td>Christy</td><td>Ye</td><td>5</td></tr>",
                            "<tr><td>Damien</td><td>Ye</td><td>9</td></tr>",
                            "<tr><td>Dawn</td><td>Ye</td><td>1</td></tr>",
                            "<tr><td>Edwin</td><td>Ye</td><td>11</td></tr>",
                            "<tr><td>Gilbert</td><td>Ye</td><td>9</td></tr>",
                            "<tr><td>Jaclyn</td><td>Ye</td><td>5</td></tr>",
                            "<tr><td>Jamie</td><td>Ye</td><td>8</td></tr>",
                            "<tr><td>Jessie</td><td>Ye</td><td>7</td></tr>",
                            "<tr><td>Jon</td><td>Ye</td><td>10</td></tr>",
                            "<tr><td>Jorge</td><td>Ye</td><td>5</td></tr>",
                            "<tr><td>Karen</td><td>Ye</td><td>14</td></tr>",
                            "<tr><td>Kelli</td><td>Ye</td><td>10</td></tr>",
                            "<tr><td>Louis</td><td>Ye</td><td>13</td></tr>",
                            "<tr><td>Mandy</td><td>Ye</td><td>6</td></tr>",
                            "<tr><td>Margaret</td><td>Ye</td><td>6</td></tr>",
                            "<tr><td>Marshall</td><td>Ye</td><td>3</td></tr>",
                            "<tr><td>Martha</td><td>Ye</td><td>11</td></tr>",
                            "<tr><td>Omar</td><td>Ye</td><td>6</td></tr>",
                            "<tr><td>Rafael</td><td>Ye</td><td>15</td></tr>",
                            "<tr><td>Ramon</td><td>Ye</td><td>4</td></tr>",
                            "<tr><td>Randy</td><td>Ye</td><td>10</td></tr>",
                            "<tr><td>Roger</td><td>Ye</td><td>11</td></tr>",
                            "<tr><td>Sandra</td><td>Ye</td><td>11</td></tr>",
                            "<tr><td>Shannon</td><td>Ye</td><td>1</td></tr>",
                            "<tr><td>Stacey</td><td>Ye</td><td>17</td></tr>",
                            "<tr><td>Susan</td><td>Ye</td><td>3</td></tr>",
                            "<tr><td>Trisha</td><td>Ye</td><td>9</td></tr>",
                            "<tr><td>Valerie</td><td>Ye</td><td>9</td></tr>",
                            "<tr><td>Vincent</td><td>Ye</td><td>10</td></tr>",
                            "<tr><td>Warren</td><td>Ye</td><td>8</td></tr>",
                            "<tr><td>Willie</td><td>Ye</td><td>1</td></tr>",
                            "<tr><td>Tai</td><td>Yee</td><td>4</td></tr>",
                            "<tr><td>Norimichi</td><td>Yonekura</td><td>13</td></tr>",
                            "<tr><td>Adam</td><td>Young</td><td>6</td></tr>",
                            "<tr><td>Alexandra</td><td>Young</td><td>3</td></tr>",
                            "<tr><td>Amanda</td><td>Young</td><td>25</td></tr>",
                            "<tr><td>Andrea</td><td>Young</td><td>4</td></tr>",
                            "<tr><td>Angel</td><td>Young</td><td>10</td></tr>",
                            "<tr><td>Bailey</td><td>Young</td><td>3</td></tr>",
                            "<tr><td>Blake</td><td>Young</td><td>7</td></tr>",
                            "<tr><td>Courtney</td><td>Young</td><td>8</td></tr>",
                            "<tr><td>Dalton</td><td>Young</td><td>9</td></tr>",
                            "<tr><td>Devin</td><td>Young</td><td>7</td></tr>",
                            "<tr><td>Edward</td><td>Young</td><td>10</td></tr>",
                            "<tr><td>Elijah</td><td>Young</td><td>1</td></tr>",
                            "<tr><td>Gabriel</td><td>Young</td><td>9</td></tr>",
                            "<tr><td>Gabriella</td><td>Young</td><td>10</td></tr>",
                            "<tr><td>Garrett</td><td>Young</td><td>5</td></tr>",
                            "<tr><td>Ian</td><td>Young</td><td>7</td></tr>",
                            "<tr><td>James</td><td>Young</td><td>7</td></tr>",
                            "<tr><td>Janet</td><td>Young</td><td>13</td></tr>",
                            "<tr><td>Jason</td><td>Young</td><td>10</td></tr>",
                            "<tr><td>Jenna</td><td>Young</td><td>7</td></tr>",
                            "<tr><td>Jesse</td><td>Young</td><td>2</td></tr>",
                            "<tr><td>Jonathan</td><td>Young</td><td>12</td></tr>",
                            "<tr><td>Jordan</td><td>Young</td><td>13</td></tr>",
                            "<tr><td>Jose</td><td>Young</td><td>7</td></tr>",
                            "<tr><td>Julia</td><td>Young</td><td>7</td></tr>",
                            "<tr><td>Katelyn</td><td>Young</td><td>27</td></tr>",
                            "<tr><td>Katherine</td><td>Young</td><td>4</td></tr>",
                            "<tr><td>Kaylee</td><td>Young</td><td>14</td></tr>",
                            "<tr><td>Kyle</td><td>Young</td><td>7</td></tr>",
                            "<tr><td>Mackenzie</td><td>Young</td><td>6</td></tr>",
                            "<tr><td>Madeline</td><td>Young</td><td>1</td></tr>",
                            "<tr><td>Marcus</td><td>Young</td><td>8</td></tr>",
                            "<tr><td>Miguel</td><td>Young</td><td>11</td></tr>",
                            "<tr><td>Natalie</td><td>Young</td><td>6</td></tr>",
                            "<tr><td>Nathan</td><td>Young</td><td>7</td></tr>",
                            "<tr><td>Richard</td><td>Young</td><td>11</td></tr>",
                            "<tr><td>Rob</td><td>Young</td><td>12</td></tr>",
                            "<tr><td>Savannah</td><td>Young</td><td>7</td></tr>",
                            "<tr><td>Sierra</td><td>Young</td><td>2</td></tr>",
                            "<tr><td>Stephanie</td><td>Young</td><td>7</td></tr>",
                            "<tr><td>Thomas</td><td>Young</td><td>9</td></tr>",
                            "<tr><td>Timothy</td><td>Young</td><td>12</td></tr>",
                            "<tr><td>Wyatt</td><td>Young</td><td>5</td></tr>",
                            "<tr><td>Xavier</td><td>Young</td><td>12</td></tr>",
                            "<tr><td>Tom</td><td>Youtsey</td><td>10</td></tr>",
                            "<tr><td>Nuan</td><td>Yu</td><td>1</td></tr>",
                            "<tr><td>Alisha</td><td>Yuan</td><td>20</td></tr>",
                            "<tr><td>Alison</td><td>Yuan</td><td>15</td></tr>",
                            "<tr><td>Alvin</td><td>Yuan</td><td>20</td></tr>",
                            "<tr><td>Barbara</td><td>Yuan</td><td>6</td></tr>",
                            "<tr><td>Bethany</td><td>Yuan</td><td>8</td></tr>",
                            "<tr><td>Brad</td><td>Yuan</td><td>8</td></tr>",
                            "<tr><td>Bradley</td><td>Yuan</td><td>3</td></tr>",
                            "<tr><td>Brendan</td><td>Yuan</td><td>23</td></tr>",
                            "<tr><td>Calvin</td><td>Yuan</td><td>18</td></tr>",
                            "<tr><td>Carl</td><td>Yuan</td><td>5</td></tr>",
                            "<tr><td>Casey</td><td>Yuan</td><td>4</td></tr>",
                            "<tr><td>Cedric</td><td>Yuan</td><td>8</td></tr>",
                            "<tr><td>Christine</td><td>Yuan</td><td>12</td></tr>",
                            "<tr><td>Clarence</td><td>Yuan</td><td>6</td></tr>",
                            "<tr><td>Colleen</td><td>Yuan</td><td>13</td></tr>",
                            "<tr><td>Corey</td><td>Yuan</td><td>10</td></tr>",
                            "<tr><td>Cristina</td><td>Yuan</td><td>4</td></tr>",
                            "<tr><td>Dawn</td><td>Yuan</td><td>5</td></tr>",
                            "<tr><td>Derek</td><td>Yuan</td><td>5</td></tr>",
                            "<tr><td>Franklin</td><td>Yuan</td><td>7</td></tr>",
                            "<tr><td>Gregory</td><td>Yuan</td><td>10</td></tr>",
                            "<tr><td>Jaclyn</td><td>Yuan</td><td>9</td></tr>",
                            "<tr><td>Jerry</td><td>Yuan</td><td>4</td></tr>",
                            "<tr><td>Johnny</td><td>Yuan</td><td>2</td></tr>",
                            "<tr><td>Jon</td><td>Yuan</td><td>18</td></tr>",
                            "<tr><td>Kara</td><td>Yuan</td><td>15</td></tr>",
                            "<tr><td>Karl</td><td>Yuan</td><td>1</td></tr>",
                            "<tr><td>Kate</td><td>Yuan</td><td>17</td></tr>",
                            "<tr><td>Katie</td><td>Yuan</td><td>4</td></tr>",
                            "<tr><td>Katrina</td><td>Yuan</td><td>10</td></tr>",
                            "<tr><td>Kelvin</td><td>Yuan</td><td>12</td></tr>",
                            "<tr><td>Latoya</td><td>Yuan</td><td>14</td></tr>",
                            "<tr><td>Maurice</td><td>Yuan</td><td>9</td></tr>",
                            "<tr><td>Michele</td><td>Yuan</td><td>10</td></tr>",
                            "<tr><td>Misty</td><td>Yuan</td><td>9</td></tr>",
                            "<tr><td>Nuan</td><td>Yuan</td><td>3</td></tr>",
                            "<tr><td>Roger</td><td>Yuan</td><td>10</td></tr>",
                            "<tr><td>Tara</td><td>Yuan</td><td>5</td></tr>",
                            "<tr><td>Terrence</td><td>Yuan</td><td>7</td></tr>",
                            "<tr><td>Terry</td><td>Yuan</td><td>7</td></tr>",
                            "<tr><td>Tracy</td><td>Yuan</td><td>7</td></tr>",
                            "<tr><td>Warren</td><td>Yuan</td><td>10</td></tr>",
                            "<tr><td>Willie</td><td>Yuan</td><td>12</td></tr>",
                            "<tr><td>Yolanda</td><td>Yuan</td><td>9</td></tr>",
                            "<tr><td>Ian</td><td>Yuhasz</td><td>10</td></tr>",
                            "<tr><td>Gary</td><td>Yukish</td><td>9</td></tr>",
                            "</table>"
                        ]
                    }
                }
            ],
            "execution_count": 1
        },
        {
            "cell_type": "markdown",
            "source": [
                "This will display the total number of things each client has bought. The average number of purchases made by a customer or the percentage of customers who have made more than a particular number of purchases can both be calculated using this data to gauge customer loyalty.\n",
                "\n",
                "  \n",
                "\n",
                "You can use data mining techniques to find trends and patterns in the data and then formulate suggestions based on the report. For instance, you could use regression analysis to forecast future sales based on historical data or clustering algorithms to categorise clients based on their purchase patterns. On the basis of previous sales data, you might also predict demand for other products using forecasting techniques."
            ],
            "metadata": {
                "azdata_cell_guid": "1cb80877-5916-4eca-89fc-e73f47600fd4"
            },
            "attachments": {}
        }
    ]
}