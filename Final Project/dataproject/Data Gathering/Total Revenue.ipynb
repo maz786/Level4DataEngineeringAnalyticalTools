{
    "metadata": {
        "kernelspec": {
            "name": "SQL",
            "display_name": "SQL",
            "language": "sql"
        },
        "language_info": {
            "name": "sql",
            "version": ""
        }
    },
    "nbformat_minor": 2,
    "nbformat": 4,
    "cells": [
        {
            "cell_type": "markdown",
            "source": [
                "**<u>Total Revenue</u>**"
            ],
            "metadata": {
                "azdata_cell_guid": "5aa7f2f0-cc26-4b6b-85a8-bf6f1357531b"
            },
            "attachments": {}
        },
        {
            "cell_type": "code",
            "source": [
                "SELECT SUM(Sales.Quantity * Products.Price)\n",
                "FROM Sales\n",
                "INNER JOIN Products ON Sales.ProductID = Products.ProductID\n",
                "WHERE Products.Name LIKE '%Mountain%'\n",
                "OR Products.Name LIKE '%Frame%'"
            ],
            "metadata": {
                "azdata_cell_guid": "5c20fa8f-d9c4-44eb-aefe-ae68ec621cfd",
                "language": "sql"
            },
            "outputs": [
                {
                    "output_type": "display_data",
                    "data": {
                        "text/html": "(1 row affected)"
                    },
                    "metadata": {}
                },
                {
                    "output_type": "display_data",
                    "data": {
                        "text/html": "Total execution time: 00:00:00.038"
                    },
                    "metadata": {}
                },
                {
                    "output_type": "execute_result",
                    "execution_count": 1,
                    "data": {
                        "application/vnd.dataresource+json": {
                            "schema": {
                                "fields": [
                                    {
                                        "name": "(No column name)"
                                    }
                                ]
                            },
                            "data": [
                                {
                                    "0": "470340.65"
                                }
                            ]
                        },
                        "text/html": "<table><tr><th>(No column name)</th></tr><tr><td>470340.65</td></tr></table>"
                    },
                    "metadata": {}
                }
            ],
            "execution_count": 1
        },
        {
            "cell_type": "markdown",
            "source": [
                "You can run the given query to find out the overall sales revenue for mountain and frame items, which will help you gauge how well sales of bikes have been performing.\n",
                "\n",
                "  \n",
                "\n",
                "You might think about employing data mining techniques to find trends and patterns in the sales data to further examine the data. This can entail tracking seasonal changes in the sales data over time or looking for links between various elements, including sales volume and the typical selling price of the goods sold.\n",
                "\n",
                "  \n",
                "\n",
                "Using forecasting methods and the patterns found through data mining, you might also predict future sales trends. This can entail predicting future sales volumes or revenue using statistical models.\n",
                "\n",
                "  \n",
                "\n",
                "You can run the given query to find out the overall sales revenue for mountain and frame items, which will help you gauge how well sales of bikes have been performing.\n",
                "\n",
                "  \n",
                "\n",
                "You might think about employing data mining techniques to find trends and patterns in the sales data to further examine the data. This can entail tracking seasonal changes in the sales data over time or looking for links between various elements, including sales volume and the typical selling price of the goods sold.\n",
                "\n",
                "  \n",
                "\n",
                "Using forecasting methods and the patterns found through data mining, you might also predict future sales trends. This can entail predicting future sales volumes or revenue using statistical models.\n",
                "\n",
                "  \n",
                "\n",
                "You might utilise data modelling approaches in addition to sales data analysis to spot trends and patterns in customer loyalty. In order to spot any trends or patterns in consumer behaviour, such as the likelihood that a customer would make repeat purchases or the average number of purchases per customer, this may entail examining the purchasing behaviours of customers over time.\n",
                "\n",
                "  \n",
                "\n",
                "Following your study, you may offer suggestions to the company for tactics to boost sales performance, such as changing pricing or marketing tactics, or you could look for chances to foster more customer loyalty through focused loyalty initiatives or specialised marketing campaigns."
            ],
            "metadata": {
                "azdata_cell_guid": "6307388f-8e7c-48a5-aeba-47f8be96ebfd"
            },
            "attachments": {}
        },
        {
            "cell_type": "code",
            "source": [
                "SELECT SUM(Sales.Quantity * Products.Price)\n",
                "FROM Sales\n",
                "INNER JOIN Products ON Sales.ProductID = Products.ProductID\n",
                "WHERE Products.Name LIKE '%Mountain%'\n",
                "OR Products.Name LIKE '%Frame%'"
            ],
            "metadata": {
                "azdata_cell_guid": "7e06d512-c27b-45de-81f1-4cdee6cc0946",
                "language": "sql"
            },
            "outputs": [
                {
                    "output_type": "display_data",
                    "data": {
                        "text/html": "(1 row affected)"
                    },
                    "metadata": {}
                },
                {
                    "output_type": "display_data",
                    "data": {
                        "text/html": "Total execution time: 00:00:00.011"
                    },
                    "metadata": {}
                },
                {
                    "output_type": "execute_result",
                    "execution_count": 1,
                    "data": {
                        "application/vnd.dataresource+json": {
                            "schema": {
                                "fields": [
                                    {
                                        "name": "(No column name)"
                                    }
                                ]
                            },
                            "data": [
                                {
                                    "0": "470340.65"
                                }
                            ]
                        },
                        "text/html": "<table><tr><th>(No column name)</th></tr><tr><td>470340.65</td></tr></table>"
                    },
                    "metadata": {
                        "azdata_chartOptions": {
                            "type": "bar",
                            "dataDirection": "horizontal",
                            "columnsAsLabels": true,
                            "labelFirstColumn": false,
                            "legendPosition": "top",
                            "yAxisLabel": "Revenue",
                            "yAxisMin": 0,
                            "xAxisLabel": "Sales"
                        }
                    }
                }
            ],
            "execution_count": 1
        }
    ]
}