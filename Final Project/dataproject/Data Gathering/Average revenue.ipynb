{
    "metadata": {
        "kernelspec": {
            "name": "SQL",
            "display_name": "SQL",
            "language": "sql"
        },
        "language_info": {
            "name": "sql",
            "version": ""
        }
    },
    "nbformat_minor": 2,
    "nbformat": 4,
    "cells": [
        {
            "cell_type": "markdown",
            "source": [
                "**<u>Average revenue</u>**"
            ],
            "metadata": {
                "azdata_cell_guid": "f66cb623-5b71-4e92-a6de-a4fb7c927a6f"
            },
            "attachments": {}
        },
        {
            "cell_type": "code",
            "source": [
                "SELECT AVG(Sales.Quantity * Products.Price)\n",
                "FROM Sales\n",
                "INNER JOIN Products ON Sales.ProductID = Products.ProductID\n",
                "WHERE Products.Name LIKE '%Mountain%'\n",
                "OR Products.Name LIKE '%Frame%'"
            ],
            "metadata": {
                "azdata_cell_guid": "7b172ed6-cb34-4f20-ac01-6df23d3a2397",
                "language": "sql",
                "tags": []
            },
            "outputs": [
                {
                    "output_type": "display_data",
                    "data": {
                        "text/html": "(1 row affected)"
                    },
                    "metadata": {}
                },
                {
                    "output_type": "display_data",
                    "data": {
                        "text/html": "Total execution time: 00:00:00.019"
                    },
                    "metadata": {}
                },
                {
                    "output_type": "execute_result",
                    "execution_count": 1,
                    "data": {
                        "application/vnd.dataresource+json": {
                            "schema": {
                                "fields": [
                                    {
                                        "name": "(No column name)"
                                    }
                                ]
                            },
                            "data": [
                                {
                                    "0": "5226.0072"
                                }
                            ]
                        },
                        "text/html": "<table><tr><th>(No column name)</th></tr><tr><td>5226.0072</td></tr></table>"
                    },
                    "metadata": {}
                }
            ],
            "execution_count": 1
        },
        {
            "cell_type": "markdown",
            "source": [
                "You might obtain the average sales for the bike product category by running the given query (frames and mountain). To demonstrate how sales in the bike product category are performing, the report's first question would benefit from including this information.\n",
                "\n",
                "  \n",
                "\n",
                "You might alter the query to include a GROUP BY clause to group the results per product name and then add an SUM function to get the total sales for each product in order to respond to the report's second question, which asks for a breakdown of sales by product. This would enable you to assess the performance of each individual product inside the bike product category.\n",
                "\n",
                "  \n",
                "\n",
                "You may change the query to include a Combine clause to join the Sales and Customers tables, group the results by customer, and include a Tally function to count the number of purchases made by each customer to address the report's third question, which asks for data on customer loyalty. You may possibly spot patterns in the consumers' purchasing activity if you could monitor which ones are making the most purchases.  \n",
                "\n",
                "  \n",
                "\n",
                "You might use techniques like data mining, forecasting, and data modelling to find trends and patterns in the data that might be pertinent to the report. For instance, you may forecast sales based on historical data or utilise data mining to find trends in sales over time. The relationship between customer loyalty and sales, for example, or the relationship between various items and their sales success, are two examples of interactions that can be identified using data modelling.  \n",
                "\n",
                "  \n",
                "\n",
                "In terms of suggestions, you may propose tactics for enhancing sales performance based on your study of the data, such as focusing on certain consumer categories or pushing particular goods. Additionally, based on your study of the data, you may identify any potential problems or difficulties the firm may be having, such as diminishing sales or low consumer loyalty, and make suggestions for potential remedies."
            ],
            "metadata": {
                "azdata_cell_guid": "65cb76e1-8029-4acf-b25b-575c306dccbe"
            },
            "attachments": {}
        },
        {
            "cell_type": "code",
            "source": [
                "SELECT AVG(Sales.Quantity * Products.Price)\n",
                "FROM Sales\n",
                "INNER JOIN Products ON Sales.ProductID = Products.ProductID\n",
                "WHERE Products.Name LIKE '%Mountain%'\n",
                "OR Products.Name LIKE '%Frame%'"
            ],
            "metadata": {
                "azdata_cell_guid": "a1f8ff12-615f-4e17-b133-bce90edb1c39",
                "language": "sql"
            },
            "outputs": [
                {
                    "output_type": "display_data",
                    "data": {
                        "text/html": "(1 row affected)"
                    },
                    "metadata": {}
                },
                {
                    "output_type": "display_data",
                    "data": {
                        "text/html": "Total execution time: 00:00:00.010"
                    },
                    "metadata": {}
                },
                {
                    "output_type": "execute_result",
                    "execution_count": 1,
                    "data": {
                        "application/vnd.dataresource+json": {
                            "schema": {
                                "fields": [
                                    {
                                        "name": "(No column name)"
                                    }
                                ]
                            },
                            "data": [
                                {
                                    "0": "5226.0072"
                                }
                            ]
                        },
                        "text/html": "<table><tr><th>(No column name)</th></tr><tr><td>5226.0072</td></tr></table>"
                    },
                    "metadata": {
                        "azdata_chartOptions": {
                            "type": "bar",
                            "dataDirection": "horizontal",
                            "columnsAsLabels": true,
                            "labelFirstColumn": false,
                            "legendPosition": "top",
                            "yAxisMin": 0
                        }
                    }
                }
            ],
            "execution_count": 1
        }
    ]
}