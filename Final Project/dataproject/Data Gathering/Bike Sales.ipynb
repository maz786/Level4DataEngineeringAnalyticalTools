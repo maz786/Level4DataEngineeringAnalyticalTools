{
    "metadata": {
        "kernelspec": {
            "name": "SQL",
            "display_name": "SQL",
            "language": "sql"
        },
        "language_info": {
            "name": "sql",
            "version": ""
        }
    },
    "nbformat_minor": 2,
    "nbformat": 4,
    "cells": [
        {
            "cell_type": "markdown",
            "source": [
                "**<u>Bike sales  \n",
                "</u>**\n",
                "\n",
                "You might use the following search to receive a list of all bike sales that are performing well for mountain or frame searches to see what's been sold."
            ],
            "metadata": {
                "azdata_cell_guid": "d2cdcb56-f7a2-4ba2-b15c-bee702856222"
            },
            "attachments": {}
        },
        {
            "cell_type": "code",
            "source": [
                "SELECT Products.Name\n",
                "FROM Sales\n",
                "INNER JOIN Products ON Sales.ProductID = Products.ProductID\n",
                "WHERE Products.Name LIKE '%Mountain%'\n",
                "OR Products.Name LIKE '%Frame%'"
            ],
            "metadata": {
                "azdata_cell_guid": "ddf31a44-7e5e-4c44-8b9c-ee793d582282",
                "language": "sql"
            },
            "outputs": [
                {
                    "output_type": "display_data",
                    "data": {
                        "text/html": "(180 rows affected)"
                    },
                    "metadata": {}
                },
                {
                    "output_type": "display_data",
                    "data": {
                        "text/html": "Total execution time: 00:00:00.127"
                    },
                    "metadata": {}
                },
                {
                    "output_type": "execute_result",
                    "execution_count": 1,
                    "data": {
                        "application/vnd.dataresource+json": {
                            "schema": {
                                "fields": [
                                    {
                                        "name": "Name"
                                    }
                                ]
                            },
                            "data": [
                                {
                                    "0": "Mountain End Caps"
                                },
                                {
                                    "0": "Mountain End Caps"
                                },
                                {
                                    "0": "Mountain End Caps"
                                },
                                {
                                    "0": "Mountain End Caps"
                                },
                                {
                                    "0": "LL Mountain Rim"
                                },
                                {
                                    "0": "LL Mountain Rim"
                                },
                                {
                                    "0": "ML Mountain Rim"
                                },
                                {
                                    "0": "ML Mountain Rim"
                                },
                                {
                                    "0": "HL Mountain Seat Assembly"
                                },
                                {
                                    "0": "HL Mountain Seat Assembly"
                                },
                                {
                                    "0": "HL Mountain Seat Assembly"
                                },
                                {
                                    "0": "HL Mountain Seat Assembly"
                                },
                                {
                                    "0": "HL Road Frame - Black 58"
                                },
                                {
                                    "0": "HL Road Frame - Black 58"
                                },
                                {
                                    "0": "HL Road Frame - Red 58"
                                },
                                {
                                    "0": "HL Road Frame - Red 58"
                                },
                                {
                                    "0": "Mountain Bike Socks M"
                                },
                                {
                                    "0": "Mountain Bike Socks M"
                                },
                                {
                                    "0": "Mountain Bike Socks M"
                                },
                                {
                                    "0": "Mountain Bike Socks M"
                                },
                                {
                                    "0": "Mountain Bike Socks L"
                                },
                                {
                                    "0": "Mountain Bike Socks L"
                                },
                                {
                                    "0": "Mountain Bike Socks L"
                                },
                                {
                                    "0": "Mountain Bike Socks L"
                                },
                                {
                                    "0": "HL Road Frame - Red 44"
                                },
                                {
                                    "0": "HL Road Frame - Red 44"
                                },
                                {
                                    "0": "HL Road Frame - Red 44"
                                },
                                {
                                    "0": "HL Road Frame - Red 44"
                                },
                                {
                                    "0": "HL Road Frame - Red 48"
                                },
                                {
                                    "0": "HL Road Frame - Red 48"
                                },
                                {
                                    "0": "HL Road Frame - Red 52"
                                },
                                {
                                    "0": "HL Road Frame - Red 52"
                                },
                                {
                                    "0": "LL Road Frame - Red 52"
                                },
                                {
                                    "0": "LL Road Frame - Red 52"
                                },
                                {
                                    "0": "LL Road Frame - Red 62"
                                },
                                {
                                    "0": "LL Road Frame - Red 62"
                                },
                                {
                                    "0": "ML Road Frame - Red 58"
                                },
                                {
                                    "0": "ML Road Frame - Red 58"
                                },
                                {
                                    "0": "LL Road Frame - Black 52"
                                },
                                {
                                    "0": "LL Road Frame - Black 52"
                                },
                                {
                                    "0": "LL Road Frame - Black 52"
                                },
                                {
                                    "0": "LL Road Frame - Black 52"
                                },
                                {
                                    "0": "HL Mountain Frame - Silver 44"
                                },
                                {
                                    "0": "HL Mountain Frame - Silver 44"
                                },
                                {
                                    "0": "HL Mountain Frame - Silver 44"
                                },
                                {
                                    "0": "HL Mountain Frame - Silver 44"
                                },
                                {
                                    "0": "HL Mountain Frame - Black 42"
                                },
                                {
                                    "0": "HL Mountain Frame - Black 42"
                                },
                                {
                                    "0": "HL Mountain Frame - Black 44"
                                },
                                {
                                    "0": "HL Mountain Frame - Black 44"
                                },
                                {
                                    "0": "HL Mountain Frame - Black 46"
                                },
                                {
                                    "0": "HL Mountain Frame - Black 46"
                                },
                                {
                                    "0": "HL Mountain Frame - Black 46"
                                },
                                {
                                    "0": "HL Mountain Frame - Black 46"
                                },
                                {
                                    "0": "HL Mountain Frame - Black 46"
                                },
                                {
                                    "0": "HL Mountain Frame - Black 46"
                                },
                                {
                                    "0": "Mountain-100 Silver 38"
                                },
                                {
                                    "0": "Mountain-100 Silver 38"
                                },
                                {
                                    "0": "Mountain-100 Silver 38"
                                },
                                {
                                    "0": "Mountain-100 Silver 38"
                                },
                                {
                                    "0": "Mountain-100 Black 38"
                                },
                                {
                                    "0": "Mountain-100 Black 38"
                                },
                                {
                                    "0": "Mountain-100 Black 42"
                                },
                                {
                                    "0": "Mountain-100 Black 42"
                                },
                                {
                                    "0": "Mountain-100 Black 48"
                                },
                                {
                                    "0": "Mountain-100 Black 48"
                                },
                                {
                                    "0": "Mountain-200 Silver 38"
                                },
                                {
                                    "0": "Mountain-200 Silver 38"
                                },
                                {
                                    "0": "Mountain-200 Silver 42"
                                },
                                {
                                    "0": "Mountain-200 Silver 42"
                                },
                                {
                                    "0": "Mountain-200 Silver 46"
                                },
                                {
                                    "0": "Mountain-200 Silver 46"
                                },
                                {
                                    "0": "Mountain-200 Black 38"
                                },
                                {
                                    "0": "Mountain-200 Black 38"
                                },
                                {
                                    "0": "Mountain-200 Black 38"
                                },
                                {
                                    "0": "Mountain-200 Black 38"
                                },
                                {
                                    "0": "Mountain-300 Black 40"
                                },
                                {
                                    "0": "Mountain-300 Black 40"
                                },
                                {
                                    "0": "Mountain-300 Black 48"
                                },
                                {
                                    "0": "Mountain-300 Black 48"
                                },
                                {
                                    "0": "ML Mountain Handlebars"
                                },
                                {
                                    "0": "ML Mountain Handlebars"
                                },
                                {
                                    "0": "HL Mountain Handlebars"
                                },
                                {
                                    "0": "HL Mountain Handlebars"
                                },
                                {
                                    "0": "ML Mountain Frame - Black 38"
                                },
                                {
                                    "0": "ML Mountain Frame - Black 38"
                                },
                                {
                                    "0": "ML Mountain Frame - Black 48"
                                },
                                {
                                    "0": "ML Mountain Frame - Black 48"
                                },
                                {
                                    "0": "ML Mountain Frame - Black 48"
                                },
                                {
                                    "0": "ML Mountain Frame - Black 48"
                                },
                                {
                                    "0": "ML Road Frame-W - Yellow 42"
                                },
                                {
                                    "0": "ML Road Frame-W - Yellow 42"
                                },
                                {
                                    "0": "HL Road Frame - Black 44"
                                },
                                {
                                    "0": "HL Road Frame - Black 44"
                                },
                                {
                                    "0": "HL Road Frame - Black 44"
                                },
                                {
                                    "0": "HL Road Frame - Black 44"
                                },
                                {
                                    "0": "HL Road Frame - Black 52"
                                },
                                {
                                    "0": "HL Road Frame - Black 52"
                                },
                                {
                                    "0": "HL Road Frame - Black 52"
                                },
                                {
                                    "0": "HL Road Frame - Black 52"
                                },
                                {
                                    "0": "Womens Mountain Shorts M"
                                },
                                {
                                    "0": "Womens Mountain Shorts M"
                                },
                                {
                                    "0": "Womens Mountain Shorts M"
                                },
                                {
                                    "0": "Womens Mountain Shorts M"
                                },
                                {
                                    "0": "Womens Mountain Shorts L"
                                },
                                {
                                    "0": "Womens Mountain Shorts L"
                                },
                                {
                                    "0": "Fender Set - Mountain"
                                },
                                {
                                    "0": "Fender Set - Mountain"
                                },
                                {
                                    "0": "Fender Set - Mountain"
                                },
                                {
                                    "0": "Fender Set - Mountain"
                                },
                                {
                                    "0": "HL Touring Frame - Yellow 60"
                                },
                                {
                                    "0": "HL Touring Frame - Yellow 60"
                                },
                                {
                                    "0": "HL Touring Frame - Yellow 60"
                                },
                                {
                                    "0": "HL Touring Frame - Yellow 60"
                                },
                                {
                                    "0": "HL Touring Frame - Yellow 46"
                                },
                                {
                                    "0": "HL Touring Frame - Yellow 46"
                                },
                                {
                                    "0": "HL Touring Frame - Yellow 46"
                                },
                                {
                                    "0": "HL Touring Frame - Yellow 46"
                                },
                                {
                                    "0": "HL Touring Frame - Yellow 54"
                                },
                                {
                                    "0": "HL Touring Frame - Yellow 54"
                                },
                                {
                                    "0": "HL Touring Frame - Blue 46"
                                },
                                {
                                    "0": "HL Touring Frame - Blue 46"
                                },
                                {
                                    "0": "HL Touring Frame - Blue 54"
                                },
                                {
                                    "0": "HL Touring Frame - Blue 54"
                                },
                                {
                                    "0": "HL Touring Frame - Blue 60"
                                },
                                {
                                    "0": "HL Touring Frame - Blue 60"
                                },
                                {
                                    "0": "LL Touring Frame - Blue 58"
                                },
                                {
                                    "0": "LL Touring Frame - Blue 58"
                                },
                                {
                                    "0": "LL Touring Frame - Blue 62"
                                },
                                {
                                    "0": "LL Touring Frame - Blue 62"
                                },
                                {
                                    "0": "LL Touring Frame - Yellow 58"
                                },
                                {
                                    "0": "LL Touring Frame - Yellow 58"
                                },
                                {
                                    "0": "LL Touring Frame - Yellow 58"
                                },
                                {
                                    "0": "LL Touring Frame - Yellow 58"
                                },
                                {
                                    "0": "ML Mountain Frame-W - Silver 46"
                                },
                                {
                                    "0": "ML Mountain Frame-W - Silver 46"
                                },
                                {
                                    "0": "LL Mountain Seat/Saddle"
                                },
                                {
                                    "0": "LL Mountain Seat/Saddle"
                                },
                                {
                                    "0": "LL Mountain Seat/Saddle"
                                },
                                {
                                    "0": "LL Mountain Seat/Saddle"
                                },
                                {
                                    "0": "ML Mountain Seat/Saddle"
                                },
                                {
                                    "0": "ML Mountain Seat/Saddle"
                                },
                                {
                                    "0": "ML Mountain Seat/Saddle"
                                },
                                {
                                    "0": "ML Mountain Seat/Saddle"
                                },
                                {
                                    "0": "LL Mountain Frame - Silver 42"
                                },
                                {
                                    "0": "LL Mountain Frame - Silver 42"
                                },
                                {
                                    "0": "Mountain Tire Tube"
                                },
                                {
                                    "0": "Mountain Tire Tube"
                                },
                                {
                                    "0": "LL Mountain Frame - Black 52"
                                },
                                {
                                    "0": "LL Mountain Frame - Black 52"
                                },
                                {
                                    "0": "LL Mountain Tire"
                                },
                                {
                                    "0": "LL Mountain Tire"
                                },
                                {
                                    "0": "LL Mountain Pedal"
                                },
                                {
                                    "0": "LL Mountain Pedal"
                                },
                                {
                                    "0": "ML Mountain Frame-W - Silver 38"
                                },
                                {
                                    "0": "ML Mountain Frame-W - Silver 38"
                                },
                                {
                                    "0": "Mountain-400-W Silver 42"
                                },
                                {
                                    "0": "Mountain-400-W Silver 42"
                                },
                                {
                                    "0": "Mountain-400-W Silver 46"
                                },
                                {
                                    "0": "Mountain-400-W Silver 46"
                                },
                                {
                                    "0": "Mountain-400-W Silver 46"
                                },
                                {
                                    "0": "Mountain-400-W Silver 46"
                                },
                                {
                                    "0": "Mountain-500 Silver 42"
                                },
                                {
                                    "0": "Mountain-500 Silver 42"
                                },
                                {
                                    "0": "Mountain-500 Silver 42"
                                },
                                {
                                    "0": "Mountain-500 Silver 42"
                                },
                                {
                                    "0": "Mountain-500 Silver 44"
                                },
                                {
                                    "0": "Mountain-500 Silver 44"
                                },
                                {
                                    "0": "Mountain-500 Silver 48"
                                },
                                {
                                    "0": "Mountain-500 Silver 48"
                                },
                                {
                                    "0": "Mountain-500 Silver 48"
                                },
                                {
                                    "0": "Mountain-500 Silver 48"
                                },
                                {
                                    "0": "Mountain-500 Silver 52"
                                },
                                {
                                    "0": "Mountain-500 Silver 52"
                                },
                                {
                                    "0": "Mountain-500 Black 40"
                                },
                                {
                                    "0": "Mountain-500 Black 40"
                                },
                                {
                                    "0": "Mountain-500 Black 40"
                                },
                                {
                                    "0": "Mountain-500 Black 40"
                                },
                                {
                                    "0": "Mountain-500 Black 52"
                                },
                                {
                                    "0": "Mountain-500 Black 52"
                                }
                            ]
                        },
                        "text/html": "<table><tr><th>Name</th></tr><tr><td>Mountain End Caps</td></tr><tr><td>Mountain End Caps</td></tr><tr><td>Mountain End Caps</td></tr><tr><td>Mountain End Caps</td></tr><tr><td>LL Mountain Rim</td></tr><tr><td>LL Mountain Rim</td></tr><tr><td>ML Mountain Rim</td></tr><tr><td>ML Mountain Rim</td></tr><tr><td>HL Mountain Seat Assembly</td></tr><tr><td>HL Mountain Seat Assembly</td></tr><tr><td>HL Mountain Seat Assembly</td></tr><tr><td>HL Mountain Seat Assembly</td></tr><tr><td>HL Road Frame - Black 58</td></tr><tr><td>HL Road Frame - Black 58</td></tr><tr><td>HL Road Frame - Red 58</td></tr><tr><td>HL Road Frame - Red 58</td></tr><tr><td>Mountain Bike Socks M</td></tr><tr><td>Mountain Bike Socks M</td></tr><tr><td>Mountain Bike Socks M</td></tr><tr><td>Mountain Bike Socks M</td></tr><tr><td>Mountain Bike Socks L</td></tr><tr><td>Mountain Bike Socks L</td></tr><tr><td>Mountain Bike Socks L</td></tr><tr><td>Mountain Bike Socks L</td></tr><tr><td>HL Road Frame - Red 44</td></tr><tr><td>HL Road Frame - Red 44</td></tr><tr><td>HL Road Frame - Red 44</td></tr><tr><td>HL Road Frame - Red 44</td></tr><tr><td>HL Road Frame - Red 48</td></tr><tr><td>HL Road Frame - Red 48</td></tr><tr><td>HL Road Frame - Red 52</td></tr><tr><td>HL Road Frame - Red 52</td></tr><tr><td>LL Road Frame - Red 52</td></tr><tr><td>LL Road Frame - Red 52</td></tr><tr><td>LL Road Frame - Red 62</td></tr><tr><td>LL Road Frame - Red 62</td></tr><tr><td>ML Road Frame - Red 58</td></tr><tr><td>ML Road Frame - Red 58</td></tr><tr><td>LL Road Frame - Black 52</td></tr><tr><td>LL Road Frame - Black 52</td></tr><tr><td>LL Road Frame - Black 52</td></tr><tr><td>LL Road Frame - Black 52</td></tr><tr><td>HL Mountain Frame - Silver 44</td></tr><tr><td>HL Mountain Frame - Silver 44</td></tr><tr><td>HL Mountain Frame - Silver 44</td></tr><tr><td>HL Mountain Frame - Silver 44</td></tr><tr><td>HL Mountain Frame - Black 42</td></tr><tr><td>HL Mountain Frame - Black 42</td></tr><tr><td>HL Mountain Frame - Black 44</td></tr><tr><td>HL Mountain Frame - Black 44</td></tr><tr><td>HL Mountain Frame - Black 46</td></tr><tr><td>HL Mountain Frame - Black 46</td></tr><tr><td>HL Mountain Frame - Black 46</td></tr><tr><td>HL Mountain Frame - Black 46</td></tr><tr><td>HL Mountain Frame - Black 46</td></tr><tr><td>HL Mountain Frame - Black 46</td></tr><tr><td>Mountain-100 Silver 38</td></tr><tr><td>Mountain-100 Silver 38</td></tr><tr><td>Mountain-100 Silver 38</td></tr><tr><td>Mountain-100 Silver 38</td></tr><tr><td>Mountain-100 Black 38</td></tr><tr><td>Mountain-100 Black 38</td></tr><tr><td>Mountain-100 Black 42</td></tr><tr><td>Mountain-100 Black 42</td></tr><tr><td>Mountain-100 Black 48</td></tr><tr><td>Mountain-100 Black 48</td></tr><tr><td>Mountain-200 Silver 38</td></tr><tr><td>Mountain-200 Silver 38</td></tr><tr><td>Mountain-200 Silver 42</td></tr><tr><td>Mountain-200 Silver 42</td></tr><tr><td>Mountain-200 Silver 46</td></tr><tr><td>Mountain-200 Silver 46</td></tr><tr><td>Mountain-200 Black 38</td></tr><tr><td>Mountain-200 Black 38</td></tr><tr><td>Mountain-200 Black 38</td></tr><tr><td>Mountain-200 Black 38</td></tr><tr><td>Mountain-300 Black 40</td></tr><tr><td>Mountain-300 Black 40</td></tr><tr><td>Mountain-300 Black 48</td></tr><tr><td>Mountain-300 Black 48</td></tr><tr><td>ML Mountain Handlebars</td></tr><tr><td>ML Mountain Handlebars</td></tr><tr><td>HL Mountain Handlebars</td></tr><tr><td>HL Mountain Handlebars</td></tr><tr><td>ML Mountain Frame - Black 38</td></tr><tr><td>ML Mountain Frame - Black 38</td></tr><tr><td>ML Mountain Frame - Black 48</td></tr><tr><td>ML Mountain Frame - Black 48</td></tr><tr><td>ML Mountain Frame - Black 48</td></tr><tr><td>ML Mountain Frame - Black 48</td></tr><tr><td>ML Road Frame-W - Yellow 42</td></tr><tr><td>ML Road Frame-W - Yellow 42</td></tr><tr><td>HL Road Frame - Black 44</td></tr><tr><td>HL Road Frame - Black 44</td></tr><tr><td>HL Road Frame - Black 44</td></tr><tr><td>HL Road Frame - Black 44</td></tr><tr><td>HL Road Frame - Black 52</td></tr><tr><td>HL Road Frame - Black 52</td></tr><tr><td>HL Road Frame - Black 52</td></tr><tr><td>HL Road Frame - Black 52</td></tr><tr><td>Womens Mountain Shorts M</td></tr><tr><td>Womens Mountain Shorts M</td></tr><tr><td>Womens Mountain Shorts M</td></tr><tr><td>Womens Mountain Shorts M</td></tr><tr><td>Womens Mountain Shorts L</td></tr><tr><td>Womens Mountain Shorts L</td></tr><tr><td>Fender Set - Mountain</td></tr><tr><td>Fender Set - Mountain</td></tr><tr><td>Fender Set - Mountain</td></tr><tr><td>Fender Set - Mountain</td></tr><tr><td>HL Touring Frame - Yellow 60</td></tr><tr><td>HL Touring Frame - Yellow 60</td></tr><tr><td>HL Touring Frame - Yellow 60</td></tr><tr><td>HL Touring Frame - Yellow 60</td></tr><tr><td>HL Touring Frame - Yellow 46</td></tr><tr><td>HL Touring Frame - Yellow 46</td></tr><tr><td>HL Touring Frame - Yellow 46</td></tr><tr><td>HL Touring Frame - Yellow 46</td></tr><tr><td>HL Touring Frame - Yellow 54</td></tr><tr><td>HL Touring Frame - Yellow 54</td></tr><tr><td>HL Touring Frame - Blue 46</td></tr><tr><td>HL Touring Frame - Blue 46</td></tr><tr><td>HL Touring Frame - Blue 54</td></tr><tr><td>HL Touring Frame - Blue 54</td></tr><tr><td>HL Touring Frame - Blue 60</td></tr><tr><td>HL Touring Frame - Blue 60</td></tr><tr><td>LL Touring Frame - Blue 58</td></tr><tr><td>LL Touring Frame - Blue 58</td></tr><tr><td>LL Touring Frame - Blue 62</td></tr><tr><td>LL Touring Frame - Blue 62</td></tr><tr><td>LL Touring Frame - Yellow 58</td></tr><tr><td>LL Touring Frame - Yellow 58</td></tr><tr><td>LL Touring Frame - Yellow 58</td></tr><tr><td>LL Touring Frame - Yellow 58</td></tr><tr><td>ML Mountain Frame-W - Silver 46</td></tr><tr><td>ML Mountain Frame-W - Silver 46</td></tr><tr><td>LL Mountain Seat/Saddle</td></tr><tr><td>LL Mountain Seat/Saddle</td></tr><tr><td>LL Mountain Seat/Saddle</td></tr><tr><td>LL Mountain Seat/Saddle</td></tr><tr><td>ML Mountain Seat/Saddle</td></tr><tr><td>ML Mountain Seat/Saddle</td></tr><tr><td>ML Mountain Seat/Saddle</td></tr><tr><td>ML Mountain Seat/Saddle</td></tr><tr><td>LL Mountain Frame - Silver 42</td></tr><tr><td>LL Mountain Frame - Silver 42</td></tr><tr><td>Mountain Tire Tube</td></tr><tr><td>Mountain Tire Tube</td></tr><tr><td>LL Mountain Frame - Black 52</td></tr><tr><td>LL Mountain Frame - Black 52</td></tr><tr><td>LL Mountain Tire</td></tr><tr><td>LL Mountain Tire</td></tr><tr><td>LL Mountain Pedal</td></tr><tr><td>LL Mountain Pedal</td></tr><tr><td>ML Mountain Frame-W - Silver 38</td></tr><tr><td>ML Mountain Frame-W - Silver 38</td></tr><tr><td>Mountain-400-W Silver 42</td></tr><tr><td>Mountain-400-W Silver 42</td></tr><tr><td>Mountain-400-W Silver 46</td></tr><tr><td>Mountain-400-W Silver 46</td></tr><tr><td>Mountain-400-W Silver 46</td></tr><tr><td>Mountain-400-W Silver 46</td></tr><tr><td>Mountain-500 Silver 42</td></tr><tr><td>Mountain-500 Silver 42</td></tr><tr><td>Mountain-500 Silver 42</td></tr><tr><td>Mountain-500 Silver 42</td></tr><tr><td>Mountain-500 Silver 44</td></tr><tr><td>Mountain-500 Silver 44</td></tr><tr><td>Mountain-500 Silver 48</td></tr><tr><td>Mountain-500 Silver 48</td></tr><tr><td>Mountain-500 Silver 48</td></tr><tr><td>Mountain-500 Silver 48</td></tr><tr><td>Mountain-500 Silver 52</td></tr><tr><td>Mountain-500 Silver 52</td></tr><tr><td>Mountain-500 Black 40</td></tr><tr><td>Mountain-500 Black 40</td></tr><tr><td>Mountain-500 Black 40</td></tr><tr><td>Mountain-500 Black 40</td></tr><tr><td>Mountain-500 Black 52</td></tr><tr><td>Mountain-500 Black 52</td></tr></table>"
                    },
                    "metadata": {}
                }
            ],
            "execution_count": 1
        },
        {
            "cell_type": "markdown",
            "source": [
                "Running the query would allow you to identify the sales performance of the bike product category specifically for mountain and frame products. You could also get a breakdown of sales by product by grouping the results of the query by the Products. Name field and using a sum function on the Quantity field to get the total quantity sold for each product.\n",
                "\n",
                "In order to aggregate the data according to customer loyalty, you might link the Customers and Sales tables using the CustomerID field. The total number of products bought by each consumer may then be obtained using a sum function applied to the Quantity variable. The most devoted consumers might then be determined by ranking the clients according to the total amount of purchases.\n",
                "\n",
                "You may use the results of this query as a starting point for data mining and forecasting in order to find trends and patterns in the long-term sales of mountain and frame products. To do this, you may include a date field in the Sales table and aggregate the outcomes by date. Then you may spot any trends or patterns in the sales over time using statistical methods and data visualisation tools.\n",
                "\n",
                "You might also create prediction models using data modelling techniques that can project future sales of mountain and frame items based on historical sales information. This may entail using the sales data to train a machine learning model, then using the model to forecast future sales.\n",
                "\n",
                "In general, the insight you can obtain from executing this query depends on the particular questions you're attempting to answer and the data you have at your disposal. To arrive at precise and significant results, it will be crucial to carefully analyse the constraints of the data and the assumptions you are making in your research."
            ],
            "metadata": {
                "azdata_cell_guid": "8f71c5ec-ea2b-4f57-931b-853e880769f1"
            },
            "attachments": {}
        }
    ]
}