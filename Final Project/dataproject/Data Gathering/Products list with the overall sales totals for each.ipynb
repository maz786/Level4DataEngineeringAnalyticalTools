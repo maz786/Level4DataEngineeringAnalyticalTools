{
    "metadata": {
        "kernelspec": {
            "name": "SQL",
            "display_name": "SQL",
            "language": "sql"
        },
        "language_info": {
            "name": "sql",
            "version": ""
        }
    },
    "nbformat_minor": 2,
    "nbformat": 4,
    "cells": [
        {
            "cell_type": "markdown",
            "source": [
                "**<u>Products list with the overall sales totals for each</u>**"
            ],
            "metadata": {
                "azdata_cell_guid": "23500836-9f84-4bbf-9258-a298db04f55b"
            },
            "attachments": {}
        },
        {
            "cell_type": "code",
            "source": [
                "SELECT Products.Name, SUM(Sales.Quantity) as TotalQuantity\n",
                "FROM Sales\n",
                "INNER JOIN Products ON Sales.ProductID = Products.ProductID\n",
                "GROUP BY Products.Name"
            ],
            "metadata": {
                "azdata_cell_guid": "47fdebcc-bebd-4b28-863f-745b4838912f",
                "language": "sql"
            },
            "outputs": [
                {
                    "output_type": "display_data",
                    "data": {
                        "text/html": "(224 rows affected)"
                    },
                    "metadata": {}
                },
                {
                    "output_type": "display_data",
                    "data": {
                        "text/html": "Total execution time: 00:00:00.056"
                    },
                    "metadata": {}
                },
                {
                    "output_type": "execute_result",
                    "execution_count": 1,
                    "data": {
                        "application/vnd.dataresource+json": {
                            "schema": {
                                "fields": [
                                    {
                                        "name": "Name"
                                    },
                                    {
                                        "name": "TotalQuantity"
                                    }
                                ]
                            },
                            "data": [
                                {
                                    "0": "Bearing Ball",
                                    "1": "5"
                                },
                                {
                                    "0": "Blade",
                                    "1": "1"
                                },
                                {
                                    "0": "Cable Lock",
                                    "1": "9"
                                },
                                {
                                    "0": "Chain Stays",
                                    "1": "4"
                                },
                                {
                                    "0": "Chainring",
                                    "1": "10"
                                },
                                {
                                    "0": "Chainring Bolts",
                                    "1": "4"
                                },
                                {
                                    "0": "Classic Vest M",
                                    "1": "16"
                                },
                                {
                                    "0": "Cone-Shaped Race",
                                    "1": "1"
                                },
                                {
                                    "0": "Decal 2",
                                    "1": "7"
                                },
                                {
                                    "0": "External Lock Washer 3",
                                    "1": "7"
                                },
                                {
                                    "0": "External Lock Washer 4",
                                    "1": "8"
                                },
                                {
                                    "0": "External Lock Washer 5",
                                    "1": "8"
                                },
                                {
                                    "0": "Fender Set - Mountain",
                                    "1": "11"
                                },
                                {
                                    "0": "Flat Washer 1",
                                    "1": "12"
                                },
                                {
                                    "0": "Flat Washer 2",
                                    "1": "4"
                                },
                                {
                                    "0": "Flat Washer 5",
                                    "1": "16"
                                },
                                {
                                    "0": "Fork Crown",
                                    "1": "10"
                                },
                                {
                                    "0": "Fork End",
                                    "1": "16"
                                },
                                {
                                    "0": "Freewheel",
                                    "1": "5"
                                },
                                {
                                    "0": "Front Brakes",
                                    "1": "7"
                                },
                                {
                                    "0": "Front Derailleur",
                                    "1": "2"
                                },
                                {
                                    "0": "Front Derailleur Linkage",
                                    "1": "5"
                                },
                                {
                                    "0": "Full-Finger Gloves S",
                                    "1": "10"
                                },
                                {
                                    "0": "Guide Pulley",
                                    "1": "6"
                                },
                                {
                                    "0": "Half-Finger Gloves L",
                                    "1": "4"
                                },
                                {
                                    "0": "Handlebar Tube",
                                    "1": "17"
                                },
                                {
                                    "0": "Headset Ball Bearings",
                                    "1": "8"
                                },
                                {
                                    "0": "Hex Nut 1",
                                    "1": "10"
                                },
                                {
                                    "0": "Hex Nut 10",
                                    "1": "5"
                                },
                                {
                                    "0": "Hex Nut 17",
                                    "1": "9"
                                },
                                {
                                    "0": "Hex Nut 19",
                                    "1": "10"
                                },
                                {
                                    "0": "Hex Nut 2",
                                    "1": "4"
                                },
                                {
                                    "0": "Hex Nut 20",
                                    "1": "3"
                                },
                                {
                                    "0": "Hex Nut 22",
                                    "1": "17"
                                },
                                {
                                    "0": "Hex Nut 4",
                                    "1": "18"
                                },
                                {
                                    "0": "Hex Nut 6",
                                    "1": "5"
                                },
                                {
                                    "0": "Hex Nut 8",
                                    "1": "5"
                                },
                                {
                                    "0": "Hex Nut 9",
                                    "1": "2"
                                },
                                {
                                    "0": "Hitch Rack - 4-Bike",
                                    "1": "10"
                                },
                                {
                                    "0": "HL Bottom Bracket",
                                    "1": "6"
                                },
                                {
                                    "0": "HL Crankarm",
                                    "1": "8"
                                },
                                {
                                    "0": "HL Crankset",
                                    "1": "7"
                                },
                                {
                                    "0": "HL Grip Tape",
                                    "1": "8"
                                },
                                {
                                    "0": "HL Headset",
                                    "1": "15"
                                },
                                {
                                    "0": "HL Hub",
                                    "1": "4"
                                },
                                {
                                    "0": "HL Mountain Frame - Black 42",
                                    "1": "1"
                                },
                                {
                                    "0": "HL Mountain Frame - Black 44",
                                    "1": "6"
                                },
                                {
                                    "0": "HL Mountain Frame - Black 46",
                                    "1": "24"
                                },
                                {
                                    "0": "HL Mountain Frame - Silver 44",
                                    "1": "14"
                                },
                                {
                                    "0": "HL Mountain Handlebars",
                                    "1": "6"
                                },
                                {
                                    "0": "HL Mountain Seat Assembly",
                                    "1": "10"
                                },
                                {
                                    "0": "HL Nipple",
                                    "1": "6"
                                },
                                {
                                    "0": "HL Road Frame - Black 44",
                                    "1": "13"
                                },
                                {
                                    "0": "HL Road Frame - Black 52",
                                    "1": "7"
                                },
                                {
                                    "0": "HL Road Frame - Black 58",
                                    "1": "2"
                                },
                                {
                                    "0": "HL Road Frame - Red 44",
                                    "1": "2"
                                },
                                {
                                    "0": "HL Road Frame - Red 48",
                                    "1": "6"
                                },
                                {
                                    "0": "HL Road Frame - Red 52",
                                    "1": "9"
                                },
                                {
                                    "0": "HL Road Frame - Red 58",
                                    "1": "9"
                                },
                                {
                                    "0": "HL Road Front Wheel",
                                    "1": "7"
                                },
                                {
                                    "0": "HL Road Handlebars",
                                    "1": "5"
                                },
                                {
                                    "0": "HL Road Rim",
                                    "1": "5"
                                },
                                {
                                    "0": "HL Road Tire",
                                    "1": "6"
                                },
                                {
                                    "0": "HL Shell",
                                    "1": "8"
                                },
                                {
                                    "0": "HL Touring Frame - Blue 46",
                                    "1": "5"
                                },
                                {
                                    "0": "HL Touring Frame - Blue 54",
                                    "1": "1"
                                },
                                {
                                    "0": "HL Touring Frame - Blue 60",
                                    "1": "10"
                                },
                                {
                                    "0": "HL Touring Frame - Yellow 46",
                                    "1": "16"
                                },
                                {
                                    "0": "HL Touring Frame - Yellow 54",
                                    "1": "4"
                                },
                                {
                                    "0": "HL Touring Frame - Yellow 60",
                                    "1": "14"
                                },
                                {
                                    "0": "Internal Lock Washer 1",
                                    "1": "25"
                                },
                                {
                                    "0": "Internal Lock Washer 6",
                                    "1": "9"
                                },
                                {
                                    "0": "LL Fork",
                                    "1": "2"
                                },
                                {
                                    "0": "LL Mountain Frame - Black 52",
                                    "1": "4"
                                },
                                {
                                    "0": "LL Mountain Frame - Silver 42",
                                    "1": "10"
                                },
                                {
                                    "0": "LL Mountain Pedal",
                                    "1": "2"
                                },
                                {
                                    "0": "LL Mountain Rim",
                                    "1": "10"
                                },
                                {
                                    "0": "LL Mountain Seat/Saddle",
                                    "1": "6"
                                },
                                {
                                    "0": "LL Mountain Tire",
                                    "1": "6"
                                },
                                {
                                    "0": "LL Nipple",
                                    "1": "8"
                                },
                                {
                                    "0": "LL Road Frame - Black 52",
                                    "1": "15"
                                },
                                {
                                    "0": "LL Road Frame - Red 52",
                                    "1": "3"
                                },
                                {
                                    "0": "LL Road Frame - Red 62",
                                    "1": "9"
                                },
                                {
                                    "0": "LL Road Front Wheel",
                                    "1": "8"
                                },
                                {
                                    "0": "LL Road Handlebars",
                                    "1": "13"
                                },
                                {
                                    "0": "LL Road Rear Wheel",
                                    "1": "8"
                                },
                                {
                                    "0": "LL Road Seat Assembly",
                                    "1": "2"
                                },
                                {
                                    "0": "LL Road Seat/Saddle",
                                    "1": "17"
                                },
                                {
                                    "0": "LL Road Tire",
                                    "1": "7"
                                },
                                {
                                    "0": "LL Shell",
                                    "1": "9"
                                },
                                {
                                    "0": "LL Spindle/Axle",
                                    "1": "1"
                                },
                                {
                                    "0": "LL Touring Frame - Blue 58",
                                    "1": "10"
                                },
                                {
                                    "0": "LL Touring Frame - Blue 62",
                                    "1": "6"
                                },
                                {
                                    "0": "LL Touring Frame - Yellow 58",
                                    "1": "13"
                                },
                                {
                                    "0": "LL Touring Seat Assembly",
                                    "1": "1"
                                },
                                {
                                    "0": "LL Touring Seat/Saddle",
                                    "1": "2"
                                },
                                {
                                    "0": "Lock Nut 13",
                                    "1": "10"
                                },
                                {
                                    "0": "Lock Nut 15",
                                    "1": "6"
                                },
                                {
                                    "0": "Lock Nut 18",
                                    "1": "15"
                                },
                                {
                                    "0": "Lock Nut 22",
                                    "1": "14"
                                },
                                {
                                    "0": "Lock Nut 6",
                                    "1": "8"
                                },
                                {
                                    "0": "Lock Nut 7",
                                    "1": "8"
                                },
                                {
                                    "0": "Lock Ring",
                                    "1": "20"
                                },
                                {
                                    "0": "Lock Washer 10",
                                    "1": "23"
                                },
                                {
                                    "0": "Lock Washer 3",
                                    "1": "4"
                                },
                                {
                                    "0": "Lock Washer 5",
                                    "1": "9"
                                },
                                {
                                    "0": "Lock Washer 7",
                                    "1": "7"
                                },
                                {
                                    "0": "Lock Washer 8",
                                    "1": "2"
                                },
                                {
                                    "0": "Long-Sleeve Logo Jersey L",
                                    "1": "10"
                                },
                                {
                                    "0": "Long-Sleeve Logo Jersey M",
                                    "1": "5"
                                },
                                {
                                    "0": "Long-Sleeve Logo Jersey S",
                                    "1": "9"
                                },
                                {
                                    "0": "Long-Sleeve Logo Jersey XL",
                                    "1": "7"
                                },
                                {
                                    "0": "Mens Sports Shorts L",
                                    "1": "3"
                                },
                                {
                                    "0": "Metal Bar 1",
                                    "1": "1"
                                },
                                {
                                    "0": "Metal Bar 2",
                                    "1": "9"
                                },
                                {
                                    "0": "Metal Plate 2",
                                    "1": "3"
                                },
                                {
                                    "0": "Metal Sheet 1",
                                    "1": "5"
                                },
                                {
                                    "0": "Metal Sheet 2",
                                    "1": "2"
                                },
                                {
                                    "0": "Metal Sheet 5",
                                    "1": "2"
                                },
                                {
                                    "0": "Metal Sheet 6",
                                    "1": "6"
                                },
                                {
                                    "0": "Metal Sheet 7",
                                    "1": "7"
                                },
                                {
                                    "0": "Metal Tread Plate",
                                    "1": "9"
                                },
                                {
                                    "0": "ML Headset",
                                    "1": "12"
                                },
                                {
                                    "0": "ML Mountain Frame - Black 38",
                                    "1": "5"
                                },
                                {
                                    "0": "ML Mountain Frame - Black 48",
                                    "1": "16"
                                },
                                {
                                    "0": "ML Mountain Frame-W - Silver 38",
                                    "1": "4"
                                },
                                {
                                    "0": "ML Mountain Frame-W - Silver 46",
                                    "1": "2"
                                },
                                {
                                    "0": "ML Mountain Handlebars",
                                    "1": "2"
                                },
                                {
                                    "0": "ML Mountain Rim",
                                    "1": "2"
                                },
                                {
                                    "0": "ML Mountain Seat/Saddle",
                                    "1": "16"
                                },
                                {
                                    "0": "ML Road Frame - Red 58",
                                    "1": "10"
                                },
                                {
                                    "0": "ML Road Frame-W - Yellow 42",
                                    "1": "5"
                                },
                                {
                                    "0": "ML Road Handlebars",
                                    "1": "8"
                                },
                                {
                                    "0": "ML Road Pedal",
                                    "1": "4"
                                },
                                {
                                    "0": "ML Road Rim",
                                    "1": "7"
                                },
                                {
                                    "0": "ML Road Tire",
                                    "1": "5"
                                },
                                {
                                    "0": "ML Touring Seat Assembly",
                                    "1": "2"
                                },
                                {
                                    "0": "ML Touring Seat/Saddle",
                                    "1": "2"
                                },
                                {
                                    "0": "Mountain Bike Socks L",
                                    "1": "10"
                                },
                                {
                                    "0": "Mountain Bike Socks M",
                                    "1": "16"
                                },
                                {
                                    "0": "Mountain End Caps",
                                    "1": "12"
                                },
                                {
                                    "0": "Mountain Tire Tube",
                                    "1": "3"
                                },
                                {
                                    "0": "Mountain-100 Black 38",
                                    "1": "7"
                                },
                                {
                                    "0": "Mountain-100 Black 42",
                                    "1": "8"
                                },
                                {
                                    "0": "Mountain-100 Black 48",
                                    "1": "6"
                                },
                                {
                                    "0": "Mountain-100 Silver 38",
                                    "1": "14"
                                },
                                {
                                    "0": "Mountain-200 Black 38",
                                    "1": "16"
                                },
                                {
                                    "0": "Mountain-200 Silver 38",
                                    "1": "2"
                                },
                                {
                                    "0": "Mountain-200 Silver 42",
                                    "1": "2"
                                },
                                {
                                    "0": "Mountain-200 Silver 46",
                                    "1": "1"
                                },
                                {
                                    "0": "Mountain-300 Black 40",
                                    "1": "1"
                                },
                                {
                                    "0": "Mountain-300 Black 48",
                                    "1": "10"
                                },
                                {
                                    "0": "Mountain-400-W Silver 42",
                                    "1": "7"
                                },
                                {
                                    "0": "Mountain-400-W Silver 46",
                                    "1": "16"
                                },
                                {
                                    "0": "Mountain-500 Black 40",
                                    "1": "8"
                                },
                                {
                                    "0": "Mountain-500 Black 52",
                                    "1": "10"
                                },
                                {
                                    "0": "Mountain-500 Silver 42",
                                    "1": "15"
                                },
                                {
                                    "0": "Mountain-500 Silver 44",
                                    "1": "8"
                                },
                                {
                                    "0": "Mountain-500 Silver 48",
                                    "1": "18"
                                },
                                {
                                    "0": "Mountain-500 Silver 52",
                                    "1": "1"
                                },
                                {
                                    "0": "Paint - Black",
                                    "1": "1"
                                },
                                {
                                    "0": "Paint - Red",
                                    "1": "5"
                                },
                                {
                                    "0": "Patch Kit/8 Patches",
                                    "1": "1"
                                },
                                {
                                    "0": "Rear Derailleur Cage",
                                    "1": "6"
                                },
                                {
                                    "0": "Road Bottle Cage",
                                    "1": "9"
                                },
                                {
                                    "0": "Road-150 Red 44",
                                    "1": "11"
                                },
                                {
                                    "0": "Road-150 Red 48",
                                    "1": "12"
                                },
                                {
                                    "0": "Road-150 Red 52",
                                    "1": "7"
                                },
                                {
                                    "0": "Road-250 Red 44",
                                    "1": "7"
                                },
                                {
                                    "0": "Road-250 Red 48",
                                    "1": "9"
                                },
                                {
                                    "0": "Road-350-W Yellow 40",
                                    "1": "14"
                                },
                                {
                                    "0": "Road-350-W Yellow 42",
                                    "1": "7"
                                },
                                {
                                    "0": "Road-350-W Yellow 48",
                                    "1": "2"
                                },
                                {
                                    "0": "Road-450 Red 44",
                                    "1": "1"
                                },
                                {
                                    "0": "Road-450 Red 48",
                                    "1": "2"
                                },
                                {
                                    "0": "Road-450 Red 52",
                                    "1": "13"
                                },
                                {
                                    "0": "Road-550-W Yellow 38",
                                    "1": "9"
                                },
                                {
                                    "0": "Road-550-W Yellow 40",
                                    "1": "2"
                                },
                                {
                                    "0": "Road-550-W Yellow 42",
                                    "1": "6"
                                },
                                {
                                    "0": "Road-550-W Yellow 44",
                                    "1": "4"
                                },
                                {
                                    "0": "Road-650 Black 44",
                                    "1": "6"
                                },
                                {
                                    "0": "Road-650 Black 48",
                                    "1": "4"
                                },
                                {
                                    "0": "Road-650 Black 58",
                                    "1": "9"
                                },
                                {
                                    "0": "Road-650 Red 44",
                                    "1": "2"
                                },
                                {
                                    "0": "Road-650 Red 48",
                                    "1": "7"
                                },
                                {
                                    "0": "Road-650 Red 58",
                                    "1": "4"
                                },
                                {
                                    "0": "Road-650 Red 62",
                                    "1": "14"
                                },
                                {
                                    "0": "Road-750 Black 52",
                                    "1": "8"
                                },
                                {
                                    "0": "Seat Stays",
                                    "1": "5"
                                },
                                {
                                    "0": "Seat Tube",
                                    "1": "2"
                                },
                                {
                                    "0": "Short-Sleeve Classic Jersey S",
                                    "1": "6"
                                },
                                {
                                    "0": "Spokes",
                                    "1": "9"
                                },
                                {
                                    "0": "Taillights - Battery-PoweRed",
                                    "1": "6"
                                },
                                {
                                    "0": "Thin-Jam Hex Nut 1",
                                    "1": "8"
                                },
                                {
                                    "0": "Thin-Jam Hex Nut 10",
                                    "1": "14"
                                },
                                {
                                    "0": "Thin-Jam Hex Nut 14",
                                    "1": "3"
                                },
                                {
                                    "0": "Thin-Jam Hex Nut 15",
                                    "1": "2"
                                },
                                {
                                    "0": "Thin-Jam Hex Nut 3",
                                    "1": "7"
                                },
                                {
                                    "0": "Thin-Jam Hex Nut 6",
                                    "1": "12"
                                },
                                {
                                    "0": "Thin-Jam Hex Nut 7",
                                    "1": "7"
                                },
                                {
                                    "0": "Thin-Jam Hex Nut 8",
                                    "1": "10"
                                },
                                {
                                    "0": "Thin-Jam Lock Nut 10",
                                    "1": "6"
                                },
                                {
                                    "0": "Thin-Jam Lock Nut 12",
                                    "1": "7"
                                },
                                {
                                    "0": "Thin-Jam Lock Nut 16",
                                    "1": "8"
                                },
                                {
                                    "0": "Thin-Jam Lock Nut 2",
                                    "1": "1"
                                },
                                {
                                    "0": "Thin-Jam Lock Nut 5",
                                    "1": "7"
                                },
                                {
                                    "0": "Thin-Jam Lock Nut 7",
                                    "1": "9"
                                },
                                {
                                    "0": "Thin-Jam Lock Nut 9",
                                    "1": "9"
                                },
                                {
                                    "0": "Touring Rear Wheel",
                                    "1": "10"
                                },
                                {
                                    "0": "Touring-1000 Blue 50",
                                    "1": "10"
                                },
                                {
                                    "0": "Touring-1000 Blue 54",
                                    "1": "8"
                                },
                                {
                                    "0": "Touring-1000 Blue 60",
                                    "1": "4"
                                },
                                {
                                    "0": "Touring-1000 Yellow 46",
                                    "1": "3"
                                },
                                {
                                    "0": "Touring-2000 Blue 46",
                                    "1": "9"
                                },
                                {
                                    "0": "Touring-2000 Blue 50",
                                    "1": "5"
                                },
                                {
                                    "0": "Touring-2000 Blue 54",
                                    "1": "9"
                                },
                                {
                                    "0": "Touring-3000 Blue 44",
                                    "1": "5"
                                },
                                {
                                    "0": "Touring-3000 Blue 62",
                                    "1": "9"
                                },
                                {
                                    "0": "Touring-3000 Yellow 44",
                                    "1": "9"
                                },
                                {
                                    "0": "Touring-3000 Yellow 54",
                                    "1": "10"
                                },
                                {
                                    "0": "Touring-Panniers Large",
                                    "1": "4"
                                },
                                {
                                    "0": "Womens Mountain Shorts L",
                                    "1": "1"
                                },
                                {
                                    "0": "Womens Mountain Shorts M",
                                    "1": "6"
                                },
                                {
                                    "0": "Womens Tights L",
                                    "1": "1"
                                }
                            ]
                        },
                        "text/html": "<table><tr><th>Name</th><th>TotalQuantity</th></tr><tr><td>Bearing Ball</td><td>5</td></tr><tr><td>Blade</td><td>1</td></tr><tr><td>Cable Lock</td><td>9</td></tr><tr><td>Chain Stays</td><td>4</td></tr><tr><td>Chainring</td><td>10</td></tr><tr><td>Chainring Bolts</td><td>4</td></tr><tr><td>Classic Vest M</td><td>16</td></tr><tr><td>Cone-Shaped Race</td><td>1</td></tr><tr><td>Decal 2</td><td>7</td></tr><tr><td>External Lock Washer 3</td><td>7</td></tr><tr><td>External Lock Washer 4</td><td>8</td></tr><tr><td>External Lock Washer 5</td><td>8</td></tr><tr><td>Fender Set - Mountain</td><td>11</td></tr><tr><td>Flat Washer 1</td><td>12</td></tr><tr><td>Flat Washer 2</td><td>4</td></tr><tr><td>Flat Washer 5</td><td>16</td></tr><tr><td>Fork Crown</td><td>10</td></tr><tr><td>Fork End</td><td>16</td></tr><tr><td>Freewheel</td><td>5</td></tr><tr><td>Front Brakes</td><td>7</td></tr><tr><td>Front Derailleur</td><td>2</td></tr><tr><td>Front Derailleur Linkage</td><td>5</td></tr><tr><td>Full-Finger Gloves S</td><td>10</td></tr><tr><td>Guide Pulley</td><td>6</td></tr><tr><td>Half-Finger Gloves L</td><td>4</td></tr><tr><td>Handlebar Tube</td><td>17</td></tr><tr><td>Headset Ball Bearings</td><td>8</td></tr><tr><td>Hex Nut 1</td><td>10</td></tr><tr><td>Hex Nut 10</td><td>5</td></tr><tr><td>Hex Nut 17</td><td>9</td></tr><tr><td>Hex Nut 19</td><td>10</td></tr><tr><td>Hex Nut 2</td><td>4</td></tr><tr><td>Hex Nut 20</td><td>3</td></tr><tr><td>Hex Nut 22</td><td>17</td></tr><tr><td>Hex Nut 4</td><td>18</td></tr><tr><td>Hex Nut 6</td><td>5</td></tr><tr><td>Hex Nut 8</td><td>5</td></tr><tr><td>Hex Nut 9</td><td>2</td></tr><tr><td>Hitch Rack - 4-Bike</td><td>10</td></tr><tr><td>HL Bottom Bracket</td><td>6</td></tr><tr><td>HL Crankarm</td><td>8</td></tr><tr><td>HL Crankset</td><td>7</td></tr><tr><td>HL Grip Tape</td><td>8</td></tr><tr><td>HL Headset</td><td>15</td></tr><tr><td>HL Hub</td><td>4</td></tr><tr><td>HL Mountain Frame - Black 42</td><td>1</td></tr><tr><td>HL Mountain Frame - Black 44</td><td>6</td></tr><tr><td>HL Mountain Frame - Black 46</td><td>24</td></tr><tr><td>HL Mountain Frame - Silver 44</td><td>14</td></tr><tr><td>HL Mountain Handlebars</td><td>6</td></tr><tr><td>HL Mountain Seat Assembly</td><td>10</td></tr><tr><td>HL Nipple</td><td>6</td></tr><tr><td>HL Road Frame - Black 44</td><td>13</td></tr><tr><td>HL Road Frame - Black 52</td><td>7</td></tr><tr><td>HL Road Frame - Black 58</td><td>2</td></tr><tr><td>HL Road Frame - Red 44</td><td>2</td></tr><tr><td>HL Road Frame - Red 48</td><td>6</td></tr><tr><td>HL Road Frame - Red 52</td><td>9</td></tr><tr><td>HL Road Frame - Red 58</td><td>9</td></tr><tr><td>HL Road Front Wheel</td><td>7</td></tr><tr><td>HL Road Handlebars</td><td>5</td></tr><tr><td>HL Road Rim</td><td>5</td></tr><tr><td>HL Road Tire</td><td>6</td></tr><tr><td>HL Shell</td><td>8</td></tr><tr><td>HL Touring Frame - Blue 46</td><td>5</td></tr><tr><td>HL Touring Frame - Blue 54</td><td>1</td></tr><tr><td>HL Touring Frame - Blue 60</td><td>10</td></tr><tr><td>HL Touring Frame - Yellow 46</td><td>16</td></tr><tr><td>HL Touring Frame - Yellow 54</td><td>4</td></tr><tr><td>HL Touring Frame - Yellow 60</td><td>14</td></tr><tr><td>Internal Lock Washer 1</td><td>25</td></tr><tr><td>Internal Lock Washer 6</td><td>9</td></tr><tr><td>LL Fork</td><td>2</td></tr><tr><td>LL Mountain Frame - Black 52</td><td>4</td></tr><tr><td>LL Mountain Frame - Silver 42</td><td>10</td></tr><tr><td>LL Mountain Pedal</td><td>2</td></tr><tr><td>LL Mountain Rim</td><td>10</td></tr><tr><td>LL Mountain Seat/Saddle</td><td>6</td></tr><tr><td>LL Mountain Tire</td><td>6</td></tr><tr><td>LL Nipple</td><td>8</td></tr><tr><td>LL Road Frame - Black 52</td><td>15</td></tr><tr><td>LL Road Frame - Red 52</td><td>3</td></tr><tr><td>LL Road Frame - Red 62</td><td>9</td></tr><tr><td>LL Road Front Wheel</td><td>8</td></tr><tr><td>LL Road Handlebars</td><td>13</td></tr><tr><td>LL Road Rear Wheel</td><td>8</td></tr><tr><td>LL Road Seat Assembly</td><td>2</td></tr><tr><td>LL Road Seat/Saddle</td><td>17</td></tr><tr><td>LL Road Tire</td><td>7</td></tr><tr><td>LL Shell</td><td>9</td></tr><tr><td>LL Spindle/Axle</td><td>1</td></tr><tr><td>LL Touring Frame - Blue 58</td><td>10</td></tr><tr><td>LL Touring Frame - Blue 62</td><td>6</td></tr><tr><td>LL Touring Frame - Yellow 58</td><td>13</td></tr><tr><td>LL Touring Seat Assembly</td><td>1</td></tr><tr><td>LL Touring Seat/Saddle</td><td>2</td></tr><tr><td>Lock Nut 13</td><td>10</td></tr><tr><td>Lock Nut 15</td><td>6</td></tr><tr><td>Lock Nut 18</td><td>15</td></tr><tr><td>Lock Nut 22</td><td>14</td></tr><tr><td>Lock Nut 6</td><td>8</td></tr><tr><td>Lock Nut 7</td><td>8</td></tr><tr><td>Lock Ring</td><td>20</td></tr><tr><td>Lock Washer 10</td><td>23</td></tr><tr><td>Lock Washer 3</td><td>4</td></tr><tr><td>Lock Washer 5</td><td>9</td></tr><tr><td>Lock Washer 7</td><td>7</td></tr><tr><td>Lock Washer 8</td><td>2</td></tr><tr><td>Long-Sleeve Logo Jersey L</td><td>10</td></tr><tr><td>Long-Sleeve Logo Jersey M</td><td>5</td></tr><tr><td>Long-Sleeve Logo Jersey S</td><td>9</td></tr><tr><td>Long-Sleeve Logo Jersey XL</td><td>7</td></tr><tr><td>Mens Sports Shorts L</td><td>3</td></tr><tr><td>Metal Bar 1</td><td>1</td></tr><tr><td>Metal Bar 2</td><td>9</td></tr><tr><td>Metal Plate 2</td><td>3</td></tr><tr><td>Metal Sheet 1</td><td>5</td></tr><tr><td>Metal Sheet 2</td><td>2</td></tr><tr><td>Metal Sheet 5</td><td>2</td></tr><tr><td>Metal Sheet 6</td><td>6</td></tr><tr><td>Metal Sheet 7</td><td>7</td></tr><tr><td>Metal Tread Plate</td><td>9</td></tr><tr><td>ML Headset</td><td>12</td></tr><tr><td>ML Mountain Frame - Black 38</td><td>5</td></tr><tr><td>ML Mountain Frame - Black 48</td><td>16</td></tr><tr><td>ML Mountain Frame-W - Silver 38</td><td>4</td></tr><tr><td>ML Mountain Frame-W - Silver 46</td><td>2</td></tr><tr><td>ML Mountain Handlebars</td><td>2</td></tr><tr><td>ML Mountain Rim</td><td>2</td></tr><tr><td>ML Mountain Seat/Saddle</td><td>16</td></tr><tr><td>ML Road Frame - Red 58</td><td>10</td></tr><tr><td>ML Road Frame-W - Yellow 42</td><td>5</td></tr><tr><td>ML Road Handlebars</td><td>8</td></tr><tr><td>ML Road Pedal</td><td>4</td></tr><tr><td>ML Road Rim</td><td>7</td></tr><tr><td>ML Road Tire</td><td>5</td></tr><tr><td>ML Touring Seat Assembly</td><td>2</td></tr><tr><td>ML Touring Seat/Saddle</td><td>2</td></tr><tr><td>Mountain Bike Socks L</td><td>10</td></tr><tr><td>Mountain Bike Socks M</td><td>16</td></tr><tr><td>Mountain End Caps</td><td>12</td></tr><tr><td>Mountain Tire Tube</td><td>3</td></tr><tr><td>Mountain-100 Black 38</td><td>7</td></tr><tr><td>Mountain-100 Black 42</td><td>8</td></tr><tr><td>Mountain-100 Black 48</td><td>6</td></tr><tr><td>Mountain-100 Silver 38</td><td>14</td></tr><tr><td>Mountain-200 Black 38</td><td>16</td></tr><tr><td>Mountain-200 Silver 38</td><td>2</td></tr><tr><td>Mountain-200 Silver 42</td><td>2</td></tr><tr><td>Mountain-200 Silver 46</td><td>1</td></tr><tr><td>Mountain-300 Black 40</td><td>1</td></tr><tr><td>Mountain-300 Black 48</td><td>10</td></tr><tr><td>Mountain-400-W Silver 42</td><td>7</td></tr><tr><td>Mountain-400-W Silver 46</td><td>16</td></tr><tr><td>Mountain-500 Black 40</td><td>8</td></tr><tr><td>Mountain-500 Black 52</td><td>10</td></tr><tr><td>Mountain-500 Silver 42</td><td>15</td></tr><tr><td>Mountain-500 Silver 44</td><td>8</td></tr><tr><td>Mountain-500 Silver 48</td><td>18</td></tr><tr><td>Mountain-500 Silver 52</td><td>1</td></tr><tr><td>Paint - Black</td><td>1</td></tr><tr><td>Paint - Red</td><td>5</td></tr><tr><td>Patch Kit/8 Patches</td><td>1</td></tr><tr><td>Rear Derailleur Cage</td><td>6</td></tr><tr><td>Road Bottle Cage</td><td>9</td></tr><tr><td>Road-150 Red 44</td><td>11</td></tr><tr><td>Road-150 Red 48</td><td>12</td></tr><tr><td>Road-150 Red 52</td><td>7</td></tr><tr><td>Road-250 Red 44</td><td>7</td></tr><tr><td>Road-250 Red 48</td><td>9</td></tr><tr><td>Road-350-W Yellow 40</td><td>14</td></tr><tr><td>Road-350-W Yellow 42</td><td>7</td></tr><tr><td>Road-350-W Yellow 48</td><td>2</td></tr><tr><td>Road-450 Red 44</td><td>1</td></tr><tr><td>Road-450 Red 48</td><td>2</td></tr><tr><td>Road-450 Red 52</td><td>13</td></tr><tr><td>Road-550-W Yellow 38</td><td>9</td></tr><tr><td>Road-550-W Yellow 40</td><td>2</td></tr><tr><td>Road-550-W Yellow 42</td><td>6</td></tr><tr><td>Road-550-W Yellow 44</td><td>4</td></tr><tr><td>Road-650 Black 44</td><td>6</td></tr><tr><td>Road-650 Black 48</td><td>4</td></tr><tr><td>Road-650 Black 58</td><td>9</td></tr><tr><td>Road-650 Red 44</td><td>2</td></tr><tr><td>Road-650 Red 48</td><td>7</td></tr><tr><td>Road-650 Red 58</td><td>4</td></tr><tr><td>Road-650 Red 62</td><td>14</td></tr><tr><td>Road-750 Black 52</td><td>8</td></tr><tr><td>Seat Stays</td><td>5</td></tr><tr><td>Seat Tube</td><td>2</td></tr><tr><td>Short-Sleeve Classic Jersey S</td><td>6</td></tr><tr><td>Spokes</td><td>9</td></tr><tr><td>Taillights - Battery-PoweRed</td><td>6</td></tr><tr><td>Thin-Jam Hex Nut 1</td><td>8</td></tr><tr><td>Thin-Jam Hex Nut 10</td><td>14</td></tr><tr><td>Thin-Jam Hex Nut 14</td><td>3</td></tr><tr><td>Thin-Jam Hex Nut 15</td><td>2</td></tr><tr><td>Thin-Jam Hex Nut 3</td><td>7</td></tr><tr><td>Thin-Jam Hex Nut 6</td><td>12</td></tr><tr><td>Thin-Jam Hex Nut 7</td><td>7</td></tr><tr><td>Thin-Jam Hex Nut 8</td><td>10</td></tr><tr><td>Thin-Jam Lock Nut 10</td><td>6</td></tr><tr><td>Thin-Jam Lock Nut 12</td><td>7</td></tr><tr><td>Thin-Jam Lock Nut 16</td><td>8</td></tr><tr><td>Thin-Jam Lock Nut 2</td><td>1</td></tr><tr><td>Thin-Jam Lock Nut 5</td><td>7</td></tr><tr><td>Thin-Jam Lock Nut 7</td><td>9</td></tr><tr><td>Thin-Jam Lock Nut 9</td><td>9</td></tr><tr><td>Touring Rear Wheel</td><td>10</td></tr><tr><td>Touring-1000 Blue 50</td><td>10</td></tr><tr><td>Touring-1000 Blue 54</td><td>8</td></tr><tr><td>Touring-1000 Blue 60</td><td>4</td></tr><tr><td>Touring-1000 Yellow 46</td><td>3</td></tr><tr><td>Touring-2000 Blue 46</td><td>9</td></tr><tr><td>Touring-2000 Blue 50</td><td>5</td></tr><tr><td>Touring-2000 Blue 54</td><td>9</td></tr><tr><td>Touring-3000 Blue 44</td><td>5</td></tr><tr><td>Touring-3000 Blue 62</td><td>9</td></tr><tr><td>Touring-3000 Yellow 44</td><td>9</td></tr><tr><td>Touring-3000 Yellow 54</td><td>10</td></tr><tr><td>Touring-Panniers Large</td><td>4</td></tr><tr><td>Womens Mountain Shorts L</td><td>1</td></tr><tr><td>Womens Mountain Shorts M</td><td>6</td></tr><tr><td>Womens Tights L</td><td>1</td></tr></table>"
                    },
                    "metadata": {}
                }
            ],
            "execution_count": 1
        },
        {
            "cell_type": "markdown",
            "source": [
                "You may find out how much of each product has been sold overall by performing the given query. In order to offer a breakdown of sales by product for the second section of the report, this information would be helpful.\n",
                "\n",
                "  \n",
                "\n",
                "Using data mining techniques, you may utilise this information to spot trends in the yearly sales of particular products. To determine which products are performing better, you may, for instance, analyse the sales of several items within the same category (such as frames and mountain bikes).\n",
                "\n",
                "  \n",
                "\n",
                "Using the sales data for forecasting, you may project the future sales of each product. For instance, you could predict how well a product would perform in the future if you notice that its sales are constantly high.\n",
                "\n",
                "  \n",
                "\n",
                "You may utilise the sales data to detect trends in consumer behaviour using data modelling. For instance, you may examine the sales data to determine whether there are particular seasons of the year when sales are higher or whether particular clients prefer to buy more frequently than other clients.\n",
                "\n",
                "  \n",
                "\n",
                "Overall, using the supplied query would yield useful data for comparing the success of various items and seeing patterns and trends in consumer and sales behaviour."
            ],
            "metadata": {
                "azdata_cell_guid": "1612518c-1653-42fe-b110-437181dfc787"
            },
            "attachments": {}
        }
    ]
}