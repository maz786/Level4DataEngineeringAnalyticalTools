{
    "metadata": {
        "kernelspec": {
            "name": "SQL",
            "display_name": "SQL",
            "language": "sql"
        },
        "language_info": {
            "name": "sql",
            "version": ""
        }
    },
    "nbformat_minor": 2,
    "nbformat": 4,
    "cells": [
        {
            "cell_type": "markdown",
            "source": [
                "**<u>Which items are most frequently bought by each customer</u>**"
            ],
            "metadata": {
                "azdata_cell_guid": "5de41fdf-f5b2-4965-93d2-3a96a47a09c7"
            },
            "attachments": {}
        },
        {
            "cell_type": "code",
            "source": [
                "SELECT Customers.FirstName, Customers.LastName, Products.Name, COUNT(Sales.ProductID) AS NumberOfPurchases\n",
                "FROM Customers\n",
                "INNER JOIN Sales ON Customers.CustomerID = Sales.CustomerID\n",
                "INNER JOIN Products ON Sales.ProductID = Products.ProductID\n",
                "GROUP BY Customers.FirstName, Customers.LastName, Products.Name\n",
                "ORDER BY NumberOfPurchases DESC"
            ],
            "metadata": {
                "azdata_cell_guid": "c339eff2-808d-4219-9d5a-d7c5f3ba2c01",
                "language": "sql"
            },
            "outputs": [
                {
                    "output_type": "display_data",
                    "data": {
                        "text/html": "(300 rows affected)"
                    },
                    "metadata": {}
                },
                {
                    "output_type": "display_data",
                    "data": {
                        "text/html": "Total execution time: 00:00:00.025"
                    },
                    "metadata": {}
                },
                {
                    "output_type": "execute_result",
                    "execution_count": 1,
                    "data": {
                        "application/vnd.dataresource+json": {
                            "schema": {
                                "fields": [
                                    {
                                        "name": "FirstName"
                                    },
                                    {
                                        "name": "LastName"
                                    },
                                    {
                                        "name": "Name"
                                    },
                                    {
                                        "name": "NumberOfPurchases"
                                    }
                                ]
                            },
                            "data": [
                                {
                                    "0": "Aaron",
                                    "1": "Yang",
                                    "2": "HL Road Frame - Black 52",
                                    "3": "1"
                                },
                                {
                                    "0": "Aaron",
                                    "1": "Yang",
                                    "2": "Road-250 Red 44",
                                    "3": "1"
                                },
                                {
                                    "0": "Adam",
                                    "1": "Young",
                                    "2": "Fork End",
                                    "3": "1"
                                },
                                {
                                    "0": "Alan",
                                    "1": "Ye",
                                    "2": "HL Touring Frame - Blue 54",
                                    "3": "1"
                                },
                                {
                                    "0": "Alan",
                                    "1": "Ye",
                                    "2": "Long-Sleeve Logo Jersey S",
                                    "3": "1"
                                },
                                {
                                    "0": "Alejandro",
                                    "1": "Ye",
                                    "2": "HL Mountain Frame - Black 44",
                                    "3": "1"
                                },
                                {
                                    "0": "Alexandra",
                                    "1": "Young",
                                    "2": "Thin-Jam Lock Nut 10",
                                    "3": "1"
                                },
                                {
                                    "0": "Alisha",
                                    "1": "Yang",
                                    "2": "LL Shell",
                                    "3": "1"
                                },
                                {
                                    "0": "Alisha",
                                    "1": "Yang",
                                    "2": "Mountain-500 Silver 52",
                                    "3": "1"
                                },
                                {
                                    "0": "Alisha",
                                    "1": "Ye",
                                    "2": "LL Mountain Tire",
                                    "3": "1"
                                },
                                {
                                    "0": "Alisha",
                                    "1": "Yuan",
                                    "2": "Road Bottle Cage",
                                    "3": "1"
                                },
                                {
                                    "0": "Alisha",
                                    "1": "Yuan",
                                    "2": "Road-350-W Yellow 48",
                                    "3": "1"
                                },
                                {
                                    "0": "Alisha",
                                    "1": "Yuan",
                                    "2": "Touring-3000 Blue 62",
                                    "3": "1"
                                },
                                {
                                    "0": "Alison",
                                    "1": "Yuan",
                                    "2": "HL Mountain Frame - Silver 44",
                                    "3": "1"
                                },
                                {
                                    "0": "Alison",
                                    "1": "Yuan",
                                    "2": "Road-150 Red 44",
                                    "3": "1"
                                },
                                {
                                    "0": "Alvin",
                                    "1": "Yang",
                                    "2": "Long-Sleeve Logo Jersey XL",
                                    "3": "1"
                                },
                                {
                                    "0": "Alvin",
                                    "1": "Ye",
                                    "2": "Guide Pulley",
                                    "3": "1"
                                },
                                {
                                    "0": "Alvin",
                                    "1": "Ye",
                                    "2": "Road-150 Red 52",
                                    "3": "1"
                                },
                                {
                                    "0": "Alvin",
                                    "1": "Yuan",
                                    "2": "HL Grip Tape",
                                    "3": "1"
                                },
                                {
                                    "0": "Alvin",
                                    "1": "Yuan",
                                    "2": "Lock Nut 18",
                                    "3": "1"
                                },
                                {
                                    "0": "Alvin",
                                    "1": "Yuan",
                                    "2": "Road-150 Red 48",
                                    "3": "1"
                                },
                                {
                                    "0": "Amanda",
                                    "1": "Young",
                                    "2": "Hex Nut 17",
                                    "3": "1"
                                },
                                {
                                    "0": "Amanda",
                                    "1": "Young",
                                    "2": "Internal Lock Washer 1",
                                    "3": "1"
                                },
                                {
                                    "0": "Amanda",
                                    "1": "Young",
                                    "2": "Mountain-500 Silver 44",
                                    "3": "1"
                                },
                                {
                                    "0": "Andrea",
                                    "1": "Young",
                                    "2": "Hex Nut 2",
                                    "3": "1"
                                },
                                {
                                    "0": "Angel",
                                    "1": "Young",
                                    "2": "Road-350-W Yellow 40",
                                    "3": "1"
                                },
                                {
                                    "0": "Arthur",
                                    "1": "Yasinski",
                                    "2": "Hex Nut 22",
                                    "3": "1"
                                },
                                {
                                    "0": "Bailey",
                                    "1": "Young",
                                    "2": "Thin-Jam Hex Nut 14",
                                    "3": "1"
                                },
                                {
                                    "0": "Barbara",
                                    "1": "Ye",
                                    "2": "Road-650 Black 44",
                                    "3": "1"
                                },
                                {
                                    "0": "Barbara",
                                    "1": "Yuan",
                                    "2": "Flat Washer 5",
                                    "3": "1"
                                },
                                {
                                    "0": "Bethany",
                                    "1": "Yuan",
                                    "2": "HL Crankarm",
                                    "3": "1"
                                },
                                {
                                    "0": "Bianca",
                                    "1": "Yang",
                                    "2": "Lock Washer 10",
                                    "3": "1"
                                },
                                {
                                    "0": "Blake",
                                    "1": "Young",
                                    "2": "External Lock Washer 3",
                                    "3": "1"
                                },
                                {
                                    "0": "Brad",
                                    "1": "Yuan",
                                    "2": "External Lock Washer 5",
                                    "3": "1"
                                },
                                {
                                    "0": "Bradley",
                                    "1": "Yuan",
                                    "2": "HL Road Front Wheel",
                                    "3": "1"
                                },
                                {
                                    "0": "Brendan",
                                    "1": "Yuan",
                                    "2": "HL Mountain Seat Assembly",
                                    "3": "1"
                                },
                                {
                                    "0": "Brendan",
                                    "1": "Yuan",
                                    "2": "Internal Lock Washer 1",
                                    "3": "1"
                                },
                                {
                                    "0": "Brendan",
                                    "1": "Yuan",
                                    "2": "Long-Sleeve Logo Jersey M",
                                    "3": "1"
                                },
                                {
                                    "0": "Brendan",
                                    "1": "Yuan",
                                    "2": "Womens Mountain Shorts M",
                                    "3": "1"
                                },
                                {
                                    "0": "Brent",
                                    "1": "Yang",
                                    "2": "LL Nipple",
                                    "3": "1"
                                },
                                {
                                    "0": "Brittney",
                                    "1": "Ye",
                                    "2": "Long-Sleeve Logo Jersey L",
                                    "3": "1"
                                },
                                {
                                    "0": "Calvin",
                                    "1": "Yuan",
                                    "2": "Flat Washer 5",
                                    "3": "1"
                                },
                                {
                                    "0": "Calvin",
                                    "1": "Yuan",
                                    "2": "Mountain-500 Silver 48",
                                    "3": "1"
                                },
                                {
                                    "0": "Calvin",
                                    "1": "Yuan",
                                    "2": "Road-150 Red 52",
                                    "3": "1"
                                },
                                {
                                    "0": "Cameron",
                                    "1": "Yang",
                                    "2": "Mountain-300 Black 40",
                                    "3": "1"
                                },
                                {
                                    "0": "Candice",
                                    "1": "Ye",
                                    "2": "HL Road Frame - Black 58",
                                    "3": "1"
                                },
                                {
                                    "0": "Cara",
                                    "1": "Ye",
                                    "2": "Mountain Bike Socks M",
                                    "3": "1"
                                },
                                {
                                    "0": "Carl",
                                    "1": "Yuan",
                                    "2": "ML Road Tire",
                                    "3": "1"
                                },
                                {
                                    "0": "Casey",
                                    "1": "Yuan",
                                    "2": "Lock Washer 5",
                                    "3": "1"
                                },
                                {
                                    "0": "Cedric",
                                    "1": "Ye",
                                    "2": "Road-350-W Yellow 40",
                                    "3": "1"
                                },
                                {
                                    "0": "Cedric",
                                    "1": "Yuan",
                                    "2": "Lock Nut 7",
                                    "3": "1"
                                },
                                {
                                    "0": "Christine",
                                    "1": "Yuan",
                                    "2": "LL Road Seat/Saddle",
                                    "3": "1"
                                },
                                {
                                    "0": "Christine",
                                    "1": "Yuan",
                                    "2": "Womens Mountain Shorts M",
                                    "3": "1"
                                },
                                {
                                    "0": "Christy",
                                    "1": "Ye",
                                    "2": "Full-Finger Gloves S",
                                    "3": "1"
                                },
                                {
                                    "0": "Clarence",
                                    "1": "Yuan",
                                    "2": "LL Touring Frame - Blue 62",
                                    "3": "1"
                                },
                                {
                                    "0": "Clayton",
                                    "1": "Yang",
                                    "2": "Mountain-500 Black 40",
                                    "3": "1"
                                },
                                {
                                    "0": "Colin",
                                    "1": "Yang",
                                    "2": "ML Touring Seat/Saddle",
                                    "3": "1"
                                },
                                {
                                    "0": "Colin",
                                    "1": "Yang",
                                    "2": "Road-550-W Yellow 38",
                                    "3": "1"
                                },
                                {
                                    "0": "Colleen",
                                    "1": "Yang",
                                    "2": "ML Mountain Handlebars",
                                    "3": "1"
                                },
                                {
                                    "0": "Colleen",
                                    "1": "Yuan",
                                    "2": "Cone-Shaped Race",
                                    "3": "1"
                                },
                                {
                                    "0": "Colleen",
                                    "1": "Yuan",
                                    "2": "Handlebar Tube",
                                    "3": "1"
                                },
                                {
                                    "0": "Colleen",
                                    "1": "Yuan",
                                    "2": "Mens Sports Shorts L",
                                    "3": "1"
                                },
                                {
                                    "0": "Connor",
                                    "1": "Yang",
                                    "2": "LL Road Frame - Red 62",
                                    "3": "1"
                                },
                                {
                                    "0": "Connor",
                                    "1": "Yang",
                                    "2": "LL Spindle/Axle",
                                    "3": "1"
                                },
                                {
                                    "0": "Connor",
                                    "1": "Yang",
                                    "2": "Lock Ring",
                                    "3": "1"
                                },
                                {
                                    "0": "Corey",
                                    "1": "Yuan",
                                    "2": "HL Touring Frame - Blue 60",
                                    "3": "1"
                                },
                                {
                                    "0": "Courtney",
                                    "1": "Young",
                                    "2": "External Lock Washer 4",
                                    "3": "1"
                                },
                                {
                                    "0": "Cristina",
                                    "1": "Yuan",
                                    "2": "ML Touring Seat Assembly",
                                    "3": "1"
                                },
                                {
                                    "0": "Cristina",
                                    "1": "Yuan",
                                    "2": "Thin-Jam Lock Nut 10",
                                    "3": "1"
                                },
                                {
                                    "0": "Cristina",
                                    "1": "Yuan",
                                    "2": "Womens Tights L",
                                    "3": "1"
                                },
                                {
                                    "0": "Crystal",
                                    "1": "Yang",
                                    "2": "HL Road Front Wheel",
                                    "3": "1"
                                },
                                {
                                    "0": "Dalton",
                                    "1": "Young",
                                    "2": "ML Headset",
                                    "3": "1"
                                },
                                {
                                    "0": "Damien",
                                    "1": "Ye",
                                    "2": "HL Bottom Bracket",
                                    "3": "1"
                                },
                                {
                                    "0": "Damien",
                                    "1": "Ye",
                                    "2": "Road-250 Red 44",
                                    "3": "1"
                                },
                                {
                                    "0": "Darryl",
                                    "1": "Yang",
                                    "2": "Flat Washer 2",
                                    "3": "1"
                                },
                                {
                                    "0": "Darryl",
                                    "1": "Yang",
                                    "2": "LL Road Front Wheel",
                                    "3": "1"
                                },
                                {
                                    "0": "David",
                                    "1": "Yang",
                                    "2": "HL Road Frame - Red 52",
                                    "3": "1"
                                },
                                {
                                    "0": "Dawn",
                                    "1": "Ye",
                                    "2": "Chain Stays",
                                    "3": "1"
                                },
                                {
                                    "0": "Dawn",
                                    "1": "Yuan",
                                    "2": "HL Touring Frame - Blue 46",
                                    "3": "1"
                                },
                                {
                                    "0": "Dennis",
                                    "1": "Yang",
                                    "2": "Thin-Jam Hex Nut 6",
                                    "3": "1"
                                },
                                {
                                    "0": "Derek",
                                    "1": "Yuan",
                                    "2": "Paint - Red",
                                    "3": "1"
                                },
                                {
                                    "0": "Devin",
                                    "1": "Young",
                                    "2": "Road-650 Red 48",
                                    "3": "1"
                                },
                                {
                                    "0": "Edward",
                                    "1": "Young",
                                    "2": "LL Mountain Seat/Saddle",
                                    "3": "1"
                                },
                                {
                                    "0": "Edward",
                                    "1": "Young",
                                    "2": "ML Road Frame-W - Yellow 42",
                                    "3": "1"
                                },
                                {
                                    "0": "Edwin",
                                    "1": "Yang",
                                    "2": "Chainring Bolts",
                                    "3": "1"
                                },
                                {
                                    "0": "Edwin",
                                    "1": "Yang",
                                    "2": "Road-550-W Yellow 44",
                                    "3": "1"
                                },
                                {
                                    "0": "Edwin",
                                    "1": "Ye",
                                    "2": "ML Headset",
                                    "3": "1"
                                },
                                {
                                    "0": "Edwin",
                                    "1": "Ye",
                                    "2": "Thin-Jam Hex Nut 1",
                                    "3": "1"
                                },
                                {
                                    "0": "Elijah",
                                    "1": "Young",
                                    "2": "HL Mountain Frame - Black 42",
                                    "3": "1"
                                },
                                {
                                    "0": "Ethan",
                                    "1": "Yang",
                                    "2": "Mountain-200 Black 38",
                                    "3": "1"
                                },
                                {
                                    "0": "Eugene",
                                    "1": "Yang",
                                    "2": "Lock Nut 15",
                                    "3": "1"
                                },
                                {
                                    "0": "Franklin",
                                    "1": "Yuan",
                                    "2": "Lock Nut 18",
                                    "3": "1"
                                },
                                {
                                    "0": "Franklin",
                                    "1": "Yuan",
                                    "2": "Touring-Panniers Large",
                                    "3": "1"
                                },
                                {
                                    "0": "Gabriel",
                                    "1": "Yang",
                                    "2": "Metal Bar 2",
                                    "3": "1"
                                },
                                {
                                    "0": "Gabriel",
                                    "1": "Yang",
                                    "2": "Metal Plate 2",
                                    "3": "1"
                                },
                                {
                                    "0": "Gabriel",
                                    "1": "Young",
                                    "2": "ML Mountain Frame - Black 48",
                                    "3": "1"
                                },
                                {
                                    "0": "Gabriella",
                                    "1": "Young",
                                    "2": "Lock Ring",
                                    "3": "1"
                                },
                                {
                                    "0": "Garrett",
                                    "1": "Young",
                                    "2": "Front Derailleur Linkage",
                                    "3": "1"
                                },
                                {
                                    "0": "Gary",
                                    "1": "Yukish",
                                    "2": "Road-250 Red 48",
                                    "3": "1"
                                },
                                {
                                    "0": "Gilbert",
                                    "1": "Yang",
                                    "2": "Lock Washer 10",
                                    "3": "1"
                                },
                                {
                                    "0": "Gilbert",
                                    "1": "Yang",
                                    "2": "ML Mountain Rim",
                                    "3": "1"
                                },
                                {
                                    "0": "Gilbert",
                                    "1": "Yang",
                                    "2": "Road-650 Black 48",
                                    "3": "1"
                                },
                                {
                                    "0": "Gilbert",
                                    "1": "Yang",
                                    "2": "Thin-Jam Hex Nut 6",
                                    "3": "1"
                                },
                                {
                                    "0": "Gilbert",
                                    "1": "Ye",
                                    "2": "Cable Lock",
                                    "3": "1"
                                },
                                {
                                    "0": "Gregory",
                                    "1": "Yuan",
                                    "2": "Lock Nut 13",
                                    "3": "1"
                                },
                                {
                                    "0": "Heather",
                                    "1": "Yang",
                                    "2": "Touring-3000 Yellow 54",
                                    "3": "1"
                                },
                                {
                                    "0": "Ian",
                                    "1": "Young",
                                    "2": "Hitch Rack - 4-Bike",
                                    "3": "1"
                                },
                                {
                                    "0": "Ian",
                                    "1": "Yuhasz",
                                    "2": "HL Touring Frame - Yellow 60",
                                    "3": "1"
                                },
                                {
                                    "0": "Jack",
                                    "1": "Yang",
                                    "2": "ML Road Rim",
                                    "3": "1"
                                },
                                {
                                    "0": "Jackson",
                                    "1": "Yang",
                                    "2": "Touring-2000 Blue 46",
                                    "3": "1"
                                },
                                {
                                    "0": "Jaclyn",
                                    "1": "Yang",
                                    "2": "Metal Sheet 5",
                                    "3": "1"
                                },
                                {
                                    "0": "Jaclyn",
                                    "1": "Yang",
                                    "2": "Touring-2000 Blue 54",
                                    "3": "1"
                                },
                                {
                                    "0": "Jaclyn",
                                    "1": "Ye",
                                    "2": "LL Road Seat/Saddle",
                                    "3": "1"
                                },
                                {
                                    "0": "Jaclyn",
                                    "1": "Ye",
                                    "2": "Metal Sheet 2",
                                    "3": "1"
                                },
                                {
                                    "0": "Jaclyn",
                                    "1": "Yuan",
                                    "2": "Front Derailleur",
                                    "3": "1"
                                },
                                {
                                    "0": "Jaclyn",
                                    "1": "Yuan",
                                    "2": "Road-350-W Yellow 42",
                                    "3": "1"
                                },
                                {
                                    "0": "Jake",
                                    "1": "Yang",
                                    "2": "Lock Washer 3",
                                    "3": "1"
                                },
                                {
                                    "0": "James",
                                    "1": "Young",
                                    "2": "HL Grip Tape",
                                    "3": "1"
                                },
                                {
                                    "0": "James",
                                    "1": "Young",
                                    "2": "Touring-3000 Blue 44",
                                    "3": "1"
                                },
                                {
                                    "0": "Jamie",
                                    "1": "Ye",
                                    "2": "Mountain-500 Silver 42",
                                    "3": "1"
                                },
                                {
                                    "0": "Jamie",
                                    "1": "Ye",
                                    "2": "Touring-2000 Blue 50",
                                    "3": "1"
                                },
                                {
                                    "0": "Janet",
                                    "1": "Young",
                                    "2": "Mountain Tire Tube",
                                    "3": "1"
                                },
                                {
                                    "0": "Janet",
                                    "1": "Young",
                                    "2": "Mountain-100 Silver 38",
                                    "3": "1"
                                },
                                {
                                    "0": "Jason",
                                    "1": "Yang",
                                    "2": "HL Road Frame - Red 58",
                                    "3": "1"
                                },
                                {
                                    "0": "Jason",
                                    "1": "Young",
                                    "2": "Hex Nut 22",
                                    "3": "1"
                                },
                                {
                                    "0": "Jenna",
                                    "1": "Young",
                                    "2": "Mountain-400-W Silver 42",
                                    "3": "1"
                                },
                                {
                                    "0": "Jenny",
                                    "1": "Yang",
                                    "2": "Touring-3000 Yellow 44",
                                    "3": "1"
                                },
                                {
                                    "0": "Jerry",
                                    "1": "Yuan",
                                    "2": "Road-750 Black 52",
                                    "3": "1"
                                },
                                {
                                    "0": "Jesse",
                                    "1": "Young",
                                    "2": "Mountain-200 Silver 38",
                                    "3": "1"
                                },
                                {
                                    "0": "Jessie",
                                    "1": "Yang",
                                    "2": "ML Road Handlebars",
                                    "3": "1"
                                },
                                {
                                    "0": "Jessie",
                                    "1": "Yang",
                                    "2": "Womens Mountain Shorts L",
                                    "3": "1"
                                },
                                {
                                    "0": "Jessie",
                                    "1": "Ye",
                                    "2": "Fork Crown",
                                    "3": "1"
                                },
                                {
                                    "0": "Jessie",
                                    "1": "Ye",
                                    "2": "HL Road Frame - Red 44",
                                    "3": "1"
                                },
                                {
                                    "0": "Johnny",
                                    "1": "Yuan",
                                    "2": "Thin-Jam Hex Nut 15",
                                    "3": "1"
                                },
                                {
                                    "0": "Jon",
                                    "1": "Ye",
                                    "2": "HL Touring Frame - Yellow 46",
                                    "3": "1"
                                },
                                {
                                    "0": "Jon",
                                    "1": "Yuan",
                                    "2": "HL Headset",
                                    "3": "1"
                                },
                                {
                                    "0": "Jon",
                                    "1": "Yuan",
                                    "2": "LL Road Rear Wheel",
                                    "3": "1"
                                },
                                {
                                    "0": "Jonathan",
                                    "1": "Yang",
                                    "2": "HL Headset",
                                    "3": "1"
                                },
                                {
                                    "0": "Jonathan",
                                    "1": "Yang",
                                    "2": "Lock Washer 8",
                                    "3": "1"
                                },
                                {
                                    "0": "Jonathan",
                                    "1": "Yang",
                                    "2": "Paint - Black",
                                    "3": "1"
                                },
                                {
                                    "0": "Jonathan",
                                    "1": "Yang",
                                    "2": "Taillights - Battery-PoweRed",
                                    "3": "1"
                                },
                                {
                                    "0": "Jonathan",
                                    "1": "Young",
                                    "2": "Bearing Ball",
                                    "3": "1"
                                },
                                {
                                    "0": "Jonathan",
                                    "1": "Young",
                                    "2": "LL Road Handlebars",
                                    "3": "1"
                                },
                                {
                                    "0": "Jordan",
                                    "1": "Young",
                                    "2": "Lock Washer 5",
                                    "3": "1"
                                },
                                {
                                    "0": "Jordan",
                                    "1": "Young",
                                    "2": "Mountain-100 Black 42",
                                    "3": "1"
                                },
                                {
                                    "0": "Jorge",
                                    "1": "Ye",
                                    "2": "Freewheel",
                                    "3": "1"
                                },
                                {
                                    "0": "Jose",
                                    "1": "Yang",
                                    "2": "ML Road Pedal",
                                    "3": "1"
                                },
                                {
                                    "0": "Jose",
                                    "1": "Young",
                                    "2": "Internal Lock Washer 1",
                                    "3": "1"
                                },
                                {
                                    "0": "Julia",
                                    "1": "Young",
                                    "2": "Flat Washer 1",
                                    "3": "1"
                                },
                                {
                                    "0": "Justin",
                                    "1": "Yang",
                                    "2": "LL Road Frame - Black 52",
                                    "3": "1"
                                },
                                {
                                    "0": "Kara",
                                    "1": "Yuan",
                                    "2": "LL Road Seat/Saddle",
                                    "3": "1"
                                },
                                {
                                    "0": "Kara",
                                    "1": "Yuan",
                                    "2": "Metal Sheet 7",
                                    "3": "1"
                                },
                                {
                                    "0": "Kara",
                                    "1": "Yuan",
                                    "2": "Road-650 Red 44",
                                    "3": "1"
                                },
                                {
                                    "0": "Karen",
                                    "1": "Ye",
                                    "2": "Blade",
                                    "3": "1"
                                },
                                {
                                    "0": "Karen",
                                    "1": "Ye",
                                    "2": "Thin-Jam Hex Nut 10",
                                    "3": "1"
                                },
                                {
                                    "0": "Karen",
                                    "1": "Ye",
                                    "2": "Thin-Jam Lock Nut 9",
                                    "3": "1"
                                },
                                {
                                    "0": "Karl",
                                    "1": "Yuan",
                                    "2": "Patch Kit/8 Patches",
                                    "3": "1"
                                },
                                {
                                    "0": "Kate",
                                    "1": "Yuan",
                                    "2": "HL Touring Frame - Yellow 54",
                                    "3": "1"
                                },
                                {
                                    "0": "Kate",
                                    "1": "Yuan",
                                    "2": "ML Mountain Frame-W - Silver 38",
                                    "3": "1"
                                },
                                {
                                    "0": "Kate",
                                    "1": "Yuan",
                                    "2": "Spokes",
                                    "3": "1"
                                },
                                {
                                    "0": "Katelyn",
                                    "1": "Young",
                                    "2": "Hex Nut 19",
                                    "3": "1"
                                },
                                {
                                    "0": "Katelyn",
                                    "1": "Young",
                                    "2": "Hex Nut 8",
                                    "3": "1"
                                },
                                {
                                    "0": "Katelyn",
                                    "1": "Young",
                                    "2": "HL Mountain Frame - Silver 44",
                                    "3": "1"
                                },
                                {
                                    "0": "Katelyn",
                                    "1": "Young",
                                    "2": "HL Mountain Handlebars",
                                    "3": "1"
                                },
                                {
                                    "0": "Katherine",
                                    "1": "Young",
                                    "2": "Lock Washer 10",
                                    "3": "1"
                                },
                                {
                                    "0": "Katie",
                                    "1": "Yuan",
                                    "2": "Road-650 Red 62",
                                    "3": "1"
                                },
                                {
                                    "0": "Katrina",
                                    "1": "Yuan",
                                    "2": "Touring-1000 Blue 50",
                                    "3": "1"
                                },
                                {
                                    "0": "Kaylee",
                                    "1": "Young",
                                    "2": "Hex Nut 1",
                                    "3": "1"
                                },
                                {
                                    "0": "Kaylee",
                                    "1": "Young",
                                    "2": "Thin-Jam Hex Nut 3",
                                    "3": "1"
                                },
                                {
                                    "0": "Kelli",
                                    "1": "Ye",
                                    "2": "LL Touring Frame - Blue 58",
                                    "3": "1"
                                },
                                {
                                    "0": "Kelvin",
                                    "1": "Yang",
                                    "2": "Decal 2",
                                    "3": "1"
                                },
                                {
                                    "0": "Kelvin",
                                    "1": "Yang",
                                    "2": "LL Fork",
                                    "3": "1"
                                },
                                {
                                    "0": "Kelvin",
                                    "1": "Yang",
                                    "2": "Mountain Bike Socks L",
                                    "3": "1"
                                },
                                {
                                    "0": "Kelvin",
                                    "1": "Yuan",
                                    "2": "LL Mountain Frame - Silver 42",
                                    "3": "1"
                                },
                                {
                                    "0": "Kelvin",
                                    "1": "Yuan",
                                    "2": "LL Road Seat Assembly",
                                    "3": "1"
                                },
                                {
                                    "0": "Krystal",
                                    "1": "Yang",
                                    "2": "Classic Vest M",
                                    "3": "1"
                                },
                                {
                                    "0": "Kyle",
                                    "1": "Yang",
                                    "2": "HL Crankset",
                                    "3": "1"
                                },
                                {
                                    "0": "Kyle",
                                    "1": "Young",
                                    "2": "HL Nipple",
                                    "3": "1"
                                },
                                {
                                    "0": "Kyle",
                                    "1": "Young",
                                    "2": "Road-450 Red 44",
                                    "3": "1"
                                },
                                {
                                    "0": "Lacey",
                                    "1": "Yang",
                                    "2": "Hex Nut 4",
                                    "3": "1"
                                },
                                {
                                    "0": "Lacey",
                                    "1": "Yang",
                                    "2": "Road-750 Black 52",
                                    "3": "1"
                                },
                                {
                                    "0": "Latoya",
                                    "1": "Yuan",
                                    "2": "Rear Derailleur Cage",
                                    "3": "1"
                                },
                                {
                                    "0": "Latoya",
                                    "1": "Yuan",
                                    "2": "Touring-1000 Blue 54",
                                    "3": "1"
                                },
                                {
                                    "0": "Leah",
                                    "1": "Yang",
                                    "2": "Chainring",
                                    "3": "1"
                                },
                                {
                                    "0": "Leah",
                                    "1": "Yang",
                                    "2": "Thin-Jam Hex Nut 8",
                                    "3": "1"
                                },
                                {
                                    "0": "Leah",
                                    "1": "Yang",
                                    "2": "Touring-1000 Blue 60",
                                    "3": "1"
                                },
                                {
                                    "0": "Logan",
                                    "1": "Yang",
                                    "2": "Full-Finger Gloves S",
                                    "3": "1"
                                },
                                {
                                    "0": "Logan",
                                    "1": "Yang",
                                    "2": "HL Touring Frame - Yellow 46",
                                    "3": "1"
                                },
                                {
                                    "0": "Louis",
                                    "1": "Yang",
                                    "2": "HL Hub",
                                    "3": "1"
                                },
                                {
                                    "0": "Louis",
                                    "1": "Ye",
                                    "2": "Internal Lock Washer 6",
                                    "3": "1"
                                },
                                {
                                    "0": "Louis",
                                    "1": "Ye",
                                    "2": "Road-150 Red 44",
                                    "3": "1"
                                },
                                {
                                    "0": "Luis",
                                    "1": "Yang",
                                    "2": "HL Road Frame - Black 44",
                                    "3": "1"
                                },
                                {
                                    "0": "Luke",
                                    "1": "Yang",
                                    "2": "Mountain-100 Black 38",
                                    "3": "1"
                                },
                                {
                                    "0": "Mackenzie",
                                    "1": "Young",
                                    "2": "Bearing Ball",
                                    "3": "1"
                                },
                                {
                                    "0": "Mackenzie",
                                    "1": "Young",
                                    "2": "Half-Finger Gloves L",
                                    "3": "1"
                                },
                                {
                                    "0": "Madeline",
                                    "1": "Young",
                                    "2": "LL Touring Seat Assembly",
                                    "3": "1"
                                },
                                {
                                    "0": "Mandy",
                                    "1": "Ye",
                                    "2": "Classic Vest M",
                                    "3": "1"
                                },
                                {
                                    "0": "Marcus",
                                    "1": "Young",
                                    "2": "Mountain End Caps",
                                    "3": "1"
                                },
                                {
                                    "0": "Marcus",
                                    "1": "Young",
                                    "2": "Touring-2000 Blue 50",
                                    "3": "1"
                                },
                                {
                                    "0": "Margaret",
                                    "1": "Ye",
                                    "2": "Road-550-W Yellow 42",
                                    "3": "1"
                                },
                                {
                                    "0": "Marshall",
                                    "1": "Yang",
                                    "2": "LL Mountain Pedal",
                                    "3": "1"
                                },
                                {
                                    "0": "Marshall",
                                    "1": "Yang",
                                    "2": "ML Mountain Seat/Saddle",
                                    "3": "1"
                                },
                                {
                                    "0": "Marshall",
                                    "1": "Ye",
                                    "2": "Fender Set - Mountain",
                                    "3": "1"
                                },
                                {
                                    "0": "Martha",
                                    "1": "Yang",
                                    "2": "Mountain-100 Silver 38",
                                    "3": "1"
                                },
                                {
                                    "0": "Martha",
                                    "1": "Ye",
                                    "2": "LL Mountain Rim",
                                    "3": "1"
                                },
                                {
                                    "0": "Martha",
                                    "1": "Ye",
                                    "2": "Mountain-200 Silver 46",
                                    "3": "1"
                                },
                                {
                                    "0": "Maurice",
                                    "1": "Yuan",
                                    "2": "Hex Nut 20",
                                    "3": "1"
                                },
                                {
                                    "0": "Maurice",
                                    "1": "Yuan",
                                    "2": "HL Road Frame - Red 48",
                                    "3": "1"
                                },
                                {
                                    "0": "Micah",
                                    "1": "Yang",
                                    "2": "LL Touring Frame - Yellow 58",
                                    "3": "1"
                                },
                                {
                                    "0": "Michele",
                                    "1": "Yuan",
                                    "2": "Touring Rear Wheel",
                                    "3": "1"
                                },
                                {
                                    "0": "Miguel",
                                    "1": "Young",
                                    "2": "Lock Nut 22",
                                    "3": "1"
                                },
                                {
                                    "0": "Miguel",
                                    "1": "Young",
                                    "2": "Metal Bar 1",
                                    "3": "1"
                                },
                                {
                                    "0": "Misty",
                                    "1": "Yuan",
                                    "2": "HL Mountain Frame - Black 46",
                                    "3": "1"
                                },
                                {
                                    "0": "Misty",
                                    "1": "Yuan",
                                    "2": "ML Mountain Frame-W - Silver 46",
                                    "3": "1"
                                },
                                {
                                    "0": "Natalie",
                                    "1": "Young",
                                    "2": "Hex Nut 4",
                                    "3": "1"
                                },
                                {
                                    "0": "Nathan",
                                    "1": "Yang",
                                    "2": "Mountain-400-W Silver 46",
                                    "3": "1"
                                },
                                {
                                    "0": "Nathan",
                                    "1": "Young",
                                    "2": "Road-450 Red 52",
                                    "3": "1"
                                },
                                {
                                    "0": "Noah",
                                    "1": "Yang",
                                    "2": "Mountain-500 Black 40",
                                    "3": "1"
                                },
                                {
                                    "0": "Norimichi",
                                    "1": "Yonekura",
                                    "2": "Chain Stays",
                                    "3": "1"
                                },
                                {
                                    "0": "Norimichi",
                                    "1": "Yonekura",
                                    "2": "Fork End",
                                    "3": "1"
                                },
                                {
                                    "0": "Nuan",
                                    "1": "Yu",
                                    "2": "HL Road Frame - Black 52",
                                    "3": "1"
                                },
                                {
                                    "0": "Nuan",
                                    "1": "Yuan",
                                    "2": "LL Road Handlebars",
                                    "3": "1"
                                },
                                {
                                    "0": "Omar",
                                    "1": "Yang",
                                    "2": "Mountain-200 Silver 42",
                                    "3": "1"
                                },
                                {
                                    "0": "Omar",
                                    "1": "Ye",
                                    "2": "Mountain-100 Black 48",
                                    "3": "1"
                                },
                                {
                                    "0": "Rafael",
                                    "1": "Yang",
                                    "2": "Hex Nut 4",
                                    "3": "1"
                                },
                                {
                                    "0": "Rafael",
                                    "1": "Yang",
                                    "2": "HL Road Tire",
                                    "3": "1"
                                },
                                {
                                    "0": "Rafael",
                                    "1": "Ye",
                                    "2": "Flat Washer 1",
                                    "3": "1"
                                },
                                {
                                    "0": "Rafael",
                                    "1": "Ye",
                                    "2": "Road-650 Red 62",
                                    "3": "1"
                                },
                                {
                                    "0": "Ramon",
                                    "1": "Yang",
                                    "2": "Mountain Bike Socks L",
                                    "3": "1"
                                },
                                {
                                    "0": "Ramon",
                                    "1": "Ye",
                                    "2": "Flat Washer 5",
                                    "3": "1"
                                },
                                {
                                    "0": "Randy",
                                    "1": "Yang",
                                    "2": "LL Road Handlebars",
                                    "3": "1"
                                },
                                {
                                    "0": "Randy",
                                    "1": "Yang",
                                    "2": "Road-450 Red 48",
                                    "3": "1"
                                },
                                {
                                    "0": "Randy",
                                    "1": "Yang",
                                    "2": "Touring-2000 Blue 46",
                                    "3": "1"
                                },
                                {
                                    "0": "Randy",
                                    "1": "Ye",
                                    "2": "Mountain-500 Silver 42",
                                    "3": "1"
                                },
                                {
                                    "0": "Richard",
                                    "1": "Young",
                                    "2": "HL Road Frame - Red 44",
                                    "3": "1"
                                },
                                {
                                    "0": "Richard",
                                    "1": "Young",
                                    "2": "Lock Nut 6",
                                    "3": "1"
                                },
                                {
                                    "0": "Richard",
                                    "1": "Young",
                                    "2": "Seat Tube",
                                    "3": "1"
                                },
                                {
                                    "0": "Rob",
                                    "1": "Young",
                                    "2": "Hex Nut 9",
                                    "3": "1"
                                },
                                {
                                    "0": "Rob",
                                    "1": "Young",
                                    "2": "LL Mountain Frame - Black 52",
                                    "3": "1"
                                },
                                {
                                    "0": "Rob",
                                    "1": "Young",
                                    "2": "Short-Sleeve Classic Jersey S",
                                    "3": "1"
                                },
                                {
                                    "0": "Robert",
                                    "1": "Yang",
                                    "2": "Long-Sleeve Logo Jersey M",
                                    "3": "1"
                                },
                                {
                                    "0": "Roger",
                                    "1": "Yang",
                                    "2": "Road-650 Black 58",
                                    "3": "1"
                                },
                                {
                                    "0": "Roger",
                                    "1": "Ye",
                                    "2": "Metal Sheet 1",
                                    "3": "1"
                                },
                                {
                                    "0": "Roger",
                                    "1": "Ye",
                                    "2": "Road-450 Red 52",
                                    "3": "1"
                                },
                                {
                                    "0": "Roger",
                                    "1": "Yuan",
                                    "2": "HL Road Frame - Black 44",
                                    "3": "1"
                                },
                                {
                                    "0": "Roger",
                                    "1": "Yuan",
                                    "2": "Metal Sheet 6",
                                    "3": "1"
                                },
                                {
                                    "0": "Rosa",
                                    "1": "Yang",
                                    "2": "ML Mountain Seat/Saddle",
                                    "3": "1"
                                },
                                {
                                    "0": "Samuel",
                                    "1": "Yang",
                                    "2": "Mountain End Caps",
                                    "3": "1"
                                },
                                {
                                    "0": "Sandra",
                                    "1": "Yang",
                                    "2": "Mountain-300 Black 48",
                                    "3": "1"
                                },
                                {
                                    "0": "Sandra",
                                    "1": "Yang",
                                    "2": "Mountain-400-W Silver 46",
                                    "3": "1"
                                },
                                {
                                    "0": "Sandra",
                                    "1": "Yang",
                                    "2": "Thin-Jam Lock Nut 16",
                                    "3": "1"
                                },
                                {
                                    "0": "Sandra",
                                    "1": "Ye",
                                    "2": "Headset Ball Bearings",
                                    "3": "1"
                                },
                                {
                                    "0": "Sandra",
                                    "1": "Ye",
                                    "2": "LL Road Frame - Red 52",
                                    "3": "1"
                                },
                                {
                                    "0": "Savannah",
                                    "1": "Young",
                                    "2": "Thin-Jam Hex Nut 8",
                                    "3": "1"
                                },
                                {
                                    "0": "Shannon",
                                    "1": "Yang",
                                    "2": "Thin-Jam Lock Nut 10",
                                    "3": "1"
                                },
                                {
                                    "0": "Shannon",
                                    "1": "Ye",
                                    "2": "Lock Washer 3",
                                    "3": "1"
                                },
                                {
                                    "0": "Sierra",
                                    "1": "Young",
                                    "2": "Road-550-W Yellow 40",
                                    "3": "1"
                                },
                                {
                                    "0": "Stacey",
                                    "1": "Yang",
                                    "2": "Metal Tread Plate",
                                    "3": "1"
                                },
                                {
                                    "0": "Stacey",
                                    "1": "Ye",
                                    "2": "HL Shell",
                                    "3": "1"
                                },
                                {
                                    "0": "Stacey",
                                    "1": "Ye",
                                    "2": "Mountain-200 Black 38",
                                    "3": "1"
                                },
                                {
                                    "0": "Stephanie",
                                    "1": "Young",
                                    "2": "Lock Washer 7",
                                    "3": "1"
                                },
                                {
                                    "0": "Steve",
                                    "1": "Yang",
                                    "2": "Hex Nut 6",
                                    "3": "1"
                                },
                                {
                                    "0": "Steve",
                                    "1": "Yang",
                                    "2": "HL Touring Frame - Yellow 60",
                                    "3": "1"
                                },
                                {
                                    "0": "Steve",
                                    "1": "Yang",
                                    "2": "ML Road Frame - Red 58",
                                    "3": "1"
                                },
                                {
                                    "0": "Susan",
                                    "1": "Yang",
                                    "2": "HL Mountain Frame - Black 46",
                                    "3": "1"
                                },
                                {
                                    "0": "Susan",
                                    "1": "Ye",
                                    "2": "Lock Nut 18",
                                    "3": "1"
                                },
                                {
                                    "0": "Suzanne",
                                    "1": "Yang",
                                    "2": "Handlebar Tube",
                                    "3": "1"
                                },
                                {
                                    "0": "Suzanne",
                                    "1": "Yang",
                                    "2": "HL Road Handlebars",
                                    "3": "1"
                                },
                                {
                                    "0": "Suzanne",
                                    "1": "Yang",
                                    "2": "LL Road Tire",
                                    "3": "1"
                                },
                                {
                                    "0": "Suzanne",
                                    "1": "Yang",
                                    "2": "Thin-Jam Lock Nut 12",
                                    "3": "1"
                                },
                                {
                                    "0": "Tai",
                                    "1": "Yee",
                                    "2": "Fork Crown",
                                    "3": "1"
                                },
                                {
                                    "0": "Tamara",
                                    "1": "Yang",
                                    "2": "HL Mountain Seat Assembly",
                                    "3": "1"
                                },
                                {
                                    "0": "Tara",
                                    "1": "Yuan",
                                    "2": "Seat Stays",
                                    "3": "1"
                                },
                                {
                                    "0": "Terrence",
                                    "1": "Yuan",
                                    "2": "ML Mountain Frame - Black 48",
                                    "3": "1"
                                },
                                {
                                    "0": "Terry",
                                    "1": "Yuan",
                                    "2": "Thin-Jam Lock Nut 5",
                                    "3": "1"
                                },
                                {
                                    "0": "Thomas",
                                    "1": "Yang",
                                    "2": "Touring-1000 Yellow 46",
                                    "3": "1"
                                },
                                {
                                    "0": "Thomas",
                                    "1": "Young",
                                    "2": "HL Road Rim",
                                    "3": "1"
                                },
                                {
                                    "0": "Thomas",
                                    "1": "Young",
                                    "2": "Road-650 Red 58",
                                    "3": "1"
                                },
                                {
                                    "0": "Tiffany",
                                    "1": "Yang",
                                    "2": "Mountain-500 Silver 48",
                                    "3": "1"
                                },
                                {
                                    "0": "Timothy",
                                    "1": "Young",
                                    "2": "LL Road Frame - Black 52",
                                    "3": "1"
                                },
                                {
                                    "0": "Timothy",
                                    "1": "Young",
                                    "2": "Lock Nut 22",
                                    "3": "1"
                                },
                                {
                                    "0": "Tom",
                                    "1": "Youtsey",
                                    "2": "Mountain-500 Black 52",
                                    "3": "1"
                                },
                                {
                                    "0": "Tracy",
                                    "1": "Yuan",
                                    "2": "Front Brakes",
                                    "3": "1"
                                },
                                {
                                    "0": "Trisha",
                                    "1": "Ye",
                                    "2": "Mountain Bike Socks M",
                                    "3": "1"
                                },
                                {
                                    "0": "Valerie",
                                    "1": "Yang",
                                    "2": "Touring-3000 Yellow 54",
                                    "3": "1"
                                },
                                {
                                    "0": "Valerie",
                                    "1": "Ye",
                                    "2": "Thin-Jam Lock Nut 7",
                                    "3": "1"
                                },
                                {
                                    "0": "Vincent",
                                    "1": "Ye",
                                    "2": "Hex Nut 1",
                                    "3": "1"
                                },
                                {
                                    "0": "Vincent",
                                    "1": "Ye",
                                    "2": "Road-150 Red 48",
                                    "3": "1"
                                },
                                {
                                    "0": "Warren",
                                    "1": "Yang",
                                    "2": "Thin-Jam Hex Nut 7",
                                    "3": "1"
                                },
                                {
                                    "0": "Warren",
                                    "1": "Ye",
                                    "2": "Fender Set - Mountain",
                                    "3": "1"
                                },
                                {
                                    "0": "Warren",
                                    "1": "Yuan",
                                    "2": "ML Mountain Frame - Black 38",
                                    "3": "1"
                                },
                                {
                                    "0": "Warren",
                                    "1": "Yuan",
                                    "2": "Touring-3000 Yellow 44",
                                    "3": "1"
                                },
                                {
                                    "0": "Willie",
                                    "1": "Ye",
                                    "2": "Thin-Jam Lock Nut 2",
                                    "3": "1"
                                },
                                {
                                    "0": "Willie",
                                    "1": "Yuan",
                                    "2": "LL Touring Seat/Saddle",
                                    "3": "1"
                                },
                                {
                                    "0": "Willie",
                                    "1": "Yuan",
                                    "2": "Thin-Jam Hex Nut 10",
                                    "3": "1"
                                },
                                {
                                    "0": "Wyatt",
                                    "1": "Young",
                                    "2": "Hex Nut 10",
                                    "3": "1"
                                },
                                {
                                    "0": "Xavier",
                                    "1": "Young",
                                    "2": "Hitch Rack - 4-Bike",
                                    "3": "1"
                                },
                                {
                                    "0": "Xavier",
                                    "1": "Young",
                                    "2": "HL Mountain Frame - Black 46",
                                    "3": "1"
                                },
                                {
                                    "0": "Yolanda",
                                    "1": "Yuan",
                                    "2": "LL Touring Frame - Yellow 58",
                                    "3": "1"
                                },
                                {
                                    "0": "Zachary",
                                    "1": "Yang",
                                    "2": "LL Mountain Seat/Saddle",
                                    "3": "1"
                                }
                            ]
                        },
                        "text/html": "<table><tr><th>FirstName</th><th>LastName</th><th>Name</th><th>NumberOfPurchases</th></tr><tr><td>Aaron</td><td>Yang</td><td>HL Road Frame - Black 52</td><td>1</td></tr><tr><td>Aaron</td><td>Yang</td><td>Road-250 Red 44</td><td>1</td></tr><tr><td>Adam</td><td>Young</td><td>Fork End</td><td>1</td></tr><tr><td>Alan</td><td>Ye</td><td>HL Touring Frame - Blue 54</td><td>1</td></tr><tr><td>Alan</td><td>Ye</td><td>Long-Sleeve Logo Jersey S</td><td>1</td></tr><tr><td>Alejandro</td><td>Ye</td><td>HL Mountain Frame - Black 44</td><td>1</td></tr><tr><td>Alexandra</td><td>Young</td><td>Thin-Jam Lock Nut 10</td><td>1</td></tr><tr><td>Alisha</td><td>Yang</td><td>LL Shell</td><td>1</td></tr><tr><td>Alisha</td><td>Yang</td><td>Mountain-500 Silver 52</td><td>1</td></tr><tr><td>Alisha</td><td>Ye</td><td>LL Mountain Tire</td><td>1</td></tr><tr><td>Alisha</td><td>Yuan</td><td>Road Bottle Cage</td><td>1</td></tr><tr><td>Alisha</td><td>Yuan</td><td>Road-350-W Yellow 48</td><td>1</td></tr><tr><td>Alisha</td><td>Yuan</td><td>Touring-3000 Blue 62</td><td>1</td></tr><tr><td>Alison</td><td>Yuan</td><td>HL Mountain Frame - Silver 44</td><td>1</td></tr><tr><td>Alison</td><td>Yuan</td><td>Road-150 Red 44</td><td>1</td></tr><tr><td>Alvin</td><td>Yang</td><td>Long-Sleeve Logo Jersey XL</td><td>1</td></tr><tr><td>Alvin</td><td>Ye</td><td>Guide Pulley</td><td>1</td></tr><tr><td>Alvin</td><td>Ye</td><td>Road-150 Red 52</td><td>1</td></tr><tr><td>Alvin</td><td>Yuan</td><td>HL Grip Tape</td><td>1</td></tr><tr><td>Alvin</td><td>Yuan</td><td>Lock Nut 18</td><td>1</td></tr><tr><td>Alvin</td><td>Yuan</td><td>Road-150 Red 48</td><td>1</td></tr><tr><td>Amanda</td><td>Young</td><td>Hex Nut 17</td><td>1</td></tr><tr><td>Amanda</td><td>Young</td><td>Internal Lock Washer 1</td><td>1</td></tr><tr><td>Amanda</td><td>Young</td><td>Mountain-500 Silver 44</td><td>1</td></tr><tr><td>Andrea</td><td>Young</td><td>Hex Nut 2</td><td>1</td></tr><tr><td>Angel</td><td>Young</td><td>Road-350-W Yellow 40</td><td>1</td></tr><tr><td>Arthur</td><td>Yasinski</td><td>Hex Nut 22</td><td>1</td></tr><tr><td>Bailey</td><td>Young</td><td>Thin-Jam Hex Nut 14</td><td>1</td></tr><tr><td>Barbara</td><td>Ye</td><td>Road-650 Black 44</td><td>1</td></tr><tr><td>Barbara</td><td>Yuan</td><td>Flat Washer 5</td><td>1</td></tr><tr><td>Bethany</td><td>Yuan</td><td>HL Crankarm</td><td>1</td></tr><tr><td>Bianca</td><td>Yang</td><td>Lock Washer 10</td><td>1</td></tr><tr><td>Blake</td><td>Young</td><td>External Lock Washer 3</td><td>1</td></tr><tr><td>Brad</td><td>Yuan</td><td>External Lock Washer 5</td><td>1</td></tr><tr><td>Bradley</td><td>Yuan</td><td>HL Road Front Wheel</td><td>1</td></tr><tr><td>Brendan</td><td>Yuan</td><td>HL Mountain Seat Assembly</td><td>1</td></tr><tr><td>Brendan</td><td>Yuan</td><td>Internal Lock Washer 1</td><td>1</td></tr><tr><td>Brendan</td><td>Yuan</td><td>Long-Sleeve Logo Jersey M</td><td>1</td></tr><tr><td>Brendan</td><td>Yuan</td><td>Womens Mountain Shorts M</td><td>1</td></tr><tr><td>Brent</td><td>Yang</td><td>LL Nipple</td><td>1</td></tr><tr><td>Brittney</td><td>Ye</td><td>Long-Sleeve Logo Jersey L</td><td>1</td></tr><tr><td>Calvin</td><td>Yuan</td><td>Flat Washer 5</td><td>1</td></tr><tr><td>Calvin</td><td>Yuan</td><td>Mountain-500 Silver 48</td><td>1</td></tr><tr><td>Calvin</td><td>Yuan</td><td>Road-150 Red 52</td><td>1</td></tr><tr><td>Cameron</td><td>Yang</td><td>Mountain-300 Black 40</td><td>1</td></tr><tr><td>Candice</td><td>Ye</td><td>HL Road Frame - Black 58</td><td>1</td></tr><tr><td>Cara</td><td>Ye</td><td>Mountain Bike Socks M</td><td>1</td></tr><tr><td>Carl</td><td>Yuan</td><td>ML Road Tire</td><td>1</td></tr><tr><td>Casey</td><td>Yuan</td><td>Lock Washer 5</td><td>1</td></tr><tr><td>Cedric</td><td>Ye</td><td>Road-350-W Yellow 40</td><td>1</td></tr><tr><td>Cedric</td><td>Yuan</td><td>Lock Nut 7</td><td>1</td></tr><tr><td>Christine</td><td>Yuan</td><td>LL Road Seat/Saddle</td><td>1</td></tr><tr><td>Christine</td><td>Yuan</td><td>Womens Mountain Shorts M</td><td>1</td></tr><tr><td>Christy</td><td>Ye</td><td>Full-Finger Gloves S</td><td>1</td></tr><tr><td>Clarence</td><td>Yuan</td><td>LL Touring Frame - Blue 62</td><td>1</td></tr><tr><td>Clayton</td><td>Yang</td><td>Mountain-500 Black 40</td><td>1</td></tr><tr><td>Colin</td><td>Yang</td><td>ML Touring Seat/Saddle</td><td>1</td></tr><tr><td>Colin</td><td>Yang</td><td>Road-550-W Yellow 38</td><td>1</td></tr><tr><td>Colleen</td><td>Yang</td><td>ML Mountain Handlebars</td><td>1</td></tr><tr><td>Colleen</td><td>Yuan</td><td>Cone-Shaped Race</td><td>1</td></tr><tr><td>Colleen</td><td>Yuan</td><td>Handlebar Tube</td><td>1</td></tr><tr><td>Colleen</td><td>Yuan</td><td>Mens Sports Shorts L</td><td>1</td></tr><tr><td>Connor</td><td>Yang</td><td>LL Road Frame - Red 62</td><td>1</td></tr><tr><td>Connor</td><td>Yang</td><td>LL Spindle/Axle</td><td>1</td></tr><tr><td>Connor</td><td>Yang</td><td>Lock Ring</td><td>1</td></tr><tr><td>Corey</td><td>Yuan</td><td>HL Touring Frame - Blue 60</td><td>1</td></tr><tr><td>Courtney</td><td>Young</td><td>External Lock Washer 4</td><td>1</td></tr><tr><td>Cristina</td><td>Yuan</td><td>ML Touring Seat Assembly</td><td>1</td></tr><tr><td>Cristina</td><td>Yuan</td><td>Thin-Jam Lock Nut 10</td><td>1</td></tr><tr><td>Cristina</td><td>Yuan</td><td>Womens Tights L</td><td>1</td></tr><tr><td>Crystal</td><td>Yang</td><td>HL Road Front Wheel</td><td>1</td></tr><tr><td>Dalton</td><td>Young</td><td>ML Headset</td><td>1</td></tr><tr><td>Damien</td><td>Ye</td><td>HL Bottom Bracket</td><td>1</td></tr><tr><td>Damien</td><td>Ye</td><td>Road-250 Red 44</td><td>1</td></tr><tr><td>Darryl</td><td>Yang</td><td>Flat Washer 2</td><td>1</td></tr><tr><td>Darryl</td><td>Yang</td><td>LL Road Front Wheel</td><td>1</td></tr><tr><td>David</td><td>Yang</td><td>HL Road Frame - Red 52</td><td>1</td></tr><tr><td>Dawn</td><td>Ye</td><td>Chain Stays</td><td>1</td></tr><tr><td>Dawn</td><td>Yuan</td><td>HL Touring Frame - Blue 46</td><td>1</td></tr><tr><td>Dennis</td><td>Yang</td><td>Thin-Jam Hex Nut 6</td><td>1</td></tr><tr><td>Derek</td><td>Yuan</td><td>Paint - Red</td><td>1</td></tr><tr><td>Devin</td><td>Young</td><td>Road-650 Red 48</td><td>1</td></tr><tr><td>Edward</td><td>Young</td><td>LL Mountain Seat/Saddle</td><td>1</td></tr><tr><td>Edward</td><td>Young</td><td>ML Road Frame-W - Yellow 42</td><td>1</td></tr><tr><td>Edwin</td><td>Yang</td><td>Chainring Bolts</td><td>1</td></tr><tr><td>Edwin</td><td>Yang</td><td>Road-550-W Yellow 44</td><td>1</td></tr><tr><td>Edwin</td><td>Ye</td><td>ML Headset</td><td>1</td></tr><tr><td>Edwin</td><td>Ye</td><td>Thin-Jam Hex Nut 1</td><td>1</td></tr><tr><td>Elijah</td><td>Young</td><td>HL Mountain Frame - Black 42</td><td>1</td></tr><tr><td>Ethan</td><td>Yang</td><td>Mountain-200 Black 38</td><td>1</td></tr><tr><td>Eugene</td><td>Yang</td><td>Lock Nut 15</td><td>1</td></tr><tr><td>Franklin</td><td>Yuan</td><td>Lock Nut 18</td><td>1</td></tr><tr><td>Franklin</td><td>Yuan</td><td>Touring-Panniers Large</td><td>1</td></tr><tr><td>Gabriel</td><td>Yang</td><td>Metal Bar 2</td><td>1</td></tr><tr><td>Gabriel</td><td>Yang</td><td>Metal Plate 2</td><td>1</td></tr><tr><td>Gabriel</td><td>Young</td><td>ML Mountain Frame - Black 48</td><td>1</td></tr><tr><td>Gabriella</td><td>Young</td><td>Lock Ring</td><td>1</td></tr><tr><td>Garrett</td><td>Young</td><td>Front Derailleur Linkage</td><td>1</td></tr><tr><td>Gary</td><td>Yukish</td><td>Road-250 Red 48</td><td>1</td></tr><tr><td>Gilbert</td><td>Yang</td><td>Lock Washer 10</td><td>1</td></tr><tr><td>Gilbert</td><td>Yang</td><td>ML Mountain Rim</td><td>1</td></tr><tr><td>Gilbert</td><td>Yang</td><td>Road-650 Black 48</td><td>1</td></tr><tr><td>Gilbert</td><td>Yang</td><td>Thin-Jam Hex Nut 6</td><td>1</td></tr><tr><td>Gilbert</td><td>Ye</td><td>Cable Lock</td><td>1</td></tr><tr><td>Gregory</td><td>Yuan</td><td>Lock Nut 13</td><td>1</td></tr><tr><td>Heather</td><td>Yang</td><td>Touring-3000 Yellow 54</td><td>1</td></tr><tr><td>Ian</td><td>Young</td><td>Hitch Rack - 4-Bike</td><td>1</td></tr><tr><td>Ian</td><td>Yuhasz</td><td>HL Touring Frame - Yellow 60</td><td>1</td></tr><tr><td>Jack</td><td>Yang</td><td>ML Road Rim</td><td>1</td></tr><tr><td>Jackson</td><td>Yang</td><td>Touring-2000 Blue 46</td><td>1</td></tr><tr><td>Jaclyn</td><td>Yang</td><td>Metal Sheet 5</td><td>1</td></tr><tr><td>Jaclyn</td><td>Yang</td><td>Touring-2000 Blue 54</td><td>1</td></tr><tr><td>Jaclyn</td><td>Ye</td><td>LL Road Seat/Saddle</td><td>1</td></tr><tr><td>Jaclyn</td><td>Ye</td><td>Metal Sheet 2</td><td>1</td></tr><tr><td>Jaclyn</td><td>Yuan</td><td>Front Derailleur</td><td>1</td></tr><tr><td>Jaclyn</td><td>Yuan</td><td>Road-350-W Yellow 42</td><td>1</td></tr><tr><td>Jake</td><td>Yang</td><td>Lock Washer 3</td><td>1</td></tr><tr><td>James</td><td>Young</td><td>HL Grip Tape</td><td>1</td></tr><tr><td>James</td><td>Young</td><td>Touring-3000 Blue 44</td><td>1</td></tr><tr><td>Jamie</td><td>Ye</td><td>Mountain-500 Silver 42</td><td>1</td></tr><tr><td>Jamie</td><td>Ye</td><td>Touring-2000 Blue 50</td><td>1</td></tr><tr><td>Janet</td><td>Young</td><td>Mountain Tire Tube</td><td>1</td></tr><tr><td>Janet</td><td>Young</td><td>Mountain-100 Silver 38</td><td>1</td></tr><tr><td>Jason</td><td>Yang</td><td>HL Road Frame - Red 58</td><td>1</td></tr><tr><td>Jason</td><td>Young</td><td>Hex Nut 22</td><td>1</td></tr><tr><td>Jenna</td><td>Young</td><td>Mountain-400-W Silver 42</td><td>1</td></tr><tr><td>Jenny</td><td>Yang</td><td>Touring-3000 Yellow 44</td><td>1</td></tr><tr><td>Jerry</td><td>Yuan</td><td>Road-750 Black 52</td><td>1</td></tr><tr><td>Jesse</td><td>Young</td><td>Mountain-200 Silver 38</td><td>1</td></tr><tr><td>Jessie</td><td>Yang</td><td>ML Road Handlebars</td><td>1</td></tr><tr><td>Jessie</td><td>Yang</td><td>Womens Mountain Shorts L</td><td>1</td></tr><tr><td>Jessie</td><td>Ye</td><td>Fork Crown</td><td>1</td></tr><tr><td>Jessie</td><td>Ye</td><td>HL Road Frame - Red 44</td><td>1</td></tr><tr><td>Johnny</td><td>Yuan</td><td>Thin-Jam Hex Nut 15</td><td>1</td></tr><tr><td>Jon</td><td>Ye</td><td>HL Touring Frame - Yellow 46</td><td>1</td></tr><tr><td>Jon</td><td>Yuan</td><td>HL Headset</td><td>1</td></tr><tr><td>Jon</td><td>Yuan</td><td>LL Road Rear Wheel</td><td>1</td></tr><tr><td>Jonathan</td><td>Yang</td><td>HL Headset</td><td>1</td></tr><tr><td>Jonathan</td><td>Yang</td><td>Lock Washer 8</td><td>1</td></tr><tr><td>Jonathan</td><td>Yang</td><td>Paint - Black</td><td>1</td></tr><tr><td>Jonathan</td><td>Yang</td><td>Taillights - Battery-PoweRed</td><td>1</td></tr><tr><td>Jonathan</td><td>Young</td><td>Bearing Ball</td><td>1</td></tr><tr><td>Jonathan</td><td>Young</td><td>LL Road Handlebars</td><td>1</td></tr><tr><td>Jordan</td><td>Young</td><td>Lock Washer 5</td><td>1</td></tr><tr><td>Jordan</td><td>Young</td><td>Mountain-100 Black 42</td><td>1</td></tr><tr><td>Jorge</td><td>Ye</td><td>Freewheel</td><td>1</td></tr><tr><td>Jose</td><td>Yang</td><td>ML Road Pedal</td><td>1</td></tr><tr><td>Jose</td><td>Young</td><td>Internal Lock Washer 1</td><td>1</td></tr><tr><td>Julia</td><td>Young</td><td>Flat Washer 1</td><td>1</td></tr><tr><td>Justin</td><td>Yang</td><td>LL Road Frame - Black 52</td><td>1</td></tr><tr><td>Kara</td><td>Yuan</td><td>LL Road Seat/Saddle</td><td>1</td></tr><tr><td>Kara</td><td>Yuan</td><td>Metal Sheet 7</td><td>1</td></tr><tr><td>Kara</td><td>Yuan</td><td>Road-650 Red 44</td><td>1</td></tr><tr><td>Karen</td><td>Ye</td><td>Blade</td><td>1</td></tr><tr><td>Karen</td><td>Ye</td><td>Thin-Jam Hex Nut 10</td><td>1</td></tr><tr><td>Karen</td><td>Ye</td><td>Thin-Jam Lock Nut 9</td><td>1</td></tr><tr><td>Karl</td><td>Yuan</td><td>Patch Kit/8 Patches</td><td>1</td></tr><tr><td>Kate</td><td>Yuan</td><td>HL Touring Frame - Yellow 54</td><td>1</td></tr><tr><td>Kate</td><td>Yuan</td><td>ML Mountain Frame-W - Silver 38</td><td>1</td></tr><tr><td>Kate</td><td>Yuan</td><td>Spokes</td><td>1</td></tr><tr><td>Katelyn</td><td>Young</td><td>Hex Nut 19</td><td>1</td></tr><tr><td>Katelyn</td><td>Young</td><td>Hex Nut 8</td><td>1</td></tr><tr><td>Katelyn</td><td>Young</td><td>HL Mountain Frame - Silver 44</td><td>1</td></tr><tr><td>Katelyn</td><td>Young</td><td>HL Mountain Handlebars</td><td>1</td></tr><tr><td>Katherine</td><td>Young</td><td>Lock Washer 10</td><td>1</td></tr><tr><td>Katie</td><td>Yuan</td><td>Road-650 Red 62</td><td>1</td></tr><tr><td>Katrina</td><td>Yuan</td><td>Touring-1000 Blue 50</td><td>1</td></tr><tr><td>Kaylee</td><td>Young</td><td>Hex Nut 1</td><td>1</td></tr><tr><td>Kaylee</td><td>Young</td><td>Thin-Jam Hex Nut 3</td><td>1</td></tr><tr><td>Kelli</td><td>Ye</td><td>LL Touring Frame - Blue 58</td><td>1</td></tr><tr><td>Kelvin</td><td>Yang</td><td>Decal 2</td><td>1</td></tr><tr><td>Kelvin</td><td>Yang</td><td>LL Fork</td><td>1</td></tr><tr><td>Kelvin</td><td>Yang</td><td>Mountain Bike Socks L</td><td>1</td></tr><tr><td>Kelvin</td><td>Yuan</td><td>LL Mountain Frame - Silver 42</td><td>1</td></tr><tr><td>Kelvin</td><td>Yuan</td><td>LL Road Seat Assembly</td><td>1</td></tr><tr><td>Krystal</td><td>Yang</td><td>Classic Vest M</td><td>1</td></tr><tr><td>Kyle</td><td>Yang</td><td>HL Crankset</td><td>1</td></tr><tr><td>Kyle</td><td>Young</td><td>HL Nipple</td><td>1</td></tr><tr><td>Kyle</td><td>Young</td><td>Road-450 Red 44</td><td>1</td></tr><tr><td>Lacey</td><td>Yang</td><td>Hex Nut 4</td><td>1</td></tr><tr><td>Lacey</td><td>Yang</td><td>Road-750 Black 52</td><td>1</td></tr><tr><td>Latoya</td><td>Yuan</td><td>Rear Derailleur Cage</td><td>1</td></tr><tr><td>Latoya</td><td>Yuan</td><td>Touring-1000 Blue 54</td><td>1</td></tr><tr><td>Leah</td><td>Yang</td><td>Chainring</td><td>1</td></tr><tr><td>Leah</td><td>Yang</td><td>Thin-Jam Hex Nut 8</td><td>1</td></tr><tr><td>Leah</td><td>Yang</td><td>Touring-1000 Blue 60</td><td>1</td></tr><tr><td>Logan</td><td>Yang</td><td>Full-Finger Gloves S</td><td>1</td></tr><tr><td>Logan</td><td>Yang</td><td>HL Touring Frame - Yellow 46</td><td>1</td></tr><tr><td>Louis</td><td>Yang</td><td>HL Hub</td><td>1</td></tr><tr><td>Louis</td><td>Ye</td><td>Internal Lock Washer 6</td><td>1</td></tr><tr><td>Louis</td><td>Ye</td><td>Road-150 Red 44</td><td>1</td></tr><tr><td>Luis</td><td>Yang</td><td>HL Road Frame - Black 44</td><td>1</td></tr><tr><td>Luke</td><td>Yang</td><td>Mountain-100 Black 38</td><td>1</td></tr><tr><td>Mackenzie</td><td>Young</td><td>Bearing Ball</td><td>1</td></tr><tr><td>Mackenzie</td><td>Young</td><td>Half-Finger Gloves L</td><td>1</td></tr><tr><td>Madeline</td><td>Young</td><td>LL Touring Seat Assembly</td><td>1</td></tr><tr><td>Mandy</td><td>Ye</td><td>Classic Vest M</td><td>1</td></tr><tr><td>Marcus</td><td>Young</td><td>Mountain End Caps</td><td>1</td></tr><tr><td>Marcus</td><td>Young</td><td>Touring-2000 Blue 50</td><td>1</td></tr><tr><td>Margaret</td><td>Ye</td><td>Road-550-W Yellow 42</td><td>1</td></tr><tr><td>Marshall</td><td>Yang</td><td>LL Mountain Pedal</td><td>1</td></tr><tr><td>Marshall</td><td>Yang</td><td>ML Mountain Seat/Saddle</td><td>1</td></tr><tr><td>Marshall</td><td>Ye</td><td>Fender Set - Mountain</td><td>1</td></tr><tr><td>Martha</td><td>Yang</td><td>Mountain-100 Silver 38</td><td>1</td></tr><tr><td>Martha</td><td>Ye</td><td>LL Mountain Rim</td><td>1</td></tr><tr><td>Martha</td><td>Ye</td><td>Mountain-200 Silver 46</td><td>1</td></tr><tr><td>Maurice</td><td>Yuan</td><td>Hex Nut 20</td><td>1</td></tr><tr><td>Maurice</td><td>Yuan</td><td>HL Road Frame - Red 48</td><td>1</td></tr><tr><td>Micah</td><td>Yang</td><td>LL Touring Frame - Yellow 58</td><td>1</td></tr><tr><td>Michele</td><td>Yuan</td><td>Touring Rear Wheel</td><td>1</td></tr><tr><td>Miguel</td><td>Young</td><td>Lock Nut 22</td><td>1</td></tr><tr><td>Miguel</td><td>Young</td><td>Metal Bar 1</td><td>1</td></tr><tr><td>Misty</td><td>Yuan</td><td>HL Mountain Frame - Black 46</td><td>1</td></tr><tr><td>Misty</td><td>Yuan</td><td>ML Mountain Frame-W - Silver 46</td><td>1</td></tr><tr><td>Natalie</td><td>Young</td><td>Hex Nut 4</td><td>1</td></tr><tr><td>Nathan</td><td>Yang</td><td>Mountain-400-W Silver 46</td><td>1</td></tr><tr><td>Nathan</td><td>Young</td><td>Road-450 Red 52</td><td>1</td></tr><tr><td>Noah</td><td>Yang</td><td>Mountain-500 Black 40</td><td>1</td></tr><tr><td>Norimichi</td><td>Yonekura</td><td>Chain Stays</td><td>1</td></tr><tr><td>Norimichi</td><td>Yonekura</td><td>Fork End</td><td>1</td></tr><tr><td>Nuan</td><td>Yu</td><td>HL Road Frame - Black 52</td><td>1</td></tr><tr><td>Nuan</td><td>Yuan</td><td>LL Road Handlebars</td><td>1</td></tr><tr><td>Omar</td><td>Yang</td><td>Mountain-200 Silver 42</td><td>1</td></tr><tr><td>Omar</td><td>Ye</td><td>Mountain-100 Black 48</td><td>1</td></tr><tr><td>Rafael</td><td>Yang</td><td>Hex Nut 4</td><td>1</td></tr><tr><td>Rafael</td><td>Yang</td><td>HL Road Tire</td><td>1</td></tr><tr><td>Rafael</td><td>Ye</td><td>Flat Washer 1</td><td>1</td></tr><tr><td>Rafael</td><td>Ye</td><td>Road-650 Red 62</td><td>1</td></tr><tr><td>Ramon</td><td>Yang</td><td>Mountain Bike Socks L</td><td>1</td></tr><tr><td>Ramon</td><td>Ye</td><td>Flat Washer 5</td><td>1</td></tr><tr><td>Randy</td><td>Yang</td><td>LL Road Handlebars</td><td>1</td></tr><tr><td>Randy</td><td>Yang</td><td>Road-450 Red 48</td><td>1</td></tr><tr><td>Randy</td><td>Yang</td><td>Touring-2000 Blue 46</td><td>1</td></tr><tr><td>Randy</td><td>Ye</td><td>Mountain-500 Silver 42</td><td>1</td></tr><tr><td>Richard</td><td>Young</td><td>HL Road Frame - Red 44</td><td>1</td></tr><tr><td>Richard</td><td>Young</td><td>Lock Nut 6</td><td>1</td></tr><tr><td>Richard</td><td>Young</td><td>Seat Tube</td><td>1</td></tr><tr><td>Rob</td><td>Young</td><td>Hex Nut 9</td><td>1</td></tr><tr><td>Rob</td><td>Young</td><td>LL Mountain Frame - Black 52</td><td>1</td></tr><tr><td>Rob</td><td>Young</td><td>Short-Sleeve Classic Jersey S</td><td>1</td></tr><tr><td>Robert</td><td>Yang</td><td>Long-Sleeve Logo Jersey M</td><td>1</td></tr><tr><td>Roger</td><td>Yang</td><td>Road-650 Black 58</td><td>1</td></tr><tr><td>Roger</td><td>Ye</td><td>Metal Sheet 1</td><td>1</td></tr><tr><td>Roger</td><td>Ye</td><td>Road-450 Red 52</td><td>1</td></tr><tr><td>Roger</td><td>Yuan</td><td>HL Road Frame - Black 44</td><td>1</td></tr><tr><td>Roger</td><td>Yuan</td><td>Metal Sheet 6</td><td>1</td></tr><tr><td>Rosa</td><td>Yang</td><td>ML Mountain Seat/Saddle</td><td>1</td></tr><tr><td>Samuel</td><td>Yang</td><td>Mountain End Caps</td><td>1</td></tr><tr><td>Sandra</td><td>Yang</td><td>Mountain-300 Black 48</td><td>1</td></tr><tr><td>Sandra</td><td>Yang</td><td>Mountain-400-W Silver 46</td><td>1</td></tr><tr><td>Sandra</td><td>Yang</td><td>Thin-Jam Lock Nut 16</td><td>1</td></tr><tr><td>Sandra</td><td>Ye</td><td>Headset Ball Bearings</td><td>1</td></tr><tr><td>Sandra</td><td>Ye</td><td>LL Road Frame - Red 52</td><td>1</td></tr><tr><td>Savannah</td><td>Young</td><td>Thin-Jam Hex Nut 8</td><td>1</td></tr><tr><td>Shannon</td><td>Yang</td><td>Thin-Jam Lock Nut 10</td><td>1</td></tr><tr><td>Shannon</td><td>Ye</td><td>Lock Washer 3</td><td>1</td></tr><tr><td>Sierra</td><td>Young</td><td>Road-550-W Yellow 40</td><td>1</td></tr><tr><td>Stacey</td><td>Yang</td><td>Metal Tread Plate</td><td>1</td></tr><tr><td>Stacey</td><td>Ye</td><td>HL Shell</td><td>1</td></tr><tr><td>Stacey</td><td>Ye</td><td>Mountain-200 Black 38</td><td>1</td></tr><tr><td>Stephanie</td><td>Young</td><td>Lock Washer 7</td><td>1</td></tr><tr><td>Steve</td><td>Yang</td><td>Hex Nut 6</td><td>1</td></tr><tr><td>Steve</td><td>Yang</td><td>HL Touring Frame - Yellow 60</td><td>1</td></tr><tr><td>Steve</td><td>Yang</td><td>ML Road Frame - Red 58</td><td>1</td></tr><tr><td>Susan</td><td>Yang</td><td>HL Mountain Frame - Black 46</td><td>1</td></tr><tr><td>Susan</td><td>Ye</td><td>Lock Nut 18</td><td>1</td></tr><tr><td>Suzanne</td><td>Yang</td><td>Handlebar Tube</td><td>1</td></tr><tr><td>Suzanne</td><td>Yang</td><td>HL Road Handlebars</td><td>1</td></tr><tr><td>Suzanne</td><td>Yang</td><td>LL Road Tire</td><td>1</td></tr><tr><td>Suzanne</td><td>Yang</td><td>Thin-Jam Lock Nut 12</td><td>1</td></tr><tr><td>Tai</td><td>Yee</td><td>Fork Crown</td><td>1</td></tr><tr><td>Tamara</td><td>Yang</td><td>HL Mountain Seat Assembly</td><td>1</td></tr><tr><td>Tara</td><td>Yuan</td><td>Seat Stays</td><td>1</td></tr><tr><td>Terrence</td><td>Yuan</td><td>ML Mountain Frame - Black 48</td><td>1</td></tr><tr><td>Terry</td><td>Yuan</td><td>Thin-Jam Lock Nut 5</td><td>1</td></tr><tr><td>Thomas</td><td>Yang</td><td>Touring-1000 Yellow 46</td><td>1</td></tr><tr><td>Thomas</td><td>Young</td><td>HL Road Rim</td><td>1</td></tr><tr><td>Thomas</td><td>Young</td><td>Road-650 Red 58</td><td>1</td></tr><tr><td>Tiffany</td><td>Yang</td><td>Mountain-500 Silver 48</td><td>1</td></tr><tr><td>Timothy</td><td>Young</td><td>LL Road Frame - Black 52</td><td>1</td></tr><tr><td>Timothy</td><td>Young</td><td>Lock Nut 22</td><td>1</td></tr><tr><td>Tom</td><td>Youtsey</td><td>Mountain-500 Black 52</td><td>1</td></tr><tr><td>Tracy</td><td>Yuan</td><td>Front Brakes</td><td>1</td></tr><tr><td>Trisha</td><td>Ye</td><td>Mountain Bike Socks M</td><td>1</td></tr><tr><td>Valerie</td><td>Yang</td><td>Touring-3000 Yellow 54</td><td>1</td></tr><tr><td>Valerie</td><td>Ye</td><td>Thin-Jam Lock Nut 7</td><td>1</td></tr><tr><td>Vincent</td><td>Ye</td><td>Hex Nut 1</td><td>1</td></tr><tr><td>Vincent</td><td>Ye</td><td>Road-150 Red 48</td><td>1</td></tr><tr><td>Warren</td><td>Yang</td><td>Thin-Jam Hex Nut 7</td><td>1</td></tr><tr><td>Warren</td><td>Ye</td><td>Fender Set - Mountain</td><td>1</td></tr><tr><td>Warren</td><td>Yuan</td><td>ML Mountain Frame - Black 38</td><td>1</td></tr><tr><td>Warren</td><td>Yuan</td><td>Touring-3000 Yellow 44</td><td>1</td></tr><tr><td>Willie</td><td>Ye</td><td>Thin-Jam Lock Nut 2</td><td>1</td></tr><tr><td>Willie</td><td>Yuan</td><td>LL Touring Seat/Saddle</td><td>1</td></tr><tr><td>Willie</td><td>Yuan</td><td>Thin-Jam Hex Nut 10</td><td>1</td></tr><tr><td>Wyatt</td><td>Young</td><td>Hex Nut 10</td><td>1</td></tr><tr><td>Xavier</td><td>Young</td><td>Hitch Rack - 4-Bike</td><td>1</td></tr><tr><td>Xavier</td><td>Young</td><td>HL Mountain Frame - Black 46</td><td>1</td></tr><tr><td>Yolanda</td><td>Yuan</td><td>LL Touring Frame - Yellow 58</td><td>1</td></tr><tr><td>Zachary</td><td>Yang</td><td>LL Mountain Seat/Saddle</td><td>1</td></tr></table>"
                    },
                    "metadata": {}
                }
            ],
            "execution_count": 1
        },
        {
            "cell_type": "markdown",
            "source": [
                "A list of consumers, the names of the products they have purchased, and the quantity of times they have purchased each product will be returned in response to your inquiry. This knowledge may be helpful for a number of things, such as:\n",
                "  \n",
                "Recognizing the performance of bike product category sales: You may learn how well these items are selling by limiting the search results to only include items in the bike category (such as frames and mountain bikes). The NumberOfPurchases column can be used to determine which bike-related products are the most sought-after.\n",
                "  \n",
                "A breakdown of sales by product can be obtained by grouping the query's results according to the Name field. This can be useful for figuring out which products are the most well-liked and which ones could be having trouble.\n",
                "  \n",
                "Data on customer loyalty: You can identify which customers have made the most purchases by grouping the query's results by the FirstName and LastName columns. This might help you discover your most important consumers and can give you an estimate of client loyalty.\n",
                "  \n",
                "Issues or suggestions: You may be able to pinpoint problems or chances for advancement inside the organisation based on the insights, analysis, trends, and patterns you notice in the results of the inquiry. For instance, if you see that some of your products aren't selling well, you might want to think about changing your marketing approach or your price policy for those products. Alternately, if you notice that some consumers are buying a lot from you, you might want to think about giving them special discounts or gifts to entice them to keep doing business with you."
            ],
            "metadata": {
                "azdata_cell_guid": "2274112d-cd3b-449d-94b5-42958c319102"
            }
        }
    ]
}