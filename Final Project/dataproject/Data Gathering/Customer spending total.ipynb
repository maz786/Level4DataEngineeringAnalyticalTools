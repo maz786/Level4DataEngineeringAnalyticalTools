{
    "metadata": {
        "kernelspec": {
            "name": "SQL",
            "display_name": "SQL",
            "language": "sql"
        },
        "language_info": {
            "name": "sql",
            "version": ""
        }
    },
    "nbformat_minor": 2,
    "nbformat": 4,
    "cells": [
        {
            "cell_type": "markdown",
            "source": [
                "**<u>Customer spending total</u>**"
            ],
            "metadata": {
                "azdata_cell_guid": "b78b024b-7abe-43db-9212-adf36e3090a4"
            },
            "attachments": {}
        },
        {
            "cell_type": "code",
            "source": [
                "SELECT Customers.FirstName, Customers.LastName, SUM(Products.Price * Sales.Quantity) AS TotalSpent\n",
                "FROM Customers\n",
                "INNER JOIN Sales ON Customers.CustomerID = Sales.CustomerID\n",
                "INNER JOIN Products ON Sales.ProductID = Products.ProductID\n",
                "GROUP BY Customers.FirstName, Customers.LastName"
            ],
            "metadata": {
                "azdata_cell_guid": "afe33224-d504-4cec-bb78-da48bcb10add",
                "language": "sql"
            },
            "outputs": [
                {
                    "output_type": "display_data",
                    "data": {
                        "text/html": "(199 rows affected)"
                    },
                    "metadata": {}
                },
                {
                    "output_type": "display_data",
                    "data": {
                        "text/html": "Total execution time: 00:00:00.067"
                    },
                    "metadata": {}
                },
                {
                    "output_type": "execute_result",
                    "execution_count": 1,
                    "data": {
                        "application/vnd.dataresource+json": {
                            "schema": {
                                "fields": [
                                    {
                                        "name": "FirstName"
                                    },
                                    {
                                        "name": "LastName"
                                    },
                                    {
                                        "name": "TotalSpent"
                                    }
                                ]
                            },
                            "data": [
                                {
                                    "0": "Aaron",
                                    "1": "Yang",
                                    "2": "18362.40"
                                },
                                {
                                    "0": "Alisha",
                                    "1": "Yang",
                                    "2": "6234.99"
                                },
                                {
                                    "0": "Alvin",
                                    "1": "Yang",
                                    "2": "349.93"
                                },
                                {
                                    "0": "Bianca",
                                    "1": "Yang",
                                    "2": "0.00"
                                },
                                {
                                    "0": "Brent",
                                    "1": "Yang",
                                    "2": "1568.00"
                                },
                                {
                                    "0": "Cameron",
                                    "1": "Yang",
                                    "2": "1079.99"
                                },
                                {
                                    "0": "Clayton",
                                    "1": "Yang",
                                    "2": "1079.98"
                                },
                                {
                                    "0": "Colin",
                                    "1": "Yang",
                                    "2": "10162.69"
                                },
                                {
                                    "0": "Colleen",
                                    "1": "Yang",
                                    "2": "123.84"
                                },
                                {
                                    "0": "Connor",
                                    "1": "Yang",
                                    "2": "11751.38"
                                },
                                {
                                    "0": "Crystal",
                                    "1": "Yang",
                                    "2": "1320.24"
                                },
                                {
                                    "0": "Darryl",
                                    "1": "Yang",
                                    "2": "684.52"
                                },
                                {
                                    "0": "David",
                                    "1": "Yang",
                                    "2": "12883.50"
                                },
                                {
                                    "0": "Dennis",
                                    "1": "Yang",
                                    "2": "292.80"
                                },
                                {
                                    "0": "Edwin",
                                    "1": "Yang",
                                    "2": "4481.96"
                                },
                                {
                                    "0": "Ethan",
                                    "1": "Yang",
                                    "2": "16064.93"
                                },
                                {
                                    "0": "Eugene",
                                    "1": "Yang",
                                    "2": "3290.40"
                                },
                                {
                                    "0": "Gabriel",
                                    "1": "Yang",
                                    "2": "6886.80"
                                },
                                {
                                    "0": "Gilbert",
                                    "1": "Yang",
                                    "2": "6424.76"
                                },
                                {
                                    "0": "Heather",
                                    "1": "Yang",
                                    "2": "5196.45"
                                },
                                {
                                    "0": "Jack",
                                    "1": "Yang",
                                    "2": "0.00"
                                },
                                {
                                    "0": "Jackson",
                                    "1": "Yang",
                                    "2": "2429.70"
                                },
                                {
                                    "0": "Jaclyn",
                                    "1": "Yang",
                                    "2": "11711.25"
                                },
                                {
                                    "0": "Jake",
                                    "1": "Yang",
                                    "2": "0.00"
                                },
                                {
                                    "0": "Jason",
                                    "1": "Yang",
                                    "2": "12883.50"
                                },
                                {
                                    "0": "Jenny",
                                    "1": "Yang",
                                    "2": "2969.40"
                                },
                                {
                                    "0": "Jessie",
                                    "1": "Yang",
                                    "2": "565.35"
                                },
                                {
                                    "0": "Jonathan",
                                    "1": "Yang",
                                    "2": "1396.39"
                                },
                                {
                                    "0": "Jose",
                                    "1": "Yang",
                                    "2": "248.36"
                                },
                                {
                                    "0": "Justin",
                                    "1": "Yang",
                                    "2": "2360.54"
                                },
                                {
                                    "0": "Kelvin",
                                    "1": "Yang",
                                    "2": "1294.74"
                                },
                                {
                                    "0": "Krystal",
                                    "1": "Yang",
                                    "2": "635.00"
                                },
                                {
                                    "0": "Kyle",
                                    "1": "Yang",
                                    "2": "2834.93"
                                },
                                {
                                    "0": "Lacey",
                                    "1": "Yang",
                                    "2": "3107.96"
                                },
                                {
                                    "0": "Leah",
                                    "1": "Yang",
                                    "2": "12807.48"
                                },
                                {
                                    "0": "Logan",
                                    "1": "Yang",
                                    "2": "6213.41"
                                },
                                {
                                    "0": "Louis",
                                    "1": "Yang",
                                    "2": "2887.20"
                                },
                                {
                                    "0": "Luis",
                                    "1": "Yang",
                                    "2": "12883.50"
                                },
                                {
                                    "0": "Luke",
                                    "1": "Yang",
                                    "2": "23624.93"
                                },
                                {
                                    "0": "Marshall",
                                    "1": "Yang",
                                    "2": "472.38"
                                },
                                {
                                    "0": "Martha",
                                    "1": "Yang",
                                    "2": "13599.96"
                                },
                                {
                                    "0": "Micah",
                                    "1": "Yang",
                                    "2": "1333.68"
                                },
                                {
                                    "0": "Nathan",
                                    "1": "Yang",
                                    "2": "6925.41"
                                },
                                {
                                    "0": "Noah",
                                    "1": "Yang",
                                    "2": "3239.94"
                                },
                                {
                                    "0": "Omar",
                                    "1": "Yang",
                                    "2": "4639.98"
                                },
                                {
                                    "0": "Rafael",
                                    "1": "Yang",
                                    "2": "1143.60"
                                },
                                {
                                    "0": "Ramon",
                                    "1": "Yang",
                                    "2": "9.50"
                                },
                                {
                                    "0": "Randy",
                                    "1": "Yang",
                                    "2": "11464.47"
                                },
                                {
                                    "0": "Robert",
                                    "1": "Yang",
                                    "2": "149.97"
                                },
                                {
                                    "0": "Roger",
                                    "1": "Yang",
                                    "2": "7046.91"
                                },
                                {
                                    "0": "Rosa",
                                    "1": "Yang",
                                    "2": "234.84"
                                },
                                {
                                    "0": "Samuel",
                                    "1": "Yang",
                                    "2": "3542.40"
                                },
                                {
                                    "0": "Sandra",
                                    "1": "Yang",
                                    "2": "16869.53"
                                },
                                {
                                    "0": "Shannon",
                                    "1": "Yang",
                                    "2": "338.40"
                                },
                                {
                                    "0": "Stacey",
                                    "1": "Yang",
                                    "2": "0.00"
                                },
                                {
                                    "0": "Steve",
                                    "1": "Yang",
                                    "2": "11091.94"
                                },
                                {
                                    "0": "Susan",
                                    "1": "Yang",
                                    "2": "10796.80"
                                },
                                {
                                    "0": "Suzanne",
                                    "1": "Yang",
                                    "2": "10729.38"
                                },
                                {
                                    "0": "Tamara",
                                    "1": "Yang",
                                    "2": "196.92"
                                },
                                {
                                    "0": "Thomas",
                                    "1": "Yang",
                                    "2": "7152.21"
                                },
                                {
                                    "0": "Tiffany",
                                    "1": "Yang",
                                    "2": "5084.91"
                                },
                                {
                                    "0": "Valerie",
                                    "1": "Yang",
                                    "2": "2227.05"
                                },
                                {
                                    "0": "Warren",
                                    "1": "Yang",
                                    "2": "3116.40"
                                },
                                {
                                    "0": "Zachary",
                                    "1": "Yang",
                                    "2": "27.12"
                                },
                                {
                                    "0": "Arthur",
                                    "1": "Yasinski",
                                    "2": "534.80"
                                },
                                {
                                    "0": "Alan",
                                    "1": "Ye",
                                    "2": "1453.82"
                                },
                                {
                                    "0": "Alejandro",
                                    "1": "Ye",
                                    "2": "8097.60"
                                },
                                {
                                    "0": "Alisha",
                                    "1": "Ye",
                                    "2": "149.94"
                                },
                                {
                                    "0": "Alvin",
                                    "1": "Ye",
                                    "2": "17721.08"
                                },
                                {
                                    "0": "Barbara",
                                    "1": "Ye",
                                    "2": "4697.94"
                                },
                                {
                                    "0": "Brittney",
                                    "1": "Ye",
                                    "2": "499.90"
                                },
                                {
                                    "0": "Candice",
                                    "1": "Ye",
                                    "2": "2863.00"
                                },
                                {
                                    "0": "Cara",
                                    "1": "Ye",
                                    "2": "66.50"
                                },
                                {
                                    "0": "Cedric",
                                    "1": "Ye",
                                    "2": "6803.96"
                                },
                                {
                                    "0": "Christy",
                                    "1": "Ye",
                                    "2": "189.95"
                                },
                                {
                                    "0": "Damien",
                                    "1": "Ye",
                                    "2": "8058.99"
                                },
                                {
                                    "0": "Dawn",
                                    "1": "Ye",
                                    "2": "64.80"
                                },
                                {
                                    "0": "Edwin",
                                    "1": "Ye",
                                    "2": "1462.07"
                                },
                                {
                                    "0": "Gilbert",
                                    "1": "Ye",
                                    "2": "225.00"
                                },
                                {
                                    "0": "Jaclyn",
                                    "1": "Ye",
                                    "2": "1045.36"
                                },
                                {
                                    "0": "Jamie",
                                    "1": "Ye",
                                    "2": "6469.50"
                                },
                                {
                                    "0": "Jessie",
                                    "1": "Ye",
                                    "2": "3531.50"
                                },
                                {
                                    "0": "Jon",
                                    "1": "Ye",
                                    "2": "10039.10"
                                },
                                {
                                    "0": "Jorge",
                                    "1": "Ye",
                                    "2": "2656.00"
                                },
                                {
                                    "0": "Karen",
                                    "1": "Ye",
                                    "2": "1525.20"
                                },
                                {
                                    "0": "Kelli",
                                    "1": "Ye",
                                    "2": "3334.20"
                                },
                                {
                                    "0": "Louis",
                                    "1": "Ye",
                                    "2": "18816.68"
                                },
                                {
                                    "0": "Mandy",
                                    "1": "Ye",
                                    "2": "381.00"
                                },
                                {
                                    "0": "Margaret",
                                    "1": "Ye",
                                    "2": "6722.94"
                                },
                                {
                                    "0": "Marshall",
                                    "1": "Ye",
                                    "2": "65.94"
                                },
                                {
                                    "0": "Martha",
                                    "1": "Ye",
                                    "2": "8403.99"
                                },
                                {
                                    "0": "Omar",
                                    "1": "Ye",
                                    "2": "20249.94"
                                },
                                {
                                    "0": "Rafael",
                                    "1": "Ye",
                                    "2": "7829.90"
                                },
                                {
                                    "0": "Ramon",
                                    "1": "Ye",
                                    "2": "1670.40"
                                },
                                {
                                    "0": "Randy",
                                    "1": "Ye",
                                    "2": "5649.90"
                                },
                                {
                                    "0": "Roger",
                                    "1": "Ye",
                                    "2": "11675.94"
                                },
                                {
                                    "0": "Sandra",
                                    "1": "Ye",
                                    "2": "1011.66"
                                },
                                {
                                    "0": "Shannon",
                                    "1": "Ye",
                                    "2": "0.00"
                                },
                                {
                                    "0": "Stacey",
                                    "1": "Ye",
                                    "2": "21496.51"
                                },
                                {
                                    "0": "Susan",
                                    "1": "Ye",
                                    "2": "1656.00"
                                },
                                {
                                    "0": "Trisha",
                                    "1": "Ye",
                                    "2": "85.50"
                                },
                                {
                                    "0": "Valerie",
                                    "1": "Ye",
                                    "2": "4687.20"
                                },
                                {
                                    "0": "Vincent",
                                    "1": "Ye",
                                    "2": "25047.89"
                                },
                                {
                                    "0": "Warren",
                                    "1": "Ye",
                                    "2": "175.84"
                                },
                                {
                                    "0": "Willie",
                                    "1": "Ye",
                                    "2": "170.00"
                                },
                                {
                                    "0": "Tai",
                                    "1": "Yee",
                                    "2": "1400.00"
                                },
                                {
                                    "0": "Norimichi",
                                    "1": "Yonekura",
                                    "2": "4166.40"
                                },
                                {
                                    "0": "Adam",
                                    "1": "Young",
                                    "2": "2383.20"
                                },
                                {
                                    "0": "Alexandra",
                                    "1": "Young",
                                    "2": "507.60"
                                },
                                {
                                    "0": "Amanda",
                                    "1": "Young",
                                    "2": "5880.72"
                                },
                                {
                                    "0": "Andrea",
                                    "1": "Young",
                                    "2": "0.00"
                                },
                                {
                                    "0": "Angel",
                                    "1": "Young",
                                    "2": "17009.90"
                                },
                                {
                                    "0": "Bailey",
                                    "1": "Young",
                                    "2": "222.00"
                                },
                                {
                                    "0": "Blake",
                                    "1": "Young",
                                    "2": "0.00"
                                },
                                {
                                    "0": "Courtney",
                                    "1": "Young",
                                    "2": "0.00"
                                },
                                {
                                    "0": "Dalton",
                                    "1": "Young",
                                    "2": "920.61"
                                },
                                {
                                    "0": "Devin",
                                    "1": "Young",
                                    "2": "5480.93"
                                },
                                {
                                    "0": "Edward",
                                    "1": "Young",
                                    "2": "3109.75"
                                },
                                {
                                    "0": "Elijah",
                                    "1": "Young",
                                    "2": "1349.60"
                                },
                                {
                                    "0": "Gabriel",
                                    "1": "Young",
                                    "2": "3138.84"
                                },
                                {
                                    "0": "Gabriella",
                                    "1": "Young",
                                    "2": "8298.00"
                                },
                                {
                                    "0": "Garrett",
                                    "1": "Young",
                                    "2": "0.00"
                                },
                                {
                                    "0": "Ian",
                                    "1": "Young",
                                    "2": "840.00"
                                },
                                {
                                    "0": "James",
                                    "1": "Young",
                                    "2": "3711.75"
                                },
                                {
                                    "0": "Janet",
                                    "1": "Young",
                                    "2": "34014.87"
                                },
                                {
                                    "0": "Jason",
                                    "1": "Young",
                                    "2": "764.00"
                                },
                                {
                                    "0": "Jenna",
                                    "1": "Young",
                                    "2": "5386.43"
                                },
                                {
                                    "0": "Jesse",
                                    "1": "Young",
                                    "2": "4639.98"
                                },
                                {
                                    "0": "Jonathan",
                                    "1": "Young",
                                    "2": "403.26"
                                },
                                {
                                    "0": "Jordan",
                                    "1": "Young",
                                    "2": "26999.92"
                                },
                                {
                                    "0": "Jose",
                                    "1": "Young",
                                    "2": "0.00"
                                },
                                {
                                    "0": "Julia",
                                    "1": "Young",
                                    "2": "0.00"
                                },
                                {
                                    "0": "Katelyn",
                                    "1": "Young",
                                    "2": "14432.62"
                                },
                                {
                                    "0": "Katherine",
                                    "1": "Young",
                                    "2": "0.00"
                                },
                                {
                                    "0": "Kaylee",
                                    "1": "Young",
                                    "2": "3082.80"
                                },
                                {
                                    "0": "Kyle",
                                    "1": "Young",
                                    "2": "2636.39"
                                },
                                {
                                    "0": "Mackenzie",
                                    "1": "Young",
                                    "2": "99.56"
                                },
                                {
                                    "0": "Madeline",
                                    "1": "Young",
                                    "2": "133.34"
                                },
                                {
                                    "0": "Marcus",
                                    "1": "Young",
                                    "2": "5972.10"
                                },
                                {
                                    "0": "Miguel",
                                    "1": "Young",
                                    "2": "1080.80"
                                },
                                {
                                    "0": "Natalie",
                                    "1": "Young",
                                    "2": "948.00"
                                },
                                {
                                    "0": "Nathan",
                                    "1": "Young",
                                    "2": "10205.93"
                                },
                                {
                                    "0": "Richard",
                                    "1": "Young",
                                    "2": "3965.10"
                                },
                                {
                                    "0": "Rob",
                                    "1": "Young",
                                    "2": "1627.90"
                                },
                                {
                                    "0": "Savannah",
                                    "1": "Young",
                                    "2": "3124.80"
                                },
                                {
                                    "0": "Sierra",
                                    "1": "Young",
                                    "2": "2240.98"
                                },
                                {
                                    "0": "Stephanie",
                                    "1": "Young",
                                    "2": "3948.00"
                                },
                                {
                                    "0": "Thomas",
                                    "1": "Young",
                                    "2": "3131.96"
                                },
                                {
                                    "0": "Timothy",
                                    "1": "Young",
                                    "2": "3053.76"
                                },
                                {
                                    "0": "Wyatt",
                                    "1": "Young",
                                    "2": "2322.00"
                                },
                                {
                                    "0": "Xavier",
                                    "1": "Young",
                                    "2": "12506.40"
                                },
                                {
                                    "0": "Tom",
                                    "1": "Youtsey",
                                    "2": "5399.90"
                                },
                                {
                                    "0": "Nuan",
                                    "1": "Yu",
                                    "2": "1431.50"
                                },
                                {
                                    "0": "Alisha",
                                    "1": "Yuan",
                                    "2": "10164.04"
                                },
                                {
                                    "0": "Alison",
                                    "1": "Yuan",
                                    "2": "35963.89"
                                },
                                {
                                    "0": "Alvin",
                                    "1": "Yuan",
                                    "2": "22859.35"
                                },
                                {
                                    "0": "Barbara",
                                    "1": "Yuan",
                                    "2": "2505.60"
                                },
                                {
                                    "0": "Bethany",
                                    "1": "Yuan",
                                    "2": "2552.00"
                                },
                                {
                                    "0": "Brad",
                                    "1": "Yuan",
                                    "2": "0.00"
                                },
                                {
                                    "0": "Bradley",
                                    "1": "Yuan",
                                    "2": "990.18"
                                },
                                {
                                    "0": "Brendan",
                                    "1": "Yuan",
                                    "2": "2012.24"
                                },
                                {
                                    "0": "Calvin",
                                    "1": "Yuan",
                                    "2": "18325.32"
                                },
                                {
                                    "0": "Carl",
                                    "1": "Yuan",
                                    "2": "124.95"
                                },
                                {
                                    "0": "Casey",
                                    "1": "Yuan",
                                    "2": "0.00"
                                },
                                {
                                    "0": "Cedric",
                                    "1": "Yuan",
                                    "2": "1414.40"
                                },
                                {
                                    "0": "Christine",
                                    "1": "Yuan",
                                    "2": "496.92"
                                },
                                {
                                    "0": "Clarence",
                                    "1": "Yuan",
                                    "2": "2000.52"
                                },
                                {
                                    "0": "Colleen",
                                    "1": "Yuan",
                                    "2": "6820.17"
                                },
                                {
                                    "0": "Corey",
                                    "1": "Yuan",
                                    "2": "10039.10"
                                },
                                {
                                    "0": "Cristina",
                                    "1": "Yuan",
                                    "2": "538.47"
                                },
                                {
                                    "0": "Dawn",
                                    "1": "Yuan",
                                    "2": "5019.55"
                                },
                                {
                                    "0": "Derek",
                                    "1": "Yuan",
                                    "2": "493.00"
                                },
                                {
                                    "0": "Franklin",
                                    "1": "Yuan",
                                    "2": "2156.00"
                                },
                                {
                                    "0": "Gregory",
                                    "1": "Yuan",
                                    "2": "1792.00"
                                },
                                {
                                    "0": "Jaclyn",
                                    "1": "Yuan",
                                    "2": "12089.91"
                                },
                                {
                                    "0": "Jerry",
                                    "1": "Yuan",
                                    "2": "2159.96"
                                },
                                {
                                    "0": "Johnny",
                                    "1": "Yuan",
                                    "2": "145.20"
                                },
                                {
                                    "0": "Jon",
                                    "1": "Yuan",
                                    "2": "2147.82"
                                },
                                {
                                    "0": "Kara",
                                    "1": "Yuan",
                                    "2": "7149.50"
                                },
                                {
                                    "0": "Karl",
                                    "1": "Yuan",
                                    "2": "2.29"
                                },
                                {
                                    "0": "Kate",
                                    "1": "Yuan",
                                    "2": "13060.80"
                                },
                                {
                                    "0": "Katie",
                                    "1": "Yuan",
                                    "2": "3131.96"
                                },
                                {
                                    "0": "Katrina",
                                    "1": "Yuan",
                                    "2": "23840.70"
                                },
                                {
                                    "0": "Kelvin",
                                    "1": "Yuan",
                                    "2": "2907.18"
                                },
                                {
                                    "0": "Latoya",
                                    "1": "Yuan",
                                    "2": "26405.76"
                                },
                                {
                                    "0": "Maurice",
                                    "1": "Yuan",
                                    "2": "8823.00"
                                },
                                {
                                    "0": "Michele",
                                    "1": "Yuan",
                                    "2": "2450.10"
                                },
                                {
                                    "0": "Misty",
                                    "1": "Yuan",
                                    "2": "10175.38"
                                },
                                {
                                    "0": "Nuan",
                                    "1": "Yuan",
                                    "2": "133.62"
                                },
                                {
                                    "0": "Roger",
                                    "1": "Yuan",
                                    "2": "8063.60"
                                },
                                {
                                    "0": "Tara",
                                    "1": "Yuan",
                                    "2": "4256.00"
                                },
                                {
                                    "0": "Terrence",
                                    "1": "Yuan",
                                    "2": "2441.32"
                                },
                                {
                                    "0": "Terry",
                                    "1": "Yuan",
                                    "2": "599.20"
                                },
                                {
                                    "0": "Tracy",
                                    "1": "Yuan",
                                    "2": "745.50"
                                },
                                {
                                    "0": "Warren",
                                    "1": "Yuan",
                                    "2": "5455.55"
                                },
                                {
                                    "0": "Willie",
                                    "1": "Yuan",
                                    "2": "1494.24"
                                },
                                {
                                    "0": "Yolanda",
                                    "1": "Yuan",
                                    "2": "3000.78"
                                },
                                {
                                    "0": "Ian",
                                    "1": "Yuhasz",
                                    "2": "10039.10"
                                },
                                {
                                    "0": "Gary",
                                    "1": "Yukish",
                                    "2": "21990.15"
                                }
                            ]
                        },
                        "text/html": "<table><tr><th>FirstName</th><th>LastName</th><th>TotalSpent</th></tr><tr><td>Aaron</td><td>Yang</td><td>18362.40</td></tr><tr><td>Alisha</td><td>Yang</td><td>6234.99</td></tr><tr><td>Alvin</td><td>Yang</td><td>349.93</td></tr><tr><td>Bianca</td><td>Yang</td><td>0.00</td></tr><tr><td>Brent</td><td>Yang</td><td>1568.00</td></tr><tr><td>Cameron</td><td>Yang</td><td>1079.99</td></tr><tr><td>Clayton</td><td>Yang</td><td>1079.98</td></tr><tr><td>Colin</td><td>Yang</td><td>10162.69</td></tr><tr><td>Colleen</td><td>Yang</td><td>123.84</td></tr><tr><td>Connor</td><td>Yang</td><td>11751.38</td></tr><tr><td>Crystal</td><td>Yang</td><td>1320.24</td></tr><tr><td>Darryl</td><td>Yang</td><td>684.52</td></tr><tr><td>David</td><td>Yang</td><td>12883.50</td></tr><tr><td>Dennis</td><td>Yang</td><td>292.80</td></tr><tr><td>Edwin</td><td>Yang</td><td>4481.96</td></tr><tr><td>Ethan</td><td>Yang</td><td>16064.93</td></tr><tr><td>Eugene</td><td>Yang</td><td>3290.40</td></tr><tr><td>Gabriel</td><td>Yang</td><td>6886.80</td></tr><tr><td>Gilbert</td><td>Yang</td><td>6424.76</td></tr><tr><td>Heather</td><td>Yang</td><td>5196.45</td></tr><tr><td>Jack</td><td>Yang</td><td>0.00</td></tr><tr><td>Jackson</td><td>Yang</td><td>2429.70</td></tr><tr><td>Jaclyn</td><td>Yang</td><td>11711.25</td></tr><tr><td>Jake</td><td>Yang</td><td>0.00</td></tr><tr><td>Jason</td><td>Yang</td><td>12883.50</td></tr><tr><td>Jenny</td><td>Yang</td><td>2969.40</td></tr><tr><td>Jessie</td><td>Yang</td><td>565.35</td></tr><tr><td>Jonathan</td><td>Yang</td><td>1396.39</td></tr><tr><td>Jose</td><td>Yang</td><td>248.36</td></tr><tr><td>Justin</td><td>Yang</td><td>2360.54</td></tr><tr><td>Kelvin</td><td>Yang</td><td>1294.74</td></tr><tr><td>Krystal</td><td>Yang</td><td>635.00</td></tr><tr><td>Kyle</td><td>Yang</td><td>2834.93</td></tr><tr><td>Lacey</td><td>Yang</td><td>3107.96</td></tr><tr><td>Leah</td><td>Yang</td><td>12807.48</td></tr><tr><td>Logan</td><td>Yang</td><td>6213.41</td></tr><tr><td>Louis</td><td>Yang</td><td>2887.20</td></tr><tr><td>Luis</td><td>Yang</td><td>12883.50</td></tr><tr><td>Luke</td><td>Yang</td><td>23624.93</td></tr><tr><td>Marshall</td><td>Yang</td><td>472.38</td></tr><tr><td>Martha</td><td>Yang</td><td>13599.96</td></tr><tr><td>Micah</td><td>Yang</td><td>1333.68</td></tr><tr><td>Nathan</td><td>Yang</td><td>6925.41</td></tr><tr><td>Noah</td><td>Yang</td><td>3239.94</td></tr><tr><td>Omar</td><td>Yang</td><td>4639.98</td></tr><tr><td>Rafael</td><td>Yang</td><td>1143.60</td></tr><tr><td>Ramon</td><td>Yang</td><td>9.50</td></tr><tr><td>Randy</td><td>Yang</td><td>11464.47</td></tr><tr><td>Robert</td><td>Yang</td><td>149.97</td></tr><tr><td>Roger</td><td>Yang</td><td>7046.91</td></tr><tr><td>Rosa</td><td>Yang</td><td>234.84</td></tr><tr><td>Samuel</td><td>Yang</td><td>3542.40</td></tr><tr><td>Sandra</td><td>Yang</td><td>16869.53</td></tr><tr><td>Shannon</td><td>Yang</td><td>338.40</td></tr><tr><td>Stacey</td><td>Yang</td><td>0.00</td></tr><tr><td>Steve</td><td>Yang</td><td>11091.94</td></tr><tr><td>Susan</td><td>Yang</td><td>10796.80</td></tr><tr><td>Suzanne</td><td>Yang</td><td>10729.38</td></tr><tr><td>Tamara</td><td>Yang</td><td>196.92</td></tr><tr><td>Thomas</td><td>Yang</td><td>7152.21</td></tr><tr><td>Tiffany</td><td>Yang</td><td>5084.91</td></tr><tr><td>Valerie</td><td>Yang</td><td>2227.05</td></tr><tr><td>Warren</td><td>Yang</td><td>3116.40</td></tr><tr><td>Zachary</td><td>Yang</td><td>27.12</td></tr><tr><td>Arthur</td><td>Yasinski</td><td>534.80</td></tr><tr><td>Alan</td><td>Ye</td><td>1453.82</td></tr><tr><td>Alejandro</td><td>Ye</td><td>8097.60</td></tr><tr><td>Alisha</td><td>Ye</td><td>149.94</td></tr><tr><td>Alvin</td><td>Ye</td><td>17721.08</td></tr><tr><td>Barbara</td><td>Ye</td><td>4697.94</td></tr><tr><td>Brittney</td><td>Ye</td><td>499.90</td></tr><tr><td>Candice</td><td>Ye</td><td>2863.00</td></tr><tr><td>Cara</td><td>Ye</td><td>66.50</td></tr><tr><td>Cedric</td><td>Ye</td><td>6803.96</td></tr><tr><td>Christy</td><td>Ye</td><td>189.95</td></tr><tr><td>Damien</td><td>Ye</td><td>8058.99</td></tr><tr><td>Dawn</td><td>Ye</td><td>64.80</td></tr><tr><td>Edwin</td><td>Ye</td><td>1462.07</td></tr><tr><td>Gilbert</td><td>Ye</td><td>225.00</td></tr><tr><td>Jaclyn</td><td>Ye</td><td>1045.36</td></tr><tr><td>Jamie</td><td>Ye</td><td>6469.50</td></tr><tr><td>Jessie</td><td>Ye</td><td>3531.50</td></tr><tr><td>Jon</td><td>Ye</td><td>10039.10</td></tr><tr><td>Jorge</td><td>Ye</td><td>2656.00</td></tr><tr><td>Karen</td><td>Ye</td><td>1525.20</td></tr><tr><td>Kelli</td><td>Ye</td><td>3334.20</td></tr><tr><td>Louis</td><td>Ye</td><td>18816.68</td></tr><tr><td>Mandy</td><td>Ye</td><td>381.00</td></tr><tr><td>Margaret</td><td>Ye</td><td>6722.94</td></tr><tr><td>Marshall</td><td>Ye</td><td>65.94</td></tr><tr><td>Martha</td><td>Ye</td><td>8403.99</td></tr><tr><td>Omar</td><td>Ye</td><td>20249.94</td></tr><tr><td>Rafael</td><td>Ye</td><td>7829.90</td></tr><tr><td>Ramon</td><td>Ye</td><td>1670.40</td></tr><tr><td>Randy</td><td>Ye</td><td>5649.90</td></tr><tr><td>Roger</td><td>Ye</td><td>11675.94</td></tr><tr><td>Sandra</td><td>Ye</td><td>1011.66</td></tr><tr><td>Shannon</td><td>Ye</td><td>0.00</td></tr><tr><td>Stacey</td><td>Ye</td><td>21496.51</td></tr><tr><td>Susan</td><td>Ye</td><td>1656.00</td></tr><tr><td>Trisha</td><td>Ye</td><td>85.50</td></tr><tr><td>Valerie</td><td>Ye</td><td>4687.20</td></tr><tr><td>Vincent</td><td>Ye</td><td>25047.89</td></tr><tr><td>Warren</td><td>Ye</td><td>175.84</td></tr><tr><td>Willie</td><td>Ye</td><td>170.00</td></tr><tr><td>Tai</td><td>Yee</td><td>1400.00</td></tr><tr><td>Norimichi</td><td>Yonekura</td><td>4166.40</td></tr><tr><td>Adam</td><td>Young</td><td>2383.20</td></tr><tr><td>Alexandra</td><td>Young</td><td>507.60</td></tr><tr><td>Amanda</td><td>Young</td><td>5880.72</td></tr><tr><td>Andrea</td><td>Young</td><td>0.00</td></tr><tr><td>Angel</td><td>Young</td><td>17009.90</td></tr><tr><td>Bailey</td><td>Young</td><td>222.00</td></tr><tr><td>Blake</td><td>Young</td><td>0.00</td></tr><tr><td>Courtney</td><td>Young</td><td>0.00</td></tr><tr><td>Dalton</td><td>Young</td><td>920.61</td></tr><tr><td>Devin</td><td>Young</td><td>5480.93</td></tr><tr><td>Edward</td><td>Young</td><td>3109.75</td></tr><tr><td>Elijah</td><td>Young</td><td>1349.60</td></tr><tr><td>Gabriel</td><td>Young</td><td>3138.84</td></tr><tr><td>Gabriella</td><td>Young</td><td>8298.00</td></tr><tr><td>Garrett</td><td>Young</td><td>0.00</td></tr><tr><td>Ian</td><td>Young</td><td>840.00</td></tr><tr><td>James</td><td>Young</td><td>3711.75</td></tr><tr><td>Janet</td><td>Young</td><td>34014.87</td></tr><tr><td>Jason</td><td>Young</td><td>764.00</td></tr><tr><td>Jenna</td><td>Young</td><td>5386.43</td></tr><tr><td>Jesse</td><td>Young</td><td>4639.98</td></tr><tr><td>Jonathan</td><td>Young</td><td>403.26</td></tr><tr><td>Jordan</td><td>Young</td><td>26999.92</td></tr><tr><td>Jose</td><td>Young</td><td>0.00</td></tr><tr><td>Julia</td><td>Young</td><td>0.00</td></tr><tr><td>Katelyn</td><td>Young</td><td>14432.62</td></tr><tr><td>Katherine</td><td>Young</td><td>0.00</td></tr><tr><td>Kaylee</td><td>Young</td><td>3082.80</td></tr><tr><td>Kyle</td><td>Young</td><td>2636.39</td></tr><tr><td>Mackenzie</td><td>Young</td><td>99.56</td></tr><tr><td>Madeline</td><td>Young</td><td>133.34</td></tr><tr><td>Marcus</td><td>Young</td><td>5972.10</td></tr><tr><td>Miguel</td><td>Young</td><td>1080.80</td></tr><tr><td>Natalie</td><td>Young</td><td>948.00</td></tr><tr><td>Nathan</td><td>Young</td><td>10205.93</td></tr><tr><td>Richard</td><td>Young</td><td>3965.10</td></tr><tr><td>Rob</td><td>Young</td><td>1627.90</td></tr><tr><td>Savannah</td><td>Young</td><td>3124.80</td></tr><tr><td>Sierra</td><td>Young</td><td>2240.98</td></tr><tr><td>Stephanie</td><td>Young</td><td>3948.00</td></tr><tr><td>Thomas</td><td>Young</td><td>3131.96</td></tr><tr><td>Timothy</td><td>Young</td><td>3053.76</td></tr><tr><td>Wyatt</td><td>Young</td><td>2322.00</td></tr><tr><td>Xavier</td><td>Young</td><td>12506.40</td></tr><tr><td>Tom</td><td>Youtsey</td><td>5399.90</td></tr><tr><td>Nuan</td><td>Yu</td><td>1431.50</td></tr><tr><td>Alisha</td><td>Yuan</td><td>10164.04</td></tr><tr><td>Alison</td><td>Yuan</td><td>35963.89</td></tr><tr><td>Alvin</td><td>Yuan</td><td>22859.35</td></tr><tr><td>Barbara</td><td>Yuan</td><td>2505.60</td></tr><tr><td>Bethany</td><td>Yuan</td><td>2552.00</td></tr><tr><td>Brad</td><td>Yuan</td><td>0.00</td></tr><tr><td>Bradley</td><td>Yuan</td><td>990.18</td></tr><tr><td>Brendan</td><td>Yuan</td><td>2012.24</td></tr><tr><td>Calvin</td><td>Yuan</td><td>18325.32</td></tr><tr><td>Carl</td><td>Yuan</td><td>124.95</td></tr><tr><td>Casey</td><td>Yuan</td><td>0.00</td></tr><tr><td>Cedric</td><td>Yuan</td><td>1414.40</td></tr><tr><td>Christine</td><td>Yuan</td><td>496.92</td></tr><tr><td>Clarence</td><td>Yuan</td><td>2000.52</td></tr><tr><td>Colleen</td><td>Yuan</td><td>6820.17</td></tr><tr><td>Corey</td><td>Yuan</td><td>10039.10</td></tr><tr><td>Cristina</td><td>Yuan</td><td>538.47</td></tr><tr><td>Dawn</td><td>Yuan</td><td>5019.55</td></tr><tr><td>Derek</td><td>Yuan</td><td>493.00</td></tr><tr><td>Franklin</td><td>Yuan</td><td>2156.00</td></tr><tr><td>Gregory</td><td>Yuan</td><td>1792.00</td></tr><tr><td>Jaclyn</td><td>Yuan</td><td>12089.91</td></tr><tr><td>Jerry</td><td>Yuan</td><td>2159.96</td></tr><tr><td>Johnny</td><td>Yuan</td><td>145.20</td></tr><tr><td>Jon</td><td>Yuan</td><td>2147.82</td></tr><tr><td>Kara</td><td>Yuan</td><td>7149.50</td></tr><tr><td>Karl</td><td>Yuan</td><td>2.29</td></tr><tr><td>Kate</td><td>Yuan</td><td>13060.80</td></tr><tr><td>Katie</td><td>Yuan</td><td>3131.96</td></tr><tr><td>Katrina</td><td>Yuan</td><td>23840.70</td></tr><tr><td>Kelvin</td><td>Yuan</td><td>2907.18</td></tr><tr><td>Latoya</td><td>Yuan</td><td>26405.76</td></tr><tr><td>Maurice</td><td>Yuan</td><td>8823.00</td></tr><tr><td>Michele</td><td>Yuan</td><td>2450.10</td></tr><tr><td>Misty</td><td>Yuan</td><td>10175.38</td></tr><tr><td>Nuan</td><td>Yuan</td><td>133.62</td></tr><tr><td>Roger</td><td>Yuan</td><td>8063.60</td></tr><tr><td>Tara</td><td>Yuan</td><td>4256.00</td></tr><tr><td>Terrence</td><td>Yuan</td><td>2441.32</td></tr><tr><td>Terry</td><td>Yuan</td><td>599.20</td></tr><tr><td>Tracy</td><td>Yuan</td><td>745.50</td></tr><tr><td>Warren</td><td>Yuan</td><td>5455.55</td></tr><tr><td>Willie</td><td>Yuan</td><td>1494.24</td></tr><tr><td>Yolanda</td><td>Yuan</td><td>3000.78</td></tr><tr><td>Ian</td><td>Yuhasz</td><td>10039.10</td></tr><tr><td>Gary</td><td>Yukish</td><td>21990.15</td></tr></table>"
                    },
                    "metadata": {}
                }
            ],
            "execution_count": 1
        },
        {
            "cell_type": "markdown",
            "source": [
                "You may find out how much money each customer has spent overall in the business by running this query. Analyzing customer loyalty and finding high-value clients may benefit from this knowledge. You might use this information to focus your marketing and sales efforts on these clients, or you could use it to create unique incentives or prizes to keep them coming back to your store.\n",
                "\n",
                "  \n",
                "\n",
                "This data could potentially be used to spot patterns or trends in consumer spending behaviour. For instance, you can discover that particular clients frequently spend more money during particular seasons or that they favour particular product categories. Utilizing this data, you may modify your product offers and marketing strategies to better cater to the wants and needs of your target market.\n",
                "\n",
                "  \n",
                "\n",
                "This data could be used to pinpoint any problems or suggestions for the company. For instance, you may discover that some clients are not making as much of a purchase as you would want, which may point to a potential issue with your product offers or marketing initiatives. Alternately, you may discover that some consumers are spending much more than average, which may point to a chance to boost sales by attracting similar customers or broadening your product selection."
            ],
            "metadata": {
                "azdata_cell_guid": "fc6b69d3-f62a-4cdb-8a36-bd1c1d344e00"
            },
            "attachments": {}
        }
    ]
}