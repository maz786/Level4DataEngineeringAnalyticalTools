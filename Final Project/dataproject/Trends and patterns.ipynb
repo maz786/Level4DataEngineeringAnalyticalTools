{
 "cells": [
  {
   "cell_type": "markdown",
   "metadata": {
    "azdata_cell_guid": "545e4b85-9025-4d93-bf9c-94a71c104caf"
   },
   "source": [
    "<span style=\"color: rgb(0, 0, 0); font-size: 12pt; font-family: Calibri, sans-serif;\"><b><u>Trends and patterns</u></b></span>\n",
    "\n",
    "We have discovered the following trends and patterns after analysing the sales data:\n",
    "\n",
    "- Sales of bikes are doing well, and there is a lot of demand for both mountain and frame items.\n",
    "- There is no clear winner in terms of total sales volume, with sales being evenly split amongst all salespeople.\n",
    "- A small number of clients make up a sizable portion of total sales. These clients frequently make several purchases over time and are probably devoted to the business.\n",
    "- Customers commonly buy many things at once, as evidenced by the frequency with which the bike product category's products are bought together.\n",
    "- These observations lead us to the following recommendations:\n",
    "- Keep your attention on the bike product category because it is doing well.\n",
    "- As there is no apparent leader in terms of overall sales, encourage all salespeople to continue concentrating on growing their sales volume.\n",
    "- To further increase the small group of loyal clients' commitment to the business, target them with tailored marketing initiatives.\n",
    "- To entice clients to buy numerous items at once, think about bundling products in the bike product area."
   ]
  },
  {
   "cell_type": "code",
   "execution_count": 3,
   "metadata": {
    "azdata_cell_guid": "5c90387f-bc50-4dc6-91d7-740d2671298d",
    "language": "python"
   },
   "outputs": [
    {
     "data": {
      "text/html": [
       "(200 rows affected)"
      ]
     },
     "metadata": {},
     "output_type": "display_data"
    },
    {
     "data": {
      "text/html": [
       "Total execution time: 00:00:00.021"
      ]
     },
     "metadata": {},
     "output_type": "display_data"
    },
    {
     "data": {
      "application/vnd.dataresource+json": {
       "data": [
        {
         "0": "1",
         "1": "2",
         "2": "10"
        },
        {
         "0": "3",
         "1": "1",
         "2": "6"
        },
        {
         "0": "4",
         "1": "2",
         "2": "10"
        },
        {
         "0": "8",
         "1": "1",
         "2": "6"
        },
        {
         "0": "10",
         "1": "1",
         "2": "3"
        },
        {
         "0": "12",
         "1": "2",
         "2": "10"
        },
        {
         "0": "13",
         "1": "1",
         "2": "6"
        },
        {
         "0": "14",
         "1": "3",
         "2": "20"
        },
        {
         "0": "15",
         "1": "2",
         "2": "15"
        },
        {
         "0": "17",
         "1": "1",
         "2": "7"
        },
        {
         "0": "18",
         "1": "3",
         "2": "20"
        },
        {
         "0": "19",
         "1": "2",
         "2": "10"
        },
        {
         "0": "20",
         "1": "3",
         "2": "25"
        },
        {
         "0": "24",
         "1": "1",
         "2": "4"
        },
        {
         "0": "25",
         "1": "1",
         "2": "10"
        },
        {
         "0": "26",
         "1": "1",
         "2": "7"
        },
        {
         "0": "31",
         "1": "1",
         "2": "3"
        },
        {
         "0": "32",
         "1": "1",
         "2": "6"
        },
        {
         "0": "33",
         "1": "1",
         "2": "6"
        },
        {
         "0": "35",
         "1": "1",
         "2": "8"
        },
        {
         "0": "36",
         "1": "1",
         "2": "10"
        },
        {
         "0": "37",
         "1": "1",
         "2": "7"
        },
        {
         "0": "39",
         "1": "1",
         "2": "8"
        },
        {
         "0": "40",
         "1": "1",
         "2": "3"
        },
        {
         "0": "42",
         "1": "4",
         "2": "23"
        },
        {
         "0": "43",
         "1": "1",
         "2": "8"
        },
        {
         "0": "46",
         "1": "1",
         "2": "10"
        },
        {
         "0": "49",
         "1": "3",
         "2": "18"
        },
        {
         "0": "50",
         "1": "1",
         "2": "1"
        },
        {
         "0": "51",
         "1": "1",
         "2": "2"
        },
        {
         "0": "52",
         "1": "1",
         "2": "7"
        },
        {
         "0": "53",
         "1": "1",
         "2": "5"
        },
        {
         "0": "56",
         "1": "1",
         "2": "4"
        },
        {
         "0": "59",
         "1": "1",
         "2": "8"
        },
        {
         "0": "60",
         "1": "1",
         "2": "4"
        },
        {
         "0": "64",
         "1": "2",
         "2": "12"
        },
        {
         "0": "65",
         "1": "1",
         "2": "5"
        },
        {
         "0": "67",
         "1": "1",
         "2": "6"
        },
        {
         "0": "72",
         "1": "1",
         "2": "2"
        },
        {
         "0": "75",
         "1": "2",
         "2": "11"
        },
        {
         "0": "76",
         "1": "1",
         "2": "2"
        },
        {
         "0": "77",
         "1": "3",
         "2": "13"
        },
        {
         "0": "78",
         "1": "3",
         "2": "20"
        },
        {
         "0": "80",
         "1": "1",
         "2": "10"
        },
        {
         "0": "81",
         "1": "1",
         "2": "8"
        },
        {
         "0": "82",
         "1": "3",
         "2": "4"
        },
        {
         "0": "83",
         "1": "1",
         "2": "4"
        },
        {
         "0": "87",
         "1": "1",
         "2": "9"
        },
        {
         "0": "88",
         "1": "2",
         "2": "9"
        },
        {
         "0": "92",
         "1": "2",
         "2": "12"
        },
        {
         "0": "93",
         "1": "1",
         "2": "9"
        },
        {
         "0": "95",
         "1": "1",
         "2": "1"
        },
        {
         "0": "97",
         "1": "1",
         "2": "5"
        },
        {
         "0": "100",
         "1": "1",
         "2": "2"
        },
        {
         "0": "101",
         "1": "1",
         "2": "5"
        },
        {
         "0": "102",
         "1": "1",
         "2": "7"
        },
        {
         "0": "107",
         "1": "2",
         "2": "10"
        },
        {
         "0": "108",
         "1": "2",
         "2": "11"
        },
        {
         "0": "110",
         "1": "2",
         "2": "8"
        },
        {
         "0": "111",
         "1": "1",
         "2": "1"
        },
        {
         "0": "118",
         "1": "1",
         "2": "7"
        },
        {
         "0": "119",
         "1": "1",
         "2": "6"
        },
        {
         "0": "123",
         "1": "2",
         "2": "7"
        },
        {
         "0": "125",
         "1": "1",
         "2": "9"
        },
        {
         "0": "126",
         "1": "2",
         "2": "12"
        },
        {
         "0": "127",
         "1": "1",
         "2": "10"
        },
        {
         "0": "129",
         "1": "1",
         "2": "5"
        },
        {
         "0": "131",
         "1": "1",
         "2": "9"
        },
        {
         "0": "133",
         "1": "1",
         "2": "9"
        },
        {
         "0": "134",
         "1": "4",
         "2": "25"
        },
        {
         "0": "138",
         "1": "1",
         "2": "10"
        },
        {
         "0": "141",
         "1": "1",
         "2": "7"
        },
        {
         "0": "144",
         "1": "1",
         "2": "7"
        },
        {
         "0": "145",
         "1": "1",
         "2": "10"
        },
        {
         "0": "149",
         "1": "1",
         "2": "7"
        },
        {
         "0": "151",
         "1": "1",
         "2": "2"
        },
        {
         "0": "153",
         "1": "2",
         "2": "11"
        },
        {
         "0": "154",
         "1": "2",
         "2": "5"
        },
        {
         "0": "155",
         "1": "2",
         "2": "9"
        },
        {
         "0": "157",
         "1": "1",
         "2": "3"
        },
        {
         "0": "159",
         "1": "2",
         "2": "7"
        },
        {
         "0": "160",
         "1": "2",
         "2": "8"
        },
        {
         "0": "162",
         "1": "2",
         "2": "13"
        },
        {
         "0": "163",
         "1": "1",
         "2": "10"
        },
        {
         "0": "164",
         "1": "1",
         "2": "9"
        },
        {
         "0": "167",
         "1": "1",
         "2": "7"
        },
        {
         "0": "170",
         "1": "1",
         "2": "4"
        },
        {
         "0": "172",
         "1": "1",
         "2": "4"
        },
        {
         "0": "173",
         "1": "1",
         "2": "2"
        },
        {
         "0": "174",
         "1": "2",
         "2": "9"
        },
        {
         "0": "175",
         "1": "2",
         "2": "7"
        },
        {
         "0": "177",
         "1": "1",
         "2": "2"
        },
        {
         "0": "178",
         "1": "2",
         "2": "18"
        },
        {
         "0": "180",
         "1": "1",
         "2": "10"
        },
        {
         "0": "181",
         "1": "4",
         "2": "14"
        },
        {
         "0": "182",
         "1": "2",
         "2": "12"
        },
        {
         "0": "183",
         "1": "1",
         "2": "5"
        },
        {
         "0": "184",
         "1": "1",
         "2": "8"
        },
        {
         "0": "187",
         "1": "1",
         "2": "5"
        },
        {
         "0": "188",
         "1": "1",
         "2": "7"
        },
        {
         "0": "189",
         "1": "1",
         "2": "4"
        },
        {
         "0": "190",
         "1": "1",
         "2": "7"
        },
        {
         "0": "192",
         "1": "1",
         "2": "7"
        },
        {
         "0": "194",
         "1": "3",
         "2": "15"
        },
        {
         "0": "196",
         "1": "3",
         "2": "14"
        },
        {
         "0": "197",
         "1": "1",
         "2": "1"
        },
        {
         "0": "199",
         "1": "3",
         "2": "17"
        },
        {
         "0": "200",
         "1": "4",
         "2": "27"
        },
        {
         "0": "201",
         "1": "1",
         "2": "4"
        },
        {
         "0": "203",
         "1": "1",
         "2": "4"
        },
        {
         "0": "204",
         "1": "1",
         "2": "10"
        },
        {
         "0": "205",
         "1": "2",
         "2": "14"
        },
        {
         "0": "207",
         "1": "1",
         "2": "10"
        },
        {
         "0": "210",
         "1": "3",
         "2": "18"
        },
        {
         "0": "211",
         "1": "2",
         "2": "12"
        },
        {
         "0": "216",
         "1": "1",
         "2": "10"
        },
        {
         "0": "219",
         "1": "1",
         "2": "7"
        },
        {
         "0": "220",
         "1": "2",
         "2": "7"
        },
        {
         "0": "221",
         "1": "2",
         "2": "10"
        },
        {
         "0": "224",
         "1": "2",
         "2": "14"
        },
        {
         "0": "227",
         "1": "3",
         "2": "17"
        },
        {
         "0": "234",
         "1": "2",
         "2": "11"
        },
        {
         "0": "236",
         "1": "2",
         "2": "13"
        },
        {
         "0": "237",
         "1": "1",
         "2": "4"
        },
        {
         "0": "239",
         "1": "1",
         "2": "9"
        },
        {
         "0": "241",
         "1": "1",
         "2": "7"
        },
        {
         "0": "243",
         "1": "2",
         "2": "6"
        },
        {
         "0": "244",
         "1": "1",
         "2": "1"
        },
        {
         "0": "246",
         "1": "1",
         "2": "6"
        },
        {
         "0": "247",
         "1": "2",
         "2": "8"
        },
        {
         "0": "248",
         "1": "1",
         "2": "6"
        },
        {
         "0": "250",
         "1": "2",
         "2": "12"
        },
        {
         "0": "252",
         "1": "1",
         "2": "3"
        },
        {
         "0": "253",
         "1": "2",
         "2": "11"
        },
        {
         "0": "254",
         "1": "1",
         "2": "4"
        },
        {
         "0": "257",
         "1": "2",
         "2": "9"
        },
        {
         "0": "259",
         "1": "1",
         "2": "4"
        },
        {
         "0": "261",
         "1": "1",
         "2": "10"
        },
        {
         "0": "262",
         "1": "2",
         "2": "11"
        },
        {
         "0": "264",
         "1": "2",
         "2": "9"
        },
        {
         "0": "267",
         "1": "1",
         "2": "6"
        },
        {
         "0": "268",
         "1": "1",
         "2": "9"
        },
        {
         "0": "269",
         "1": "1",
         "2": "7"
        },
        {
         "0": "273",
         "1": "1",
         "2": "6"
        },
        {
         "0": "275",
         "1": "2",
         "2": "13"
        },
        {
         "0": "276",
         "1": "1",
         "2": "1"
        },
        {
         "0": "277",
         "1": "1",
         "2": "3"
        },
        {
         "0": "278",
         "1": "1",
         "2": "2"
        },
        {
         "0": "279",
         "1": "1",
         "2": "6"
        },
        {
         "0": "282",
         "1": "2",
         "2": "12"
        },
        {
         "0": "284",
         "1": "2",
         "2": "15"
        },
        {
         "0": "285",
         "1": "1",
         "2": "4"
        },
        {
         "0": "286",
         "1": "1",
         "2": "1"
        },
        {
         "0": "287",
         "1": "3",
         "2": "10"
        },
        {
         "0": "288",
         "1": "1",
         "2": "10"
        },
        {
         "0": "292",
         "1": "3",
         "2": "11"
        },
        {
         "0": "293",
         "1": "3",
         "2": "12"
        },
        {
         "0": "294",
         "1": "1",
         "2": "3"
        },
        {
         "0": "296",
         "1": "2",
         "2": "10"
        },
        {
         "0": "297",
         "1": "1",
         "2": "9"
        },
        {
         "0": "298",
         "1": "2",
         "2": "11"
        },
        {
         "0": "300",
         "1": "1",
         "2": "6"
        },
        {
         "0": "304",
         "1": "1",
         "2": "6"
        },
        {
         "0": "305",
         "1": "3",
         "2": "25"
        },
        {
         "0": "306",
         "1": "2",
         "2": "11"
        },
        {
         "0": "308",
         "1": "1",
         "2": "7"
        },
        {
         "0": "310",
         "1": "1",
         "2": "2"
        },
        {
         "0": "311",
         "1": "1",
         "2": "1"
        },
        {
         "0": "315",
         "1": "1",
         "2": "2"
        },
        {
         "0": "317",
         "1": "1",
         "2": "9"
        },
        {
         "0": "318",
         "1": "2",
         "2": "17"
        },
        {
         "0": "319",
         "1": "1",
         "2": "7"
        },
        {
         "0": "321",
         "1": "3",
         "2": "19"
        },
        {
         "0": "322",
         "1": "1",
         "2": "3"
        },
        {
         "0": "323",
         "1": "1",
         "2": "8"
        },
        {
         "0": "324",
         "1": "4",
         "2": "27"
        },
        {
         "0": "327",
         "1": "1",
         "2": "4"
        },
        {
         "0": "330",
         "1": "1",
         "2": "1"
        },
        {
         "0": "331",
         "1": "1",
         "2": "5"
        },
        {
         "0": "333",
         "1": "1",
         "2": "7"
        },
        {
         "0": "334",
         "1": "1",
         "2": "7"
        },
        {
         "0": "335",
         "1": "1",
         "2": "3"
        },
        {
         "0": "336",
         "1": "2",
         "2": "9"
        },
        {
         "0": "337",
         "1": "1",
         "2": "9"
        },
        {
         "0": "339",
         "1": "2",
         "2": "12"
        },
        {
         "0": "341",
         "1": "1",
         "2": "10"
        },
        {
         "0": "343",
         "1": "1",
         "2": "7"
        },
        {
         "0": "344",
         "1": "1",
         "2": "9"
        },
        {
         "0": "345",
         "1": "1",
         "2": "9"
        },
        {
         "0": "346",
         "1": "1",
         "2": "3"
        },
        {
         "0": "347",
         "1": "2",
         "2": "10"
        },
        {
         "0": "349",
         "1": "1",
         "2": "8"
        },
        {
         "0": "350",
         "1": "1",
         "2": "7"
        },
        {
         "0": "351",
         "1": "2",
         "2": "10"
        },
        {
         "0": "355",
         "1": "1",
         "2": "1"
        },
        {
         "0": "356",
         "1": "2",
         "2": "12"
        },
        {
         "0": "357",
         "1": "1",
         "2": "5"
        },
        {
         "0": "358",
         "1": "2",
         "2": "12"
        },
        {
         "0": "359",
         "1": "1",
         "2": "9"
        },
        {
         "0": "360",
         "1": "1",
         "2": "1"
        }
       ],
       "schema": {
        "fields": [
         {
          "name": "CustomerID"
         },
         {
          "name": "SalesCount"
         },
         {
          "name": "QuantitySum"
         }
        ]
       }
      },
      "text/html": [
       "<table><tr><th>CustomerID</th><th>SalesCount</th><th>QuantitySum</th></tr><tr><td>1</td><td>2</td><td>10</td></tr><tr><td>3</td><td>1</td><td>6</td></tr><tr><td>4</td><td>2</td><td>10</td></tr><tr><td>8</td><td>1</td><td>6</td></tr><tr><td>10</td><td>1</td><td>3</td></tr><tr><td>12</td><td>2</td><td>10</td></tr><tr><td>13</td><td>1</td><td>6</td></tr><tr><td>14</td><td>3</td><td>20</td></tr><tr><td>15</td><td>2</td><td>15</td></tr><tr><td>17</td><td>1</td><td>7</td></tr><tr><td>18</td><td>3</td><td>20</td></tr><tr><td>19</td><td>2</td><td>10</td></tr><tr><td>20</td><td>3</td><td>25</td></tr><tr><td>24</td><td>1</td><td>4</td></tr><tr><td>25</td><td>1</td><td>10</td></tr><tr><td>26</td><td>1</td><td>7</td></tr><tr><td>31</td><td>1</td><td>3</td></tr><tr><td>32</td><td>1</td><td>6</td></tr><tr><td>33</td><td>1</td><td>6</td></tr><tr><td>35</td><td>1</td><td>8</td></tr><tr><td>36</td><td>1</td><td>10</td></tr><tr><td>37</td><td>1</td><td>7</td></tr><tr><td>39</td><td>1</td><td>8</td></tr><tr><td>40</td><td>1</td><td>3</td></tr><tr><td>42</td><td>4</td><td>23</td></tr><tr><td>43</td><td>1</td><td>8</td></tr><tr><td>46</td><td>1</td><td>10</td></tr><tr><td>49</td><td>3</td><td>18</td></tr><tr><td>50</td><td>1</td><td>1</td></tr><tr><td>51</td><td>1</td><td>2</td></tr><tr><td>52</td><td>1</td><td>7</td></tr><tr><td>53</td><td>1</td><td>5</td></tr><tr><td>56</td><td>1</td><td>4</td></tr><tr><td>59</td><td>1</td><td>8</td></tr><tr><td>60</td><td>1</td><td>4</td></tr><tr><td>64</td><td>2</td><td>12</td></tr><tr><td>65</td><td>1</td><td>5</td></tr><tr><td>67</td><td>1</td><td>6</td></tr><tr><td>72</td><td>1</td><td>2</td></tr><tr><td>75</td><td>2</td><td>11</td></tr><tr><td>76</td><td>1</td><td>2</td></tr><tr><td>77</td><td>3</td><td>13</td></tr><tr><td>78</td><td>3</td><td>20</td></tr><tr><td>80</td><td>1</td><td>10</td></tr><tr><td>81</td><td>1</td><td>8</td></tr><tr><td>82</td><td>3</td><td>4</td></tr><tr><td>83</td><td>1</td><td>4</td></tr><tr><td>87</td><td>1</td><td>9</td></tr><tr><td>88</td><td>2</td><td>9</td></tr><tr><td>92</td><td>2</td><td>12</td></tr><tr><td>93</td><td>1</td><td>9</td></tr><tr><td>95</td><td>1</td><td>1</td></tr><tr><td>97</td><td>1</td><td>5</td></tr><tr><td>100</td><td>1</td><td>2</td></tr><tr><td>101</td><td>1</td><td>5</td></tr><tr><td>102</td><td>1</td><td>7</td></tr><tr><td>107</td><td>2</td><td>10</td></tr><tr><td>108</td><td>2</td><td>11</td></tr><tr><td>110</td><td>2</td><td>8</td></tr><tr><td>111</td><td>1</td><td>1</td></tr><tr><td>118</td><td>1</td><td>7</td></tr><tr><td>119</td><td>1</td><td>6</td></tr><tr><td>123</td><td>2</td><td>7</td></tr><tr><td>125</td><td>1</td><td>9</td></tr><tr><td>126</td><td>2</td><td>12</td></tr><tr><td>127</td><td>1</td><td>10</td></tr><tr><td>129</td><td>1</td><td>5</td></tr><tr><td>131</td><td>1</td><td>9</td></tr><tr><td>133</td><td>1</td><td>9</td></tr><tr><td>134</td><td>4</td><td>25</td></tr><tr><td>138</td><td>1</td><td>10</td></tr><tr><td>141</td><td>1</td><td>7</td></tr><tr><td>144</td><td>1</td><td>7</td></tr><tr><td>145</td><td>1</td><td>10</td></tr><tr><td>149</td><td>1</td><td>7</td></tr><tr><td>151</td><td>1</td><td>2</td></tr><tr><td>153</td><td>2</td><td>11</td></tr><tr><td>154</td><td>2</td><td>5</td></tr><tr><td>155</td><td>2</td><td>9</td></tr><tr><td>157</td><td>1</td><td>3</td></tr><tr><td>159</td><td>2</td><td>7</td></tr><tr><td>160</td><td>2</td><td>8</td></tr><tr><td>162</td><td>2</td><td>13</td></tr><tr><td>163</td><td>1</td><td>10</td></tr><tr><td>164</td><td>1</td><td>9</td></tr><tr><td>167</td><td>1</td><td>7</td></tr><tr><td>170</td><td>1</td><td>4</td></tr><tr><td>172</td><td>1</td><td>4</td></tr><tr><td>173</td><td>1</td><td>2</td></tr><tr><td>174</td><td>2</td><td>9</td></tr><tr><td>175</td><td>2</td><td>7</td></tr><tr><td>177</td><td>1</td><td>2</td></tr><tr><td>178</td><td>2</td><td>18</td></tr><tr><td>180</td><td>1</td><td>10</td></tr><tr><td>181</td><td>4</td><td>14</td></tr><tr><td>182</td><td>2</td><td>12</td></tr><tr><td>183</td><td>1</td><td>5</td></tr><tr><td>184</td><td>1</td><td>8</td></tr><tr><td>187</td><td>1</td><td>5</td></tr><tr><td>188</td><td>1</td><td>7</td></tr><tr><td>189</td><td>1</td><td>4</td></tr><tr><td>190</td><td>1</td><td>7</td></tr><tr><td>192</td><td>1</td><td>7</td></tr><tr><td>194</td><td>3</td><td>15</td></tr><tr><td>196</td><td>3</td><td>14</td></tr><tr><td>197</td><td>1</td><td>1</td></tr><tr><td>199</td><td>3</td><td>17</td></tr><tr><td>200</td><td>4</td><td>27</td></tr><tr><td>201</td><td>1</td><td>4</td></tr><tr><td>203</td><td>1</td><td>4</td></tr><tr><td>204</td><td>1</td><td>10</td></tr><tr><td>205</td><td>2</td><td>14</td></tr><tr><td>207</td><td>1</td><td>10</td></tr><tr><td>210</td><td>3</td><td>18</td></tr><tr><td>211</td><td>2</td><td>12</td></tr><tr><td>216</td><td>1</td><td>10</td></tr><tr><td>219</td><td>1</td><td>7</td></tr><tr><td>220</td><td>2</td><td>7</td></tr><tr><td>221</td><td>2</td><td>10</td></tr><tr><td>224</td><td>2</td><td>14</td></tr><tr><td>227</td><td>3</td><td>17</td></tr><tr><td>234</td><td>2</td><td>11</td></tr><tr><td>236</td><td>2</td><td>13</td></tr><tr><td>237</td><td>1</td><td>4</td></tr><tr><td>239</td><td>1</td><td>9</td></tr><tr><td>241</td><td>1</td><td>7</td></tr><tr><td>243</td><td>2</td><td>6</td></tr><tr><td>244</td><td>1</td><td>1</td></tr><tr><td>246</td><td>1</td><td>6</td></tr><tr><td>247</td><td>2</td><td>8</td></tr><tr><td>248</td><td>1</td><td>6</td></tr><tr><td>250</td><td>2</td><td>12</td></tr><tr><td>252</td><td>1</td><td>3</td></tr><tr><td>253</td><td>2</td><td>11</td></tr><tr><td>254</td><td>1</td><td>4</td></tr><tr><td>257</td><td>2</td><td>9</td></tr><tr><td>259</td><td>1</td><td>4</td></tr><tr><td>261</td><td>1</td><td>10</td></tr><tr><td>262</td><td>2</td><td>11</td></tr><tr><td>264</td><td>2</td><td>9</td></tr><tr><td>267</td><td>1</td><td>6</td></tr><tr><td>268</td><td>1</td><td>9</td></tr><tr><td>269</td><td>1</td><td>7</td></tr><tr><td>273</td><td>1</td><td>6</td></tr><tr><td>275</td><td>2</td><td>13</td></tr><tr><td>276</td><td>1</td><td>1</td></tr><tr><td>277</td><td>1</td><td>3</td></tr><tr><td>278</td><td>1</td><td>2</td></tr><tr><td>279</td><td>1</td><td>6</td></tr><tr><td>282</td><td>2</td><td>12</td></tr><tr><td>284</td><td>2</td><td>15</td></tr><tr><td>285</td><td>1</td><td>4</td></tr><tr><td>286</td><td>1</td><td>1</td></tr><tr><td>287</td><td>3</td><td>10</td></tr><tr><td>288</td><td>1</td><td>10</td></tr><tr><td>292</td><td>3</td><td>11</td></tr><tr><td>293</td><td>3</td><td>12</td></tr><tr><td>294</td><td>1</td><td>3</td></tr><tr><td>296</td><td>2</td><td>10</td></tr><tr><td>297</td><td>1</td><td>9</td></tr><tr><td>298</td><td>2</td><td>11</td></tr><tr><td>300</td><td>1</td><td>6</td></tr><tr><td>304</td><td>1</td><td>6</td></tr><tr><td>305</td><td>3</td><td>25</td></tr><tr><td>306</td><td>2</td><td>11</td></tr><tr><td>308</td><td>1</td><td>7</td></tr><tr><td>310</td><td>1</td><td>2</td></tr><tr><td>311</td><td>1</td><td>1</td></tr><tr><td>315</td><td>1</td><td>2</td></tr><tr><td>317</td><td>1</td><td>9</td></tr><tr><td>318</td><td>2</td><td>17</td></tr><tr><td>319</td><td>1</td><td>7</td></tr><tr><td>321</td><td>3</td><td>19</td></tr><tr><td>322</td><td>1</td><td>3</td></tr><tr><td>323</td><td>1</td><td>8</td></tr><tr><td>324</td><td>4</td><td>27</td></tr><tr><td>327</td><td>1</td><td>4</td></tr><tr><td>330</td><td>1</td><td>1</td></tr><tr><td>331</td><td>1</td><td>5</td></tr><tr><td>333</td><td>1</td><td>7</td></tr><tr><td>334</td><td>1</td><td>7</td></tr><tr><td>335</td><td>1</td><td>3</td></tr><tr><td>336</td><td>2</td><td>9</td></tr><tr><td>337</td><td>1</td><td>9</td></tr><tr><td>339</td><td>2</td><td>12</td></tr><tr><td>341</td><td>1</td><td>10</td></tr><tr><td>343</td><td>1</td><td>7</td></tr><tr><td>344</td><td>1</td><td>9</td></tr><tr><td>345</td><td>1</td><td>9</td></tr><tr><td>346</td><td>1</td><td>3</td></tr><tr><td>347</td><td>2</td><td>10</td></tr><tr><td>349</td><td>1</td><td>8</td></tr><tr><td>350</td><td>1</td><td>7</td></tr><tr><td>351</td><td>2</td><td>10</td></tr><tr><td>355</td><td>1</td><td>1</td></tr><tr><td>356</td><td>2</td><td>12</td></tr><tr><td>357</td><td>1</td><td>5</td></tr><tr><td>358</td><td>2</td><td>12</td></tr><tr><td>359</td><td>1</td><td>9</td></tr><tr><td>360</td><td>1</td><td>1</td></tr></table>"
      ]
     },
     "execution_count": 3,
     "metadata": {
      "azdata_chartOptions": {
       "columnsAsLabels": true,
       "dataDirection": "horizontal",
       "labelFirstColumn": false,
       "legendPosition": "none",
       "type": "table"
      }
     },
     "output_type": "execute_result"
    }
   ],
   "source": [
    "SELECT CustomerID, COUNT(SalesID) AS SalesCount, SUM(Quantity) AS QuantitySum\n",
    "FROM Sales\n",
    "GROUP BY CustomerID"
   ]
  },
  {
   "cell_type": "markdown",
   "metadata": {
    "azdata_cell_guid": "dca34f91-1b62-42eb-9d8d-4fa45514c99f"
   },
   "source": [
    "The corporation might gain from this information in a variety of ways.\n",
    "\n",
    "  \n",
    "\n",
    "The business might use this data, for instance, to determine which clients are the most important to it—those who generate the greatest sales or who buy the most merchandise overall. By using this information to prioritise its marketing and sales initiatives, the firm may be able to offer these clients exclusive deals or discounts in an effort to keep them as clients.\n",
    "\n",
    "  \n",
    "\n",
    "The business might also utilise this data to spot patterns in consumer spending habits, such as which goods are most popular with particular clientele or who tends to buy larger amounts of goods more frequently. This could assist the business better understand the demands and preferences of its clients and provide insight into its product development and marketing initiatives.\n",
    "\n",
    "  \n",
    "\n",
    "By comparing the sales counts and quantities for customers handled by various salespeople, the corporation may also utilise this information to evaluate the performance of its sales team. This could aid the business in locating standout sales representatives and pinpointing areas that want improvement."
   ]
  },
  {
   "cell_type": "code",
   "execution_count": 1,
   "metadata": {
    "azdata_cell_guid": "2c061fc1-1b22-422a-842f-b3a2ae1469a1",
    "language": "python"
   },
   "outputs": [
    {
     "data": {
      "image/png": "[encoded data removed]",
      "text/plain": [
       "<Figure size 640x480 with 1 Axes>"
      ]
     },
     "metadata": {},
     "output_type": "display_data"
    }
   ],
   "source": [
    "import pandas as pd\n",
    "import matplotlib.pyplot as plt\n",
    "\n",
    "# Load the CSV files into Pandas dataframes\n",
    "customers_df = pd.read_csv('/Users/maz/Library/Mobile Documents/com~apple~CloudDocs/Documents/Education/Digital Skills/Data /Level 4 Data Analytics/Week 7/Project/csv/Customers.csv')\n",
    "sales_df = pd.read_csv('/Users/maz/Library/Mobile Documents/com~apple~CloudDocs/Documents/Education/Digital Skills/Data /Level 4 Data Analytics/Week 7/Project/csv/Sales.csv')\n",
    "\n",
    "# Merge the customers_df and sales_df dataframes on the CustomerID column\n",
    "merged_df = pd.merge(customers_df, sales_df, on='CustomerID')\n",
    "\n",
    "# Group the merged dataframe by CustomerID and calculate the count of sales and quantity for each customer\n",
    "grouped_df = merged_df.groupby('CustomerID').agg({'SalesID': 'count', 'Quantity': 'sum'})\n",
    "\n",
    "# Create a scatterplot of the count of sales and quantity for each customer\n",
    "grouped_df.plot.scatter(x='SalesID', y='Quantity')\n",
    "\n",
    "# Customize the appearance of the plot\n",
    "plt.title('Count of Sales and Quantity by Customer ID')\n",
    "plt.xlabel('Count of Sales')\n",
    "plt.ylabel('Quantity')\n",
    "\n",
    "# Display the plot\n",
    "plt.show()"
   ]
  },
  {
   "cell_type": "markdown",
   "metadata": {
    "azdata_cell_guid": "70062965-3bc8-462e-9eca-21cdbba9a9f2"
   },
   "source": [
    "The visualisation produced will display a scatterplot of the quantity and count of sales for each client. There is a correlation between sales and quantity. The company could benefit from this knowledge in a number of ways:\n",
    "\n",
    "- Identifying clients who are especially active in terms of the volume of purchases they make or sales they make. These consumers might be selected for loyalty plans or other rewards to entice them to keep making purchases.\n",
    "- Observing patterns in consumer behaviour, such as if those who generate more sales also frequently make larger purchases. The tactics for marketing and sales could be informed by this knowledge.\n",
    "- Recognising clients who might be at danger of leaving (i.e., stopping their purchases). Low sales or volume customers could not be as interested in the company's items and might be more inclined to cease buying in the future.\n",
    "- Locating prospects for upselling or cross-selling to clients. Customers who are making several purchases or buying huge volumes of goods can be open to buying more or more expensive goods.\n",
    "- Identifying any potential sales process problems, such as problems turning leads into customers or low buy amounts. The corporation might be able to grow revenue and enhance sales with the aid of this knowledge."
   ]
  },
  {
   "cell_type": "code",
   "execution_count": 2,
   "metadata": {
    "azdata_cell_guid": "9a8ab00d-1f4f-4bf0-a392-c865c93d4c79",
    "language": "python"
   },
   "outputs": [
    {
     "data": {
      "text/html": [
       "(23 rows affected)"
      ]
     },
     "metadata": {},
     "output_type": "display_data"
    },
    {
     "data": {
      "text/html": [
       "Total execution time: 00:00:00.011"
      ]
     },
     "metadata": {},
     "output_type": "display_data"
    },
    {
     "data": {
      "application/vnd.dataresource+json": {
       "data": [
        {
         "0": "1",
         "1": "10",
         "2": "62"
        },
        {
         "0": "2",
         "1": "17",
         "2": "113"
        },
        {
         "0": "3",
         "1": "17",
         "2": "89"
        },
        {
         "0": "4",
         "1": "17",
         "2": "81"
        },
        {
         "0": "5",
         "1": "12",
         "2": "74"
        },
        {
         "0": "6",
         "1": "9",
         "2": "49"
        },
        {
         "0": "7",
         "1": "14",
         "2": "83"
        },
        {
         "0": "8",
         "1": "11",
         "2": "58"
        },
        {
         "0": "9",
         "1": "14",
         "2": "78"
        },
        {
         "0": "10",
         "1": "8",
         "2": "49"
        },
        {
         "0": "11",
         "1": "16",
         "2": "75"
        },
        {
         "0": "12",
         "1": "19",
         "2": "114"
        },
        {
         "0": "13",
         "1": "18",
         "2": "105"
        },
        {
         "0": "14",
         "1": "9",
         "2": "68"
        },
        {
         "0": "15",
         "1": "15",
         "2": "81"
        },
        {
         "0": "16",
         "1": "13",
         "2": "86"
        },
        {
         "0": "17",
         "1": "14",
         "2": "84"
        },
        {
         "0": "18",
         "1": "11",
         "2": "70"
        },
        {
         "0": "19",
         "1": "12",
         "2": "58"
        },
        {
         "0": "20",
         "1": "11",
         "2": "56"
        },
        {
         "0": "21",
         "1": "13",
         "2": "52"
        },
        {
         "0": "22",
         "1": "13",
         "2": "60"
        },
        {
         "0": "23",
         "1": "7",
         "2": "36"
        }
       ],
       "schema": {
        "fields": [
         {
          "name": "SalesPersonID"
         },
         {
          "name": "SalesCount"
         },
         {
          "name": "QuantitySum"
         }
        ]
       }
      },
      "text/html": [
       "<table><tr><th>SalesPersonID</th><th>SalesCount</th><th>QuantitySum</th></tr><tr><td>1</td><td>10</td><td>62</td></tr><tr><td>2</td><td>17</td><td>113</td></tr><tr><td>3</td><td>17</td><td>89</td></tr><tr><td>4</td><td>17</td><td>81</td></tr><tr><td>5</td><td>12</td><td>74</td></tr><tr><td>6</td><td>9</td><td>49</td></tr><tr><td>7</td><td>14</td><td>83</td></tr><tr><td>8</td><td>11</td><td>58</td></tr><tr><td>9</td><td>14</td><td>78</td></tr><tr><td>10</td><td>8</td><td>49</td></tr><tr><td>11</td><td>16</td><td>75</td></tr><tr><td>12</td><td>19</td><td>114</td></tr><tr><td>13</td><td>18</td><td>105</td></tr><tr><td>14</td><td>9</td><td>68</td></tr><tr><td>15</td><td>15</td><td>81</td></tr><tr><td>16</td><td>13</td><td>86</td></tr><tr><td>17</td><td>14</td><td>84</td></tr><tr><td>18</td><td>11</td><td>70</td></tr><tr><td>19</td><td>12</td><td>58</td></tr><tr><td>20</td><td>11</td><td>56</td></tr><tr><td>21</td><td>13</td><td>52</td></tr><tr><td>22</td><td>13</td><td>60</td></tr><tr><td>23</td><td>7</td><td>36</td></tr></table>"
      ]
     },
     "execution_count": 2,
     "metadata": {},
     "output_type": "execute_result"
    }
   ],
   "source": [
    "SELECT SalesPersonID, COUNT(SalesID) AS SalesCount, SUM(Quantity) AS QuantitySum\n",
    "FROM Sales\n",
    "GROUP BY SalesPersonID"
   ]
  },
  {
   "cell_type": "markdown",
   "metadata": {
    "azdata_cell_guid": "bc870f28-ab40-41d6-a403-d58b88d5a18c"
   },
   "source": [
    "Running the SELECT statement above would result in a visualisation that displayed the total number of sales and the total number of products sold for each salesperson identified by their SalesPersonID. The business might benefit from this information in a variety of ways.\n",
    "\n",
    "  \n",
    "\n",
    "First, the business might utilise this data to assess each salesperson's performance and spot any trends or outliers in their sales. For instance, a salesperson who routinely outperforms their peers in SalesCount or QuantitySum may be more adept at closing deals and should be commended or compensated as such. On the other hand, if a salesperson's SalesCount or QuantitySum is low, the business may wish to offer more support or training to help them perform better.\n",
    "\n",
    "  \n",
    "\n",
    "By allocating salespeople to particular goods or customer groups according to their sales success, the corporation might also use this information to optimise their sales team. For instance, a salesperson with a high QuantitySum for a certain product would be better at selling that product and might be given the task of concentrating on selling that product to a particular customer base.\n",
    "\n",
    "  \n",
    "\n",
    "Overall, the visualisation created by the SELECT statement above can offer insightful information about the success of specific salespeople and assist the business in making defensible judgements about how to best focus its sales efforts."
   ]
  }
 ],
 "metadata": {
  "kernelspec": {
   "display_name": "Python 3 (ipykernel)",
   "language": "python",
   "name": "python3"
  },
  "language_info": {
   "codemirror_mode": {
    "name": "ipython",
    "version": 3
   },
   "file_extension": ".py",
   "mimetype": "text/x-python",
   "name": "python",
   "nbconvert_exporter": "python",
   "pygments_lexer": "ipython3",
   "version": "3.11.0"
  }
 },
 "nbformat": 4,
 "nbformat_minor": 2
}
