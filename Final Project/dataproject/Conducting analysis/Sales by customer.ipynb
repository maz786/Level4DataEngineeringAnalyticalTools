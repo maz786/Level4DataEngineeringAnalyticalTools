{
    "metadata": {
        "kernelspec": {
            "name": "python3",
            "display_name": "Python 3 (ipykernel)",
            "language": "python"
        },
        "language_info": {
            "name": "python",
            "version": "3.9.13",
            "mimetype": "text/x-python",
            "codemirror_mode": {
                "name": "ipython",
                "version": 3
            },
            "pygments_lexer": "ipython3",
            "nbconvert_exporter": "python",
            "file_extension": ".py"
        }
    },
    "nbformat_minor": 2,
    "nbformat": 4,
    "cells": [
        {
            "cell_type": "markdown",
            "source": [
                "**<u>Sales by customer</u>**"
            ],
            "metadata": {
                "azdata_cell_guid": "6891a285-301e-4f7b-a3cf-33e2b051801d"
            },
            "attachments": {}
        },
        {
            "cell_type": "code",
            "source": [
                "import pandas as pd\n",
                "import matplotlib.pyplot as plt\n",
                "\n",
                "customers_df = pd.read_csv('/Users/maz/Library/Mobile Documents/com~apple~CloudDocs/Documents/Education/Digital Skills/Data /Level 4 Data Analytics/Week 7/Project/csv/Customers.csv')\n",
                "sales_df = pd.read_csv('/Users/maz/Library/Mobile Documents/com~apple~CloudDocs/Documents/Education/Digital Skills/Data /Level 4 Data Analytics/Week 7/Project/csv/Sales.csv')\n",
                "employees_df = pd.read_csv('/Users/maz/Library/Mobile Documents/com~apple~CloudDocs/Documents/Education/Digital Skills/Data /Level 4 Data Analytics/Week 7/Project/csv/Employees.csv')\n",
                "products_df = pd.read_csv('/Users/maz/Library/Mobile Documents/com~apple~CloudDocs/Documents/Education/Digital Skills/Data /Level 4 Data Analytics/Week 7/Project/csv/Products.csv')\n",
                "# Merge the Sales and Customers dataframes\n",
                "sales_customers_df = pd.merge(sales_df, customers_df, on='CustomerID')\n",
                "\n",
                "# Group the data by the customer's name and sum the quantity column\n",
                "sales_by_customer = sales_customers_df.groupby('FirstName')['Quantity'].sum()\n",
                "\n",
                "# Create a histogram\n",
                "sales_by_customer.plot(kind='hist')\n",
                "\n",
                "# Display the chart\n",
                "plt.show()\n",
                ""
            ],
            "metadata": {
                "azdata_cell_guid": "282d762b-486b-4e5b-b47c-45c3b3de53c0",
                "language": "python"
            },
            "outputs": [
                {
                    "data": {
                        "text/plain": "<Figure size 640x480 with 1 Axes>",
                        "image/png": "[encoded data removed]"
                    },
                    "metadata": {},
                    "output_type": "display_data"
                }
            ],
            "execution_count": 1
        },
        {
            "cell_type": "markdown",
            "source": [
                "This code enables you to visualise the distribution of sales quantities across various clients, which can help with analysis, spotting trends and patterns, and perhaps even projecting future sales. You may get a sense of the overall distribution of sales quantities among your client base by looking at the histogram, which displays the number of customers who made a specific amount of purchases. Making informed decisions about marketing and sales tactics can benefit from this information's ability to spot trends and patterns in sales data."
            ],
            "metadata": {
                "azdata_cell_guid": "0bca91b2-2dc4-43cf-b7c6-ee04117bcf04"
            },
            "attachments": {}
        }
    ]
}