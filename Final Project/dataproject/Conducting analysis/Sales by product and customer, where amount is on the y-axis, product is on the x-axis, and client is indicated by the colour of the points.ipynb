{
    "metadata": {
        "kernelspec": {
            "name": "python3",
            "display_name": "Python 3 (ipykernel)",
            "language": "python"
        },
        "language_info": {
            "name": "python",
            "version": "3.9.13",
            "mimetype": "text/x-python",
            "codemirror_mode": {
                "name": "ipython",
                "version": 3
            },
            "pygments_lexer": "ipython3",
            "nbconvert_exporter": "python",
            "file_extension": ".py"
        }
    },
    "nbformat_minor": 2,
    "nbformat": 4,
    "cells": [
        {
            "cell_type": "markdown",
            "source": [
                "**<u>Sales by product and customer, where amount is on the y-axis, product is on the x-axis, and client is indicated by the colour of the points.</u>**"
            ],
            "metadata": {
                "azdata_cell_guid": "9d6d8090-4c8d-475a-863f-d71c8fcf974c"
            },
            "attachments": {}
        },
        {
            "cell_type": "code",
            "source": [
                "customer_purchases.plot(kind='pie')\n",
                "plt.show()"
            ],
            "metadata": {
                "azdata_cell_guid": "c6255ced-62f0-443d-92d3-0b0b26e776e4",
                "language": "python"
            },
            "outputs": [
                {
                    "traceback": [
                        "\u001b[0;31m---------------------------------------------------------------------------\u001b[0m",
                        "\u001b[0;31mNameError\u001b[0m                                 Traceback (most recent call last)",
                        "\u001b[0;32m/var/folders/jh/8d6sqffx7q90ct5jlxs_mfy00000gn/T/ipykernel_22209/3805538671.py\u001b[0m in \u001b[0;36m<module>\u001b[0;34m\u001b[0m\n\u001b[0;32m----> 1\u001b[0;31m \u001b[0mcustomer_purchases\u001b[0m\u001b[0;34m.\u001b[0m\u001b[0mplot\u001b[0m\u001b[0;34m(\u001b[0m\u001b[0mkind\u001b[0m\u001b[0;34m=\u001b[0m\u001b[0;34m'pie'\u001b[0m\u001b[0;34m)\u001b[0m\u001b[0;34m\u001b[0m\u001b[0;34m\u001b[0m\u001b[0m\n\u001b[0m\u001b[1;32m      2\u001b[0m \u001b[0mplt\u001b[0m\u001b[0;34m.\u001b[0m\u001b[0mshow\u001b[0m\u001b[0;34m(\u001b[0m\u001b[0;34m)\u001b[0m\u001b[0;34m\u001b[0m\u001b[0;34m\u001b[0m\u001b[0m\n",
                        "\u001b[0;31mNameError\u001b[0m: name 'customer_purchases' is not defined"
                    ],
                    "ename": "NameError",
                    "evalue": "name 'customer_purchases' is not defined",
                    "output_type": "error"
                }
            ],
            "execution_count": 1
        },
        {
            "cell_type": "markdown",
            "source": [
                "A pie chart depicting the percentages of client purchases would be produced by running the query customer\\_purchases.plot(kind='pie'). This could reveal some information about how customers behave while making purchases, such as which products are more well-liked by consumers. To give a thorough study of sales success, client loyalty, or any other company KPIs, this query alone is insufficient.\n",
                "\n",
                "  \n",
                "\n",
                "Your analysis may help you pinpoint problems or areas where the organization's product mix, client loyalty, or sales performance can be improved. To enhance the overall effectiveness of the firm, you could offer suggestions on how to deal with these problems or seize these chances."
            ],
            "metadata": {
                "azdata_cell_guid": "154b1e67-7216-4909-ae21-f5b3adb49c9b"
            },
            "attachments": {}
        }
    ]
}