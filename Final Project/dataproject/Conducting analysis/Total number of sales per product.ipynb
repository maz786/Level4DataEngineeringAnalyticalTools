{
    "metadata": {
        "kernelspec": {
            "name": "SQL",
            "display_name": "SQL",
            "language": "sql"
        },
        "language_info": {
            "name": "sql",
            "version": ""
        }
    },
    "nbformat_minor": 2,
    "nbformat": 4,
    "cells": [
        {
            "cell_type": "markdown",
            "source": [
                "**<u>Total number of sales per product</u>**"
            ],
            "metadata": {
                "azdata_cell_guid": "2a1df945-9aca-42e7-a745-3732b51b65ea"
            },
            "attachments": {}
        },
        {
            "cell_type": "code",
            "source": [
                "product_sales.plot(kind='bar')\n",
                "plt.show()"
            ],
            "metadata": {
                "azdata_cell_guid": "b7284642-051f-48a1-92cb-269df5f54bac",
                "language": "sql"
            },
            "outputs": [],
            "execution_count": null
        },
        {
            "cell_type": "markdown",
            "source": [
                "By running the query product\\_sales.plot(kind='bar') and displaying the plot using plt.show(), you would get a bar chart showing the sales of each product in the bike product category. This would allow you to see how the sales of different bike products are performing relative to each other.\n",
                "\n",
                "  \n",
                "\n",
                "You would be able to see trends and patterns in the sales data, such as whether certain products are selling more or less than others, and whether there are any significant changes in sales over time.\n",
                "\n",
                "  \n",
                "\n",
                "This information could also be used to pinpoint any problems or suggestions for the company. For instance, if you see a decline in a product's sales, you might advise measures to boost those sales, such changing the product's pricing or marketing tactics. Similar to this, you may suggest that the company concentrate more on a certain product if you see an increase in sales so that it can take advantage of the demand."
            ],
            "metadata": {
                "azdata_cell_guid": "d9ff12d7-fa60-4c3e-9f23-fb618f8e388e"
            },
            "attachments": {}
        }
    ]
}