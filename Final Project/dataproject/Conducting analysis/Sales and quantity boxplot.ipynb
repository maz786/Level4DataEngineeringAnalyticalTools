{
    "metadata": {
        "kernelspec": {
            "name": "python3",
            "display_name": "Python 3 (ipykernel)",
            "language": "python"
        },
        "language_info": {
            "name": "python",
            "version": "3.9.13",
            "mimetype": "text/x-python",
            "codemirror_mode": {
                "name": "ipython",
                "version": 3
            },
            "pygments_lexer": "ipython3",
            "nbconvert_exporter": "python",
            "file_extension": ".py"
        }
    },
    "nbformat_minor": 2,
    "nbformat": 4,
    "cells": [
        {
            "cell_type": "markdown",
            "source": [
                "**<u>Sales and quantity boxplot</u>**"
            ],
            "metadata": {
                "azdata_cell_guid": "b50b3d7e-303f-40e6-8308-20fa1163a03f"
            },
            "attachments": {}
        },
        {
            "cell_type": "code",
            "source": [
                "# import matplotlib and set up the plot\n",
                "import matplotlib.pyplot as plt\n",
                "# read in the data\n",
                "sales_df = pd.read_csv('sales.csv')\n",
                "# plot the data using the 'boxplot' method\n",
                "plt.boxplot(sales_df['Quantity'])\n",
                "# show the plot\n",
                "plt.show()"
            ],
            "metadata": {
                "azdata_cell_guid": "99a8636b-db24-4773-8ef1-ca12dcea6040",
                "language": "python"
            },
            "outputs": [
                {
                    "traceback": [
                        "\u001b[0;31m---------------------------------------------------------------------------\u001b[0m",
                        "\u001b[0;31mNameError\u001b[0m                                 Traceback (most recent call last)",
                        "\u001b[0;32m/var/folders/jh/8d6sqffx7q90ct5jlxs_mfy00000gn/T/ipykernel_21778/1200955709.py\u001b[0m in \u001b[0;36m<module>\u001b[0;34m\u001b[0m\n\u001b[1;32m      2\u001b[0m \u001b[0;32mimport\u001b[0m \u001b[0mmatplotlib\u001b[0m\u001b[0;34m.\u001b[0m\u001b[0mpyplot\u001b[0m \u001b[0;32mas\u001b[0m \u001b[0mplt\u001b[0m\u001b[0;34m\u001b[0m\u001b[0;34m\u001b[0m\u001b[0m\n\u001b[1;32m      3\u001b[0m \u001b[0;31m# read in the data\u001b[0m\u001b[0;34m\u001b[0m\u001b[0;34m\u001b[0m\u001b[0m\n\u001b[0;32m----> 4\u001b[0;31m \u001b[0msales_df\u001b[0m \u001b[0;34m=\u001b[0m \u001b[0mpd\u001b[0m\u001b[0;34m.\u001b[0m\u001b[0mread_csv\u001b[0m\u001b[0;34m(\u001b[0m\u001b[0;34m'sales.csv'\u001b[0m\u001b[0;34m)\u001b[0m\u001b[0;34m\u001b[0m\u001b[0;34m\u001b[0m\u001b[0m\n\u001b[0m\u001b[1;32m      5\u001b[0m \u001b[0;31m# plot the data using the 'boxplot' method\u001b[0m\u001b[0;34m\u001b[0m\u001b[0;34m\u001b[0m\u001b[0m\n\u001b[1;32m      6\u001b[0m \u001b[0mplt\u001b[0m\u001b[0;34m.\u001b[0m\u001b[0mboxplot\u001b[0m\u001b[0;34m(\u001b[0m\u001b[0msales_df\u001b[0m\u001b[0;34m[\u001b[0m\u001b[0;34m'Quantity'\u001b[0m\u001b[0;34m]\u001b[0m\u001b[0;34m)\u001b[0m\u001b[0;34m\u001b[0m\u001b[0;34m\u001b[0m\u001b[0m\n",
                        "\u001b[0;31mNameError\u001b[0m: name 'pd' is not defined"
                    ],
                    "ename": "NameError",
                    "evalue": "name 'pd' is not defined",
                    "output_type": "error"
                }
            ],
            "execution_count": 3
        },
        {
            "cell_type": "markdown",
            "source": [
                "Running this query would provide a boxplot that would reveal information about how the sales data's quantity distribution was distributed.\n",
                "\n",
                "  \n",
                "\n",
                "The minimum, first quartile, median, third quartile, and maximum values of the data are displayed graphically in the boxplot. The range between the first quartile (Q1) and third quartile is denoted by the box in the plot as the interquartile range (IQR) (Q3). The median of the data is shown by the line in the centre of the box. The data's minimum and maximum values, minus any outliers, are represented by the plot's whiskers. Data points known as outliers are those that differ significantly from the rest of the dataset's data points and are shown as single points on the plot.\n",
                "\n",
                "  \n",
                "\n",
                "You can learn more about the following things by looking at the boxplot:\n",
                "\n",
                "  \n",
                "\n",
                "The line in the centre of the box, or the median, represents the data's central tendency. It denotes the data's median value. The middle 50% of the data is indicated by the first quartile (Q1) and third quartile (Q3) values, which represent the lowest and upper boundaries of the data, respectively.\n",
                "\n",
                "  \n",
                "\n",
                "The data's distribution: The box in the plot, which represents the interquartile range (IQR), shows how widely the middle 50% of the data are distributed. The spread of the data increases with increasing IQR. The whiskers show the minimum and maximum values of the data, omitting any outliers. These numbers show the data's range.\n",
                "\n",
                "  \n",
                "\n",
                "Data points that differ noticeably from the other data points in the dataset are referred to as outliers. They are each represented by a separate plot point. Outliers may require more investigation since they can point to possible flaws or anomalies in the data.\n",
                "\n",
                "  \n",
                "\n",
                "You may spot trends and patterns in the data by examining the boxplot, including if the data is symmetrical or skewed and whether any outliers are present. The boxplot can also be used to compare how the data are distributed among several groups or categories.\n",
                "\n",
                "  \n",
                "\n",
                "You may use the boxplot to analyse the distribution of sales amounts and spot any probable outliers in the data based on the information provided. To determine how sales on the bike product category are doing, you may also evaluate the distribution of sales amounts between other items or categories. However, you would need to combine the sales data with the items and customers data using the appropriate keys to obtain a more in-depth study of sales by product and customer loyalty (ProductID and CustomerID, respectively). The data might then be analysed to yield the needed insights using a variety of statistical approaches, including aggregation, filtering, and grouping."
            ],
            "metadata": {
                "azdata_cell_guid": "1d4dd36d-800e-4c65-bf25-91919b896538"
            },
            "attachments": {}
        }
    ]
}