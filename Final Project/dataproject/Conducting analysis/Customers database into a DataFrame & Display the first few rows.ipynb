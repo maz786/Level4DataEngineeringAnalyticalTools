{
    "metadata": {
        "kernelspec": {
            "name": "python3",
            "display_name": "Python 3 (ipykernel)",
            "language": "python"
        },
        "language_info": {
            "name": "python",
            "version": "3.9.13",
            "mimetype": "text/x-python",
            "codemirror_mode": {
                "name": "ipython",
                "version": 3
            },
            "pygments_lexer": "ipython3",
            "nbconvert_exporter": "python",
            "file_extension": ".py"
        }
    },
    "nbformat_minor": 2,
    "nbformat": 4,
    "cells": [
        {
            "cell_type": "markdown",
            "source": [
                "**<u>Database into a DataFrame & Display the first few rows</u>**"
            ],
            "metadata": {
                "azdata_cell_guid": "764c74f7-ddbb-4834-8005-fad6213e605e"
            },
            "attachments": {}
        },
        {
            "cell_type": "code",
            "source": [
                "import pandas as pd\n",
                "\n",
                "# Read the Customers database into a DataFrame\n",
                "customers_df = pd.read_csv('/Users/maz/Library/Mobile Documents/com~apple~CloudDocs/Documents/Education/Digital Skills/Data /Level 4 Data Analytics/Week 7/Project/csv/Customers.csv')\n",
                "\n",
                "# Display the first few rows\n",
                "print(customers_df.head())"
            ],
            "metadata": {
                "azdata_cell_guid": "95ee920f-465d-438f-9197-abecd8773970",
                "language": "python",
                "tags": []
            },
            "outputs": [
{
    "name": "stdout",
    "text": "   CustomerID FirstName MiddleInitial LastName\n0           1     Aaron             C     Yang\n1           2     Aaron             M    Young\n2           3      Adam           NaN    Young\n3           4      Alan           NaN       Ye\n4           5      Alan             L     Yang\n",
    "output_type": "stream"
}
],
            "execution_count": 3
        },
        {
            "cell_type": "code",
            "source": [
                "import pandas as pd\n",
                "\n",
                "# Read the Employees database into a DataFrame\n",
                "employees_df = pd.read_csv('/Users/maz/Library/Mobile Documents/com~apple~CloudDocs/Documents/Education/Digital Skills/Data /Level 4 Data Analytics/Week 7/Project/csv/Employees.csv')\n",
                "\n",
                "# Display the first few rows\n",
                "print(employees_df.head())"
            ],
            "metadata": {
                "language": "python",
                "azdata_cell_guid": "9d5f4941-1e73-4a97-ba49-05e04693645b"
            },
            "outputs": [
                {
                    "output_type": "stream",
                    "name": "stdout",
                    "text": "   EmployeeID FirstName MiddleInitial        LastName\n0           1   Abraham             e          Bennet\n1           2  Reginald             l  Blotchet-Halls\n2           3    Cheryl             a          Carson\n3           4    Michel             e        DeFrance\n4           5     Innes             e    del Castillo\n"
                }
            ],
            "execution_count": 2
        },
        {
            "cell_type": "code",
            "source": [
                "import pandas as pd\n",
                "\n",
                "# Read the Products database into a DataFrame\n",
                "products_df = pd.read_csv('/Users/maz/Library/Mobile Documents/com~apple~CloudDocs/Documents/Education/Digital Skills/Data /Level 4 Data Analytics/Week 7/Project/csv/Products.csv')\n",
                "\n",
                "# Display the first few rows\n",
                "print(products_df.head())"
            ],
            "metadata": {
                "azdata_cell_guid": "35091893-498d-40c1-b44a-74ba23d5a7b3",
                "language": "python"
            },
            "outputs": [
                {
                    "output_type": "stream",
                    "name": "stdout",
                    "text": "   ProductID                   Name  Price\n0          1        Adjustable Race    1.6\n1          2           Bearing Ball    0.8\n2          3        BB Ball Bearing    2.4\n3          4  Headset Ball Bearings    0.0\n4          5                  Blade  189.6\n"
                }
            ],
            "execution_count": 3
        },
        {
            "cell_type": "code",
            "source": [
                "import pandas as pd\n",
                "\n",
                "# Read the Sales database into a DataFrame\n",
                "sales_df = pd.read_csv('/Users/maz/Library/Mobile Documents/com~apple~CloudDocs/Documents/Education/Digital Skills/Data /Level 4 Data Analytics/Week 7/Project/csv/Sales.csv')\n",
                "\n",
                "# Display the first few rows\n",
                "print(sales_df.head())"
            ],
            "metadata": {
                "language": "python",
                "azdata_cell_guid": "13eddf77-a021-459f-acdc-5486372ebdc7",
                "tags": []
            },
            "outputs": [
                {
                    "output_type": "stream",
                    "name": "stdout",
                    "text": "   SalesID  SalesPersonID  CustomerID  ProductID  Quantity\n0        1             21          14        481         2\n1        2              2          42        189         9\n2        3              8         173        284         2\n3        4              5         227         51         3\n4        5              6         306          4         8\n"
                }
            ],
            "execution_count": 5
        }
    ]
}