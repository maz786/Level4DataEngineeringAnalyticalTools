{
    "metadata": {
        "kernelspec": {
            "name": "python3",
            "display_name": "Python 3 (ipykernel)",
            "language": "python"
        },
        "language_info": {
            "name": "python",
            "version": "3.9.13",
            "mimetype": "text/x-python",
            "codemirror_mode": {
                "name": "ipython",
                "version": 3
            },
            "pygments_lexer": "ipython3",
            "nbconvert_exporter": "python",
            "file_extension": ".py"
        }
    },
    "nbformat_minor": 2,
    "nbformat": 4,
    "cells": [
        {
            "cell_type": "markdown",
            "source": [
                "**<u>Total quantity sold by each SalesPersonID</u>**"
            ],
            "metadata": {
                "azdata_cell_guid": "07c059a9-bb2a-4827-a229-602f8d1a221c"
            },
            "attachments": {}
        },
        {
            "cell_type": "code",
            "source": [
                "import pandas as pd\n",
                "# Read the Sales database into a DataFrame\n",
                "sales_df = pd.read_csv('/Users/maz/Library/Mobile Documents/com~apple~CloudDocs/Documents/Education/Digital Skills/Data /Level 4 Data Analytics/Week 7/Project/csv/Sales.csv')\n",
                "# Group the data by SalesPersonID and compute the total quantity sold by each SalesPersonID\n",
                "sales_by_salesperson = sales_df.groupby('SalesPersonID')['Quantity'].agg('sum').reset_index()\n",
                "# Display the resulting DataFrame\n",
                "print(sales_by_salesperson)"
            ],
            "metadata": {
                "azdata_cell_guid": "01aa3424-b2c3-4a41-ad5d-5f83e7e8f3f5",
                "language": "python"
            },
            "outputs": [
                {
                    "output_type": "stream",
                    "name": "stdout",
                    "text": "    SalesPersonID  Quantity\n0               1        62\n1               2       113\n2               3        89\n3               4        81\n4               5        74\n5               6        49\n6               7        83\n7               8        58\n8               9        78\n9              10        49\n10             11        75\n11             12       114\n12             13       105\n13             14        68\n14             15        81\n15             16        86\n16             17        84\n17             18        70\n18             19        58\n19             20        56\n20             21        52\n21             22        60\n22             23        36\n"
                }
            ],
            "execution_count": 1
        },
        {
            "cell_type": "markdown",
            "source": [
                "A breakdown of the total number of products sold by each salesperson, according to their SalesPersonID, would be provided if you ran this query. Understanding the effectiveness of various salespeople and seeing any trends or patterns in their sales could both benefit from this knowledge. For instance, it may be a sign of greater product effectiveness or a larger customer base if some salespeople routinely outperform others in terms of sales figures. On the other side, if certain salespeople continually have lower sales numbers, this may indicate that they require more coaching or help to enhance their performance.\n",
                "\n",
                "  \n",
                "\n",
                "Additionally, by combining the sales data by SalesPersonID, you might be able to spot any potential problems or difficulties the firm may be encountering. For instance, if a group of salespeople repeatedly underperforms, this may point to a fault with their sales strategies or a lack of interest in the goods they are pitching. Similar to this, if some salespeople consistently outperform their counterparts, it may be possible for the company to build on their success and possibly replicate their techniques throughout the entire organisation.\n",
                "\n",
                "  \n",
                "\n",
                "Overall, this inquiry would offer insightful information on the sales performance of various salespeople and might aid in the discovery of trends and patterns that could be helpful in enhancing business performance."
            ],
            "metadata": {
                "azdata_cell_guid": "01fcf1df-bb0e-4a08-95d9-9f7270d6aeae"
            },
            "attachments": {}
        }
    ]
}