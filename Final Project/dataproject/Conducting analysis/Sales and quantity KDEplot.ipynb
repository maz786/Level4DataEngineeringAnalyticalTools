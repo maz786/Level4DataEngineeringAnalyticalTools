{
    "metadata": {
        "kernelspec": {
            "name": "python3",
            "display_name": "Python 3 (ipykernel)",
            "language": "python"
        },
        "language_info": {
            "name": "python",
            "version": "3.9.13",
            "mimetype": "text/x-python",
            "codemirror_mode": {
                "name": "ipython",
                "version": 3
            },
            "pygments_lexer": "ipython3",
            "nbconvert_exporter": "python",
            "file_extension": ".py"
        }
    },
    "nbformat_minor": 2,
    "nbformat": 4,
    "cells": [
        {
            "cell_type": "markdown",
            "source": [
                "**<u>Sales and quantity KDEplot</u>**"
            ],
            "metadata": {
                "azdata_cell_guid": "2fafb5fd-8689-4fbf-b70c-fc88b43feb8f"
            },
            "attachments": {}
        },
        {
            "cell_type": "code",
            "source": [
                "# import seaborn and set up the plot\n",
                "import seaborn as sns\n",
                "# read in the data\n",
                "sales_df = pd.read_csv('sales.csv')\n",
                "# create the kernel density plot using the 'kdeplot' method\n",
                "sns.kdeplot(sales_df['Quantity'])\n",
                "# show the plot\n",
                "plt.show()"
            ],
            "metadata": {
                "azdata_cell_guid": "67c4365e-25d8-4a45-b4f9-2945a412644c",
                "language": "python"
            },
            "outputs": [
                {
                    "output_type": "error",
                    "ename": "NameError",
                    "evalue": "name 'pd' is not defined",
                    "traceback": [
                        "\u001b[0;31m---------------------------------------------------------------------------\u001b[0m",
                        "\u001b[0;31mNameError\u001b[0m                                 Traceback (most recent call last)",
                        "\u001b[0;32m/var/folders/jh/8d6sqffx7q90ct5jlxs_mfy00000gn/T/ipykernel_34645/4202839368.py\u001b[0m in \u001b[0;36m<module>\u001b[0;34m\u001b[0m\n\u001b[1;32m      2\u001b[0m \u001b[0;32mimport\u001b[0m \u001b[0mseaborn\u001b[0m \u001b[0;32mas\u001b[0m \u001b[0msns\u001b[0m\u001b[0;34m\u001b[0m\u001b[0;34m\u001b[0m\u001b[0m\n\u001b[1;32m      3\u001b[0m \u001b[0;31m# read in the data\u001b[0m\u001b[0;34m\u001b[0m\u001b[0;34m\u001b[0m\u001b[0m\n\u001b[0;32m----> 4\u001b[0;31m \u001b[0msales_df\u001b[0m \u001b[0;34m=\u001b[0m \u001b[0mpd\u001b[0m\u001b[0;34m.\u001b[0m\u001b[0mread_csv\u001b[0m\u001b[0;34m(\u001b[0m\u001b[0;34m'/Users/maz/Library/Mobile Documents/com~apple~CloudDocs/Documents/Education/Digital Skills/Data /Level 4 Data Analytics/Week 7/Project/csv/Sales.csv'\u001b[0m\u001b[0;34m)\u001b[0m\u001b[0;34m\u001b[0m\u001b[0;34m\u001b[0m\u001b[0m\n\u001b[0m\u001b[1;32m      5\u001b[0m \u001b[0;31m# create the kernel density plot using the 'kdeplot' method\u001b[0m\u001b[0;34m\u001b[0m\u001b[0;34m\u001b[0m\u001b[0m\n\u001b[1;32m      6\u001b[0m \u001b[0msns\u001b[0m\u001b[0;34m.\u001b[0m\u001b[0mkdeplot\u001b[0m\u001b[0;34m(\u001b[0m\u001b[0msales_df\u001b[0m\u001b[0;34m[\u001b[0m\u001b[0;34m'Quantity'\u001b[0m\u001b[0;34m]\u001b[0m\u001b[0;34m)\u001b[0m\u001b[0;34m\u001b[0m\u001b[0;34m\u001b[0m\u001b[0m\n",
                        "\u001b[0;31mNameError\u001b[0m: name 'pd' is not defined"
                    ]
                }
            ],
            "execution_count": 1
        },
        {
            "cell_type": "markdown",
            "source": [
                "The query you gave imports the Seaborn library, reads the sales data from a CSV file, and then plots the 'Quantity' column of the sales data using kernel density. A kernel density plot shows the distribution of a continuous quantity graphically. It displays the data's probability density at various values, which is helpful for understanding the data's fundamental distribution and spotting any patterns or trends.\n",
                "\n",
                "  \n",
                "\n",
                "You might see the distribution of item amounts sold in the sales data by performing this query. With the help of this data, you may learn more about the company's overall sales performance, including if sales are often high or low or whether any particular products are particularly well-liked or despised. Additionally, you might use this data to spot any trends or patterns in the sales data, such as whether certain seasons of the year tend to see larger sales than others or whether particular products are more well-liked than others.  \n",
                "\n",
                "  \n",
                "\n",
                "It's important to keep in mind that while this query just offers details on the 'Quantity' column in the sales data, it is insufficient on its own to address the specific issues your manager has asked you to address in your report. You would need to conduct additional analysis and queries on the other data sources (customers, employees, and products) you have been given in order to fully answer these questions. You would then need to combine the findings with the sales data to gain a thorough understanding of the company's performance."
            ],
            "metadata": {
                "azdata_cell_guid": "6d18d03b-4b4f-4be9-baf8-88e959cce1b6"
            },
            "attachments": {}
        }
    ]
}