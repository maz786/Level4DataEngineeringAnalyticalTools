{
    "metadata": {
        "kernelspec": {
            "name": "python3",
            "display_name": "Python 3 (ipykernel)",
            "language": "python"
        },
        "language_info": {
            "name": "python",
            "version": "3.9.13",
            "mimetype": "text/x-python",
            "codemirror_mode": {
                "name": "ipython",
                "version": 3
            },
            "pygments_lexer": "ipython3",
            "nbconvert_exporter": "python",
            "file_extension": ".py"
        }
    },
    "nbformat_minor": 2,
    "nbformat": 4,
    "cells": [
        {
            "cell_type": "markdown",
            "source": [
                "**<u>Products sold were price is greater than $100</u>**"
            ],
            "metadata": {
                "azdata_cell_guid": "a5465a08-b2e5-4548-86ab-f39631d1da19"
            },
            "attachments": {}
        },
        {
            "cell_type": "code",
            "source": [
                "import pandas as pd\n",
                "\n",
                "# Read the Products database into a DataFrame\n",
                "products_df = pd.read_csv('/Users/maz/Library/Mobile Documents/com~apple~CloudDocs/Documents/Education/Digital Skills/Data /Level 4 Data Analytics/Week 7/Project/csv/Products.csv')\n",
                "\n",
                "# Select rows where the price is greater than $100\n",
                "expensive_products_df = products_df.loc[products_df['Price'] > 100]\n",
                "\n",
                "# Display the resulting DataFrame\n",
                "print(expensive_products_df)"
            ],
            "metadata": {
                "azdata_cell_guid": "d9280a02-766a-4d91-808c-634bd8a21125",
                "language": "python"
            },
            "outputs": [
                {
                    "output_type": "stream",
                    "name": "stdout",
                    "text": "     ProductID               Name   Price\n4            5              Blade  189.60\n5            6        LL Crankarm  380.40\n6            7        ML Crankarm  190.80\n7            8        HL Crankarm  319.00\n9           10      Chainring Nut  192.60\n..         ...                ...     ...\n499        500  ML Bottom Bracket  101.24\n500        501  HL Bottom Bracket  121.49\n501        502  Road-750 Black 44  539.99\n502        503  Road-750 Black 48  539.99\n503        504  Road-750 Black 52  539.99\n\n[336 rows x 3 columns]\n"
                }
            ],
            "execution_count": 1
        },
        {
            "cell_type": "markdown",
            "source": [
                "You may find out which items in the Products database have prices higher than 100 by running this query. You would be able to see the ProductID, Name, and Price for each of these products in the generated DataFrame.\n",
                "\n",
                "  \n",
                "\n",
                "This data may be helpful in finding expensive goods that may be making a sizable contribution to the company's overall sales. In terms of which product categories tend to be more expensive, it may also assist you in identifying trends or patterns that will help you advise the business on which categories to concentrate on in the future."
            ],
            "metadata": {
                "azdata_cell_guid": "871632f0-966f-4994-8c57-27bc9fe504ea"
            },
            "attachments": {}
        }
    ]
}