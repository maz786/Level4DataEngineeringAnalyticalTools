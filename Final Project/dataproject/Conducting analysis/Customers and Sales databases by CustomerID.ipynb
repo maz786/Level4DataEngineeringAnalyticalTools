{
    "metadata": {
        "kernelspec": {
            "name": "python3",
            "display_name": "Python 3 (ipykernel)",
            "language": "python"
        },
        "language_info": {
            "name": "python",
            "version": "3.9.13",
            "mimetype": "text/x-python",
            "codemirror_mode": {
                "name": "ipython",
                "version": 3
            },
            "pygments_lexer": "ipython3",
            "nbconvert_exporter": "python",
            "file_extension": ".py"
        }
    },
    "nbformat_minor": 2,
    "nbformat": 4,
    "cells": [
        {
            "cell_type": "markdown",
            "source": [
                "**<u>Customers and Sales databases by CustomerID</u>**"
            ],
            "metadata": {
                "azdata_cell_guid": "ceb111af-df33-4372-b291-d3546a0e3feb"
            },
            "attachments": {}
        },
        {
            "cell_type": "code",
            "source": [
                "import pandas as pd\n",
                "\n",
                "# Read the Customers and Sales databases into DataFrames\n",
                "customers_df = pd.read_csv('/Users/maz/Library/Mobile Documents/com~apple~CloudDocs/Documents/Education/Digital Skills/Data /Level 4 Data Analytics/Week 7/Project/csv/Customers.csv')\n",
                "sales_df = pd.read_csv('/Users/maz/Library/Mobile Documents/com~apple~CloudDocs/Documents/Education/Digital Skills/Data /Level 4 Data Analytics/Week 7/Project/csv/Sales.csv')\n",
                "\n",
                "# Merge the Customers and Sales databases by CustomerID\n",
                "customer_sales_df = pd.merge(customers_df, sales_df, on='CustomerID')\n",
                "\n",
                "# Display the resulting DataFrame\n",
                "print(customer_sales_df)"
            ],
            "metadata": {
                "azdata_cell_guid": "d5c9cc8b-1a7e-4936-a8a3-4ca61ad204de",
                "language": "python"
            },
            "outputs": [
                {
                    "output_type": "stream",
                    "name": "stdout",
                    "text": "     CustomerID FirstName MiddleInitial LastName  SalesID  SalesPersonID  \\\n0             1     Aaron             C     Yang       48              6   \n1             1     Aaron             C     Yang      203             21   \n2             3      Adam           NaN    Young       13             22   \n3             4      Alan           NaN       Ye       40             13   \n4             4      Alan           NaN       Ye      235             22   \n..          ...       ...           ...      ...      ...            ...   \n295         357     Wyatt           NaN    Young      243             18   \n296         358    Xavier             F    Young       49              5   \n297         358    Xavier             F    Young      197             14   \n298         359   Yolanda             C     Yuan       20             11   \n299         360   Zachary             F     Yang      228             21   \n\n     ProductID  Quantity  \n0          294         4  \n1          345         6  \n2           20         6  \n3          397         1  \n4          218         9  \n..         ...       ...  \n295         66         5  \n296        251         9  \n297        381         3  \n298        407         9  \n299        413         1  \n\n[300 rows x 8 columns]\n"
                }
            ],
            "execution_count": 1
        },
        {
            "cell_type": "markdown",
            "source": [
                "When you run this query, the data from the Customers and Sales databases will be combined by CustomerID, creating a single DataFrame that has all the fields from both of these datasets. With the help of the customer's name and any other pertinent fields from the Customers database, you would be able to assess the sales statistics in the context of the customer's information.\n",
                "\n",
                "What conclusions, research, trends, or patterns you might be able to draw from this DataFrame are not immediately apparent from the information presented. You would need to further edit and analyse the data in this DataFrame in order to respond to the queries put forth by your boss and offer more thorough insights, analyses, and recommendations.\n",
                "\n",
                "For instance, you could use the Goods database to identify which products (such as frames and mountain bikes) fall under the umbrella of the bike product category, and the Sales database to tally the number of sales of these products. To determine whether the bike category is performing better or worse than earlier periods, you may then compare these sales figures to previous sales data.\n",
                "\n",
                "You might utilise the Products and Sales databases to count the number of sales for each product and then show this data in a table or graphic to get a breakdown of sales by product.\n",
                "\n",
                "You may tally the number of purchases made by each customer using the Customers and Sales databases, and then utilise this data to establish customer segments with various levels of loyalty. After then, you might examine the traits of these groups (such as demographics and shopping habits) to learn more about customer loyalty and spot any areas where it might be improved.  \n",
                "\n",
                "You can find trends or patterns as a result of your data analysis that might help you when making recommendations to the organisation. For instance, if you notice that sales of a given product are falling, you might suggest that the company think about changing its marketing plan or launching new goods to better serve customers. As an alternative, if you notice that client loyalty is generally poor, you might suggest that the company adopt efforts or programmes to promote repeat business and boost customer retention."
            ],
            "metadata": {
                "azdata_cell_guid": "a916bc0c-d48d-4738-9ba4-e22e68ff434f"
            },
            "attachments": {}
        }
    ]
}