{
    "metadata": {
        "kernelspec": {
            "name": "python3",
            "display_name": "Python 3 (ipykernel)",
            "language": "python"
        },
        "language_info": {
            "name": "python",
            "version": "3.9.13",
            "mimetype": "text/x-python",
            "codemirror_mode": {
                "name": "ipython",
                "version": 3
            },
            "pygments_lexer": "ipython3",
            "nbconvert_exporter": "python",
            "file_extension": ".py"
        }
    },
    "nbformat_minor": 2,
    "nbformat": 4,
    "cells": [
        {
            "cell_type": "markdown",
            "source": [
                "**<u>Sales pairplot</u>**"
            ],
            "metadata": {
                "azdata_cell_guid": "18ece367-5e3f-4553-9308-2da7e9e2f088"
            },
            "attachments": {}
        },
        {
            "cell_type": "code",
            "source": [
                "# import seaborn and set up the plot\n",
                "import seaborn as sns\n",
                "# read in the data\n",
                "sales_df = pd.read_csv('sales.csv')\n",
                "# create the pair plot using the 'pairplot' method\n",
                "sns.pairplot(sales_df)\n",
                "# show the plot\n",
                "plt.show()\n",
                ""
            ],
            "metadata": {
                "azdata_cell_guid": "c887c260-2ca8-4525-bea2-2f6613625938",
                "language": "python"
            },
            "outputs": [
                {
                    "output_type": "error",
                    "ename": "NameError",
                    "evalue": "name 'pd' is not defined",
                    "traceback": [
                        "\u001b[0;31m---------------------------------------------------------------------------\u001b[0m",
                        "\u001b[0;31mNameError\u001b[0m                                 Traceback (most recent call last)",
                        "\u001b[0;32m/var/folders/jh/8d6sqffx7q90ct5jlxs_mfy00000gn/T/ipykernel_34674/1061166134.py\u001b[0m in \u001b[0;36m<module>\u001b[0;34m\u001b[0m\n\u001b[1;32m      2\u001b[0m \u001b[0;32mimport\u001b[0m \u001b[0mseaborn\u001b[0m \u001b[0;32mas\u001b[0m \u001b[0msns\u001b[0m\u001b[0;34m\u001b[0m\u001b[0;34m\u001b[0m\u001b[0m\n\u001b[1;32m      3\u001b[0m \u001b[0;31m# read in the data\u001b[0m\u001b[0;34m\u001b[0m\u001b[0;34m\u001b[0m\u001b[0m\n\u001b[0;32m----> 4\u001b[0;31m \u001b[0msales_df\u001b[0m \u001b[0;34m=\u001b[0m \u001b[0mpd\u001b[0m\u001b[0;34m.\u001b[0m\u001b[0mread_csv\u001b[0m\u001b[0;34m(\u001b[0m\u001b[0;34m'sales.csv'\u001b[0m\u001b[0;34m)\u001b[0m\u001b[0;34m\u001b[0m\u001b[0;34m\u001b[0m\u001b[0m\n\u001b[0m\u001b[1;32m      5\u001b[0m \u001b[0;31m# create the pair plot using the 'pairplot' method\u001b[0m\u001b[0;34m\u001b[0m\u001b[0;34m\u001b[0m\u001b[0m\n\u001b[1;32m      6\u001b[0m \u001b[0msns\u001b[0m\u001b[0;34m.\u001b[0m\u001b[0mpairplot\u001b[0m\u001b[0;34m(\u001b[0m\u001b[0msales_df\u001b[0m\u001b[0;34m)\u001b[0m\u001b[0;34m\u001b[0m\u001b[0;34m\u001b[0m\u001b[0m\n",
                        "\u001b[0;31mNameError\u001b[0m: name 'pd' is not defined"
                    ]
                }
            ],
            "execution_count": 1
        },
        {
            "cell_type": "markdown",
            "source": [
                "A pair plot, a form of figure that displays the relationships between all pairs of variables in a dataset, is what the query you submitted looks to be doing. You might see the connections between the variables in the Sales dataframe by performing this query.\n",
                "\n",
                "  \n",
                "\n",
                "For instance, you might be able to determine whether the Quantity and Price variables exhibit a strong correlation or whether particular SalesPersonID values are frequently linked to either greater or lower product sales volumes.\n",
                "\n",
                "  \n",
                "\n",
                "Overall, the query you gave would be a great tool for showing the relationships between the variables in the Sales data."
            ],
            "metadata": {
                "azdata_cell_guid": "3dce82f7-9d2c-44f4-89f4-4350c1d03dae"
            },
            "attachments": {}
        }
    ]
}