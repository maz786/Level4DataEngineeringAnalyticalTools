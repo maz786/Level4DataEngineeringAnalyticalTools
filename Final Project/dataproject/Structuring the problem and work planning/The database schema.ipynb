{
    "metadata": {
        "kernelspec": {
            "name": "SQL",
            "display_name": "SQL",
            "language": "sql"
        },
        "language_info": {
            "name": "sql",
            "version": ""
        }
    },
    "nbformat_minor": 2,
    "nbformat": 4,
    "cells": [
        {
            "cell_type": "markdown",
            "source": [
                "**<u>Database's schema</u>**\n",
                "\n",
                "Understanding the database's schema and the relationships between the tables is crucial to doing the analysis.\n",
                "\n",
                "Customers' first name, middle initial, and last name, as well as their distinct CustomerID, are all included in the Customers database.\n",
                "\n",
                "SalesID, SalesPersonID, CustomerID, ProductID, and Quantity of sold goods are just a few of the details concerning sales transactions that may be found in the Sales database. CustomerID relates to the consumer who made the purchase, while SalesPersonID refers to the employee who performed the sale. The quantity column indicates how many products were sold, while the ProductID field identifies the product that was purchased.\n",
                "\n",
                "Information on the employees, including their EmployeeID, first name, middle initial, and last name, may be found in the Employees database.\n",
                "\n",
                "The ProductID, name, and price of each product are all listed in the Products database.\n",
                "\n",
                "You will need to execute SQL queries to pull the necessary data from the databases in order to carry out the analysis.\n",
                "\n",
                "You can utilise the Products database to determine the ProductID of the bike products and the Sales database to obtain sales data in order to examine the sales of such products. The total sales for each product can be obtained by grouping the sales information by product.\n",
                "\n",
                "You can utilise the Sales database to gather sales data for all items and group the data by product to get a breakdown of sales by product. The total sales for each product can then be obtained.\n",
                "\n",
                "You can gather the sales data for each customer and aggregate the data by customer using the Sales database to analyse client loyalty. The total sales for each client may then be determined, and you can utilise this data to determine whether consumers are repeat buyers.\n",
                "\n",
                "Based on the study, you might be able to spot patterns and trends in the sales data and utilise this knowledge to formulate suggestions. For instance, if you observe that a certain product frequently sells well, you can suggest boosting production or stepping up marketing efforts. Similar to this, if you notice that a specific customer is often making substantial purchases, you might suggest making special offers or discounts available to that consumer in order to reward their continued loyalty."
            ],
            "metadata": {
                "azdata_cell_guid": "33987053-f86d-4700-be87-184539c5c26d"
            },
            "attachments": {}
        },
        {
            "cell_type": "markdown",
            "source": [
                ""
            ],
            "metadata": {
                "azdata_cell_guid": "7a509119-fa65-4085-8fc3-2d0a4ac0a08e"
            }
        }
    ]
}