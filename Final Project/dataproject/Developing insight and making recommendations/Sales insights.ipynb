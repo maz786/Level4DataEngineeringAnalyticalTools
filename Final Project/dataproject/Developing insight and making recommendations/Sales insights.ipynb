{
    "metadata": {
        "kernelspec": {
            "name": "python3",
            "display_name": "Python 3 (ipykernel)",
            "language": "python"
        },
        "language_info": {
            "name": "python",
            "version": "3.9.13",
            "mimetype": "text/x-python",
            "codemirror_mode": {
                "name": "ipython",
                "version": 3
            },
            "pygments_lexer": "ipython3",
            "nbconvert_exporter": "python",
            "file_extension": ".py"
        }
    },
    "nbformat_minor": 2,
    "nbformat": 4,
    "cells": [
        {
            "cell_type": "markdown",
            "source": [
                "**<u>Count of sales by SalesPersonID in descending order of count</u>**"
            ],
            "metadata": {
                "azdata_cell_guid": "bb517e3f-c468-4d9f-9e7c-1e443ceea949"
            },
            "attachments": {}
        },
        {
            "cell_type": "code",
            "source": [
                "SELECT SalesPersonID, COUNT(*) AS SalesCount\n",
                "FROM Sales\n",
                "GROUP BY SalesPersonID\n",
                "ORDER BY SalesCount DESC;"
            ],
            "metadata": {
                "azdata_cell_guid": "c7d662be-bb89-421c-bc87-07354d8068f8",
                "language": "python"
            },
            "outputs": [
                {
                    "output_type": "display_data",
                    "data": {
                        "text/html": "(23 rows affected)"
                    },
                    "metadata": {}
                },
                {
                    "output_type": "display_data",
                    "data": {
                        "text/html": "Total execution time: 00:00:00.010"
                    },
                    "metadata": {}
                },
                {
                    "output_type": "execute_result",
                    "execution_count": 1,
                    "data": {
                        "application/vnd.dataresource+json": {
                            "schema": {
                                "fields": [
                                    {
                                        "name": "SalesPersonID"
                                    },
                                    {
                                        "name": "SalesCount"
                                    }
                                ]
                            },
                            "data": [
                                {
                                    "0": "12",
                                    "1": "19"
                                },
                                {
                                    "0": "13",
                                    "1": "18"
                                },
                                {
                                    "0": "2",
                                    "1": "17"
                                },
                                {
                                    "0": "3",
                                    "1": "17"
                                },
                                {
                                    "0": "4",
                                    "1": "17"
                                },
                                {
                                    "0": "11",
                                    "1": "16"
                                },
                                {
                                    "0": "15",
                                    "1": "15"
                                },
                                {
                                    "0": "17",
                                    "1": "14"
                                },
                                {
                                    "0": "7",
                                    "1": "14"
                                },
                                {
                                    "0": "9",
                                    "1": "14"
                                },
                                {
                                    "0": "16",
                                    "1": "13"
                                },
                                {
                                    "0": "21",
                                    "1": "13"
                                },
                                {
                                    "0": "22",
                                    "1": "13"
                                },
                                {
                                    "0": "19",
                                    "1": "12"
                                },
                                {
                                    "0": "5",
                                    "1": "12"
                                },
                                {
                                    "0": "8",
                                    "1": "11"
                                },
                                {
                                    "0": "18",
                                    "1": "11"
                                },
                                {
                                    "0": "20",
                                    "1": "11"
                                },
                                {
                                    "0": "1",
                                    "1": "10"
                                },
                                {
                                    "0": "14",
                                    "1": "9"
                                },
                                {
                                    "0": "6",
                                    "1": "9"
                                },
                                {
                                    "0": "10",
                                    "1": "8"
                                },
                                {
                                    "0": "23",
                                    "1": "7"
                                }
                            ]
                        },
                        "text/html": "<table><tr><th>SalesPersonID</th><th>SalesCount</th></tr><tr><td>12</td><td>19</td></tr><tr><td>13</td><td>18</td></tr><tr><td>2</td><td>17</td></tr><tr><td>3</td><td>17</td></tr><tr><td>4</td><td>17</td></tr><tr><td>11</td><td>16</td></tr><tr><td>15</td><td>15</td></tr><tr><td>17</td><td>14</td></tr><tr><td>7</td><td>14</td></tr><tr><td>9</td><td>14</td></tr><tr><td>16</td><td>13</td></tr><tr><td>21</td><td>13</td></tr><tr><td>22</td><td>13</td></tr><tr><td>19</td><td>12</td></tr><tr><td>5</td><td>12</td></tr><tr><td>8</td><td>11</td></tr><tr><td>18</td><td>11</td></tr><tr><td>20</td><td>11</td></tr><tr><td>1</td><td>10</td></tr><tr><td>14</td><td>9</td></tr><tr><td>6</td><td>9</td></tr><tr><td>10</td><td>8</td></tr><tr><td>23</td><td>7</td></tr></table>"
                    },
                    "metadata": {}
                }
            ],
            "execution_count": 1
        },
        {
            "cell_type": "code",
            "source": [
                "SELECT SalesPersonID, COUNT(*) AS SalesCount\n",
                "FROM Sales\n",
                "GROUP BY SalesPersonID\n",
                "ORDER BY SalesCount DESC;"
            ],
            "metadata": {
                "azdata_cell_guid": "860f98b7-6670-4a29-aac9-dfe4a7ca9e60",
                "language": "python"
            },
            "outputs": [
                {
                    "output_type": "display_data",
                    "data": {
                        "text/html": "(23 rows affected)"
                    },
                    "metadata": {}
                },
                {
                    "output_type": "display_data",
                    "data": {
                        "text/html": "Total execution time: 00:00:00.006"
                    },
                    "metadata": {}
                },
                {
                    "output_type": "execute_result",
                    "execution_count": 5,
                    "data": {
                        "application/vnd.dataresource+json": {
                            "schema": {
                                "fields": [
                                    {
                                        "name": "SalesPersonID"
                                    },
                                    {
                                        "name": "SalesCount"
                                    }
                                ]
                            },
                            "data": [
                                {
                                    "0": "12",
                                    "1": "19"
                                },
                                {
                                    "0": "13",
                                    "1": "18"
                                },
                                {
                                    "0": "2",
                                    "1": "17"
                                },
                                {
                                    "0": "3",
                                    "1": "17"
                                },
                                {
                                    "0": "4",
                                    "1": "17"
                                },
                                {
                                    "0": "11",
                                    "1": "16"
                                },
                                {
                                    "0": "15",
                                    "1": "15"
                                },
                                {
                                    "0": "17",
                                    "1": "14"
                                },
                                {
                                    "0": "7",
                                    "1": "14"
                                },
                                {
                                    "0": "9",
                                    "1": "14"
                                },
                                {
                                    "0": "16",
                                    "1": "13"
                                },
                                {
                                    "0": "21",
                                    "1": "13"
                                },
                                {
                                    "0": "22",
                                    "1": "13"
                                },
                                {
                                    "0": "19",
                                    "1": "12"
                                },
                                {
                                    "0": "5",
                                    "1": "12"
                                },
                                {
                                    "0": "8",
                                    "1": "11"
                                },
                                {
                                    "0": "18",
                                    "1": "11"
                                },
                                {
                                    "0": "20",
                                    "1": "11"
                                },
                                {
                                    "0": "1",
                                    "1": "10"
                                },
                                {
                                    "0": "14",
                                    "1": "9"
                                },
                                {
                                    "0": "6",
                                    "1": "9"
                                },
                                {
                                    "0": "10",
                                    "1": "8"
                                },
                                {
                                    "0": "23",
                                    "1": "7"
                                }
                            ]
                        },
                        "text/html": "<table><tr><th>SalesPersonID</th><th>SalesCount</th></tr><tr><td>12</td><td>19</td></tr><tr><td>13</td><td>18</td></tr><tr><td>2</td><td>17</td></tr><tr><td>3</td><td>17</td></tr><tr><td>4</td><td>17</td></tr><tr><td>11</td><td>16</td></tr><tr><td>15</td><td>15</td></tr><tr><td>17</td><td>14</td></tr><tr><td>7</td><td>14</td></tr><tr><td>9</td><td>14</td></tr><tr><td>16</td><td>13</td></tr><tr><td>21</td><td>13</td></tr><tr><td>22</td><td>13</td></tr><tr><td>19</td><td>12</td></tr><tr><td>5</td><td>12</td></tr><tr><td>8</td><td>11</td></tr><tr><td>18</td><td>11</td></tr><tr><td>20</td><td>11</td></tr><tr><td>1</td><td>10</td></tr><tr><td>14</td><td>9</td></tr><tr><td>6</td><td>9</td></tr><tr><td>10</td><td>8</td></tr><tr><td>23</td><td>7</td></tr></table>"
                    },
                    "metadata": {
                        "azdata_chartOptions": {
                            "type": "horizontalBar",
                            "dataDirection": "vertical",
                            "columnsAsLabels": true,
                            "labelFirstColumn": false,
                            "legendPosition": "top",
                            "yAxisLabel": "SalesPersonID",
                            "xAxisLabel": "Count of Sales",
                            "xAxisMin": 0
                        }
                    }
                }
            ],
            "execution_count": 5
        },
        {
            "cell_type": "markdown",
            "source": [
                "The most amount of sales were 19 by SalesPersonID 12 that accounted for 6.33% of the count of sales which was 171.43% more  than SalesPersonID 23, which had the fewest sales, at 7. \n",
                "\n",
                "The SQL query is a grouping query that returns the count of sales for each salesperson after aggregating the number of sales made by each salesperson (identified by the SalesPersonID field in the Sales table). The query's results will display the salesperson with the most transactions at the top and the one with the fewest transactions at the bottom of the list.\n",
                "\n",
                "You may gain some understanding of how well your sales force is performing by looking at the sales total for each salesperson. Consider the fact that some salesmen may constantly have higher sales totals than others, which may be a sign of their greater effectiveness in closing agreements. Using this data, you might also spot any failing salesmen and offer them further coaching or assistance to help them perform better. \n",
                "\n",
                "You may also get a feel of the general sales success of your company by categorising the sales data by salesperson. For instance, you could compare the sales totals of various sales teams or areas using this data, or you could monitor variations in sales performance over time.\n",
                "\n",
                "It's important to note that this query will only produce salesperson IDs and sales counts for completed transactions. Consider adding other fields to your query, such as the name of the salesperson, the customer, the product name, or the sales date, if you want to gain deeper insights into your sales data. By doing so, you'll be able to see your sales data in greater detail and even find new patterns or trends."
            ],
            "metadata": {
                "azdata_cell_guid": "62176732-090f-4a27-8ae8-b30d1358695a"
            },
            "attachments": {}
        },
        {
            "cell_type": "markdown",
            "source": [
                "**<u>Count of sales by quantity in descending order of count</u>**"
            ],
            "metadata": {
                "azdata_cell_guid": "f9dd58f7-937a-467c-91b1-0682709e8be7"
            },
            "attachments": {}
        },
        {
            "cell_type": "code",
            "source": [
                "SELECT Quantity, COUNT(*) AS SalesCount\n",
                "FROM Sales\n",
                "GROUP BY Quantity\n",
                "ORDER BY SalesCount DESC;"
            ],
            "metadata": {
                "azdata_cell_guid": "0033fb03-97ff-4b35-b5c7-e810be503a12",
                "language": "python",
                "tags": []
            },
            "outputs": [
                {
                    "output_type": "display_data",
                    "data": {
                        "text/html": "(10 rows affected)"
                    },
                    "metadata": {}
                },
                {
                    "output_type": "display_data",
                    "data": {
                        "text/html": "Total execution time: 00:00:00.020"
                    },
                    "metadata": {}
                },
                {
                    "output_type": "execute_result",
                    "execution_count": 2,
                    "data": {
                        "application/vnd.dataresource+json": {
                            "schema": {
                                "fields": [
                                    {
                                        "name": "Quantity"
                                    },
                                    {
                                        "name": "SalesCount"
                                    }
                                ]
                            },
                            "data": [
                                {
                                    "0": "6",
                                    "1": "35"
                                },
                                {
                                    "0": "9",
                                    "1": "35"
                                },
                                {
                                    "0": "7",
                                    "1": "34"
                                },
                                {
                                    "0": "4",
                                    "1": "34"
                                },
                                {
                                    "0": "2",
                                    "1": "32"
                                },
                                {
                                    "0": "10",
                                    "1": "31"
                                },
                                {
                                    "0": "3",
                                    "1": "26"
                                },
                                {
                                    "0": "1",
                                    "1": "26"
                                },
                                {
                                    "0": "5",
                                    "1": "24"
                                },
                                {
                                    "0": "8",
                                    "1": "23"
                                }
                            ]
                        },
                        "text/html": "<table><tr><th>Quantity</th><th>SalesCount</th></tr><tr><td>6</td><td>35</td></tr><tr><td>9</td><td>35</td></tr><tr><td>7</td><td>34</td></tr><tr><td>4</td><td>34</td></tr><tr><td>2</td><td>32</td></tr><tr><td>10</td><td>31</td></tr><tr><td>3</td><td>26</td></tr><tr><td>1</td><td>26</td></tr><tr><td>5</td><td>24</td></tr><tr><td>8</td><td>23</td></tr></table>"
                    },
                    "metadata": {}
                }
            ],
            "execution_count": 2
        },
        {
            "cell_type": "code",
            "source": [
                "SELECT Quantity, COUNT(*) AS SalesCount\n",
                "FROM Sales\n",
                "GROUP BY Quantity\n",
                "ORDER BY SalesCount DESC;"
            ],
            "metadata": {
                "azdata_cell_guid": "0022e202-5dd2-4b9a-82b3-8c1d2c6f3a4d",
                "language": "python"
            },
            "outputs": [
                {
                    "output_type": "display_data",
                    "data": {
                        "text/html": "(10 rows affected)"
                    },
                    "metadata": {}
                },
                {
                    "output_type": "display_data",
                    "data": {
                        "text/html": "Total execution time: 00:00:00.074"
                    },
                    "metadata": {}
                },
                {
                    "output_type": "execute_result",
                    "execution_count": 1,
                    "data": {
                        "application/vnd.dataresource+json": {
                            "schema": {
                                "fields": [
                                    {
                                        "name": "Quantity"
                                    },
                                    {
                                        "name": "SalesCount"
                                    }
                                ]
                            },
                            "data": [
                                {
                                    "0": "6",
                                    "1": "35"
                                },
                                {
                                    "0": "9",
                                    "1": "35"
                                },
                                {
                                    "0": "7",
                                    "1": "34"
                                },
                                {
                                    "0": "4",
                                    "1": "34"
                                },
                                {
                                    "0": "2",
                                    "1": "32"
                                },
                                {
                                    "0": "10",
                                    "1": "31"
                                },
                                {
                                    "0": "3",
                                    "1": "26"
                                },
                                {
                                    "0": "1",
                                    "1": "26"
                                },
                                {
                                    "0": "5",
                                    "1": "24"
                                },
                                {
                                    "0": "8",
                                    "1": "23"
                                }
                            ]
                        },
                        "text/html": "<table><tr><th>Quantity</th><th>SalesCount</th></tr><tr><td>6</td><td>35</td></tr><tr><td>9</td><td>35</td></tr><tr><td>7</td><td>34</td></tr><tr><td>4</td><td>34</td></tr><tr><td>2</td><td>32</td></tr><tr><td>10</td><td>31</td></tr><tr><td>3</td><td>26</td></tr><tr><td>1</td><td>26</td></tr><tr><td>5</td><td>24</td></tr><tr><td>8</td><td>23</td></tr></table>"
                    },
                    "metadata": {
                        "azdata_chartOptions": {
                            "type": "horizontalBar",
                            "dataDirection": "vertical",
                            "columnsAsLabels": true,
                            "labelFirstColumn": false,
                            "legendPosition": "top",
                            "yAxisLabel": "Quantity",
                            "xAxisLabel": "Count of sales",
                            "dataType": "number",
                            "xAxisMin": 0
                        }
                    }
                }
            ],
            "execution_count": 1
        },
        {
            "cell_type": "markdown",
            "source": [
                "The following are some perceptions, tendencies, or patterns that you may gain through studying this issue:\n",
                "\n",
                "  \n",
                "\n",
                "the average number of items sold in a single transaction\n",
                "\n",
                "  \n",
                "\n",
                "the division of sales among various product amounts\n",
                "\n",
                "  \n",
                "\n",
                "Whether there are any products that sell in unusually high or low numbers compared to others\n",
                "\n",
                "  \n",
                "\n",
                "It's important to note that this query will only provide you with information on the number of items sold in each sale. You would need to use the ProductID field to link the Sales and Items tables in order to obtain more comprehensive information about the products themselves. After that, you may get a breakdown of sales by, say, product name or price using further GROUP BY and COUNT clauses."
            ],
            "metadata": {
                "azdata_cell_guid": "f599ee21-5b98-41a3-98e7-44e85018e2d3"
            },
            "attachments": {}
        },
        {
            "cell_type": "markdown",
            "source": [
                "**<u>Sum of quantity by SalesPersonID in descending order of sum</u>**"
            ],
            "metadata": {
                "azdata_cell_guid": "50924532-4df6-40eb-8fce-2b4550e3c854"
            },
            "attachments": {}
        },
        {
            "cell_type": "code",
            "source": [
                "SELECT SalesPersonID, SUM(Quantity) AS QuantitySum\n",
                "FROM Sales\n",
                "GROUP BY SalesPersonID\n",
                "ORDER BY QuantitySum DESC;"
            ],
            "metadata": {
                "azdata_cell_guid": "ed88801e-e551-4285-9d98-5af9f717f2b8",
                "language": "python"
            },
            "outputs": [
                {
                    "output_type": "display_data",
                    "data": {
                        "text/html": "(23 rows affected)"
                    },
                    "metadata": {}
                },
                {
                    "output_type": "display_data",
                    "data": {
                        "text/html": "Total execution time: 00:00:00.010"
                    },
                    "metadata": {}
                },
                {
                    "output_type": "execute_result",
                    "execution_count": 3,
                    "data": {
                        "application/vnd.dataresource+json": {
                            "schema": {
                                "fields": [
                                    {
                                        "name": "SalesPersonID"
                                    },
                                    {
                                        "name": "QuantitySum"
                                    }
                                ]
                            },
                            "data": [
                                {
                                    "0": "12",
                                    "1": "114"
                                },
                                {
                                    "0": "2",
                                    "1": "113"
                                },
                                {
                                    "0": "13",
                                    "1": "105"
                                },
                                {
                                    "0": "3",
                                    "1": "89"
                                },
                                {
                                    "0": "16",
                                    "1": "86"
                                },
                                {
                                    "0": "17",
                                    "1": "84"
                                },
                                {
                                    "0": "7",
                                    "1": "83"
                                },
                                {
                                    "0": "4",
                                    "1": "81"
                                },
                                {
                                    "0": "15",
                                    "1": "81"
                                },
                                {
                                    "0": "9",
                                    "1": "78"
                                },
                                {
                                    "0": "11",
                                    "1": "75"
                                },
                                {
                                    "0": "5",
                                    "1": "74"
                                },
                                {
                                    "0": "18",
                                    "1": "70"
                                },
                                {
                                    "0": "14",
                                    "1": "68"
                                },
                                {
                                    "0": "1",
                                    "1": "62"
                                },
                                {
                                    "0": "22",
                                    "1": "60"
                                },
                                {
                                    "0": "19",
                                    "1": "58"
                                },
                                {
                                    "0": "8",
                                    "1": "58"
                                },
                                {
                                    "0": "20",
                                    "1": "56"
                                },
                                {
                                    "0": "21",
                                    "1": "52"
                                },
                                {
                                    "0": "10",
                                    "1": "49"
                                },
                                {
                                    "0": "6",
                                    "1": "49"
                                },
                                {
                                    "0": "23",
                                    "1": "36"
                                }
                            ]
                        },
                        "text/html": "<table><tr><th>SalesPersonID</th><th>QuantitySum</th></tr><tr><td>12</td><td>114</td></tr><tr><td>2</td><td>113</td></tr><tr><td>13</td><td>105</td></tr><tr><td>3</td><td>89</td></tr><tr><td>16</td><td>86</td></tr><tr><td>17</td><td>84</td></tr><tr><td>7</td><td>83</td></tr><tr><td>4</td><td>81</td></tr><tr><td>15</td><td>81</td></tr><tr><td>9</td><td>78</td></tr><tr><td>11</td><td>75</td></tr><tr><td>5</td><td>74</td></tr><tr><td>18</td><td>70</td></tr><tr><td>14</td><td>68</td></tr><tr><td>1</td><td>62</td></tr><tr><td>22</td><td>60</td></tr><tr><td>19</td><td>58</td></tr><tr><td>8</td><td>58</td></tr><tr><td>20</td><td>56</td></tr><tr><td>21</td><td>52</td></tr><tr><td>10</td><td>49</td></tr><tr><td>6</td><td>49</td></tr><tr><td>23</td><td>36</td></tr></table>"
                    },
                    "metadata": {}
                }
            ],
            "execution_count": 3
        },
        {
            "cell_type": "code",
            "source": [
                "SELECT SalesPersonID, SUM(Quantity) AS QuantitySum\n",
                "FROM Sales\n",
                "GROUP BY SalesPersonID\n",
                "ORDER BY QuantitySum DESC;"
            ],
            "metadata": {
                "azdata_cell_guid": "79b7a83c-1572-411c-a4da-387593d9e5f5",
                "language": "python"
            },
            "outputs": [
                {
                    "output_type": "display_data",
                    "data": {
                        "text/html": "(23 rows affected)"
                    },
                    "metadata": {}
                },
                {
                    "output_type": "display_data",
                    "data": {
                        "text/html": "Total execution time: 00:00:00.009"
                    },
                    "metadata": {}
                },
                {
                    "output_type": "execute_result",
                    "execution_count": 2,
                    "data": {
                        "application/vnd.dataresource+json": {
                            "schema": {
                                "fields": [
                                    {
                                        "name": "SalesPersonID"
                                    },
                                    {
                                        "name": "QuantitySum"
                                    }
                                ]
                            },
                            "data": [
                                {
                                    "0": "12",
                                    "1": "114"
                                },
                                {
                                    "0": "2",
                                    "1": "113"
                                },
                                {
                                    "0": "13",
                                    "1": "105"
                                },
                                {
                                    "0": "3",
                                    "1": "89"
                                },
                                {
                                    "0": "16",
                                    "1": "86"
                                },
                                {
                                    "0": "17",
                                    "1": "84"
                                },
                                {
                                    "0": "7",
                                    "1": "83"
                                },
                                {
                                    "0": "4",
                                    "1": "81"
                                },
                                {
                                    "0": "15",
                                    "1": "81"
                                },
                                {
                                    "0": "9",
                                    "1": "78"
                                },
                                {
                                    "0": "11",
                                    "1": "75"
                                },
                                {
                                    "0": "5",
                                    "1": "74"
                                },
                                {
                                    "0": "18",
                                    "1": "70"
                                },
                                {
                                    "0": "14",
                                    "1": "68"
                                },
                                {
                                    "0": "1",
                                    "1": "62"
                                },
                                {
                                    "0": "22",
                                    "1": "60"
                                },
                                {
                                    "0": "19",
                                    "1": "58"
                                },
                                {
                                    "0": "8",
                                    "1": "58"
                                },
                                {
                                    "0": "20",
                                    "1": "56"
                                },
                                {
                                    "0": "21",
                                    "1": "52"
                                },
                                {
                                    "0": "10",
                                    "1": "49"
                                },
                                {
                                    "0": "6",
                                    "1": "49"
                                },
                                {
                                    "0": "23",
                                    "1": "36"
                                }
                            ]
                        },
                        "text/html": "<table><tr><th>SalesPersonID</th><th>QuantitySum</th></tr><tr><td>12</td><td>114</td></tr><tr><td>2</td><td>113</td></tr><tr><td>13</td><td>105</td></tr><tr><td>3</td><td>89</td></tr><tr><td>16</td><td>86</td></tr><tr><td>17</td><td>84</td></tr><tr><td>7</td><td>83</td></tr><tr><td>4</td><td>81</td></tr><tr><td>15</td><td>81</td></tr><tr><td>9</td><td>78</td></tr><tr><td>11</td><td>75</td></tr><tr><td>5</td><td>74</td></tr><tr><td>18</td><td>70</td></tr><tr><td>14</td><td>68</td></tr><tr><td>1</td><td>62</td></tr><tr><td>22</td><td>60</td></tr><tr><td>19</td><td>58</td></tr><tr><td>8</td><td>58</td></tr><tr><td>20</td><td>56</td></tr><tr><td>21</td><td>52</td></tr><tr><td>10</td><td>49</td></tr><tr><td>6</td><td>49</td></tr><tr><td>23</td><td>36</td></tr></table>"
                    },
                    "metadata": {
                        "azdata_chartOptions": {
                            "type": "horizontalBar",
                            "dataDirection": "vertical",
                            "columnsAsLabels": true,
                            "labelFirstColumn": false,
                            "legendPosition": "top",
                            "yAxisLabel": "SalesPersonID",
                            "xAxisLabel": "Sum of quantity",
                            "xAxisMin": 0
                        }
                    }
                }
            ],
            "execution_count": 2
        },
        {
            "cell_type": "markdown",
            "source": [
                "The result of the query you supplied is a list of all the products that each salesperson has successfully sold, sorted by highest to lowest quantity. This might assist you figure out who among the sales team's members has sold the most products and the general pattern of those sales.\n",
                "\n",
                "  \n",
                "\n",
                "Based on the answers to this inquiry, you might be able to spot the following trends, patterns, or insights:\n",
                "\n",
                "  \n",
                "\n",
                "You can see which salesperson has sold the most items overall, which may be a sign that they are the most successful or productive salesman on the team.\n",
                "\n",
                "  \n",
                "\n",
                "You can compare the overall volume of goods sold by each salesperson, which may help you spot any notable variations or disparities within the group.\n",
                "\n",
                "  \n",
                "\n",
                "By contrasting the outcomes from various time periods, you may utilise the results of this query to spot any trends or patterns in the sales performance over time. By linking the Sales table with the Products table using the ProductID field, you could utilise the output of this query to find any trends or patterns in terms of the kinds of products being sold by each salesperson. You might gain more insight into which items and salespeople are selling them by doing this."
            ],
            "metadata": {
                "azdata_cell_guid": "debc5bfd-3fc1-41bf-88b0-f953d7251177"
            },
            "attachments": {}
        },
        {
            "cell_type": "markdown",
            "source": [
                "**<u>Count of sales by CustomerID in descending order of count</u>**"
            ],
            "metadata": {
                "azdata_cell_guid": "9c0cd714-c064-45d6-b9f9-f50a0bf225ac"
            },
            "attachments": {}
        },
        {
            "cell_type": "code",
            "source": [
                "SELECT CustomerID, COUNT(*) AS SalesCount\n",
                "FROM Sales\n",
                "GROUP BY CustomerID\n",
                "ORDER BY SalesCount DESC;"
            ],
            "metadata": {
                "azdata_cell_guid": "da19a7ad-25e4-4625-a453-51e84ad89a42",
                "language": "python"
            },
            "outputs": [
                {
                    "output_type": "display_data",
                    "data": {
                        "text/html": "(200 rows affected)"
                    },
                    "metadata": {}
                },
                {
                    "output_type": "display_data",
                    "data": {
                        "text/html": "Total execution time: 00:00:00.018"
                    },
                    "metadata": {}
                },
                {
                    "output_type": "execute_result",
                    "execution_count": 4,
                    "data": {
                        "application/vnd.dataresource+json": {
                            "schema": {
                                "fields": [
                                    {
                                        "name": "CustomerID"
                                    },
                                    {
                                        "name": "SalesCount"
                                    }
                                ]
                            },
                            "data": [
                                {
                                    "0": "42",
                                    "1": "4"
                                },
                                {
                                    "0": "134",
                                    "1": "4"
                                },
                                {
                                    "0": "181",
                                    "1": "4"
                                },
                                {
                                    "0": "200",
                                    "1": "4"
                                },
                                {
                                    "0": "324",
                                    "1": "4"
                                },
                                {
                                    "0": "292",
                                    "1": "3"
                                },
                                {
                                    "0": "293",
                                    "1": "3"
                                },
                                {
                                    "0": "305",
                                    "1": "3"
                                },
                                {
                                    "0": "321",
                                    "1": "3"
                                },
                                {
                                    "0": "199",
                                    "1": "3"
                                },
                                {
                                    "0": "210",
                                    "1": "3"
                                },
                                {
                                    "0": "194",
                                    "1": "3"
                                },
                                {
                                    "0": "196",
                                    "1": "3"
                                },
                                {
                                    "0": "227",
                                    "1": "3"
                                },
                                {
                                    "0": "287",
                                    "1": "3"
                                },
                                {
                                    "0": "77",
                                    "1": "3"
                                },
                                {
                                    "0": "78",
                                    "1": "3"
                                },
                                {
                                    "0": "82",
                                    "1": "3"
                                },
                                {
                                    "0": "18",
                                    "1": "3"
                                },
                                {
                                    "0": "49",
                                    "1": "3"
                                },
                                {
                                    "0": "14",
                                    "1": "3"
                                },
                                {
                                    "0": "20",
                                    "1": "3"
                                },
                                {
                                    "0": "15",
                                    "1": "2"
                                },
                                {
                                    "0": "12",
                                    "1": "2"
                                },
                                {
                                    "0": "1",
                                    "1": "2"
                                },
                                {
                                    "0": "4",
                                    "1": "2"
                                },
                                {
                                    "0": "19",
                                    "1": "2"
                                },
                                {
                                    "0": "64",
                                    "1": "2"
                                },
                                {
                                    "0": "75",
                                    "1": "2"
                                },
                                {
                                    "0": "88",
                                    "1": "2"
                                },
                                {
                                    "0": "92",
                                    "1": "2"
                                },
                                {
                                    "0": "153",
                                    "1": "2"
                                },
                                {
                                    "0": "154",
                                    "1": "2"
                                },
                                {
                                    "0": "155",
                                    "1": "2"
                                },
                                {
                                    "0": "107",
                                    "1": "2"
                                },
                                {
                                    "0": "108",
                                    "1": "2"
                                },
                                {
                                    "0": "110",
                                    "1": "2"
                                },
                                {
                                    "0": "126",
                                    "1": "2"
                                },
                                {
                                    "0": "257",
                                    "1": "2"
                                },
                                {
                                    "0": "282",
                                    "1": "2"
                                },
                                {
                                    "0": "284",
                                    "1": "2"
                                },
                                {
                                    "0": "262",
                                    "1": "2"
                                },
                                {
                                    "0": "264",
                                    "1": "2"
                                },
                                {
                                    "0": "275",
                                    "1": "2"
                                },
                                {
                                    "0": "234",
                                    "1": "2"
                                },
                                {
                                    "0": "236",
                                    "1": "2"
                                },
                                {
                                    "0": "205",
                                    "1": "2"
                                },
                                {
                                    "0": "220",
                                    "1": "2"
                                },
                                {
                                    "0": "221",
                                    "1": "2"
                                },
                                {
                                    "0": "224",
                                    "1": "2"
                                },
                                {
                                    "0": "243",
                                    "1": "2"
                                },
                                {
                                    "0": "247",
                                    "1": "2"
                                },
                                {
                                    "0": "250",
                                    "1": "2"
                                },
                                {
                                    "0": "253",
                                    "1": "2"
                                },
                                {
                                    "0": "178",
                                    "1": "2"
                                },
                                {
                                    "0": "123",
                                    "1": "2"
                                },
                                {
                                    "0": "174",
                                    "1": "2"
                                },
                                {
                                    "0": "175",
                                    "1": "2"
                                },
                                {
                                    "0": "211",
                                    "1": "2"
                                },
                                {
                                    "0": "182",
                                    "1": "2"
                                },
                                {
                                    "0": "159",
                                    "1": "2"
                                },
                                {
                                    "0": "160",
                                    "1": "2"
                                },
                                {
                                    "0": "162",
                                    "1": "2"
                                },
                                {
                                    "0": "336",
                                    "1": "2"
                                },
                                {
                                    "0": "339",
                                    "1": "2"
                                },
                                {
                                    "0": "347",
                                    "1": "2"
                                },
                                {
                                    "0": "351",
                                    "1": "2"
                                },
                                {
                                    "0": "356",
                                    "1": "2"
                                },
                                {
                                    "0": "358",
                                    "1": "2"
                                },
                                {
                                    "0": "306",
                                    "1": "2"
                                },
                                {
                                    "0": "296",
                                    "1": "2"
                                },
                                {
                                    "0": "298",
                                    "1": "2"
                                },
                                {
                                    "0": "318",
                                    "1": "2"
                                },
                                {
                                    "0": "319",
                                    "1": "1"
                                },
                                {
                                    "0": "300",
                                    "1": "1"
                                },
                                {
                                    "0": "304",
                                    "1": "1"
                                },
                                {
                                    "0": "327",
                                    "1": "1"
                                },
                                {
                                    "0": "330",
                                    "1": "1"
                                },
                                {
                                    "0": "331",
                                    "1": "1"
                                },
                                {
                                    "0": "333",
                                    "1": "1"
                                },
                                {
                                    "0": "334",
                                    "1": "1"
                                },
                                {
                                    "0": "335",
                                    "1": "1"
                                },
                                {
                                    "0": "297",
                                    "1": "1"
                                },
                                {
                                    "0": "294",
                                    "1": "1"
                                },
                                {
                                    "0": "308",
                                    "1": "1"
                                },
                                {
                                    "0": "310",
                                    "1": "1"
                                },
                                {
                                    "0": "311",
                                    "1": "1"
                                },
                                {
                                    "0": "315",
                                    "1": "1"
                                },
                                {
                                    "0": "317",
                                    "1": "1"
                                },
                                {
                                    "0": "359",
                                    "1": "1"
                                },
                                {
                                    "0": "360",
                                    "1": "1"
                                },
                                {
                                    "0": "357",
                                    "1": "1"
                                },
                                {
                                    "0": "355",
                                    "1": "1"
                                },
                                {
                                    "0": "349",
                                    "1": "1"
                                },
                                {
                                    "0": "350",
                                    "1": "1"
                                },
                                {
                                    "0": "341",
                                    "1": "1"
                                },
                                {
                                    "0": "343",
                                    "1": "1"
                                },
                                {
                                    "0": "344",
                                    "1": "1"
                                },
                                {
                                    "0": "345",
                                    "1": "1"
                                },
                                {
                                    "0": "346",
                                    "1": "1"
                                },
                                {
                                    "0": "337",
                                    "1": "1"
                                },
                                {
                                    "0": "322",
                                    "1": "1"
                                },
                                {
                                    "0": "323",
                                    "1": "1"
                                },
                                {
                                    "0": "163",
                                    "1": "1"
                                },
                                {
                                    "0": "164",
                                    "1": "1"
                                },
                                {
                                    "0": "167",
                                    "1": "1"
                                },
                                {
                                    "0": "170",
                                    "1": "1"
                                },
                                {
                                    "0": "172",
                                    "1": "1"
                                },
                                {
                                    "0": "173",
                                    "1": "1"
                                },
                                {
                                    "0": "183",
                                    "1": "1"
                                },
                                {
                                    "0": "184",
                                    "1": "1"
                                },
                                {
                                    "0": "187",
                                    "1": "1"
                                },
                                {
                                    "0": "188",
                                    "1": "1"
                                },
                                {
                                    "0": "189",
                                    "1": "1"
                                },
                                {
                                    "0": "190",
                                    "1": "1"
                                },
                                {
                                    "0": "192",
                                    "1": "1"
                                },
                                {
                                    "0": "216",
                                    "1": "1"
                                },
                                {
                                    "0": "219",
                                    "1": "1"
                                },
                                {
                                    "0": "201",
                                    "1": "1"
                                },
                                {
                                    "0": "203",
                                    "1": "1"
                                },
                                {
                                    "0": "204",
                                    "1": "1"
                                },
                                {
                                    "0": "177",
                                    "1": "1"
                                },
                                {
                                    "0": "125",
                                    "1": "1"
                                },
                                {
                                    "0": "180",
                                    "1": "1"
                                },
                                {
                                    "0": "197",
                                    "1": "1"
                                },
                                {
                                    "0": "254",
                                    "1": "1"
                                },
                                {
                                    "0": "252",
                                    "1": "1"
                                },
                                {
                                    "0": "248",
                                    "1": "1"
                                },
                                {
                                    "0": "244",
                                    "1": "1"
                                },
                                {
                                    "0": "246",
                                    "1": "1"
                                },
                                {
                                    "0": "207",
                                    "1": "1"
                                },
                                {
                                    "0": "237",
                                    "1": "1"
                                },
                                {
                                    "0": "239",
                                    "1": "1"
                                },
                                {
                                    "0": "241",
                                    "1": "1"
                                },
                                {
                                    "0": "276",
                                    "1": "1"
                                },
                                {
                                    "0": "277",
                                    "1": "1"
                                },
                                {
                                    "0": "278",
                                    "1": "1"
                                },
                                {
                                    "0": "279",
                                    "1": "1"
                                },
                                {
                                    "0": "267",
                                    "1": "1"
                                },
                                {
                                    "0": "268",
                                    "1": "1"
                                },
                                {
                                    "0": "269",
                                    "1": "1"
                                },
                                {
                                    "0": "273",
                                    "1": "1"
                                },
                                {
                                    "0": "285",
                                    "1": "1"
                                },
                                {
                                    "0": "286",
                                    "1": "1"
                                },
                                {
                                    "0": "259",
                                    "1": "1"
                                },
                                {
                                    "0": "261",
                                    "1": "1"
                                },
                                {
                                    "0": "288",
                                    "1": "1"
                                },
                                {
                                    "0": "127",
                                    "1": "1"
                                },
                                {
                                    "0": "129",
                                    "1": "1"
                                },
                                {
                                    "0": "131",
                                    "1": "1"
                                },
                                {
                                    "0": "133",
                                    "1": "1"
                                },
                                {
                                    "0": "111",
                                    "1": "1"
                                },
                                {
                                    "0": "118",
                                    "1": "1"
                                },
                                {
                                    "0": "119",
                                    "1": "1"
                                },
                                {
                                    "0": "157",
                                    "1": "1"
                                },
                                {
                                    "0": "138",
                                    "1": "1"
                                },
                                {
                                    "0": "141",
                                    "1": "1"
                                },
                                {
                                    "0": "144",
                                    "1": "1"
                                },
                                {
                                    "0": "145",
                                    "1": "1"
                                },
                                {
                                    "0": "149",
                                    "1": "1"
                                },
                                {
                                    "0": "151",
                                    "1": "1"
                                },
                                {
                                    "0": "93",
                                    "1": "1"
                                },
                                {
                                    "0": "95",
                                    "1": "1"
                                },
                                {
                                    "0": "97",
                                    "1": "1"
                                },
                                {
                                    "0": "100",
                                    "1": "1"
                                },
                                {
                                    "0": "101",
                                    "1": "1"
                                },
                                {
                                    "0": "102",
                                    "1": "1"
                                },
                                {
                                    "0": "76",
                                    "1": "1"
                                },
                                {
                                    "0": "83",
                                    "1": "1"
                                },
                                {
                                    "0": "87",
                                    "1": "1"
                                },
                                {
                                    "0": "80",
                                    "1": "1"
                                },
                                {
                                    "0": "81",
                                    "1": "1"
                                },
                                {
                                    "0": "65",
                                    "1": "1"
                                },
                                {
                                    "0": "67",
                                    "1": "1"
                                },
                                {
                                    "0": "72",
                                    "1": "1"
                                },
                                {
                                    "0": "43",
                                    "1": "1"
                                },
                                {
                                    "0": "46",
                                    "1": "1"
                                },
                                {
                                    "0": "50",
                                    "1": "1"
                                },
                                {
                                    "0": "51",
                                    "1": "1"
                                },
                                {
                                    "0": "52",
                                    "1": "1"
                                },
                                {
                                    "0": "53",
                                    "1": "1"
                                },
                                {
                                    "0": "56",
                                    "1": "1"
                                },
                                {
                                    "0": "59",
                                    "1": "1"
                                },
                                {
                                    "0": "60",
                                    "1": "1"
                                },
                                {
                                    "0": "8",
                                    "1": "1"
                                },
                                {
                                    "0": "10",
                                    "1": "1"
                                },
                                {
                                    "0": "3",
                                    "1": "1"
                                },
                                {
                                    "0": "13",
                                    "1": "1"
                                },
                                {
                                    "0": "17",
                                    "1": "1"
                                },
                                {
                                    "0": "24",
                                    "1": "1"
                                },
                                {
                                    "0": "25",
                                    "1": "1"
                                },
                                {
                                    "0": "26",
                                    "1": "1"
                                },
                                {
                                    "0": "31",
                                    "1": "1"
                                },
                                {
                                    "0": "32",
                                    "1": "1"
                                },
                                {
                                    "0": "33",
                                    "1": "1"
                                },
                                {
                                    "0": "35",
                                    "1": "1"
                                },
                                {
                                    "0": "36",
                                    "1": "1"
                                },
                                {
                                    "0": "37",
                                    "1": "1"
                                },
                                {
                                    "0": "39",
                                    "1": "1"
                                },
                                {
                                    "0": "40",
                                    "1": "1"
                                }
                            ]
                        },
                        "text/html": "<table><tr><th>CustomerID</th><th>SalesCount</th></tr><tr><td>42</td><td>4</td></tr><tr><td>134</td><td>4</td></tr><tr><td>181</td><td>4</td></tr><tr><td>200</td><td>4</td></tr><tr><td>324</td><td>4</td></tr><tr><td>292</td><td>3</td></tr><tr><td>293</td><td>3</td></tr><tr><td>305</td><td>3</td></tr><tr><td>321</td><td>3</td></tr><tr><td>199</td><td>3</td></tr><tr><td>210</td><td>3</td></tr><tr><td>194</td><td>3</td></tr><tr><td>196</td><td>3</td></tr><tr><td>227</td><td>3</td></tr><tr><td>287</td><td>3</td></tr><tr><td>77</td><td>3</td></tr><tr><td>78</td><td>3</td></tr><tr><td>82</td><td>3</td></tr><tr><td>18</td><td>3</td></tr><tr><td>49</td><td>3</td></tr><tr><td>14</td><td>3</td></tr><tr><td>20</td><td>3</td></tr><tr><td>15</td><td>2</td></tr><tr><td>12</td><td>2</td></tr><tr><td>1</td><td>2</td></tr><tr><td>4</td><td>2</td></tr><tr><td>19</td><td>2</td></tr><tr><td>64</td><td>2</td></tr><tr><td>75</td><td>2</td></tr><tr><td>88</td><td>2</td></tr><tr><td>92</td><td>2</td></tr><tr><td>153</td><td>2</td></tr><tr><td>154</td><td>2</td></tr><tr><td>155</td><td>2</td></tr><tr><td>107</td><td>2</td></tr><tr><td>108</td><td>2</td></tr><tr><td>110</td><td>2</td></tr><tr><td>126</td><td>2</td></tr><tr><td>257</td><td>2</td></tr><tr><td>282</td><td>2</td></tr><tr><td>284</td><td>2</td></tr><tr><td>262</td><td>2</td></tr><tr><td>264</td><td>2</td></tr><tr><td>275</td><td>2</td></tr><tr><td>234</td><td>2</td></tr><tr><td>236</td><td>2</td></tr><tr><td>205</td><td>2</td></tr><tr><td>220</td><td>2</td></tr><tr><td>221</td><td>2</td></tr><tr><td>224</td><td>2</td></tr><tr><td>243</td><td>2</td></tr><tr><td>247</td><td>2</td></tr><tr><td>250</td><td>2</td></tr><tr><td>253</td><td>2</td></tr><tr><td>178</td><td>2</td></tr><tr><td>123</td><td>2</td></tr><tr><td>174</td><td>2</td></tr><tr><td>175</td><td>2</td></tr><tr><td>211</td><td>2</td></tr><tr><td>182</td><td>2</td></tr><tr><td>159</td><td>2</td></tr><tr><td>160</td><td>2</td></tr><tr><td>162</td><td>2</td></tr><tr><td>336</td><td>2</td></tr><tr><td>339</td><td>2</td></tr><tr><td>347</td><td>2</td></tr><tr><td>351</td><td>2</td></tr><tr><td>356</td><td>2</td></tr><tr><td>358</td><td>2</td></tr><tr><td>306</td><td>2</td></tr><tr><td>296</td><td>2</td></tr><tr><td>298</td><td>2</td></tr><tr><td>318</td><td>2</td></tr><tr><td>319</td><td>1</td></tr><tr><td>300</td><td>1</td></tr><tr><td>304</td><td>1</td></tr><tr><td>327</td><td>1</td></tr><tr><td>330</td><td>1</td></tr><tr><td>331</td><td>1</td></tr><tr><td>333</td><td>1</td></tr><tr><td>334</td><td>1</td></tr><tr><td>335</td><td>1</td></tr><tr><td>297</td><td>1</td></tr><tr><td>294</td><td>1</td></tr><tr><td>308</td><td>1</td></tr><tr><td>310</td><td>1</td></tr><tr><td>311</td><td>1</td></tr><tr><td>315</td><td>1</td></tr><tr><td>317</td><td>1</td></tr><tr><td>359</td><td>1</td></tr><tr><td>360</td><td>1</td></tr><tr><td>357</td><td>1</td></tr><tr><td>355</td><td>1</td></tr><tr><td>349</td><td>1</td></tr><tr><td>350</td><td>1</td></tr><tr><td>341</td><td>1</td></tr><tr><td>343</td><td>1</td></tr><tr><td>344</td><td>1</td></tr><tr><td>345</td><td>1</td></tr><tr><td>346</td><td>1</td></tr><tr><td>337</td><td>1</td></tr><tr><td>322</td><td>1</td></tr><tr><td>323</td><td>1</td></tr><tr><td>163</td><td>1</td></tr><tr><td>164</td><td>1</td></tr><tr><td>167</td><td>1</td></tr><tr><td>170</td><td>1</td></tr><tr><td>172</td><td>1</td></tr><tr><td>173</td><td>1</td></tr><tr><td>183</td><td>1</td></tr><tr><td>184</td><td>1</td></tr><tr><td>187</td><td>1</td></tr><tr><td>188</td><td>1</td></tr><tr><td>189</td><td>1</td></tr><tr><td>190</td><td>1</td></tr><tr><td>192</td><td>1</td></tr><tr><td>216</td><td>1</td></tr><tr><td>219</td><td>1</td></tr><tr><td>201</td><td>1</td></tr><tr><td>203</td><td>1</td></tr><tr><td>204</td><td>1</td></tr><tr><td>177</td><td>1</td></tr><tr><td>125</td><td>1</td></tr><tr><td>180</td><td>1</td></tr><tr><td>197</td><td>1</td></tr><tr><td>254</td><td>1</td></tr><tr><td>252</td><td>1</td></tr><tr><td>248</td><td>1</td></tr><tr><td>244</td><td>1</td></tr><tr><td>246</td><td>1</td></tr><tr><td>207</td><td>1</td></tr><tr><td>237</td><td>1</td></tr><tr><td>239</td><td>1</td></tr><tr><td>241</td><td>1</td></tr><tr><td>276</td><td>1</td></tr><tr><td>277</td><td>1</td></tr><tr><td>278</td><td>1</td></tr><tr><td>279</td><td>1</td></tr><tr><td>267</td><td>1</td></tr><tr><td>268</td><td>1</td></tr><tr><td>269</td><td>1</td></tr><tr><td>273</td><td>1</td></tr><tr><td>285</td><td>1</td></tr><tr><td>286</td><td>1</td></tr><tr><td>259</td><td>1</td></tr><tr><td>261</td><td>1</td></tr><tr><td>288</td><td>1</td></tr><tr><td>127</td><td>1</td></tr><tr><td>129</td><td>1</td></tr><tr><td>131</td><td>1</td></tr><tr><td>133</td><td>1</td></tr><tr><td>111</td><td>1</td></tr><tr><td>118</td><td>1</td></tr><tr><td>119</td><td>1</td></tr><tr><td>157</td><td>1</td></tr><tr><td>138</td><td>1</td></tr><tr><td>141</td><td>1</td></tr><tr><td>144</td><td>1</td></tr><tr><td>145</td><td>1</td></tr><tr><td>149</td><td>1</td></tr><tr><td>151</td><td>1</td></tr><tr><td>93</td><td>1</td></tr><tr><td>95</td><td>1</td></tr><tr><td>97</td><td>1</td></tr><tr><td>100</td><td>1</td></tr><tr><td>101</td><td>1</td></tr><tr><td>102</td><td>1</td></tr><tr><td>76</td><td>1</td></tr><tr><td>83</td><td>1</td></tr><tr><td>87</td><td>1</td></tr><tr><td>80</td><td>1</td></tr><tr><td>81</td><td>1</td></tr><tr><td>65</td><td>1</td></tr><tr><td>67</td><td>1</td></tr><tr><td>72</td><td>1</td></tr><tr><td>43</td><td>1</td></tr><tr><td>46</td><td>1</td></tr><tr><td>50</td><td>1</td></tr><tr><td>51</td><td>1</td></tr><tr><td>52</td><td>1</td></tr><tr><td>53</td><td>1</td></tr><tr><td>56</td><td>1</td></tr><tr><td>59</td><td>1</td></tr><tr><td>60</td><td>1</td></tr><tr><td>8</td><td>1</td></tr><tr><td>10</td><td>1</td></tr><tr><td>3</td><td>1</td></tr><tr><td>13</td><td>1</td></tr><tr><td>17</td><td>1</td></tr><tr><td>24</td><td>1</td></tr><tr><td>25</td><td>1</td></tr><tr><td>26</td><td>1</td></tr><tr><td>31</td><td>1</td></tr><tr><td>32</td><td>1</td></tr><tr><td>33</td><td>1</td></tr><tr><td>35</td><td>1</td></tr><tr><td>36</td><td>1</td></tr><tr><td>37</td><td>1</td></tr><tr><td>39</td><td>1</td></tr><tr><td>40</td><td>1</td></tr></table>"
                    },
                    "metadata": {}
                }
            ],
            "execution_count": 4
        },
        {
            "cell_type": "code",
            "source": [
                "SELECT CustomerID, COUNT(*) AS SalesCount\n",
                "FROM Sales\n",
                "GROUP BY CustomerID\n",
                "ORDER BY SalesCount DESC;"
            ],
            "metadata": {
                "azdata_cell_guid": "9f7fbd7b-3177-42d9-bc54-0a340b66a417",
                "language": "python"
            },
            "outputs": [
                {
                    "output_type": "display_data",
                    "data": {
                        "text/html": "(200 rows affected)"
                    },
                    "metadata": {}
                },
                {
                    "output_type": "display_data",
                    "data": {
                        "text/html": "Total execution time: 00:00:00.009"
                    },
                    "metadata": {}
                },
                {
                    "output_type": "execute_result",
                    "execution_count": 3,
                    "data": {
                        "application/vnd.dataresource+json": {
                            "schema": {
                                "fields": [
                                    {
                                        "name": "CustomerID"
                                    },
                                    {
                                        "name": "SalesCount"
                                    }
                                ]
                            },
                            "data": [
                                {
                                    "0": "42",
                                    "1": "4"
                                },
                                {
                                    "0": "134",
                                    "1": "4"
                                },
                                {
                                    "0": "181",
                                    "1": "4"
                                },
                                {
                                    "0": "200",
                                    "1": "4"
                                },
                                {
                                    "0": "324",
                                    "1": "4"
                                },
                                {
                                    "0": "292",
                                    "1": "3"
                                },
                                {
                                    "0": "293",
                                    "1": "3"
                                },
                                {
                                    "0": "305",
                                    "1": "3"
                                },
                                {
                                    "0": "321",
                                    "1": "3"
                                },
                                {
                                    "0": "199",
                                    "1": "3"
                                },
                                {
                                    "0": "210",
                                    "1": "3"
                                },
                                {
                                    "0": "194",
                                    "1": "3"
                                },
                                {
                                    "0": "196",
                                    "1": "3"
                                },
                                {
                                    "0": "227",
                                    "1": "3"
                                },
                                {
                                    "0": "287",
                                    "1": "3"
                                },
                                {
                                    "0": "77",
                                    "1": "3"
                                },
                                {
                                    "0": "78",
                                    "1": "3"
                                },
                                {
                                    "0": "82",
                                    "1": "3"
                                },
                                {
                                    "0": "18",
                                    "1": "3"
                                },
                                {
                                    "0": "49",
                                    "1": "3"
                                },
                                {
                                    "0": "14",
                                    "1": "3"
                                },
                                {
                                    "0": "20",
                                    "1": "3"
                                },
                                {
                                    "0": "15",
                                    "1": "2"
                                },
                                {
                                    "0": "12",
                                    "1": "2"
                                },
                                {
                                    "0": "1",
                                    "1": "2"
                                },
                                {
                                    "0": "4",
                                    "1": "2"
                                },
                                {
                                    "0": "19",
                                    "1": "2"
                                },
                                {
                                    "0": "64",
                                    "1": "2"
                                },
                                {
                                    "0": "75",
                                    "1": "2"
                                },
                                {
                                    "0": "88",
                                    "1": "2"
                                },
                                {
                                    "0": "92",
                                    "1": "2"
                                },
                                {
                                    "0": "153",
                                    "1": "2"
                                },
                                {
                                    "0": "154",
                                    "1": "2"
                                },
                                {
                                    "0": "155",
                                    "1": "2"
                                },
                                {
                                    "0": "107",
                                    "1": "2"
                                },
                                {
                                    "0": "108",
                                    "1": "2"
                                },
                                {
                                    "0": "110",
                                    "1": "2"
                                },
                                {
                                    "0": "126",
                                    "1": "2"
                                },
                                {
                                    "0": "257",
                                    "1": "2"
                                },
                                {
                                    "0": "282",
                                    "1": "2"
                                },
                                {
                                    "0": "284",
                                    "1": "2"
                                },
                                {
                                    "0": "262",
                                    "1": "2"
                                },
                                {
                                    "0": "264",
                                    "1": "2"
                                },
                                {
                                    "0": "275",
                                    "1": "2"
                                },
                                {
                                    "0": "234",
                                    "1": "2"
                                },
                                {
                                    "0": "236",
                                    "1": "2"
                                },
                                {
                                    "0": "205",
                                    "1": "2"
                                },
                                {
                                    "0": "220",
                                    "1": "2"
                                },
                                {
                                    "0": "221",
                                    "1": "2"
                                },
                                {
                                    "0": "224",
                                    "1": "2"
                                },
                                {
                                    "0": "243",
                                    "1": "2"
                                },
                                {
                                    "0": "247",
                                    "1": "2"
                                },
                                {
                                    "0": "250",
                                    "1": "2"
                                },
                                {
                                    "0": "253",
                                    "1": "2"
                                },
                                {
                                    "0": "178",
                                    "1": "2"
                                },
                                {
                                    "0": "123",
                                    "1": "2"
                                },
                                {
                                    "0": "174",
                                    "1": "2"
                                },
                                {
                                    "0": "175",
                                    "1": "2"
                                },
                                {
                                    "0": "211",
                                    "1": "2"
                                },
                                {
                                    "0": "182",
                                    "1": "2"
                                },
                                {
                                    "0": "159",
                                    "1": "2"
                                },
                                {
                                    "0": "160",
                                    "1": "2"
                                },
                                {
                                    "0": "162",
                                    "1": "2"
                                },
                                {
                                    "0": "336",
                                    "1": "2"
                                },
                                {
                                    "0": "339",
                                    "1": "2"
                                },
                                {
                                    "0": "347",
                                    "1": "2"
                                },
                                {
                                    "0": "351",
                                    "1": "2"
                                },
                                {
                                    "0": "356",
                                    "1": "2"
                                },
                                {
                                    "0": "358",
                                    "1": "2"
                                },
                                {
                                    "0": "306",
                                    "1": "2"
                                },
                                {
                                    "0": "296",
                                    "1": "2"
                                },
                                {
                                    "0": "298",
                                    "1": "2"
                                },
                                {
                                    "0": "318",
                                    "1": "2"
                                },
                                {
                                    "0": "319",
                                    "1": "1"
                                },
                                {
                                    "0": "300",
                                    "1": "1"
                                },
                                {
                                    "0": "304",
                                    "1": "1"
                                },
                                {
                                    "0": "327",
                                    "1": "1"
                                },
                                {
                                    "0": "330",
                                    "1": "1"
                                },
                                {
                                    "0": "331",
                                    "1": "1"
                                },
                                {
                                    "0": "333",
                                    "1": "1"
                                },
                                {
                                    "0": "334",
                                    "1": "1"
                                },
                                {
                                    "0": "335",
                                    "1": "1"
                                },
                                {
                                    "0": "297",
                                    "1": "1"
                                },
                                {
                                    "0": "294",
                                    "1": "1"
                                },
                                {
                                    "0": "308",
                                    "1": "1"
                                },
                                {
                                    "0": "310",
                                    "1": "1"
                                },
                                {
                                    "0": "311",
                                    "1": "1"
                                },
                                {
                                    "0": "315",
                                    "1": "1"
                                },
                                {
                                    "0": "317",
                                    "1": "1"
                                },
                                {
                                    "0": "359",
                                    "1": "1"
                                },
                                {
                                    "0": "360",
                                    "1": "1"
                                },
                                {
                                    "0": "357",
                                    "1": "1"
                                },
                                {
                                    "0": "355",
                                    "1": "1"
                                },
                                {
                                    "0": "349",
                                    "1": "1"
                                },
                                {
                                    "0": "350",
                                    "1": "1"
                                },
                                {
                                    "0": "341",
                                    "1": "1"
                                },
                                {
                                    "0": "343",
                                    "1": "1"
                                },
                                {
                                    "0": "344",
                                    "1": "1"
                                },
                                {
                                    "0": "345",
                                    "1": "1"
                                },
                                {
                                    "0": "346",
                                    "1": "1"
                                },
                                {
                                    "0": "337",
                                    "1": "1"
                                },
                                {
                                    "0": "322",
                                    "1": "1"
                                },
                                {
                                    "0": "323",
                                    "1": "1"
                                },
                                {
                                    "0": "163",
                                    "1": "1"
                                },
                                {
                                    "0": "164",
                                    "1": "1"
                                },
                                {
                                    "0": "167",
                                    "1": "1"
                                },
                                {
                                    "0": "170",
                                    "1": "1"
                                },
                                {
                                    "0": "172",
                                    "1": "1"
                                },
                                {
                                    "0": "173",
                                    "1": "1"
                                },
                                {
                                    "0": "183",
                                    "1": "1"
                                },
                                {
                                    "0": "184",
                                    "1": "1"
                                },
                                {
                                    "0": "187",
                                    "1": "1"
                                },
                                {
                                    "0": "188",
                                    "1": "1"
                                },
                                {
                                    "0": "189",
                                    "1": "1"
                                },
                                {
                                    "0": "190",
                                    "1": "1"
                                },
                                {
                                    "0": "192",
                                    "1": "1"
                                },
                                {
                                    "0": "216",
                                    "1": "1"
                                },
                                {
                                    "0": "219",
                                    "1": "1"
                                },
                                {
                                    "0": "201",
                                    "1": "1"
                                },
                                {
                                    "0": "203",
                                    "1": "1"
                                },
                                {
                                    "0": "204",
                                    "1": "1"
                                },
                                {
                                    "0": "177",
                                    "1": "1"
                                },
                                {
                                    "0": "125",
                                    "1": "1"
                                },
                                {
                                    "0": "180",
                                    "1": "1"
                                },
                                {
                                    "0": "197",
                                    "1": "1"
                                },
                                {
                                    "0": "254",
                                    "1": "1"
                                },
                                {
                                    "0": "252",
                                    "1": "1"
                                },
                                {
                                    "0": "248",
                                    "1": "1"
                                },
                                {
                                    "0": "244",
                                    "1": "1"
                                },
                                {
                                    "0": "246",
                                    "1": "1"
                                },
                                {
                                    "0": "207",
                                    "1": "1"
                                },
                                {
                                    "0": "237",
                                    "1": "1"
                                },
                                {
                                    "0": "239",
                                    "1": "1"
                                },
                                {
                                    "0": "241",
                                    "1": "1"
                                },
                                {
                                    "0": "276",
                                    "1": "1"
                                },
                                {
                                    "0": "277",
                                    "1": "1"
                                },
                                {
                                    "0": "278",
                                    "1": "1"
                                },
                                {
                                    "0": "279",
                                    "1": "1"
                                },
                                {
                                    "0": "267",
                                    "1": "1"
                                },
                                {
                                    "0": "268",
                                    "1": "1"
                                },
                                {
                                    "0": "269",
                                    "1": "1"
                                },
                                {
                                    "0": "273",
                                    "1": "1"
                                },
                                {
                                    "0": "285",
                                    "1": "1"
                                },
                                {
                                    "0": "286",
                                    "1": "1"
                                },
                                {
                                    "0": "259",
                                    "1": "1"
                                },
                                {
                                    "0": "261",
                                    "1": "1"
                                },
                                {
                                    "0": "288",
                                    "1": "1"
                                },
                                {
                                    "0": "127",
                                    "1": "1"
                                },
                                {
                                    "0": "129",
                                    "1": "1"
                                },
                                {
                                    "0": "131",
                                    "1": "1"
                                },
                                {
                                    "0": "133",
                                    "1": "1"
                                },
                                {
                                    "0": "111",
                                    "1": "1"
                                },
                                {
                                    "0": "118",
                                    "1": "1"
                                },
                                {
                                    "0": "119",
                                    "1": "1"
                                },
                                {
                                    "0": "157",
                                    "1": "1"
                                },
                                {
                                    "0": "138",
                                    "1": "1"
                                },
                                {
                                    "0": "141",
                                    "1": "1"
                                },
                                {
                                    "0": "144",
                                    "1": "1"
                                },
                                {
                                    "0": "145",
                                    "1": "1"
                                },
                                {
                                    "0": "149",
                                    "1": "1"
                                },
                                {
                                    "0": "151",
                                    "1": "1"
                                },
                                {
                                    "0": "93",
                                    "1": "1"
                                },
                                {
                                    "0": "95",
                                    "1": "1"
                                },
                                {
                                    "0": "97",
                                    "1": "1"
                                },
                                {
                                    "0": "100",
                                    "1": "1"
                                },
                                {
                                    "0": "101",
                                    "1": "1"
                                },
                                {
                                    "0": "102",
                                    "1": "1"
                                },
                                {
                                    "0": "76",
                                    "1": "1"
                                },
                                {
                                    "0": "83",
                                    "1": "1"
                                },
                                {
                                    "0": "87",
                                    "1": "1"
                                },
                                {
                                    "0": "80",
                                    "1": "1"
                                },
                                {
                                    "0": "81",
                                    "1": "1"
                                },
                                {
                                    "0": "65",
                                    "1": "1"
                                },
                                {
                                    "0": "67",
                                    "1": "1"
                                },
                                {
                                    "0": "72",
                                    "1": "1"
                                },
                                {
                                    "0": "43",
                                    "1": "1"
                                },
                                {
                                    "0": "46",
                                    "1": "1"
                                },
                                {
                                    "0": "50",
                                    "1": "1"
                                },
                                {
                                    "0": "51",
                                    "1": "1"
                                },
                                {
                                    "0": "52",
                                    "1": "1"
                                },
                                {
                                    "0": "53",
                                    "1": "1"
                                },
                                {
                                    "0": "56",
                                    "1": "1"
                                },
                                {
                                    "0": "59",
                                    "1": "1"
                                },
                                {
                                    "0": "60",
                                    "1": "1"
                                },
                                {
                                    "0": "8",
                                    "1": "1"
                                },
                                {
                                    "0": "10",
                                    "1": "1"
                                },
                                {
                                    "0": "3",
                                    "1": "1"
                                },
                                {
                                    "0": "13",
                                    "1": "1"
                                },
                                {
                                    "0": "17",
                                    "1": "1"
                                },
                                {
                                    "0": "24",
                                    "1": "1"
                                },
                                {
                                    "0": "25",
                                    "1": "1"
                                },
                                {
                                    "0": "26",
                                    "1": "1"
                                },
                                {
                                    "0": "31",
                                    "1": "1"
                                },
                                {
                                    "0": "32",
                                    "1": "1"
                                },
                                {
                                    "0": "33",
                                    "1": "1"
                                },
                                {
                                    "0": "35",
                                    "1": "1"
                                },
                                {
                                    "0": "36",
                                    "1": "1"
                                },
                                {
                                    "0": "37",
                                    "1": "1"
                                },
                                {
                                    "0": "39",
                                    "1": "1"
                                },
                                {
                                    "0": "40",
                                    "1": "1"
                                }
                            ]
                        },
                        "text/html": "<table><tr><th>CustomerID</th><th>SalesCount</th></tr><tr><td>42</td><td>4</td></tr><tr><td>134</td><td>4</td></tr><tr><td>181</td><td>4</td></tr><tr><td>200</td><td>4</td></tr><tr><td>324</td><td>4</td></tr><tr><td>292</td><td>3</td></tr><tr><td>293</td><td>3</td></tr><tr><td>305</td><td>3</td></tr><tr><td>321</td><td>3</td></tr><tr><td>199</td><td>3</td></tr><tr><td>210</td><td>3</td></tr><tr><td>194</td><td>3</td></tr><tr><td>196</td><td>3</td></tr><tr><td>227</td><td>3</td></tr><tr><td>287</td><td>3</td></tr><tr><td>77</td><td>3</td></tr><tr><td>78</td><td>3</td></tr><tr><td>82</td><td>3</td></tr><tr><td>18</td><td>3</td></tr><tr><td>49</td><td>3</td></tr><tr><td>14</td><td>3</td></tr><tr><td>20</td><td>3</td></tr><tr><td>15</td><td>2</td></tr><tr><td>12</td><td>2</td></tr><tr><td>1</td><td>2</td></tr><tr><td>4</td><td>2</td></tr><tr><td>19</td><td>2</td></tr><tr><td>64</td><td>2</td></tr><tr><td>75</td><td>2</td></tr><tr><td>88</td><td>2</td></tr><tr><td>92</td><td>2</td></tr><tr><td>153</td><td>2</td></tr><tr><td>154</td><td>2</td></tr><tr><td>155</td><td>2</td></tr><tr><td>107</td><td>2</td></tr><tr><td>108</td><td>2</td></tr><tr><td>110</td><td>2</td></tr><tr><td>126</td><td>2</td></tr><tr><td>257</td><td>2</td></tr><tr><td>282</td><td>2</td></tr><tr><td>284</td><td>2</td></tr><tr><td>262</td><td>2</td></tr><tr><td>264</td><td>2</td></tr><tr><td>275</td><td>2</td></tr><tr><td>234</td><td>2</td></tr><tr><td>236</td><td>2</td></tr><tr><td>205</td><td>2</td></tr><tr><td>220</td><td>2</td></tr><tr><td>221</td><td>2</td></tr><tr><td>224</td><td>2</td></tr><tr><td>243</td><td>2</td></tr><tr><td>247</td><td>2</td></tr><tr><td>250</td><td>2</td></tr><tr><td>253</td><td>2</td></tr><tr><td>178</td><td>2</td></tr><tr><td>123</td><td>2</td></tr><tr><td>174</td><td>2</td></tr><tr><td>175</td><td>2</td></tr><tr><td>211</td><td>2</td></tr><tr><td>182</td><td>2</td></tr><tr><td>159</td><td>2</td></tr><tr><td>160</td><td>2</td></tr><tr><td>162</td><td>2</td></tr><tr><td>336</td><td>2</td></tr><tr><td>339</td><td>2</td></tr><tr><td>347</td><td>2</td></tr><tr><td>351</td><td>2</td></tr><tr><td>356</td><td>2</td></tr><tr><td>358</td><td>2</td></tr><tr><td>306</td><td>2</td></tr><tr><td>296</td><td>2</td></tr><tr><td>298</td><td>2</td></tr><tr><td>318</td><td>2</td></tr><tr><td>319</td><td>1</td></tr><tr><td>300</td><td>1</td></tr><tr><td>304</td><td>1</td></tr><tr><td>327</td><td>1</td></tr><tr><td>330</td><td>1</td></tr><tr><td>331</td><td>1</td></tr><tr><td>333</td><td>1</td></tr><tr><td>334</td><td>1</td></tr><tr><td>335</td><td>1</td></tr><tr><td>297</td><td>1</td></tr><tr><td>294</td><td>1</td></tr><tr><td>308</td><td>1</td></tr><tr><td>310</td><td>1</td></tr><tr><td>311</td><td>1</td></tr><tr><td>315</td><td>1</td></tr><tr><td>317</td><td>1</td></tr><tr><td>359</td><td>1</td></tr><tr><td>360</td><td>1</td></tr><tr><td>357</td><td>1</td></tr><tr><td>355</td><td>1</td></tr><tr><td>349</td><td>1</td></tr><tr><td>350</td><td>1</td></tr><tr><td>341</td><td>1</td></tr><tr><td>343</td><td>1</td></tr><tr><td>344</td><td>1</td></tr><tr><td>345</td><td>1</td></tr><tr><td>346</td><td>1</td></tr><tr><td>337</td><td>1</td></tr><tr><td>322</td><td>1</td></tr><tr><td>323</td><td>1</td></tr><tr><td>163</td><td>1</td></tr><tr><td>164</td><td>1</td></tr><tr><td>167</td><td>1</td></tr><tr><td>170</td><td>1</td></tr><tr><td>172</td><td>1</td></tr><tr><td>173</td><td>1</td></tr><tr><td>183</td><td>1</td></tr><tr><td>184</td><td>1</td></tr><tr><td>187</td><td>1</td></tr><tr><td>188</td><td>1</td></tr><tr><td>189</td><td>1</td></tr><tr><td>190</td><td>1</td></tr><tr><td>192</td><td>1</td></tr><tr><td>216</td><td>1</td></tr><tr><td>219</td><td>1</td></tr><tr><td>201</td><td>1</td></tr><tr><td>203</td><td>1</td></tr><tr><td>204</td><td>1</td></tr><tr><td>177</td><td>1</td></tr><tr><td>125</td><td>1</td></tr><tr><td>180</td><td>1</td></tr><tr><td>197</td><td>1</td></tr><tr><td>254</td><td>1</td></tr><tr><td>252</td><td>1</td></tr><tr><td>248</td><td>1</td></tr><tr><td>244</td><td>1</td></tr><tr><td>246</td><td>1</td></tr><tr><td>207</td><td>1</td></tr><tr><td>237</td><td>1</td></tr><tr><td>239</td><td>1</td></tr><tr><td>241</td><td>1</td></tr><tr><td>276</td><td>1</td></tr><tr><td>277</td><td>1</td></tr><tr><td>278</td><td>1</td></tr><tr><td>279</td><td>1</td></tr><tr><td>267</td><td>1</td></tr><tr><td>268</td><td>1</td></tr><tr><td>269</td><td>1</td></tr><tr><td>273</td><td>1</td></tr><tr><td>285</td><td>1</td></tr><tr><td>286</td><td>1</td></tr><tr><td>259</td><td>1</td></tr><tr><td>261</td><td>1</td></tr><tr><td>288</td><td>1</td></tr><tr><td>127</td><td>1</td></tr><tr><td>129</td><td>1</td></tr><tr><td>131</td><td>1</td></tr><tr><td>133</td><td>1</td></tr><tr><td>111</td><td>1</td></tr><tr><td>118</td><td>1</td></tr><tr><td>119</td><td>1</td></tr><tr><td>157</td><td>1</td></tr><tr><td>138</td><td>1</td></tr><tr><td>141</td><td>1</td></tr><tr><td>144</td><td>1</td></tr><tr><td>145</td><td>1</td></tr><tr><td>149</td><td>1</td></tr><tr><td>151</td><td>1</td></tr><tr><td>93</td><td>1</td></tr><tr><td>95</td><td>1</td></tr><tr><td>97</td><td>1</td></tr><tr><td>100</td><td>1</td></tr><tr><td>101</td><td>1</td></tr><tr><td>102</td><td>1</td></tr><tr><td>76</td><td>1</td></tr><tr><td>83</td><td>1</td></tr><tr><td>87</td><td>1</td></tr><tr><td>80</td><td>1</td></tr><tr><td>81</td><td>1</td></tr><tr><td>65</td><td>1</td></tr><tr><td>67</td><td>1</td></tr><tr><td>72</td><td>1</td></tr><tr><td>43</td><td>1</td></tr><tr><td>46</td><td>1</td></tr><tr><td>50</td><td>1</td></tr><tr><td>51</td><td>1</td></tr><tr><td>52</td><td>1</td></tr><tr><td>53</td><td>1</td></tr><tr><td>56</td><td>1</td></tr><tr><td>59</td><td>1</td></tr><tr><td>60</td><td>1</td></tr><tr><td>8</td><td>1</td></tr><tr><td>10</td><td>1</td></tr><tr><td>3</td><td>1</td></tr><tr><td>13</td><td>1</td></tr><tr><td>17</td><td>1</td></tr><tr><td>24</td><td>1</td></tr><tr><td>25</td><td>1</td></tr><tr><td>26</td><td>1</td></tr><tr><td>31</td><td>1</td></tr><tr><td>32</td><td>1</td></tr><tr><td>33</td><td>1</td></tr><tr><td>35</td><td>1</td></tr><tr><td>36</td><td>1</td></tr><tr><td>37</td><td>1</td></tr><tr><td>39</td><td>1</td></tr><tr><td>40</td><td>1</td></tr></table>"
                    },
                    "metadata": {
                        "azdata_chartOptions": {
                            "type": "horizontalBar",
                            "dataDirection": "vertical",
                            "columnsAsLabels": true,
                            "labelFirstColumn": false,
                            "legendPosition": "top",
                            "yAxisLabel": "CustomerID",
                            "xAxisLabel": "Count of sales",
                            "xAxisMin": 0
                        }
                    }
                }
            ],
            "execution_count": 3
        },
        {
            "cell_type": "markdown",
            "source": [
                "This search will produce a list of customer IDs together with each customer's sales totals, listed from highest to lowest sales total.\n",
                "\n",
                "  \n",
                "\n",
                "You might be able to draw the following conclusions or patterns from this data:\n",
                "\n",
                "  \n",
                "\n",
                "Which clients are purchasing the most and which clients are purchasing the least\n",
                "\n",
                "  \n",
                "\n",
                "Whether particular clients have a tendency to make several purchases quickly or if they reserve larger purchases for less regular occasions.\n",
                "\n",
                "  \n",
                "\n",
                "If there is a relationship between a customer's volume of sales and the sum of those sales (e.g., do consumers who make more purchases typically spend more money overall)?\n",
                "\n",
                "  \n",
                "\n",
                "Additionally, you might utilise this data to determine which consumers would make appropriate targets for loyalty programmes, marketing campaigns, or efforts to upsell or cross-sell.\n",
                "\n",
                "  \n",
                "\n",
                "Remember that this query only provides you with information about client sales; it does not provide any information about the things being sold or the personnel who performed the sales. You might want to think about utilising inner joins to combine the Sales table with the Products and Employees tables and adding other columns to your SELECT statement to include data from those tables to get a more comprehensive picture of your sales data."
            ],
            "metadata": {
                "language": "sql",
                "azdata_cell_guid": "982b300b-791b-4d9c-8528-d486eb998bc6"
            },
            "attachments": {}
        },
        {
            "cell_type": "markdown",
            "source": [
                "**<u>Sales pairgrid</u>**"
            ],
            "metadata": {
                "azdata_cell_guid": "9feb7c9e-4c78-4bd9-8461-0ff17d8f6571"
            },
            "attachments": {}
        },
        {
            "cell_type": "code",
            "source": [
                "import pandas as pd\n",
                "\n",
                "import seaborn as sns\n",
                "\n",
                "import matplotlib.pyplot as plt\n",
                "\n",
                "# Load the Customers data into a dataframe\n",
                "customers_df = pd.read_csv(\"/Users/maz/Library/Mobile Documents/com~apple~CloudDocs/Documents/Education/Digital Skills/Data /Level 4 Data Analytics/Week 7/Project/csv/Customers.csv\")\n",
                "\n",
                "# Load the Sales data into a dataframe\n",
                "sales_df = pd.read_csv(\"/Users/maz/Library/Mobile Documents/com~apple~CloudDocs/Documents/Education/Digital Skills/Data /Level 4 Data Analytics/Week 7/Project/csv/Sales.csv\")\n",
                "\n",
                "# Load the Employees data into a dataframe\n",
                "employees_df = pd.read_csv(\"/Users/maz/Library/Mobile Documents/com~apple~CloudDocs/Documents/Education/Digital Skills/Data /Level 4 Data Analytics/Week 7/Project/csv/Employees.csv\")\n",
                "\n",
                "# Load the Products data into a dataframe\n",
                "products_df = pd.read_csv(\"/Users/maz/Library/Mobile Documents/com~apple~CloudDocs/Documents/Education/Digital Skills/Data /Level 4 Data Analytics/Week 7/Project/csv/Products.csv\")\n",
                "\n",
                "import seaborn as sns\n",
                "\n",
                "# Create a pair grid visualization using the Customers data\n",
                "g = sns.PairGrid(sales_df)\n",
                "g.map(plt.scatter)\n",
                "\n",
                "# Show the plot\n",
                "plt.show()"
            ],
            "metadata": {
                "azdata_cell_guid": "49cc30a0-5499-4a22-a046-2cb651de2100",
                "language": "python"
            },
            "outputs": [
                {
                    "data": {
                        "text/plain": "<Figure size 1250x1250 with 25 Axes>",
                        "image/png": "[encoded data removed]"
                    },
                    "metadata": {},
                    "output_type": "display_data"
                }
            ],
            "execution_count": 1
        },
        {
            "cell_type": "markdown",
            "source": [
                "The organisation can examine relationships between various variables in the \"Sales\" data by using the pair grid visualisation. The business might, for instance, examine the relationship between \"Quantity\" of sold goods and \"CustomerID\" or \"SalesPersonID\". This visualisation could be used by the business to spot any patterns or trends in the data."
            ],
            "metadata": {
                "azdata_cell_guid": "61ed443b-3c6d-4647-a15e-6368621393fb"
            },
            "attachments": {}
        }
    ]
}