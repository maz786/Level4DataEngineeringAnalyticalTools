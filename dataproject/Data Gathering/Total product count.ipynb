{
    "metadata": {
        "kernelspec": {
            "name": "SQL",
            "display_name": "SQL",
            "language": "sql"
        },
        "language_info": {
            "name": "sql",
            "version": ""
        }
    },
    "nbformat_minor": 2,
    "nbformat": 4,
    "cells": [
        {
            "cell_type": "markdown",
            "source": [
                "**<u>Total product count</u>**"
            ],
            "metadata": {
                "azdata_cell_guid": "a03baacf-c83a-417f-a4aa-06250aa7c99a"
            },
            "attachments": {}
        },
        {
            "cell_type": "code",
            "source": [
                "SELECT COUNT(Products.Name)\n",
                "FROM Sales\n",
                "INNER JOIN Products ON Sales.ProductID = Products.ProductID\n",
                "WHERE Products.Name LIKE '%Mountain%'\n",
                "OR Products.Name LIKE '%Frame%'"
            ],
            "metadata": {
                "azdata_cell_guid": "2522770e-bde3-4aa9-b0a7-5f8d50b2b8d4",
                "language": "sql"
            },
            "outputs": [
                {
                    "output_type": "display_data",
                    "data": {
                        "text/html": "(1 row affected)"
                    },
                    "metadata": {}
                },
                {
                    "output_type": "display_data",
                    "data": {
                        "text/html": "Total execution time: 00:00:00.047"
                    },
                    "metadata": {}
                },
                {
                    "output_type": "execute_result",
                    "execution_count": 1,
                    "data": {
                        "application/vnd.dataresource+json": {
                            "schema": {
                                "fields": [
                                    {
                                        "name": "(No column name)"
                                    }
                                ]
                            },
                            "data": [
                                {
                                    "0": "90"
                                }
                            ]
                        },
                        "text/html": "<table><tr><th>(No column name)</th></tr><tr><td>90</td></tr></table>"
                    },
                    "metadata": {}
                }
            ],
            "execution_count": 1
        },
        {
            "cell_type": "markdown",
            "source": [
                "By running this query, you would be able to get information on the sales of bike frames and mountain bikes, which would be helpful in addressing the first part of the report request, which asks you to demonstrate the performance of the bike product category's sales (of frames and mountain bikes).\n",
                "\n",
                "  \n",
                "\n",
                "You may use data mining techniques to examine the information in the Sales and Items tables to find trends and patterns in the sales of various bike products in order to respond to the second part of the report request, which is to offer a breakdown of sales by product. On the basis of previous sales data, you may potentially utilise data forecasting techniques to project future sales of various bike items.  \n",
                "\n",
                "  \n",
                "\n",
                "You may utilise data mining and data modelling techniques to find trends in consumer behaviour and purchase behaviours in order to respond to the third half of the report requirement, which is to give data on customer loyalty. For instance, you could use data mining to discover customers who regularly buy bikes from the business and data modelling to determine how likely it is that they will do so in the future.\n",
                "\n",
                "  \n",
                "\n",
                "Then, based on the analysis and revelations gained from the aforementioned methodologies, you might provide suggestions or bring up any problems you believe the business may be facing. For instance, you can see a pattern of dwindling sales in a specific bike product category and urge the company to think about launching new goods or promotions, increasing sales in this category."
            ],
            "metadata": {
                "language": "sql",
                "azdata_cell_guid": "f47f7eb7-544a-4e5f-8bc1-cfc96f20461a"
            },
            "attachments": {}
        },
        {
            "cell_type": "code",
            "source": [
                "SELECT COUNT(Products.Name)\n",
                "FROM Sales\n",
                "INNER JOIN Products ON Sales.ProductID = Products.ProductID\n",
                "WHERE Products.Name LIKE '%Mountain%'\n",
                "OR Products.Name LIKE '%Frame%'"
            ],
            "metadata": {
                "language": "sql",
                "azdata_cell_guid": "de3d79a9-fd77-4df5-bcb4-65522621c774"
            },
            "outputs": [
                {
                    "output_type": "display_data",
                    "data": {
                        "text/html": "(1 row affected)"
                    },
                    "metadata": {}
                },
                {
                    "output_type": "display_data",
                    "data": {
                        "text/html": "Total execution time: 00:00:00.086"
                    },
                    "metadata": {}
                },
                {
                    "output_type": "execute_result",
                    "execution_count": 1,
                    "data": {
                        "application/vnd.dataresource+json": {
                            "schema": {
                                "fields": [
                                    {
                                        "name": "(No column name)"
                                    }
                                ]
                            },
                            "data": [
                                {
                                    "0": "90"
                                }
                            ]
                        },
                        "text/html": "<table><tr><th>(No column name)</th></tr><tr><td>90</td></tr></table>"
                    },
                    "metadata": {
                        "azdata_chartOptions": {
                            "type": "bar",
                            "dataDirection": "horizontal",
                            "columnsAsLabels": true,
                            "labelFirstColumn": false,
                            "legendPosition": "top"
                        }
                    }
                }
            ],
            "execution_count": 1
        }
    ]
}