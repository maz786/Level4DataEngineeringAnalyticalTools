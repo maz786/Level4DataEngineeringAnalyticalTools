{
    "metadata": {
        "kernelspec": {
            "name": "SQL",
            "display_name": "SQL",
            "language": "sql"
        },
        "language_info": {
            "name": "sql",
            "version": ""
        }
    },
    "nbformat_minor": 2,
    "nbformat": 4,
    "cells": [
        {
            "cell_type": "markdown",
            "source": [
                "**<u>To provide you with a list of products sorted by salesperson last name, together with the total number of sales for each product.</u>**"
            ],
            "metadata": {
                "azdata_cell_guid": "0111408e-6fbb-4db7-a9e9-e9af74dff288"
            },
            "attachments": {}
        },
        {
            "cell_type": "code",
            "source": [
                "SELECT Products.Name, Employees.LastName, SUM(Sales.Quantity) as TotalQuantity\n",
                "FROM Sales\n",
                "INNER JOIN Products ON Sales.ProductID = Products.ProductID\n",
                "INNER JOIN Employees ON Sales.CustomerID = Employees.employeeid\n",
                "GROUP BY Products.Name, Employees.LastName"
            ],
            "metadata": {
                "azdata_cell_guid": "0522781d-2567-44e3-9aa4-74ad4ddf69f7",
                "language": "sql",
                "tags": []
            },
            "outputs": [
                {
                    "output_type": "display_data",
                    "data": {
                        "text/html": "(24 rows affected)"
                    },
                    "metadata": {}
                },
                {
                    "output_type": "display_data",
                    "data": {
                        "text/html": "Total execution time: 00:00:00.031"
                    },
                    "metadata": {}
                },
                {
                    "output_type": "execute_result",
                    "execution_count": 1,
                    "data": {
                        "application/vnd.dataresource+json": {
                            "schema": {
                                "fields": [
                                    {
                                        "name": "Name"
                                    },
                                    {
                                        "name": "LastName"
                                    },
                                    {
                                        "name": "TotalQuantity"
                                    }
                                ]
                            },
                            "data": [
                                {
                                    "0": "HL Road Frame - Black 52",
                                    "1": "Bennet",
                                    "2": "6"
                                },
                                {
                                    "0": "Road-250 Red 44",
                                    "1": "Bennet",
                                    "2": "4"
                                },
                                {
                                    "0": "Fork End",
                                    "1": "Carson",
                                    "2": "6"
                                },
                                {
                                    "0": "HL Touring Frame - Blue 54",
                                    "1": "DeFrance",
                                    "2": "1"
                                },
                                {
                                    "0": "Long-Sleeve Logo Jersey S",
                                    "1": "DeFrance",
                                    "2": "9"
                                },
                                {
                                    "0": "HL Mountain Frame - Black 44",
                                    "1": "Greene",
                                    "2": "6"
                                },
                                {
                                    "0": "Thin-Jam Lock Nut 10",
                                    "1": "Hunter",
                                    "2": "3"
                                },
                                {
                                    "0": "LL Shell",
                                    "1": "Locksley",
                                    "2": "9"
                                },
                                {
                                    "0": "Mountain-500 Silver 52",
                                    "1": "Locksley",
                                    "2": "1"
                                },
                                {
                                    "0": "LL Mountain Tire",
                                    "1": "MacFeather",
                                    "2": "6"
                                },
                                {
                                    "0": "Road Bottle Cage",
                                    "1": "McBadden",
                                    "2": "9"
                                },
                                {
                                    "0": "Road-350-W Yellow 48",
                                    "1": "McBadden",
                                    "2": "2"
                                },
                                {
                                    "0": "Touring-3000 Blue 62",
                                    "1": "McBadden",
                                    "2": "9"
                                },
                                {
                                    "0": "HL Mountain Frame - Silver 44",
                                    "1": "O-Leary",
                                    "2": "8"
                                },
                                {
                                    "0": "Road-150 Red 44",
                                    "1": "O-Leary",
                                    "2": "7"
                                },
                                {
                                    "0": "HL Grip Tape",
                                    "1": "Ringer",
                                    "2": "6"
                                },
                                {
                                    "0": "Lock Nut 18",
                                    "1": "Ringer",
                                    "2": "9"
                                },
                                {
                                    "0": "Long-Sleeve Logo Jersey XL",
                                    "1": "Ringer",
                                    "2": "7"
                                },
                                {
                                    "0": "Road-150 Red 48",
                                    "1": "Ringer",
                                    "2": "5"
                                },
                                {
                                    "0": "Guide Pulley",
                                    "1": "Smith",
                                    "2": "6"
                                },
                                {
                                    "0": "Road-150 Red 52",
                                    "1": "Smith",
                                    "2": "4"
                                },
                                {
                                    "0": "Hex Nut 17",
                                    "1": "Straight",
                                    "2": "9"
                                },
                                {
                                    "0": "Internal Lock Washer 1",
                                    "1": "Straight",
                                    "2": "8"
                                },
                                {
                                    "0": "Mountain-500 Silver 44",
                                    "1": "Straight",
                                    "2": "8"
                                }
                            ]
                        },
                        "text/html": "<table><tr><th>Name</th><th>LastName</th><th>TotalQuantity</th></tr><tr><td>HL Road Frame - Black 52</td><td>Bennet</td><td>6</td></tr><tr><td>Road-250 Red 44</td><td>Bennet</td><td>4</td></tr><tr><td>Fork End</td><td>Carson</td><td>6</td></tr><tr><td>HL Touring Frame - Blue 54</td><td>DeFrance</td><td>1</td></tr><tr><td>Long-Sleeve Logo Jersey S</td><td>DeFrance</td><td>9</td></tr><tr><td>HL Mountain Frame - Black 44</td><td>Greene</td><td>6</td></tr><tr><td>Thin-Jam Lock Nut 10</td><td>Hunter</td><td>3</td></tr><tr><td>LL Shell</td><td>Locksley</td><td>9</td></tr><tr><td>Mountain-500 Silver 52</td><td>Locksley</td><td>1</td></tr><tr><td>LL Mountain Tire</td><td>MacFeather</td><td>6</td></tr><tr><td>Road Bottle Cage</td><td>McBadden</td><td>9</td></tr><tr><td>Road-350-W Yellow 48</td><td>McBadden</td><td>2</td></tr><tr><td>Touring-3000 Blue 62</td><td>McBadden</td><td>9</td></tr><tr><td>HL Mountain Frame - Silver 44</td><td>O-Leary</td><td>8</td></tr><tr><td>Road-150 Red 44</td><td>O-Leary</td><td>7</td></tr><tr><td>HL Grip Tape</td><td>Ringer</td><td>6</td></tr><tr><td>Lock Nut 18</td><td>Ringer</td><td>9</td></tr><tr><td>Long-Sleeve Logo Jersey XL</td><td>Ringer</td><td>7</td></tr><tr><td>Road-150 Red 48</td><td>Ringer</td><td>5</td></tr><tr><td>Guide Pulley</td><td>Smith</td><td>6</td></tr><tr><td>Road-150 Red 52</td><td>Smith</td><td>4</td></tr><tr><td>Hex Nut 17</td><td>Straight</td><td>9</td></tr><tr><td>Internal Lock Washer 1</td><td>Straight</td><td>8</td></tr><tr><td>Mountain-500 Silver 44</td><td>Straight</td><td>8</td></tr></table>"
                    },
                    "metadata": {}
                }
            ],
            "execution_count": 1
        },
        {
            "cell_type": "markdown",
            "source": [
                "Running this query will allow you to get data on the sales performance of different products, as well as the employees who are responsible for those sales. You can use this data to identify trends and patterns in sales activity, such as which products are selling well and which employees are contributing the most to sales.\n",
                "\n",
                "To further analyze this data, you could use data mining techniques to identify relationships and patterns in the data, such as which products tend to be sold together or which employees have the highest sales performance. You could also use forecasting techniques to predict future sales activity, based on historical data and identified trends and patterns.\n",
                "\n",
                "To learn more about the elements that affect sales activity, such as product pricing, marketing initiatives, and consumer demographics, you might also employ data modelling techniques. This might enable you to formulate well-informed suggestions for enhancing sales performance and locating expansion prospects.\n",
                "\n",
                "Overall, this query is a decent starting point for examining sales performance and spotting trends and patterns."
            ],
            "metadata": {
                "azdata_cell_guid": "28f72fe0-0d42-4d5e-83b6-87e980d11514"
            },
            "attachments": {}
        }
    ]
}