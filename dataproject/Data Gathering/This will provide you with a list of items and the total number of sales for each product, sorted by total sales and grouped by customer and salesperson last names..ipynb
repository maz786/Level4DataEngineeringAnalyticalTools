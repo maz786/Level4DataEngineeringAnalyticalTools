{
    "metadata": {
        "kernelspec": {
            "name": "SQL",
            "display_name": "SQL",
            "language": "sql"
        },
        "language_info": {
            "name": "sql",
            "version": ""
        }
    },
    "nbformat_minor": 2,
    "nbformat": 4,
    "cells": [
        {
            "cell_type": "markdown",
            "source": [
                "**<u>This will provide you with a list of items and the total number of sales for each product, sorted by total sales and grouped by customer and salesperson last names.</u>**"
            ],
            "metadata": {
                "azdata_cell_guid": "11434c7d-82a8-4a7a-8d00-ff4c543dbea0"
            },
            "attachments": {}
        },
        {
            "cell_type": "code",
            "source": [
                "SELECT Products.Name, Customers.LastName, Employees.LastName, SUM(Sales.Quantity) as TotalQuantity\n",
                "FROM Sales\n",
                "INNER JOIN Products ON Sales.ProductID = Products.ProductID\n",
                "INNER JOIN Customers ON Sales.CustomerID = Customers.CustomerID\n",
                "INNER JOIN Employees ON Sales.SalesPersonID = Employees.EmployeeID\n",
                "GROUP BY Products.Name, Customers.LastName, Employees.LastName\n",
                "ORDER BY TotalQuantity DESC "
            ],
            "metadata": {
                "azdata_cell_guid": "92df11ab-7e42-46a7-8a7c-3f0c97681b6c",
                "language": "sql"
            },
            "outputs": [
                {
                    "output_type": "display_data",
                    "data": {
                        "text/html": "(299 rows affected)"
                    },
                    "metadata": {}
                },
                {
                    "output_type": "display_data",
                    "data": {
                        "text/html": "Total execution time: 00:00:00.064"
                    },
                    "metadata": {}
                },
                {
                    "output_type": "execute_result",
                    "execution_count": 1,
                    "data": {
                        "application/vnd.dataresource+json": {
                            "schema": {
                                "fields": [
                                    {
                                        "name": "Name"
                                    },
                                    {
                                        "name": "LastName"
                                    },
                                    {
                                        "name": "LastName"
                                    },
                                    {
                                        "name": "TotalQuantity"
                                    }
                                ]
                            },
                            "data": [
                                {
                                    "0": "Chainring",
                                    "1": "Yang",
                                    "2": "Bennet",
                                    "3": "10"
                                },
                                {
                                    "0": "Classic Vest M",
                                    "1": "Yang",
                                    "2": "O-Leary",
                                    "3": "10"
                                },
                                {
                                    "0": "Fork End",
                                    "1": "Yonekura",
                                    "2": "McBadden",
                                    "3": "10"
                                },
                                {
                                    "0": "Hex Nut 22",
                                    "1": "Young",
                                    "2": "Ringer",
                                    "3": "10"
                                },
                                {
                                    "0": "Hex Nut 19",
                                    "1": "Young",
                                    "2": "Locksley",
                                    "3": "10"
                                },
                                {
                                    "0": "HL Headset",
                                    "1": "Yuan",
                                    "2": "Bennet",
                                    "3": "10"
                                },
                                {
                                    "0": "HL Touring Frame - Blue 60",
                                    "1": "Yuan",
                                    "2": "Green",
                                    "3": "10"
                                },
                                {
                                    "0": "HL Touring Frame - Yellow 46",
                                    "1": "Ye",
                                    "2": "Hunter",
                                    "3": "10"
                                },
                                {
                                    "0": "HL Touring Frame - Yellow 60",
                                    "1": "Yuhasz",
                                    "2": "DeFrance",
                                    "3": "10"
                                },
                                {
                                    "0": "Internal Lock Washer 1",
                                    "1": "Yuan",
                                    "2": "Locksley",
                                    "3": "10"
                                },
                                {
                                    "0": "LL Mountain Frame - Silver 42",
                                    "1": "Yuan",
                                    "2": "MacFeather",
                                    "3": "10"
                                },
                                {
                                    "0": "LL Mountain Rim",
                                    "1": "Ye",
                                    "2": "Green",
                                    "3": "10"
                                },
                                {
                                    "0": "LL Touring Frame - Blue 58",
                                    "1": "Ye",
                                    "2": "DeFrance",
                                    "3": "10"
                                },
                                {
                                    "0": "Lock Nut 13",
                                    "1": "Yuan",
                                    "2": "Dull",
                                    "3": "10"
                                },
                                {
                                    "0": "Lock Nut 22",
                                    "1": "Young",
                                    "2": "Locksley",
                                    "3": "10"
                                },
                                {
                                    "0": "Lock Ring",
                                    "1": "Yang",
                                    "2": "MacFeather",
                                    "3": "10"
                                },
                                {
                                    "0": "Lock Ring",
                                    "1": "Young",
                                    "2": "Dull",
                                    "3": "10"
                                },
                                {
                                    "0": "Lock Washer 10",
                                    "1": "Yang",
                                    "2": "McBadden",
                                    "3": "10"
                                },
                                {
                                    "0": "Long-Sleeve Logo Jersey L",
                                    "1": "Ye",
                                    "2": "McBadden",
                                    "3": "10"
                                },
                                {
                                    "0": "ML Mountain Seat/Saddle",
                                    "1": "Yang",
                                    "2": "Blotchet-Halls",
                                    "3": "10"
                                },
                                {
                                    "0": "ML Road Frame - Red 58",
                                    "1": "Yang",
                                    "2": "Blotchet-Halls",
                                    "3": "10"
                                },
                                {
                                    "0": "Mountain-100 Silver 38",
                                    "1": "Young",
                                    "2": "Greene",
                                    "3": "10"
                                },
                                {
                                    "0": "Mountain-300 Black 48",
                                    "1": "Yang",
                                    "2": "Panteley",
                                    "3": "10"
                                },
                                {
                                    "0": "Mountain-500 Black 52",
                                    "1": "Youtsey",
                                    "2": "Gringlesby",
                                    "3": "10"
                                },
                                {
                                    "0": "Mountain-500 Silver 42",
                                    "1": "Ye",
                                    "2": "Blotchet-Halls",
                                    "3": "10"
                                },
                                {
                                    "0": "Road-350-W Yellow 40",
                                    "1": "Young",
                                    "2": "McBadden",
                                    "3": "10"
                                },
                                {
                                    "0": "Road-650 Red 62",
                                    "1": "Ye",
                                    "2": "Greene",
                                    "3": "10"
                                },
                                {
                                    "0": "Thin-Jam Hex Nut 10",
                                    "1": "Yuan",
                                    "2": "Karsen",
                                    "3": "10"
                                },
                                {
                                    "0": "Thin-Jam Hex Nut 6",
                                    "1": "Yang",
                                    "2": "Locksley",
                                    "3": "10"
                                },
                                {
                                    "0": "Touring Rear Wheel",
                                    "1": "Yuan",
                                    "2": "Yokomoto",
                                    "3": "10"
                                },
                                {
                                    "0": "Touring-1000 Blue 50",
                                    "1": "Yuan",
                                    "2": "Green",
                                    "3": "10"
                                },
                                {
                                    "0": "Thin-Jam Lock Nut 7",
                                    "1": "Ye",
                                    "2": "del Castillo",
                                    "3": "9"
                                },
                                {
                                    "0": "Thin-Jam Lock Nut 9",
                                    "1": "Ye",
                                    "2": "O-Leary",
                                    "3": "9"
                                },
                                {
                                    "0": "Touring-2000 Blue 54",
                                    "1": "Yang",
                                    "2": "Ringer",
                                    "3": "9"
                                },
                                {
                                    "0": "Touring-3000 Blue 62",
                                    "1": "Yuan",
                                    "2": "Hunter",
                                    "3": "9"
                                },
                                {
                                    "0": "Spokes",
                                    "1": "Yuan",
                                    "2": "Blotchet-Halls",
                                    "3": "9"
                                },
                                {
                                    "0": "Road-650 Black 58",
                                    "1": "Yang",
                                    "2": "MacFeather",
                                    "3": "9"
                                },
                                {
                                    "0": "Road Bottle Cage",
                                    "1": "Yuan",
                                    "2": "Panteley",
                                    "3": "9"
                                },
                                {
                                    "0": "Road-250 Red 48",
                                    "1": "Yukish",
                                    "2": "Carson",
                                    "3": "9"
                                },
                                {
                                    "0": "Road-550-W Yellow 38",
                                    "1": "Yang",
                                    "2": "Panteley",
                                    "3": "9"
                                },
                                {
                                    "0": "Mountain-400-W Silver 46",
                                    "1": "Yang",
                                    "2": "White",
                                    "3": "9"
                                },
                                {
                                    "0": "Mountain-500 Silver 48",
                                    "1": "Yang",
                                    "2": "Smith",
                                    "3": "9"
                                },
                                {
                                    "0": "Mountain-500 Silver 48",
                                    "1": "Yuan",
                                    "2": "McBadden",
                                    "3": "9"
                                },
                                {
                                    "0": "Mountain-200 Black 38",
                                    "1": "Ye",
                                    "2": "Carson",
                                    "3": "9"
                                },
                                {
                                    "0": "Mountain Bike Socks M",
                                    "1": "Ye",
                                    "2": "Gringlesby",
                                    "3": "9"
                                },
                                {
                                    "0": "ML Mountain Frame - Black 48",
                                    "1": "Young",
                                    "2": "Locksley",
                                    "3": "9"
                                },
                                {
                                    "0": "Mountain Bike Socks L",
                                    "1": "Yang",
                                    "2": "Ringer",
                                    "3": "9"
                                },
                                {
                                    "0": "Metal Bar 2",
                                    "1": "Yang",
                                    "2": "Ringer",
                                    "3": "9"
                                },
                                {
                                    "0": "Long-Sleeve Logo Jersey S",
                                    "1": "Ye",
                                    "2": "White",
                                    "3": "9"
                                },
                                {
                                    "0": "Lock Nut 18",
                                    "1": "Yuan",
                                    "2": "Yokomoto",
                                    "3": "9"
                                },
                                {
                                    "0": "Metal Tread Plate",
                                    "1": "Yang",
                                    "2": "Straight",
                                    "3": "9"
                                },
                                {
                                    "0": "ML Headset",
                                    "1": "Young",
                                    "2": "Blotchet-Halls",
                                    "3": "9"
                                },
                                {
                                    "0": "Lock Washer 10",
                                    "1": "Yang",
                                    "2": "Panteley",
                                    "3": "9"
                                },
                                {
                                    "0": "LL Shell",
                                    "1": "Yang",
                                    "2": "Locksley",
                                    "3": "9"
                                },
                                {
                                    "0": "LL Touring Frame - Yellow 58",
                                    "1": "Yuan",
                                    "2": "Karsen",
                                    "3": "9"
                                },
                                {
                                    "0": "LL Road Handlebars",
                                    "1": "Young",
                                    "2": "MacFeather",
                                    "3": "9"
                                },
                                {
                                    "0": "Internal Lock Washer 6",
                                    "1": "Ye",
                                    "2": "Smith",
                                    "3": "9"
                                },
                                {
                                    "0": "LL Road Frame - Red 62",
                                    "1": "Yang",
                                    "2": "O-Leary",
                                    "3": "9"
                                },
                                {
                                    "0": "HL Road Frame - Red 52",
                                    "1": "Yang",
                                    "2": "DeFrance",
                                    "3": "9"
                                },
                                {
                                    "0": "HL Road Frame - Red 58",
                                    "1": "Yang",
                                    "2": "Blotchet-Halls",
                                    "3": "9"
                                },
                                {
                                    "0": "HL Mountain Frame - Black 46",
                                    "1": "Young",
                                    "2": "del Castillo",
                                    "3": "9"
                                },
                                {
                                    "0": "HL Mountain Seat Assembly",
                                    "1": "Yuan",
                                    "2": "Blotchet-Halls",
                                    "3": "9"
                                },
                                {
                                    "0": "HL Road Frame - Black 44",
                                    "1": "Yang",
                                    "2": "Carson",
                                    "3": "9"
                                },
                                {
                                    "0": "Hex Nut 17",
                                    "1": "Young",
                                    "2": "Green",
                                    "3": "9"
                                },
                                {
                                    "0": "Handlebar Tube",
                                    "1": "Yuan",
                                    "2": "Blotchet-Halls",
                                    "3": "9"
                                },
                                {
                                    "0": "Cable Lock",
                                    "1": "Ye",
                                    "2": "Ringer",
                                    "3": "9"
                                },
                                {
                                    "0": "External Lock Washer 4",
                                    "1": "Young",
                                    "2": "Ringer",
                                    "3": "8"
                                },
                                {
                                    "0": "External Lock Washer 5",
                                    "1": "Yuan",
                                    "2": "Stringer",
                                    "3": "8"
                                },
                                {
                                    "0": "Fender Set - Mountain",
                                    "1": "Ye",
                                    "2": "Smith",
                                    "3": "8"
                                },
                                {
                                    "0": "Headset Ball Bearings",
                                    "1": "Ye",
                                    "2": "Dull",
                                    "3": "8"
                                },
                                {
                                    "0": "Handlebar Tube",
                                    "1": "Yang",
                                    "2": "O-Leary",
                                    "3": "8"
                                },
                                {
                                    "0": "HL Crankarm",
                                    "1": "Yuan",
                                    "2": "Bennet",
                                    "3": "8"
                                },
                                {
                                    "0": "HL Mountain Frame - Silver 44",
                                    "1": "Yuan",
                                    "2": "del Castillo",
                                    "3": "8"
                                },
                                {
                                    "0": "HL Mountain Frame - Black 46",
                                    "1": "Yang",
                                    "2": "Blotchet-Halls",
                                    "3": "8"
                                },
                                {
                                    "0": "HL Shell",
                                    "1": "Ye",
                                    "2": "Ringer",
                                    "3": "8"
                                },
                                {
                                    "0": "LL Road Front Wheel",
                                    "1": "Yang",
                                    "2": "Carson",
                                    "3": "8"
                                },
                                {
                                    "0": "LL Road Frame - Black 52",
                                    "1": "Young",
                                    "2": "Panteley",
                                    "3": "8"
                                },
                                {
                                    "0": "LL Nipple",
                                    "1": "Yang",
                                    "2": "MacFeather",
                                    "3": "8"
                                },
                                {
                                    "0": "Internal Lock Washer 1",
                                    "1": "Young",
                                    "2": "Karsen",
                                    "3": "8"
                                },
                                {
                                    "0": "LL Road Rear Wheel",
                                    "1": "Yuan",
                                    "2": "del Castillo",
                                    "3": "8"
                                },
                                {
                                    "0": "LL Road Seat/Saddle",
                                    "1": "Yuan",
                                    "2": "McBadden",
                                    "3": "8"
                                },
                                {
                                    "0": "Lock Nut 6",
                                    "1": "Young",
                                    "2": "Gringlesby",
                                    "3": "8"
                                },
                                {
                                    "0": "Lock Nut 7",
                                    "1": "Yuan",
                                    "2": "Hunter",
                                    "3": "8"
                                },
                                {
                                    "0": "ML Road Handlebars",
                                    "1": "Yang",
                                    "2": "Stringer",
                                    "3": "8"
                                },
                                {
                                    "0": "Mountain-100 Black 42",
                                    "1": "Young",
                                    "2": "Bennet",
                                    "3": "8"
                                },
                                {
                                    "0": "Mountain-500 Silver 44",
                                    "1": "Young",
                                    "2": "Gringlesby",
                                    "3": "8"
                                },
                                {
                                    "0": "Touring-1000 Blue 54",
                                    "1": "Yuan",
                                    "2": "O-Leary",
                                    "3": "8"
                                },
                                {
                                    "0": "Thin-Jam Hex Nut 1",
                                    "1": "Ye",
                                    "2": "Locksley",
                                    "3": "8"
                                },
                                {
                                    "0": "Thin-Jam Lock Nut 16",
                                    "1": "Yang",
                                    "2": "MacFeather",
                                    "3": "8"
                                },
                                {
                                    "0": "Thin-Jam Lock Nut 12",
                                    "1": "Yang",
                                    "2": "Ringer",
                                    "3": "7"
                                },
                                {
                                    "0": "Thin-Jam Hex Nut 8",
                                    "1": "Young",
                                    "2": "Panteley",
                                    "3": "7"
                                },
                                {
                                    "0": "Thin-Jam Hex Nut 7",
                                    "1": "Yang",
                                    "2": "Ringer",
                                    "3": "7"
                                },
                                {
                                    "0": "Thin-Jam Hex Nut 3",
                                    "1": "Young",
                                    "2": "O-Leary",
                                    "3": "7"
                                },
                                {
                                    "0": "Touring-2000 Blue 46",
                                    "1": "Yang",
                                    "2": "Blotchet-Halls",
                                    "3": "7"
                                },
                                {
                                    "0": "Touring-3000 Yellow 54",
                                    "1": "Yang",
                                    "2": "Locksley",
                                    "3": "7"
                                },
                                {
                                    "0": "Road-450 Red 52",
                                    "1": "Young",
                                    "2": "DeFrance",
                                    "3": "7"
                                },
                                {
                                    "0": "Road-350-W Yellow 42",
                                    "1": "Yuan",
                                    "2": "MacFeather",
                                    "3": "7"
                                },
                                {
                                    "0": "Road-650 Red 48",
                                    "1": "Young",
                                    "2": "White",
                                    "3": "7"
                                },
                                {
                                    "0": "Road-150 Red 44",
                                    "1": "Yuan",
                                    "2": "MacFeather",
                                    "3": "7"
                                },
                                {
                                    "0": "Road-150 Red 48",
                                    "1": "Ye",
                                    "2": "del Castillo",
                                    "3": "7"
                                },
                                {
                                    "0": "Metal Sheet 7",
                                    "1": "Yuan",
                                    "2": "White",
                                    "3": "7"
                                },
                                {
                                    "0": "Mountain-100 Black 38",
                                    "1": "Yang",
                                    "2": "Carson",
                                    "3": "7"
                                },
                                {
                                    "0": "Mountain-400-W Silver 42",
                                    "1": "Young",
                                    "2": "Greene",
                                    "3": "7"
                                },
                                {
                                    "0": "Mountain-400-W Silver 46",
                                    "1": "Yang",
                                    "2": "Gringlesby",
                                    "3": "7"
                                },
                                {
                                    "0": "Mountain-200 Black 38",
                                    "1": "Yang",
                                    "2": "Stringer",
                                    "3": "7"
                                },
                                {
                                    "0": "Mountain Bike Socks M",
                                    "1": "Ye",
                                    "2": "Bennet",
                                    "3": "7"
                                },
                                {
                                    "0": "ML Road Rim",
                                    "1": "Yang",
                                    "2": "Karsen",
                                    "3": "7"
                                },
                                {
                                    "0": "ML Mountain Frame - Black 48",
                                    "1": "Yuan",
                                    "2": "Ringer",
                                    "3": "7"
                                },
                                {
                                    "0": "Long-Sleeve Logo Jersey XL",
                                    "1": "Yang",
                                    "2": "Bennet",
                                    "3": "7"
                                },
                                {
                                    "0": "Lock Washer 7",
                                    "1": "Young",
                                    "2": "Greene",
                                    "3": "7"
                                },
                                {
                                    "0": "LL Road Tire",
                                    "1": "Yang",
                                    "2": "DeFrance",
                                    "3": "7"
                                },
                                {
                                    "0": "Internal Lock Washer 1",
                                    "1": "Young",
                                    "2": "Panteley",
                                    "3": "7"
                                },
                                {
                                    "0": "LL Road Frame - Black 52",
                                    "1": "Yang",
                                    "2": "Ringer",
                                    "3": "7"
                                },
                                {
                                    "0": "HL Mountain Frame - Black 46",
                                    "1": "Yuan",
                                    "2": "Karsen",
                                    "3": "7"
                                },
                                {
                                    "0": "HL Crankset",
                                    "1": "Yang",
                                    "2": "Locksley",
                                    "3": "7"
                                },
                                {
                                    "0": "Hex Nut 22",
                                    "1": "Yasinski",
                                    "2": "Ringer",
                                    "3": "7"
                                },
                                {
                                    "0": "Hitch Rack - 4-Bike",
                                    "1": "Young",
                                    "2": "Green",
                                    "3": "7"
                                },
                                {
                                    "0": "Hex Nut 1",
                                    "1": "Young",
                                    "2": "Locksley",
                                    "3": "7"
                                },
                                {
                                    "0": "Front Brakes",
                                    "1": "Yuan",
                                    "2": "Green",
                                    "3": "7"
                                },
                                {
                                    "0": "Flat Washer 1",
                                    "1": "Young",
                                    "2": "Dull",
                                    "3": "7"
                                },
                                {
                                    "0": "Decal 2",
                                    "1": "Yang",
                                    "2": "Ringer",
                                    "3": "7"
                                },
                                {
                                    "0": "External Lock Washer 3",
                                    "1": "Young",
                                    "2": "Ringer",
                                    "3": "7"
                                },
                                {
                                    "0": "Thin-Jam Lock Nut 5",
                                    "1": "Yuan",
                                    "2": "Straight",
                                    "3": "7"
                                },
                                {
                                    "0": "Womens Mountain Shorts M",
                                    "1": "Yuan",
                                    "2": "MacFeather",
                                    "3": "6"
                                },
                                {
                                    "0": "Classic Vest M",
                                    "1": "Ye",
                                    "2": "Gringlesby",
                                    "3": "6"
                                },
                                {
                                    "0": "Fork End",
                                    "1": "Young",
                                    "2": "White",
                                    "3": "6"
                                },
                                {
                                    "0": "Flat Washer 5",
                                    "1": "Yuan",
                                    "2": "McBadden",
                                    "3": "6"
                                },
                                {
                                    "0": "Flat Washer 5",
                                    "1": "Yuan",
                                    "2": "Smith",
                                    "3": "6"
                                },
                                {
                                    "0": "Fork Crown",
                                    "1": "Ye",
                                    "2": "MacFeather",
                                    "3": "6"
                                },
                                {
                                    "0": "Guide Pulley",
                                    "1": "Ye",
                                    "2": "Hunter",
                                    "3": "6"
                                },
                                {
                                    "0": "Hex Nut 4",
                                    "1": "Yang",
                                    "2": "DeFrance",
                                    "3": "6"
                                },
                                {
                                    "0": "Hex Nut 4",
                                    "1": "Yang",
                                    "2": "del Castillo",
                                    "3": "6"
                                },
                                {
                                    "0": "Hex Nut 4",
                                    "1": "Young",
                                    "2": "Yokomoto",
                                    "3": "6"
                                },
                                {
                                    "0": "HL Bottom Bracket",
                                    "1": "Ye",
                                    "2": "Karsen",
                                    "3": "6"
                                },
                                {
                                    "0": "HL Mountain Frame - Silver 44",
                                    "1": "Young",
                                    "2": "Ringer",
                                    "3": "6"
                                },
                                {
                                    "0": "HL Mountain Frame - Black 44",
                                    "1": "Ye",
                                    "2": "Hunter",
                                    "3": "6"
                                },
                                {
                                    "0": "HL Grip Tape",
                                    "1": "Yuan",
                                    "2": "O-Leary",
                                    "3": "6"
                                },
                                {
                                    "0": "HL Mountain Handlebars",
                                    "1": "Young",
                                    "2": "Carson",
                                    "3": "6"
                                },
                                {
                                    "0": "HL Nipple",
                                    "1": "Young",
                                    "2": "Carson",
                                    "3": "6"
                                },
                                {
                                    "0": "HL Road Frame - Black 52",
                                    "1": "Yang",
                                    "2": "Stringer",
                                    "3": "6"
                                },
                                {
                                    "0": "HL Road Frame - Red 48",
                                    "1": "Yuan",
                                    "2": "del Castillo",
                                    "3": "6"
                                },
                                {
                                    "0": "HL Road Tire",
                                    "1": "Yang",
                                    "2": "Ringer",
                                    "3": "6"
                                },
                                {
                                    "0": "HL Touring Frame - Yellow 46",
                                    "1": "Yang",
                                    "2": "Ringer",
                                    "3": "6"
                                },
                                {
                                    "0": "LL Mountain Tire",
                                    "1": "Ye",
                                    "2": "Green",
                                    "3": "6"
                                },
                                {
                                    "0": "LL Road Seat/Saddle",
                                    "1": "Yuan",
                                    "2": "DeFrance",
                                    "3": "6"
                                },
                                {
                                    "0": "LL Touring Frame - Blue 62",
                                    "1": "Yuan",
                                    "2": "Smith",
                                    "3": "6"
                                },
                                {
                                    "0": "Lock Nut 15",
                                    "1": "Yang",
                                    "2": "Straight",
                                    "3": "6"
                                },
                                {
                                    "0": "Metal Sheet 6",
                                    "1": "Yuan",
                                    "2": "Carson",
                                    "3": "6"
                                },
                                {
                                    "0": "ML Mountain Seat/Saddle",
                                    "1": "Yang",
                                    "2": "del Castillo",
                                    "3": "6"
                                },
                                {
                                    "0": "Mountain-100 Black 48",
                                    "1": "Ye",
                                    "2": "Smith",
                                    "3": "6"
                                },
                                {
                                    "0": "Mountain End Caps",
                                    "1": "Yang",
                                    "2": "Straight",
                                    "3": "6"
                                },
                                {
                                    "0": "Mountain End Caps",
                                    "1": "Young",
                                    "2": "MacFeather",
                                    "3": "6"
                                },
                                {
                                    "0": "Mountain-500 Black 40",
                                    "1": "Yang",
                                    "2": "O-Leary",
                                    "3": "6"
                                },
                                {
                                    "0": "Road-550-W Yellow 42",
                                    "1": "Ye",
                                    "2": "Panteley",
                                    "3": "6"
                                },
                                {
                                    "0": "Road-650 Black 44",
                                    "1": "Ye",
                                    "2": "Blotchet-Halls",
                                    "3": "6"
                                },
                                {
                                    "0": "Taillights - Battery-PoweRed",
                                    "1": "Yang",
                                    "2": "Gringlesby",
                                    "3": "6"
                                },
                                {
                                    "0": "Road-450 Red 52",
                                    "1": "Ye",
                                    "2": "MacFeather",
                                    "3": "6"
                                },
                                {
                                    "0": "Rear Derailleur Cage",
                                    "1": "Yuan",
                                    "2": "Blotchet-Halls",
                                    "3": "6"
                                },
                                {
                                    "0": "Short-Sleeve Classic Jersey S",
                                    "1": "Young",
                                    "2": "del Castillo",
                                    "3": "6"
                                },
                                {
                                    "0": "Touring-3000 Yellow 44",
                                    "1": "Yuan",
                                    "2": "Straight",
                                    "3": "5"
                                },
                                {
                                    "0": "Touring-3000 Blue 44",
                                    "1": "Young",
                                    "2": "Straight",
                                    "3": "5"
                                },
                                {
                                    "0": "Seat Stays",
                                    "1": "Yuan",
                                    "2": "Gringlesby",
                                    "3": "5"
                                },
                                {
                                    "0": "Paint - Red",
                                    "1": "Yuan",
                                    "2": "White",
                                    "3": "5"
                                },
                                {
                                    "0": "Road-150 Red 48",
                                    "1": "Yuan",
                                    "2": "Gringlesby",
                                    "3": "5"
                                },
                                {
                                    "0": "Mountain-500 Silver 42",
                                    "1": "Ye",
                                    "2": "Smith",
                                    "3": "5"
                                },
                                {
                                    "0": "ML Road Frame-W - Yellow 42",
                                    "1": "Young",
                                    "2": "Stringer",
                                    "3": "5"
                                },
                                {
                                    "0": "ML Road Tire",
                                    "1": "Yuan",
                                    "2": "Locksley",
                                    "3": "5"
                                },
                                {
                                    "0": "Metal Sheet 1",
                                    "1": "Ye",
                                    "2": "Green",
                                    "3": "5"
                                },
                                {
                                    "0": "ML Mountain Frame - Black 38",
                                    "1": "Yuan",
                                    "2": "DeFrance",
                                    "3": "5"
                                },
                                {
                                    "0": "Lock Washer 5",
                                    "1": "Young",
                                    "2": "Hunter",
                                    "3": "5"
                                },
                                {
                                    "0": "HL Touring Frame - Blue 46",
                                    "1": "Yuan",
                                    "2": "Panteley",
                                    "3": "5"
                                },
                                {
                                    "0": "HL Road Handlebars",
                                    "1": "Yang",
                                    "2": "Green",
                                    "3": "5"
                                },
                                {
                                    "0": "HL Road Rim",
                                    "1": "Young",
                                    "2": "Panteley",
                                    "3": "5"
                                },
                                {
                                    "0": "LL Mountain Seat/Saddle",
                                    "1": "Young",
                                    "2": "DeFrance",
                                    "3": "5"
                                },
                                {
                                    "0": "HL Headset",
                                    "1": "Yang",
                                    "2": "Straight",
                                    "3": "5"
                                },
                                {
                                    "0": "Hex Nut 6",
                                    "1": "Yang",
                                    "2": "MacFeather",
                                    "3": "5"
                                },
                                {
                                    "0": "Hex Nut 8",
                                    "1": "Young",
                                    "2": "White",
                                    "3": "5"
                                },
                                {
                                    "0": "Hex Nut 10",
                                    "1": "Young",
                                    "2": "Ringer",
                                    "3": "5"
                                },
                                {
                                    "0": "Front Derailleur Linkage",
                                    "1": "Young",
                                    "2": "Straight",
                                    "3": "5"
                                },
                                {
                                    "0": "Full-Finger Gloves S",
                                    "1": "Yang",
                                    "2": "O-Leary",
                                    "3": "5"
                                },
                                {
                                    "0": "Full-Finger Gloves S",
                                    "1": "Ye",
                                    "2": "Locksley",
                                    "3": "5"
                                },
                                {
                                    "0": "Freewheel",
                                    "1": "Ye",
                                    "2": "Panteley",
                                    "3": "5"
                                },
                                {
                                    "0": "Flat Washer 1",
                                    "1": "Ye",
                                    "2": "Blotchet-Halls",
                                    "3": "5"
                                },
                                {
                                    "0": "Chainring Bolts",
                                    "1": "Yang",
                                    "2": "Carson",
                                    "3": "4"
                                },
                                {
                                    "0": "Flat Washer 2",
                                    "1": "Yang",
                                    "2": "Ringer",
                                    "3": "4"
                                },
                                {
                                    "0": "Flat Washer 5",
                                    "1": "Ye",
                                    "2": "White",
                                    "3": "4"
                                },
                                {
                                    "0": "Fork Crown",
                                    "1": "Yee",
                                    "2": "Gringlesby",
                                    "3": "4"
                                },
                                {
                                    "0": "Half-Finger Gloves L",
                                    "1": "Young",
                                    "2": "Dull",
                                    "3": "4"
                                },
                                {
                                    "0": "Hex Nut 2",
                                    "1": "Young",
                                    "2": "Green",
                                    "3": "4"
                                },
                                {
                                    "0": "HL Hub",
                                    "1": "Yang",
                                    "2": "O-Leary",
                                    "3": "4"
                                },
                                {
                                    "0": "HL Road Frame - Black 44",
                                    "1": "Yuan",
                                    "2": "Gringlesby",
                                    "3": "4"
                                },
                                {
                                    "0": "LL Mountain Frame - Black 52",
                                    "1": "Young",
                                    "2": "Carson",
                                    "3": "4"
                                },
                                {
                                    "0": "HL Road Front Wheel",
                                    "1": "Yang",
                                    "2": "MacFeather",
                                    "3": "4"
                                },
                                {
                                    "0": "HL Touring Frame - Yellow 54",
                                    "1": "Yuan",
                                    "2": "Ringer",
                                    "3": "4"
                                },
                                {
                                    "0": "HL Touring Frame - Yellow 60",
                                    "1": "Yang",
                                    "2": "Locksley",
                                    "3": "4"
                                },
                                {
                                    "0": "Lock Washer 5",
                                    "1": "Yuan",
                                    "2": "Greene",
                                    "3": "4"
                                },
                                {
                                    "0": "Lock Washer 10",
                                    "1": "Young",
                                    "2": "Locksley",
                                    "3": "4"
                                },
                                {
                                    "0": "Lock Nut 22",
                                    "1": "Young",
                                    "2": "O-Leary",
                                    "3": "4"
                                },
                                {
                                    "0": "LL Touring Frame - Yellow 58",
                                    "1": "Yang",
                                    "2": "Karsen",
                                    "3": "4"
                                },
                                {
                                    "0": "ML Road Pedal",
                                    "1": "Yang",
                                    "2": "Karsen",
                                    "3": "4"
                                },
                                {
                                    "0": "ML Mountain Frame-W - Silver 38",
                                    "1": "Yuan",
                                    "2": "Stringer",
                                    "3": "4"
                                },
                                {
                                    "0": "Road-150 Red 52",
                                    "1": "Ye",
                                    "2": "Carson",
                                    "3": "4"
                                },
                                {
                                    "0": "Mountain-100 Silver 38",
                                    "1": "Yang",
                                    "2": "DeFrance",
                                    "3": "4"
                                },
                                {
                                    "0": "Road-650 Red 62",
                                    "1": "Yuan",
                                    "2": "Greene",
                                    "3": "4"
                                },
                                {
                                    "0": "Road-750 Black 52",
                                    "1": "Yang",
                                    "2": "Ringer",
                                    "3": "4"
                                },
                                {
                                    "0": "Road-750 Black 52",
                                    "1": "Yuan",
                                    "2": "Bennet",
                                    "3": "4"
                                },
                                {
                                    "0": "Road-650 Black 48",
                                    "1": "Yang",
                                    "2": "Karsen",
                                    "3": "4"
                                },
                                {
                                    "0": "Road-550-W Yellow 44",
                                    "1": "Yang",
                                    "2": "White",
                                    "3": "4"
                                },
                                {
                                    "0": "Road-650 Red 58",
                                    "1": "Young",
                                    "2": "del Castillo",
                                    "3": "4"
                                },
                                {
                                    "0": "Road-350-W Yellow 40",
                                    "1": "Ye",
                                    "2": "Karsen",
                                    "3": "4"
                                },
                                {
                                    "0": "Road-150 Red 44",
                                    "1": "Ye",
                                    "2": "Greene",
                                    "3": "4"
                                },
                                {
                                    "0": "Road-250 Red 44",
                                    "1": "Yang",
                                    "2": "Dull",
                                    "3": "4"
                                },
                                {
                                    "0": "Touring-3000 Yellow 44",
                                    "1": "Yang",
                                    "2": "Green",
                                    "3": "4"
                                },
                                {
                                    "0": "Touring-Panniers Large",
                                    "1": "Yuan",
                                    "2": "Carson",
                                    "3": "4"
                                },
                                {
                                    "0": "Touring-1000 Blue 60",
                                    "1": "Yang",
                                    "2": "Bennet",
                                    "3": "4"
                                },
                                {
                                    "0": "Thin-Jam Hex Nut 10",
                                    "1": "Ye",
                                    "2": "Greene",
                                    "3": "4"
                                },
                                {
                                    "0": "Thin-Jam Hex Nut 14",
                                    "1": "Young",
                                    "2": "Straight",
                                    "3": "3"
                                },
                                {
                                    "0": "Thin-Jam Hex Nut 8",
                                    "1": "Yang",
                                    "2": "del Castillo",
                                    "3": "3"
                                },
                                {
                                    "0": "Thin-Jam Lock Nut 10",
                                    "1": "Young",
                                    "2": "Smith",
                                    "3": "3"
                                },
                                {
                                    "0": "Touring-1000 Yellow 46",
                                    "1": "Yang",
                                    "2": "Green",
                                    "3": "3"
                                },
                                {
                                    "0": "Touring-2000 Blue 50",
                                    "1": "Ye",
                                    "2": "Panteley",
                                    "3": "3"
                                },
                                {
                                    "0": "Touring-3000 Yellow 54",
                                    "1": "Yang",
                                    "2": "DeFrance",
                                    "3": "3"
                                },
                                {
                                    "0": "Road-250 Red 44",
                                    "1": "Ye",
                                    "2": "Yokomoto",
                                    "3": "3"
                                },
                                {
                                    "0": "Mountain Tire Tube",
                                    "1": "Young",
                                    "2": "Straight",
                                    "3": "3"
                                },
                                {
                                    "0": "Road-150 Red 52",
                                    "1": "Yuan",
                                    "2": "Stringer",
                                    "3": "3"
                                },
                                {
                                    "0": "ML Headset",
                                    "1": "Ye",
                                    "2": "Dull",
                                    "3": "3"
                                },
                                {
                                    "0": "Mens Sports Shorts L",
                                    "1": "Yuan",
                                    "2": "Carson",
                                    "3": "3"
                                },
                                {
                                    "0": "Metal Plate 2",
                                    "1": "Yang",
                                    "2": "DeFrance",
                                    "3": "3"
                                },
                                {
                                    "0": "Long-Sleeve Logo Jersey M",
                                    "1": "Yang",
                                    "2": "Smith",
                                    "3": "3"
                                },
                                {
                                    "0": "LL Road Seat/Saddle",
                                    "1": "Ye",
                                    "2": "Greene",
                                    "3": "3"
                                },
                                {
                                    "0": "LL Road Handlebars",
                                    "1": "Yuan",
                                    "2": "Stringer",
                                    "3": "3"
                                },
                                {
                                    "0": "Lock Nut 18",
                                    "1": "Ye",
                                    "2": "Carson",
                                    "3": "3"
                                },
                                {
                                    "0": "Lock Nut 18",
                                    "1": "Yuan",
                                    "2": "Hunter",
                                    "3": "3"
                                },
                                {
                                    "0": "Lock Washer 3",
                                    "1": "Yang",
                                    "2": "Yokomoto",
                                    "3": "3"
                                },
                                {
                                    "0": "HL Road Front Wheel",
                                    "1": "Yuan",
                                    "2": "Carson",
                                    "3": "3"
                                },
                                {
                                    "0": "LL Road Frame - Red 52",
                                    "1": "Ye",
                                    "2": "Locksley",
                                    "3": "3"
                                },
                                {
                                    "0": "Hex Nut 20",
                                    "1": "Yuan",
                                    "2": "Yokomoto",
                                    "3": "3"
                                },
                                {
                                    "0": "Hitch Rack - 4-Bike",
                                    "1": "Young",
                                    "2": "McBadden",
                                    "3": "3"
                                },
                                {
                                    "0": "Hex Nut 1",
                                    "1": "Ye",
                                    "2": "Panteley",
                                    "3": "3"
                                },
                                {
                                    "0": "Chain Stays",
                                    "1": "Yonekura",
                                    "2": "Greene",
                                    "3": "3"
                                },
                                {
                                    "0": "Bearing Ball",
                                    "1": "Young",
                                    "2": "Ringer",
                                    "3": "3"
                                },
                                {
                                    "0": "Fender Set - Mountain",
                                    "1": "Ye",
                                    "2": "Karsen",
                                    "3": "3"
                                },
                                {
                                    "0": "Bearing Ball",
                                    "1": "Young",
                                    "2": "Bennet",
                                    "3": "2"
                                },
                                {
                                    "0": "Front Derailleur",
                                    "1": "Yuan",
                                    "2": "O-Leary",
                                    "3": "2"
                                },
                                {
                                    "0": "HL Grip Tape",
                                    "1": "Young",
                                    "2": "Carson",
                                    "3": "2"
                                },
                                {
                                    "0": "Hex Nut 9",
                                    "1": "Young",
                                    "2": "Blotchet-Halls",
                                    "3": "2"
                                },
                                {
                                    "0": "LL Fork",
                                    "1": "Yang",
                                    "2": "Hunter",
                                    "3": "2"
                                },
                                {
                                    "0": "LL Mountain Pedal",
                                    "1": "Yang",
                                    "2": "Locksley",
                                    "3": "2"
                                },
                                {
                                    "0": "HL Road Frame - Black 58",
                                    "1": "Ye",
                                    "2": "Straight",
                                    "3": "2"
                                },
                                {
                                    "0": "Lock Washer 8",
                                    "1": "Yang",
                                    "2": "Karsen",
                                    "3": "2"
                                },
                                {
                                    "0": "LL Road Seat Assembly",
                                    "1": "Yuan",
                                    "2": "DeFrance",
                                    "3": "2"
                                },
                                {
                                    "0": "LL Touring Seat/Saddle",
                                    "1": "Yuan",
                                    "2": "Gringlesby",
                                    "3": "2"
                                },
                                {
                                    "0": "Long-Sleeve Logo Jersey M",
                                    "1": "Yuan",
                                    "2": "Locksley",
                                    "3": "2"
                                },
                                {
                                    "0": "Metal Sheet 2",
                                    "1": "Ye",
                                    "2": "McBadden",
                                    "3": "2"
                                },
                                {
                                    "0": "Metal Sheet 5",
                                    "1": "Yang",
                                    "2": "Carson",
                                    "3": "2"
                                },
                                {
                                    "0": "ML Mountain Frame-W - Silver 46",
                                    "1": "Yuan",
                                    "2": "Blotchet-Halls",
                                    "3": "2"
                                },
                                {
                                    "0": "ML Mountain Handlebars",
                                    "1": "Yang",
                                    "2": "Karsen",
                                    "3": "2"
                                },
                                {
                                    "0": "ML Mountain Rim",
                                    "1": "Yang",
                                    "2": "Stringer",
                                    "3": "2"
                                },
                                {
                                    "0": "ML Touring Seat Assembly",
                                    "1": "Yuan",
                                    "2": "Karsen",
                                    "3": "2"
                                },
                                {
                                    "0": "ML Touring Seat/Saddle",
                                    "1": "Yang",
                                    "2": "Ringer",
                                    "3": "2"
                                },
                                {
                                    "0": "Mountain-500 Black 40",
                                    "1": "Yang",
                                    "2": "Dull",
                                    "3": "2"
                                },
                                {
                                    "0": "Mountain-200 Silver 38",
                                    "1": "Young",
                                    "2": "Greene",
                                    "3": "2"
                                },
                                {
                                    "0": "Mountain-200 Silver 42",
                                    "1": "Yang",
                                    "2": "Yokomoto",
                                    "3": "2"
                                },
                                {
                                    "0": "Road-350-W Yellow 48",
                                    "1": "Yuan",
                                    "2": "Stringer",
                                    "3": "2"
                                },
                                {
                                    "0": "Road-450 Red 48",
                                    "1": "Yang",
                                    "2": "Stringer",
                                    "3": "2"
                                },
                                {
                                    "0": "Road-550-W Yellow 40",
                                    "1": "Young",
                                    "2": "Ringer",
                                    "3": "2"
                                },
                                {
                                    "0": "Road-650 Red 44",
                                    "1": "Yuan",
                                    "2": "Karsen",
                                    "3": "2"
                                },
                                {
                                    "0": "Seat Tube",
                                    "1": "Young",
                                    "2": "Gringlesby",
                                    "3": "2"
                                },
                                {
                                    "0": "Touring-2000 Blue 50",
                                    "1": "Young",
                                    "2": "Green",
                                    "3": "2"
                                },
                                {
                                    "0": "Touring-2000 Blue 46",
                                    "1": "Yang",
                                    "2": "Bennet",
                                    "3": "2"
                                },
                                {
                                    "0": "Thin-Jam Lock Nut 10",
                                    "1": "Yang",
                                    "2": "del Castillo",
                                    "3": "2"
                                },
                                {
                                    "0": "Thin-Jam Hex Nut 6",
                                    "1": "Yang",
                                    "2": "Gringlesby",
                                    "3": "2"
                                },
                                {
                                    "0": "Thin-Jam Hex Nut 15",
                                    "1": "Yuan",
                                    "2": "MacFeather",
                                    "3": "2"
                                },
                                {
                                    "0": "Thin-Jam Lock Nut 10",
                                    "1": "Yuan",
                                    "2": "Smith",
                                    "3": "1"
                                },
                                {
                                    "0": "Thin-Jam Lock Nut 2",
                                    "1": "Ye",
                                    "2": "MacFeather",
                                    "3": "1"
                                },
                                {
                                    "0": "Womens Mountain Shorts L",
                                    "1": "Yang",
                                    "2": "Smith",
                                    "3": "1"
                                },
                                {
                                    "0": "Road-450 Red 44",
                                    "1": "Young",
                                    "2": "O-Leary",
                                    "3": "1"
                                },
                                {
                                    "0": "Mountain-200 Silver 46",
                                    "1": "Ye",
                                    "2": "Dull",
                                    "3": "1"
                                },
                                {
                                    "0": "Mountain-300 Black 40",
                                    "1": "Yang",
                                    "2": "Green",
                                    "3": "1"
                                },
                                {
                                    "0": "Mountain-500 Silver 52",
                                    "1": "Yang",
                                    "2": "Ringer",
                                    "3": "1"
                                },
                                {
                                    "0": "Paint - Black",
                                    "1": "Yang",
                                    "2": "O-Leary",
                                    "3": "1"
                                },
                                {
                                    "0": "Patch Kit/8 Patches",
                                    "1": "Yuan",
                                    "2": "DeFrance",
                                    "3": "1"
                                },
                                {
                                    "0": "Mountain Bike Socks L",
                                    "1": "Yang",
                                    "2": "Karsen",
                                    "3": "1"
                                },
                                {
                                    "0": "Metal Bar 1",
                                    "1": "Young",
                                    "2": "Blotchet-Halls",
                                    "3": "1"
                                },
                                {
                                    "0": "LL Touring Seat Assembly",
                                    "1": "Young",
                                    "2": "White",
                                    "3": "1"
                                },
                                {
                                    "0": "LL Spindle/Axle",
                                    "1": "Yang",
                                    "2": "DeFrance",
                                    "3": "1"
                                },
                                {
                                    "0": "Lock Washer 3",
                                    "1": "Ye",
                                    "2": "Locksley",
                                    "3": "1"
                                },
                                {
                                    "0": "HL Road Frame - Red 44",
                                    "1": "Ye",
                                    "2": "White",
                                    "3": "1"
                                },
                                {
                                    "0": "HL Road Frame - Red 44",
                                    "1": "Young",
                                    "2": "Blotchet-Halls",
                                    "3": "1"
                                },
                                {
                                    "0": "HL Touring Frame - Blue 54",
                                    "1": "Ye",
                                    "2": "MacFeather",
                                    "3": "1"
                                },
                                {
                                    "0": "LL Mountain Seat/Saddle",
                                    "1": "Yang",
                                    "2": "Stringer",
                                    "3": "1"
                                },
                                {
                                    "0": "LL Road Handlebars",
                                    "1": "Yang",
                                    "2": "Locksley",
                                    "3": "1"
                                },
                                {
                                    "0": "HL Road Frame - Black 52",
                                    "1": "Yu",
                                    "2": "White",
                                    "3": "1"
                                },
                                {
                                    "0": "HL Mountain Seat Assembly",
                                    "1": "Yang",
                                    "2": "Stringer",
                                    "3": "1"
                                },
                                {
                                    "0": "HL Mountain Frame - Black 42",
                                    "1": "Young",
                                    "2": "White",
                                    "3": "1"
                                },
                                {
                                    "0": "Blade",
                                    "1": "Ye",
                                    "2": "Smith",
                                    "3": "1"
                                },
                                {
                                    "0": "Chain Stays",
                                    "1": "Ye",
                                    "2": "DeFrance",
                                    "3": "1"
                                },
                                {
                                    "0": "Cone-Shaped Race",
                                    "1": "Yuan",
                                    "2": "O-Leary",
                                    "3": "1"
                                },
                                {
                                    "0": "Womens Tights L",
                                    "1": "Yuan",
                                    "2": "DeFrance",
                                    "3": "1"
                                }
                            ]
                        },
                        "text/html": "<table><tr><th>Name</th><th>LastName</th><th>LastName</th><th>TotalQuantity</th></tr><tr><td>Chainring</td><td>Yang</td><td>Bennet</td><td>10</td></tr><tr><td>Classic Vest M</td><td>Yang</td><td>O-Leary</td><td>10</td></tr><tr><td>Fork End</td><td>Yonekura</td><td>McBadden</td><td>10</td></tr><tr><td>Hex Nut 22</td><td>Young</td><td>Ringer</td><td>10</td></tr><tr><td>Hex Nut 19</td><td>Young</td><td>Locksley</td><td>10</td></tr><tr><td>HL Headset</td><td>Yuan</td><td>Bennet</td><td>10</td></tr><tr><td>HL Touring Frame - Blue 60</td><td>Yuan</td><td>Green</td><td>10</td></tr><tr><td>HL Touring Frame - Yellow 46</td><td>Ye</td><td>Hunter</td><td>10</td></tr><tr><td>HL Touring Frame - Yellow 60</td><td>Yuhasz</td><td>DeFrance</td><td>10</td></tr><tr><td>Internal Lock Washer 1</td><td>Yuan</td><td>Locksley</td><td>10</td></tr><tr><td>LL Mountain Frame - Silver 42</td><td>Yuan</td><td>MacFeather</td><td>10</td></tr><tr><td>LL Mountain Rim</td><td>Ye</td><td>Green</td><td>10</td></tr><tr><td>LL Touring Frame - Blue 58</td><td>Ye</td><td>DeFrance</td><td>10</td></tr><tr><td>Lock Nut 13</td><td>Yuan</td><td>Dull</td><td>10</td></tr><tr><td>Lock Nut 22</td><td>Young</td><td>Locksley</td><td>10</td></tr><tr><td>Lock Ring</td><td>Yang</td><td>MacFeather</td><td>10</td></tr><tr><td>Lock Ring</td><td>Young</td><td>Dull</td><td>10</td></tr><tr><td>Lock Washer 10</td><td>Yang</td><td>McBadden</td><td>10</td></tr><tr><td>Long-Sleeve Logo Jersey L</td><td>Ye</td><td>McBadden</td><td>10</td></tr><tr><td>ML Mountain Seat/Saddle</td><td>Yang</td><td>Blotchet-Halls</td><td>10</td></tr><tr><td>ML Road Frame - Red 58</td><td>Yang</td><td>Blotchet-Halls</td><td>10</td></tr><tr><td>Mountain-100 Silver 38</td><td>Young</td><td>Greene</td><td>10</td></tr><tr><td>Mountain-300 Black 48</td><td>Yang</td><td>Panteley</td><td>10</td></tr><tr><td>Mountain-500 Black 52</td><td>Youtsey</td><td>Gringlesby</td><td>10</td></tr><tr><td>Mountain-500 Silver 42</td><td>Ye</td><td>Blotchet-Halls</td><td>10</td></tr><tr><td>Road-350-W Yellow 40</td><td>Young</td><td>McBadden</td><td>10</td></tr><tr><td>Road-650 Red 62</td><td>Ye</td><td>Greene</td><td>10</td></tr><tr><td>Thin-Jam Hex Nut 10</td><td>Yuan</td><td>Karsen</td><td>10</td></tr><tr><td>Thin-Jam Hex Nut 6</td><td>Yang</td><td>Locksley</td><td>10</td></tr><tr><td>Touring Rear Wheel</td><td>Yuan</td><td>Yokomoto</td><td>10</td></tr><tr><td>Touring-1000 Blue 50</td><td>Yuan</td><td>Green</td><td>10</td></tr><tr><td>Thin-Jam Lock Nut 7</td><td>Ye</td><td>del Castillo</td><td>9</td></tr><tr><td>Thin-Jam Lock Nut 9</td><td>Ye</td><td>O-Leary</td><td>9</td></tr><tr><td>Touring-2000 Blue 54</td><td>Yang</td><td>Ringer</td><td>9</td></tr><tr><td>Touring-3000 Blue 62</td><td>Yuan</td><td>Hunter</td><td>9</td></tr><tr><td>Spokes</td><td>Yuan</td><td>Blotchet-Halls</td><td>9</td></tr><tr><td>Road-650 Black 58</td><td>Yang</td><td>MacFeather</td><td>9</td></tr><tr><td>Road Bottle Cage</td><td>Yuan</td><td>Panteley</td><td>9</td></tr><tr><td>Road-250 Red 48</td><td>Yukish</td><td>Carson</td><td>9</td></tr><tr><td>Road-550-W Yellow 38</td><td>Yang</td><td>Panteley</td><td>9</td></tr><tr><td>Mountain-400-W Silver 46</td><td>Yang</td><td>White</td><td>9</td></tr><tr><td>Mountain-500 Silver 48</td><td>Yang</td><td>Smith</td><td>9</td></tr><tr><td>Mountain-500 Silver 48</td><td>Yuan</td><td>McBadden</td><td>9</td></tr><tr><td>Mountain-200 Black 38</td><td>Ye</td><td>Carson</td><td>9</td></tr><tr><td>Mountain Bike Socks M</td><td>Ye</td><td>Gringlesby</td><td>9</td></tr><tr><td>ML Mountain Frame - Black 48</td><td>Young</td><td>Locksley</td><td>9</td></tr><tr><td>Mountain Bike Socks L</td><td>Yang</td><td>Ringer</td><td>9</td></tr><tr><td>Metal Bar 2</td><td>Yang</td><td>Ringer</td><td>9</td></tr><tr><td>Long-Sleeve Logo Jersey S</td><td>Ye</td><td>White</td><td>9</td></tr><tr><td>Lock Nut 18</td><td>Yuan</td><td>Yokomoto</td><td>9</td></tr><tr><td>Metal Tread Plate</td><td>Yang</td><td>Straight</td><td>9</td></tr><tr><td>ML Headset</td><td>Young</td><td>Blotchet-Halls</td><td>9</td></tr><tr><td>Lock Washer 10</td><td>Yang</td><td>Panteley</td><td>9</td></tr><tr><td>LL Shell</td><td>Yang</td><td>Locksley</td><td>9</td></tr><tr><td>LL Touring Frame - Yellow 58</td><td>Yuan</td><td>Karsen</td><td>9</td></tr><tr><td>LL Road Handlebars</td><td>Young</td><td>MacFeather</td><td>9</td></tr><tr><td>Internal Lock Washer 6</td><td>Ye</td><td>Smith</td><td>9</td></tr><tr><td>LL Road Frame - Red 62</td><td>Yang</td><td>O-Leary</td><td>9</td></tr><tr><td>HL Road Frame - Red 52</td><td>Yang</td><td>DeFrance</td><td>9</td></tr><tr><td>HL Road Frame - Red 58</td><td>Yang</td><td>Blotchet-Halls</td><td>9</td></tr><tr><td>HL Mountain Frame - Black 46</td><td>Young</td><td>del Castillo</td><td>9</td></tr><tr><td>HL Mountain Seat Assembly</td><td>Yuan</td><td>Blotchet-Halls</td><td>9</td></tr><tr><td>HL Road Frame - Black 44</td><td>Yang</td><td>Carson</td><td>9</td></tr><tr><td>Hex Nut 17</td><td>Young</td><td>Green</td><td>9</td></tr><tr><td>Handlebar Tube</td><td>Yuan</td><td>Blotchet-Halls</td><td>9</td></tr><tr><td>Cable Lock</td><td>Ye</td><td>Ringer</td><td>9</td></tr><tr><td>External Lock Washer 4</td><td>Young</td><td>Ringer</td><td>8</td></tr><tr><td>External Lock Washer 5</td><td>Yuan</td><td>Stringer</td><td>8</td></tr><tr><td>Fender Set - Mountain</td><td>Ye</td><td>Smith</td><td>8</td></tr><tr><td>Headset Ball Bearings</td><td>Ye</td><td>Dull</td><td>8</td></tr><tr><td>Handlebar Tube</td><td>Yang</td><td>O-Leary</td><td>8</td></tr><tr><td>HL Crankarm</td><td>Yuan</td><td>Bennet</td><td>8</td></tr><tr><td>HL Mountain Frame - Silver 44</td><td>Yuan</td><td>del Castillo</td><td>8</td></tr><tr><td>HL Mountain Frame - Black 46</td><td>Yang</td><td>Blotchet-Halls</td><td>8</td></tr><tr><td>HL Shell</td><td>Ye</td><td>Ringer</td><td>8</td></tr><tr><td>LL Road Front Wheel</td><td>Yang</td><td>Carson</td><td>8</td></tr><tr><td>LL Road Frame - Black 52</td><td>Young</td><td>Panteley</td><td>8</td></tr><tr><td>LL Nipple</td><td>Yang</td><td>MacFeather</td><td>8</td></tr><tr><td>Internal Lock Washer 1</td><td>Young</td><td>Karsen</td><td>8</td></tr><tr><td>LL Road Rear Wheel</td><td>Yuan</td><td>del Castillo</td><td>8</td></tr><tr><td>LL Road Seat/Saddle</td><td>Yuan</td><td>McBadden</td><td>8</td></tr><tr><td>Lock Nut 6</td><td>Young</td><td>Gringlesby</td><td>8</td></tr><tr><td>Lock Nut 7</td><td>Yuan</td><td>Hunter</td><td>8</td></tr><tr><td>ML Road Handlebars</td><td>Yang</td><td>Stringer</td><td>8</td></tr><tr><td>Mountain-100 Black 42</td><td>Young</td><td>Bennet</td><td>8</td></tr><tr><td>Mountain-500 Silver 44</td><td>Young</td><td>Gringlesby</td><td>8</td></tr><tr><td>Touring-1000 Blue 54</td><td>Yuan</td><td>O-Leary</td><td>8</td></tr><tr><td>Thin-Jam Hex Nut 1</td><td>Ye</td><td>Locksley</td><td>8</td></tr><tr><td>Thin-Jam Lock Nut 16</td><td>Yang</td><td>MacFeather</td><td>8</td></tr><tr><td>Thin-Jam Lock Nut 12</td><td>Yang</td><td>Ringer</td><td>7</td></tr><tr><td>Thin-Jam Hex Nut 8</td><td>Young</td><td>Panteley</td><td>7</td></tr><tr><td>Thin-Jam Hex Nut 7</td><td>Yang</td><td>Ringer</td><td>7</td></tr><tr><td>Thin-Jam Hex Nut 3</td><td>Young</td><td>O-Leary</td><td>7</td></tr><tr><td>Touring-2000 Blue 46</td><td>Yang</td><td>Blotchet-Halls</td><td>7</td></tr><tr><td>Touring-3000 Yellow 54</td><td>Yang</td><td>Locksley</td><td>7</td></tr><tr><td>Road-450 Red 52</td><td>Young</td><td>DeFrance</td><td>7</td></tr><tr><td>Road-350-W Yellow 42</td><td>Yuan</td><td>MacFeather</td><td>7</td></tr><tr><td>Road-650 Red 48</td><td>Young</td><td>White</td><td>7</td></tr><tr><td>Road-150 Red 44</td><td>Yuan</td><td>MacFeather</td><td>7</td></tr><tr><td>Road-150 Red 48</td><td>Ye</td><td>del Castillo</td><td>7</td></tr><tr><td>Metal Sheet 7</td><td>Yuan</td><td>White</td><td>7</td></tr><tr><td>Mountain-100 Black 38</td><td>Yang</td><td>Carson</td><td>7</td></tr><tr><td>Mountain-400-W Silver 42</td><td>Young</td><td>Greene</td><td>7</td></tr><tr><td>Mountain-400-W Silver 46</td><td>Yang</td><td>Gringlesby</td><td>7</td></tr><tr><td>Mountain-200 Black 38</td><td>Yang</td><td>Stringer</td><td>7</td></tr><tr><td>Mountain Bike Socks M</td><td>Ye</td><td>Bennet</td><td>7</td></tr><tr><td>ML Road Rim</td><td>Yang</td><td>Karsen</td><td>7</td></tr><tr><td>ML Mountain Frame - Black 48</td><td>Yuan</td><td>Ringer</td><td>7</td></tr><tr><td>Long-Sleeve Logo Jersey XL</td><td>Yang</td><td>Bennet</td><td>7</td></tr><tr><td>Lock Washer 7</td><td>Young</td><td>Greene</td><td>7</td></tr><tr><td>LL Road Tire</td><td>Yang</td><td>DeFrance</td><td>7</td></tr><tr><td>Internal Lock Washer 1</td><td>Young</td><td>Panteley</td><td>7</td></tr><tr><td>LL Road Frame - Black 52</td><td>Yang</td><td>Ringer</td><td>7</td></tr><tr><td>HL Mountain Frame - Black 46</td><td>Yuan</td><td>Karsen</td><td>7</td></tr><tr><td>HL Crankset</td><td>Yang</td><td>Locksley</td><td>7</td></tr><tr><td>Hex Nut 22</td><td>Yasinski</td><td>Ringer</td><td>7</td></tr><tr><td>Hitch Rack - 4-Bike</td><td>Young</td><td>Green</td><td>7</td></tr><tr><td>Hex Nut 1</td><td>Young</td><td>Locksley</td><td>7</td></tr><tr><td>Front Brakes</td><td>Yuan</td><td>Green</td><td>7</td></tr><tr><td>Flat Washer 1</td><td>Young</td><td>Dull</td><td>7</td></tr><tr><td>Decal 2</td><td>Yang</td><td>Ringer</td><td>7</td></tr><tr><td>External Lock Washer 3</td><td>Young</td><td>Ringer</td><td>7</td></tr><tr><td>Thin-Jam Lock Nut 5</td><td>Yuan</td><td>Straight</td><td>7</td></tr><tr><td>Womens Mountain Shorts M</td><td>Yuan</td><td>MacFeather</td><td>6</td></tr><tr><td>Classic Vest M</td><td>Ye</td><td>Gringlesby</td><td>6</td></tr><tr><td>Fork End</td><td>Young</td><td>White</td><td>6</td></tr><tr><td>Flat Washer 5</td><td>Yuan</td><td>McBadden</td><td>6</td></tr><tr><td>Flat Washer 5</td><td>Yuan</td><td>Smith</td><td>6</td></tr><tr><td>Fork Crown</td><td>Ye</td><td>MacFeather</td><td>6</td></tr><tr><td>Guide Pulley</td><td>Ye</td><td>Hunter</td><td>6</td></tr><tr><td>Hex Nut 4</td><td>Yang</td><td>DeFrance</td><td>6</td></tr><tr><td>Hex Nut 4</td><td>Yang</td><td>del Castillo</td><td>6</td></tr><tr><td>Hex Nut 4</td><td>Young</td><td>Yokomoto</td><td>6</td></tr><tr><td>HL Bottom Bracket</td><td>Ye</td><td>Karsen</td><td>6</td></tr><tr><td>HL Mountain Frame - Silver 44</td><td>Young</td><td>Ringer</td><td>6</td></tr><tr><td>HL Mountain Frame - Black 44</td><td>Ye</td><td>Hunter</td><td>6</td></tr><tr><td>HL Grip Tape</td><td>Yuan</td><td>O-Leary</td><td>6</td></tr><tr><td>HL Mountain Handlebars</td><td>Young</td><td>Carson</td><td>6</td></tr><tr><td>HL Nipple</td><td>Young</td><td>Carson</td><td>6</td></tr><tr><td>HL Road Frame - Black 52</td><td>Yang</td><td>Stringer</td><td>6</td></tr><tr><td>HL Road Frame - Red 48</td><td>Yuan</td><td>del Castillo</td><td>6</td></tr><tr><td>HL Road Tire</td><td>Yang</td><td>Ringer</td><td>6</td></tr><tr><td>HL Touring Frame - Yellow 46</td><td>Yang</td><td>Ringer</td><td>6</td></tr><tr><td>LL Mountain Tire</td><td>Ye</td><td>Green</td><td>6</td></tr><tr><td>LL Road Seat/Saddle</td><td>Yuan</td><td>DeFrance</td><td>6</td></tr><tr><td>LL Touring Frame - Blue 62</td><td>Yuan</td><td>Smith</td><td>6</td></tr><tr><td>Lock Nut 15</td><td>Yang</td><td>Straight</td><td>6</td></tr><tr><td>Metal Sheet 6</td><td>Yuan</td><td>Carson</td><td>6</td></tr><tr><td>ML Mountain Seat/Saddle</td><td>Yang</td><td>del Castillo</td><td>6</td></tr><tr><td>Mountain-100 Black 48</td><td>Ye</td><td>Smith</td><td>6</td></tr><tr><td>Mountain End Caps</td><td>Yang</td><td>Straight</td><td>6</td></tr><tr><td>Mountain End Caps</td><td>Young</td><td>MacFeather</td><td>6</td></tr><tr><td>Mountain-500 Black 40</td><td>Yang</td><td>O-Leary</td><td>6</td></tr><tr><td>Road-550-W Yellow 42</td><td>Ye</td><td>Panteley</td><td>6</td></tr><tr><td>Road-650 Black 44</td><td>Ye</td><td>Blotchet-Halls</td><td>6</td></tr><tr><td>Taillights - Battery-PoweRed</td><td>Yang</td><td>Gringlesby</td><td>6</td></tr><tr><td>Road-450 Red 52</td><td>Ye</td><td>MacFeather</td><td>6</td></tr><tr><td>Rear Derailleur Cage</td><td>Yuan</td><td>Blotchet-Halls</td><td>6</td></tr><tr><td>Short-Sleeve Classic Jersey S</td><td>Young</td><td>del Castillo</td><td>6</td></tr><tr><td>Touring-3000 Yellow 44</td><td>Yuan</td><td>Straight</td><td>5</td></tr><tr><td>Touring-3000 Blue 44</td><td>Young</td><td>Straight</td><td>5</td></tr><tr><td>Seat Stays</td><td>Yuan</td><td>Gringlesby</td><td>5</td></tr><tr><td>Paint - Red</td><td>Yuan</td><td>White</td><td>5</td></tr><tr><td>Road-150 Red 48</td><td>Yuan</td><td>Gringlesby</td><td>5</td></tr><tr><td>Mountain-500 Silver 42</td><td>Ye</td><td>Smith</td><td>5</td></tr><tr><td>ML Road Frame-W - Yellow 42</td><td>Young</td><td>Stringer</td><td>5</td></tr><tr><td>ML Road Tire</td><td>Yuan</td><td>Locksley</td><td>5</td></tr><tr><td>Metal Sheet 1</td><td>Ye</td><td>Green</td><td>5</td></tr><tr><td>ML Mountain Frame - Black 38</td><td>Yuan</td><td>DeFrance</td><td>5</td></tr><tr><td>Lock Washer 5</td><td>Young</td><td>Hunter</td><td>5</td></tr><tr><td>HL Touring Frame - Blue 46</td><td>Yuan</td><td>Panteley</td><td>5</td></tr><tr><td>HL Road Handlebars</td><td>Yang</td><td>Green</td><td>5</td></tr><tr><td>HL Road Rim</td><td>Young</td><td>Panteley</td><td>5</td></tr><tr><td>LL Mountain Seat/Saddle</td><td>Young</td><td>DeFrance</td><td>5</td></tr><tr><td>HL Headset</td><td>Yang</td><td>Straight</td><td>5</td></tr><tr><td>Hex Nut 6</td><td>Yang</td><td>MacFeather</td><td>5</td></tr><tr><td>Hex Nut 8</td><td>Young</td><td>White</td><td>5</td></tr><tr><td>Hex Nut 10</td><td>Young</td><td>Ringer</td><td>5</td></tr><tr><td>Front Derailleur Linkage</td><td>Young</td><td>Straight</td><td>5</td></tr><tr><td>Full-Finger Gloves S</td><td>Yang</td><td>O-Leary</td><td>5</td></tr><tr><td>Full-Finger Gloves S</td><td>Ye</td><td>Locksley</td><td>5</td></tr><tr><td>Freewheel</td><td>Ye</td><td>Panteley</td><td>5</td></tr><tr><td>Flat Washer 1</td><td>Ye</td><td>Blotchet-Halls</td><td>5</td></tr><tr><td>Chainring Bolts</td><td>Yang</td><td>Carson</td><td>4</td></tr><tr><td>Flat Washer 2</td><td>Yang</td><td>Ringer</td><td>4</td></tr><tr><td>Flat Washer 5</td><td>Ye</td><td>White</td><td>4</td></tr><tr><td>Fork Crown</td><td>Yee</td><td>Gringlesby</td><td>4</td></tr><tr><td>Half-Finger Gloves L</td><td>Young</td><td>Dull</td><td>4</td></tr><tr><td>Hex Nut 2</td><td>Young</td><td>Green</td><td>4</td></tr><tr><td>HL Hub</td><td>Yang</td><td>O-Leary</td><td>4</td></tr><tr><td>HL Road Frame - Black 44</td><td>Yuan</td><td>Gringlesby</td><td>4</td></tr><tr><td>LL Mountain Frame - Black 52</td><td>Young</td><td>Carson</td><td>4</td></tr><tr><td>HL Road Front Wheel</td><td>Yang</td><td>MacFeather</td><td>4</td></tr><tr><td>HL Touring Frame - Yellow 54</td><td>Yuan</td><td>Ringer</td><td>4</td></tr><tr><td>HL Touring Frame - Yellow 60</td><td>Yang</td><td>Locksley</td><td>4</td></tr><tr><td>Lock Washer 5</td><td>Yuan</td><td>Greene</td><td>4</td></tr><tr><td>Lock Washer 10</td><td>Young</td><td>Locksley</td><td>4</td></tr><tr><td>Lock Nut 22</td><td>Young</td><td>O-Leary</td><td>4</td></tr><tr><td>LL Touring Frame - Yellow 58</td><td>Yang</td><td>Karsen</td><td>4</td></tr><tr><td>ML Road Pedal</td><td>Yang</td><td>Karsen</td><td>4</td></tr><tr><td>ML Mountain Frame-W - Silver 38</td><td>Yuan</td><td>Stringer</td><td>4</td></tr><tr><td>Road-150 Red 52</td><td>Ye</td><td>Carson</td><td>4</td></tr><tr><td>Mountain-100 Silver 38</td><td>Yang</td><td>DeFrance</td><td>4</td></tr><tr><td>Road-650 Red 62</td><td>Yuan</td><td>Greene</td><td>4</td></tr><tr><td>Road-750 Black 52</td><td>Yang</td><td>Ringer</td><td>4</td></tr><tr><td>Road-750 Black 52</td><td>Yuan</td><td>Bennet</td><td>4</td></tr><tr><td>Road-650 Black 48</td><td>Yang</td><td>Karsen</td><td>4</td></tr><tr><td>Road-550-W Yellow 44</td><td>Yang</td><td>White</td><td>4</td></tr><tr><td>Road-650 Red 58</td><td>Young</td><td>del Castillo</td><td>4</td></tr><tr><td>Road-350-W Yellow 40</td><td>Ye</td><td>Karsen</td><td>4</td></tr><tr><td>Road-150 Red 44</td><td>Ye</td><td>Greene</td><td>4</td></tr><tr><td>Road-250 Red 44</td><td>Yang</td><td>Dull</td><td>4</td></tr><tr><td>Touring-3000 Yellow 44</td><td>Yang</td><td>Green</td><td>4</td></tr><tr><td>Touring-Panniers Large</td><td>Yuan</td><td>Carson</td><td>4</td></tr><tr><td>Touring-1000 Blue 60</td><td>Yang</td><td>Bennet</td><td>4</td></tr><tr><td>Thin-Jam Hex Nut 10</td><td>Ye</td><td>Greene</td><td>4</td></tr><tr><td>Thin-Jam Hex Nut 14</td><td>Young</td><td>Straight</td><td>3</td></tr><tr><td>Thin-Jam Hex Nut 8</td><td>Yang</td><td>del Castillo</td><td>3</td></tr><tr><td>Thin-Jam Lock Nut 10</td><td>Young</td><td>Smith</td><td>3</td></tr><tr><td>Touring-1000 Yellow 46</td><td>Yang</td><td>Green</td><td>3</td></tr><tr><td>Touring-2000 Blue 50</td><td>Ye</td><td>Panteley</td><td>3</td></tr><tr><td>Touring-3000 Yellow 54</td><td>Yang</td><td>DeFrance</td><td>3</td></tr><tr><td>Road-250 Red 44</td><td>Ye</td><td>Yokomoto</td><td>3</td></tr><tr><td>Mountain Tire Tube</td><td>Young</td><td>Straight</td><td>3</td></tr><tr><td>Road-150 Red 52</td><td>Yuan</td><td>Stringer</td><td>3</td></tr><tr><td>ML Headset</td><td>Ye</td><td>Dull</td><td>3</td></tr><tr><td>Mens Sports Shorts L</td><td>Yuan</td><td>Carson</td><td>3</td></tr><tr><td>Metal Plate 2</td><td>Yang</td><td>DeFrance</td><td>3</td></tr><tr><td>Long-Sleeve Logo Jersey M</td><td>Yang</td><td>Smith</td><td>3</td></tr><tr><td>LL Road Seat/Saddle</td><td>Ye</td><td>Greene</td><td>3</td></tr><tr><td>LL Road Handlebars</td><td>Yuan</td><td>Stringer</td><td>3</td></tr><tr><td>Lock Nut 18</td><td>Ye</td><td>Carson</td><td>3</td></tr><tr><td>Lock Nut 18</td><td>Yuan</td><td>Hunter</td><td>3</td></tr><tr><td>Lock Washer 3</td><td>Yang</td><td>Yokomoto</td><td>3</td></tr><tr><td>HL Road Front Wheel</td><td>Yuan</td><td>Carson</td><td>3</td></tr><tr><td>LL Road Frame - Red 52</td><td>Ye</td><td>Locksley</td><td>3</td></tr><tr><td>Hex Nut 20</td><td>Yuan</td><td>Yokomoto</td><td>3</td></tr><tr><td>Hitch Rack - 4-Bike</td><td>Young</td><td>McBadden</td><td>3</td></tr><tr><td>Hex Nut 1</td><td>Ye</td><td>Panteley</td><td>3</td></tr><tr><td>Chain Stays</td><td>Yonekura</td><td>Greene</td><td>3</td></tr><tr><td>Bearing Ball</td><td>Young</td><td>Ringer</td><td>3</td></tr><tr><td>Fender Set - Mountain</td><td>Ye</td><td>Karsen</td><td>3</td></tr><tr><td>Bearing Ball</td><td>Young</td><td>Bennet</td><td>2</td></tr><tr><td>Front Derailleur</td><td>Yuan</td><td>O-Leary</td><td>2</td></tr><tr><td>HL Grip Tape</td><td>Young</td><td>Carson</td><td>2</td></tr><tr><td>Hex Nut 9</td><td>Young</td><td>Blotchet-Halls</td><td>2</td></tr><tr><td>LL Fork</td><td>Yang</td><td>Hunter</td><td>2</td></tr><tr><td>LL Mountain Pedal</td><td>Yang</td><td>Locksley</td><td>2</td></tr><tr><td>HL Road Frame - Black 58</td><td>Ye</td><td>Straight</td><td>2</td></tr><tr><td>Lock Washer 8</td><td>Yang</td><td>Karsen</td><td>2</td></tr><tr><td>LL Road Seat Assembly</td><td>Yuan</td><td>DeFrance</td><td>2</td></tr><tr><td>LL Touring Seat/Saddle</td><td>Yuan</td><td>Gringlesby</td><td>2</td></tr><tr><td>Long-Sleeve Logo Jersey M</td><td>Yuan</td><td>Locksley</td><td>2</td></tr><tr><td>Metal Sheet 2</td><td>Ye</td><td>McBadden</td><td>2</td></tr><tr><td>Metal Sheet 5</td><td>Yang</td><td>Carson</td><td>2</td></tr><tr><td>ML Mountain Frame-W - Silver 46</td><td>Yuan</td><td>Blotchet-Halls</td><td>2</td></tr><tr><td>ML Mountain Handlebars</td><td>Yang</td><td>Karsen</td><td>2</td></tr><tr><td>ML Mountain Rim</td><td>Yang</td><td>Stringer</td><td>2</td></tr><tr><td>ML Touring Seat Assembly</td><td>Yuan</td><td>Karsen</td><td>2</td></tr><tr><td>ML Touring Seat/Saddle</td><td>Yang</td><td>Ringer</td><td>2</td></tr><tr><td>Mountain-500 Black 40</td><td>Yang</td><td>Dull</td><td>2</td></tr><tr><td>Mountain-200 Silver 38</td><td>Young</td><td>Greene</td><td>2</td></tr><tr><td>Mountain-200 Silver 42</td><td>Yang</td><td>Yokomoto</td><td>2</td></tr><tr><td>Road-350-W Yellow 48</td><td>Yuan</td><td>Stringer</td><td>2</td></tr><tr><td>Road-450 Red 48</td><td>Yang</td><td>Stringer</td><td>2</td></tr><tr><td>Road-550-W Yellow 40</td><td>Young</td><td>Ringer</td><td>2</td></tr><tr><td>Road-650 Red 44</td><td>Yuan</td><td>Karsen</td><td>2</td></tr><tr><td>Seat Tube</td><td>Young</td><td>Gringlesby</td><td>2</td></tr><tr><td>Touring-2000 Blue 50</td><td>Young</td><td>Green</td><td>2</td></tr><tr><td>Touring-2000 Blue 46</td><td>Yang</td><td>Bennet</td><td>2</td></tr><tr><td>Thin-Jam Lock Nut 10</td><td>Yang</td><td>del Castillo</td><td>2</td></tr><tr><td>Thin-Jam Hex Nut 6</td><td>Yang</td><td>Gringlesby</td><td>2</td></tr><tr><td>Thin-Jam Hex Nut 15</td><td>Yuan</td><td>MacFeather</td><td>2</td></tr><tr><td>Thin-Jam Lock Nut 10</td><td>Yuan</td><td>Smith</td><td>1</td></tr><tr><td>Thin-Jam Lock Nut 2</td><td>Ye</td><td>MacFeather</td><td>1</td></tr><tr><td>Womens Mountain Shorts L</td><td>Yang</td><td>Smith</td><td>1</td></tr><tr><td>Road-450 Red 44</td><td>Young</td><td>O-Leary</td><td>1</td></tr><tr><td>Mountain-200 Silver 46</td><td>Ye</td><td>Dull</td><td>1</td></tr><tr><td>Mountain-300 Black 40</td><td>Yang</td><td>Green</td><td>1</td></tr><tr><td>Mountain-500 Silver 52</td><td>Yang</td><td>Ringer</td><td>1</td></tr><tr><td>Paint - Black</td><td>Yang</td><td>O-Leary</td><td>1</td></tr><tr><td>Patch Kit/8 Patches</td><td>Yuan</td><td>DeFrance</td><td>1</td></tr><tr><td>Mountain Bike Socks L</td><td>Yang</td><td>Karsen</td><td>1</td></tr><tr><td>Metal Bar 1</td><td>Young</td><td>Blotchet-Halls</td><td>1</td></tr><tr><td>LL Touring Seat Assembly</td><td>Young</td><td>White</td><td>1</td></tr><tr><td>LL Spindle/Axle</td><td>Yang</td><td>DeFrance</td><td>1</td></tr><tr><td>Lock Washer 3</td><td>Ye</td><td>Locksley</td><td>1</td></tr><tr><td>HL Road Frame - Red 44</td><td>Ye</td><td>White</td><td>1</td></tr><tr><td>HL Road Frame - Red 44</td><td>Young</td><td>Blotchet-Halls</td><td>1</td></tr><tr><td>HL Touring Frame - Blue 54</td><td>Ye</td><td>MacFeather</td><td>1</td></tr><tr><td>LL Mountain Seat/Saddle</td><td>Yang</td><td>Stringer</td><td>1</td></tr><tr><td>LL Road Handlebars</td><td>Yang</td><td>Locksley</td><td>1</td></tr><tr><td>HL Road Frame - Black 52</td><td>Yu</td><td>White</td><td>1</td></tr><tr><td>HL Mountain Seat Assembly</td><td>Yang</td><td>Stringer</td><td>1</td></tr><tr><td>HL Mountain Frame - Black 42</td><td>Young</td><td>White</td><td>1</td></tr><tr><td>Blade</td><td>Ye</td><td>Smith</td><td>1</td></tr><tr><td>Chain Stays</td><td>Ye</td><td>DeFrance</td><td>1</td></tr><tr><td>Cone-Shaped Race</td><td>Yuan</td><td>O-Leary</td><td>1</td></tr><tr><td>Womens Tights L</td><td>Yuan</td><td>DeFrance</td><td>1</td></tr></table>"
                    },
                    "metadata": {}
                }
            ],
            "execution_count": 1
        },
        {
            "cell_type": "markdown",
            "source": [
                "You might run this query to get a breakdown of sales by product, client, and salesperson, along with the total number of each product sold. The trends and patterns in sales and customer behaviour could be found using this data.\n",
                "\n",
                "You may adjust the query to filter for only bike-related products, such as frames and mountain cycles, in order to satisfy the report's first criteria, which is to demonstrate how sales in the bike product category are performing. The sales data might potentially be further examined using data mining techniques to search for trends in consumer purchasing behaviour, salesperson effectiveness, and other elements that might affect sales in the bike product category.\n",
                "\n",
                "You could utilise the query's result as-is to fulfil the second criterion of the report, which is a breakdown of sales by product, or you could further analyse the data using methods like data modelling or forecasting to find trends and patterns in the sales of particular products.\n",
                "\n",
                "You may utilise the information from the query to examine client purchase patterns in order to fulfil the third criteria of the report, which is to provide data on customer loyalty. For instance, you may examine the total number of things purchased, the average price of each purchase, and the number of purchases made by each consumer. You might use this data to discover clients who are especially devoted to your business as well as to spot any problems or patterns in consumer behaviour that might have an effect on it.\n",
                "\n",
                "  \n",
                "\n",
                "You may advise the company on how to boost sales in the bike product category, boost client retention, or take care of any other problems or issues that you found through analysis based on the findings of your analysis."
            ],
            "metadata": {
                "azdata_cell_guid": "f759c828-7029-475f-b4b3-a1c114e17368"
            },
            "attachments": {}
        }
    ]
}