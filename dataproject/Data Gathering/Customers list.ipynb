{
    "metadata": {
        "kernelspec": {
            "name": "SQL",
            "display_name": "SQL",
            "language": "sql"
        },
        "language_info": {
            "name": "sql",
            "version": ""
        }
    },
    "nbformat_minor": 2,
    "nbformat": 4,
    "cells": [
        {
            "cell_type": "markdown",
            "source": [
                "**<u>Customers list</u>**"
            ],
            "metadata": {
                "azdata_cell_guid": "aa99e5da-94af-4671-b4ba-8d1eee72ce91"
            },
            "attachments": {}
        },
        {
            "cell_type": "code",
            "source": [
                "SELECT Customers.CustomerID, Customers.FirstName, Customers.MiddleInitial, Customers.LastName\n",
                "FROM Customers\n",
                "INNER JOIN Sales ON Customers.CustomerID = Sales.CustomerID\n",
                "INNER JOIN Products ON Sales.ProductID = Products.ProductID\n",
                "WHERE Products.Name LIKE '%Mountain%'\n",
                "OR Products.Name LIKE '%Frame%'"
            ],
            "metadata": {
                "azdata_cell_guid": "0197e6ad-352d-47c7-b952-b4367e89f5b2",
                "language": "sql"
            },
            "outputs": [
                {
                    "output_type": "display_data",
                    "data": {
                        "text/html": "(90 rows affected)"
                    },
                    "metadata": {}
                },
                {
                    "output_type": "display_data",
                    "data": {
                        "text/html": "Total execution time: 00:00:00.034"
                    },
                    "metadata": {}
                },
                {
                    "output_type": "execute_result",
                    "execution_count": 1,
                    "data": {
                        "application/vnd.dataresource+json": {
                            "schema": {
                                "fields": [
                                    {
                                        "name": "CustomerID"
                                    },
                                    {
                                        "name": "FirstName"
                                    },
                                    {
                                        "name": "MiddleInitial"
                                    },
                                    {
                                        "name": "LastName"
                                    }
                                ]
                            },
                            "data": [
                                {
                                    "0": "1",
                                    "1": "Aaron",
                                    "2": "C",
                                    "3": "Yang"
                                },
                                {
                                    "0": "4",
                                    "1": "Alan",
                                    "2": "NULL",
                                    "3": "Ye"
                                },
                                {
                                    "0": "8",
                                    "1": "Alejandro",
                                    "2": "W",
                                    "3": "Ye"
                                },
                                {
                                    "0": "12",
                                    "1": "Alisha",
                                    "2": "NULL",
                                    "3": "Yang"
                                },
                                {
                                    "0": "13",
                                    "1": "Alisha",
                                    "2": "J",
                                    "3": "Ye"
                                },
                                {
                                    "0": "15",
                                    "1": "Alison",
                                    "2": "K",
                                    "3": "Yuan"
                                },
                                {
                                    "0": "20",
                                    "1": "Amanda",
                                    "2": "NULL",
                                    "3": "Young"
                                },
                                {
                                    "0": "42",
                                    "1": "Brendan",
                                    "2": "S",
                                    "3": "Yuan"
                                },
                                {
                                    "0": "42",
                                    "1": "Brendan",
                                    "2": "S",
                                    "3": "Yuan"
                                },
                                {
                                    "0": "49",
                                    "1": "Calvin",
                                    "2": "NULL",
                                    "3": "Yuan"
                                },
                                {
                                    "0": "50",
                                    "1": "Cameron",
                                    "2": "NULL",
                                    "3": "Yang"
                                },
                                {
                                    "0": "51",
                                    "1": "Candice",
                                    "2": "L",
                                    "3": "Ye"
                                },
                                {
                                    "0": "52",
                                    "1": "Cara",
                                    "2": "L",
                                    "3": "Ye"
                                },
                                {
                                    "0": "64",
                                    "1": "Christine",
                                    "2": "NULL",
                                    "3": "Yuan"
                                },
                                {
                                    "0": "67",
                                    "1": "Clarence",
                                    "2": "D",
                                    "3": "Yuan"
                                },
                                {
                                    "0": "72",
                                    "1": "Clayton",
                                    "2": "C",
                                    "3": "Yang"
                                },
                                {
                                    "0": "76",
                                    "1": "Colleen",
                                    "2": "NULL",
                                    "3": "Yang"
                                },
                                {
                                    "0": "78",
                                    "1": "Connor",
                                    "2": "NULL",
                                    "3": "Yang"
                                },
                                {
                                    "0": "80",
                                    "1": "Corey",
                                    "2": "NULL",
                                    "3": "Yuan"
                                },
                                {
                                    "0": "93",
                                    "1": "David",
                                    "2": "NULL",
                                    "3": "Yang"
                                },
                                {
                                    "0": "97",
                                    "1": "Dawn",
                                    "2": "A",
                                    "3": "Yuan"
                                },
                                {
                                    "0": "107",
                                    "1": "Edward",
                                    "2": "A",
                                    "3": "Young"
                                },
                                {
                                    "0": "107",
                                    "1": "Edward",
                                    "2": "A",
                                    "3": "Young"
                                },
                                {
                                    "0": "111",
                                    "1": "Elijah",
                                    "2": "NULL",
                                    "3": "Young"
                                },
                                {
                                    "0": "118",
                                    "1": "Ethan",
                                    "2": "L",
                                    "3": "Yang"
                                },
                                {
                                    "0": "125",
                                    "1": "Gabriel",
                                    "2": "C",
                                    "3": "Young"
                                },
                                {
                                    "0": "134",
                                    "1": "Gilbert",
                                    "2": "M",
                                    "3": "Yang"
                                },
                                {
                                    "0": "145",
                                    "1": "Ian",
                                    "2": "A",
                                    "3": "Yuhasz"
                                },
                                {
                                    "0": "160",
                                    "1": "Jamie",
                                    "2": "C",
                                    "3": "Ye"
                                },
                                {
                                    "0": "162",
                                    "1": "Janet",
                                    "2": "NULL",
                                    "3": "Young"
                                },
                                {
                                    "0": "162",
                                    "1": "Janet",
                                    "2": "NULL",
                                    "3": "Young"
                                },
                                {
                                    "0": "164",
                                    "1": "Jason",
                                    "2": "M",
                                    "3": "Yang"
                                },
                                {
                                    "0": "167",
                                    "1": "Jenna",
                                    "2": "W",
                                    "3": "Young"
                                },
                                {
                                    "0": "173",
                                    "1": "Jesse",
                                    "2": "E",
                                    "3": "Young"
                                },
                                {
                                    "0": "174",
                                    "1": "Jessie",
                                    "2": "E",
                                    "3": "Yang"
                                },
                                {
                                    "0": "175",
                                    "1": "Jessie",
                                    "2": "J",
                                    "3": "Ye"
                                },
                                {
                                    "0": "180",
                                    "1": "Jon",
                                    "2": "W",
                                    "3": "Ye"
                                },
                                {
                                    "0": "184",
                                    "1": "Jordan",
                                    "2": "J",
                                    "3": "Young"
                                },
                                {
                                    "0": "192",
                                    "1": "Justin",
                                    "2": "S",
                                    "3": "Yang"
                                },
                                {
                                    "0": "199",
                                    "1": "Kate",
                                    "2": "NULL",
                                    "3": "Yuan"
                                },
                                {
                                    "0": "199",
                                    "1": "Kate",
                                    "2": "NULL",
                                    "3": "Yuan"
                                },
                                {
                                    "0": "200",
                                    "1": "Katelyn",
                                    "2": "W",
                                    "3": "Young"
                                },
                                {
                                    "0": "200",
                                    "1": "Katelyn",
                                    "2": "W",
                                    "3": "Young"
                                },
                                {
                                    "0": "207",
                                    "1": "Kelli",
                                    "2": "NULL",
                                    "3": "Ye"
                                },
                                {
                                    "0": "210",
                                    "1": "Kelvin",
                                    "2": "NULL",
                                    "3": "Yang"
                                },
                                {
                                    "0": "211",
                                    "1": "Kelvin",
                                    "2": "L",
                                    "3": "Yuan"
                                },
                                {
                                    "0": "234",
                                    "1": "Logan",
                                    "2": "M",
                                    "3": "Yang"
                                },
                                {
                                    "0": "239",
                                    "1": "Luis",
                                    "2": "NULL",
                                    "3": "Yang"
                                },
                                {
                                    "0": "241",
                                    "1": "Luke",
                                    "2": "NULL",
                                    "3": "Yang"
                                },
                                {
                                    "0": "247",
                                    "1": "Marcus",
                                    "2": "A",
                                    "3": "Young"
                                },
                                {
                                    "0": "250",
                                    "1": "Marshall",
                                    "2": "E",
                                    "3": "Yang"
                                },
                                {
                                    "0": "250",
                                    "1": "Marshall",
                                    "2": "E",
                                    "3": "Yang"
                                },
                                {
                                    "0": "252",
                                    "1": "Marshall",
                                    "2": "R",
                                    "3": "Ye"
                                },
                                {
                                    "0": "253",
                                    "1": "Martha",
                                    "2": "NULL",
                                    "3": "Ye"
                                },
                                {
                                    "0": "253",
                                    "1": "Martha",
                                    "2": "NULL",
                                    "3": "Ye"
                                },
                                {
                                    "0": "254",
                                    "1": "Martha",
                                    "2": "G",
                                    "3": "Yang"
                                },
                                {
                                    "0": "257",
                                    "1": "Maurice",
                                    "2": "NULL",
                                    "3": "Yuan"
                                },
                                {
                                    "0": "259",
                                    "1": "Micah",
                                    "2": "A",
                                    "3": "Yang"
                                },
                                {
                                    "0": "264",
                                    "1": "Misty",
                                    "2": "J",
                                    "3": "Yuan"
                                },
                                {
                                    "0": "264",
                                    "1": "Misty",
                                    "2": "J",
                                    "3": "Yuan"
                                },
                                {
                                    "0": "268",
                                    "1": "Nathan",
                                    "2": "D",
                                    "3": "Yang"
                                },
                                {
                                    "0": "273",
                                    "1": "Noah",
                                    "2": "NULL",
                                    "3": "Yang"
                                },
                                {
                                    "0": "276",
                                    "1": "Nuan",
                                    "2": "NULL",
                                    "3": "Yu"
                                },
                                {
                                    "0": "278",
                                    "1": "Omar",
                                    "2": "NULL",
                                    "3": "Yang"
                                },
                                {
                                    "0": "279",
                                    "1": "Omar",
                                    "2": "NULL",
                                    "3": "Ye"
                                },
                                {
                                    "0": "286",
                                    "1": "Ramon",
                                    "2": "K",
                                    "3": "Yang"
                                },
                                {
                                    "0": "288",
                                    "1": "Randy",
                                    "2": "G",
                                    "3": "Ye"
                                },
                                {
                                    "0": "292",
                                    "1": "Richard",
                                    "2": "T",
                                    "3": "Young"
                                },
                                {
                                    "0": "293",
                                    "1": "Rob",
                                    "2": "NULL",
                                    "3": "Young"
                                },
                                {
                                    "0": "296",
                                    "1": "Roger",
                                    "2": "NULL",
                                    "3": "Yuan"
                                },
                                {
                                    "0": "300",
                                    "1": "Rosa",
                                    "2": "NULL",
                                    "3": "Yang"
                                },
                                {
                                    "0": "304",
                                    "1": "Samuel",
                                    "2": "R",
                                    "3": "Yang"
                                },
                                {
                                    "0": "305",
                                    "1": "Sandra",
                                    "2": "NULL",
                                    "3": "Yang"
                                },
                                {
                                    "0": "305",
                                    "1": "Sandra",
                                    "2": "NULL",
                                    "3": "Yang"
                                },
                                {
                                    "0": "306",
                                    "1": "Sandra",
                                    "2": "NULL",
                                    "3": "Ye"
                                },
                                {
                                    "0": "318",
                                    "1": "Stacey",
                                    "2": "NULL",
                                    "3": "Ye"
                                },
                                {
                                    "0": "321",
                                    "1": "Steve",
                                    "2": "L",
                                    "3": "Yang"
                                },
                                {
                                    "0": "321",
                                    "1": "Steve",
                                    "2": "L",
                                    "3": "Yang"
                                },
                                {
                                    "0": "323",
                                    "1": "Susan",
                                    "2": "E",
                                    "3": "Yang"
                                },
                                {
                                    "0": "330",
                                    "1": "Tamara",
                                    "2": "R",
                                    "3": "Yang"
                                },
                                {
                                    "0": "333",
                                    "1": "Terrence",
                                    "2": "T",
                                    "3": "Yuan"
                                },
                                {
                                    "0": "337",
                                    "1": "Tiffany",
                                    "2": "K",
                                    "3": "Yang"
                                },
                                {
                                    "0": "339",
                                    "1": "Timothy",
                                    "2": "NULL",
                                    "3": "Young"
                                },
                                {
                                    "0": "341",
                                    "1": "Tom",
                                    "2": "NULL",
                                    "3": "Youtsey"
                                },
                                {
                                    "0": "344",
                                    "1": "Trisha",
                                    "2": "R",
                                    "3": "Ye"
                                },
                                {
                                    "0": "349",
                                    "1": "Warren",
                                    "2": "NULL",
                                    "3": "Ye"
                                },
                                {
                                    "0": "351",
                                    "1": "Warren",
                                    "2": "P",
                                    "3": "Yuan"
                                },
                                {
                                    "0": "358",
                                    "1": "Xavier",
                                    "2": "F",
                                    "3": "Young"
                                },
                                {
                                    "0": "359",
                                    "1": "Yolanda",
                                    "2": "C",
                                    "3": "Yuan"
                                },
                                {
                                    "0": "360",
                                    "1": "Zachary",
                                    "2": "F",
                                    "3": "Yang"
                                }
                            ]
                        },
                        "text/html": "<table><tr><th>CustomerID</th><th>FirstName</th><th>MiddleInitial</th><th>LastName</th></tr><tr><td>1</td><td>Aaron</td><td>C</td><td>Yang</td></tr><tr><td>4</td><td>Alan</td><td>NULL</td><td>Ye</td></tr><tr><td>8</td><td>Alejandro</td><td>W</td><td>Ye</td></tr><tr><td>12</td><td>Alisha</td><td>NULL</td><td>Yang</td></tr><tr><td>13</td><td>Alisha</td><td>J</td><td>Ye</td></tr><tr><td>15</td><td>Alison</td><td>K</td><td>Yuan</td></tr><tr><td>20</td><td>Amanda</td><td>NULL</td><td>Young</td></tr><tr><td>42</td><td>Brendan</td><td>S</td><td>Yuan</td></tr><tr><td>42</td><td>Brendan</td><td>S</td><td>Yuan</td></tr><tr><td>49</td><td>Calvin</td><td>NULL</td><td>Yuan</td></tr><tr><td>50</td><td>Cameron</td><td>NULL</td><td>Yang</td></tr><tr><td>51</td><td>Candice</td><td>L</td><td>Ye</td></tr><tr><td>52</td><td>Cara</td><td>L</td><td>Ye</td></tr><tr><td>64</td><td>Christine</td><td>NULL</td><td>Yuan</td></tr><tr><td>67</td><td>Clarence</td><td>D</td><td>Yuan</td></tr><tr><td>72</td><td>Clayton</td><td>C</td><td>Yang</td></tr><tr><td>76</td><td>Colleen</td><td>NULL</td><td>Yang</td></tr><tr><td>78</td><td>Connor</td><td>NULL</td><td>Yang</td></tr><tr><td>80</td><td>Corey</td><td>NULL</td><td>Yuan</td></tr><tr><td>93</td><td>David</td><td>NULL</td><td>Yang</td></tr><tr><td>97</td><td>Dawn</td><td>A</td><td>Yuan</td></tr><tr><td>107</td><td>Edward</td><td>A</td><td>Young</td></tr><tr><td>107</td><td>Edward</td><td>A</td><td>Young</td></tr><tr><td>111</td><td>Elijah</td><td>NULL</td><td>Young</td></tr><tr><td>118</td><td>Ethan</td><td>L</td><td>Yang</td></tr><tr><td>125</td><td>Gabriel</td><td>C</td><td>Young</td></tr><tr><td>134</td><td>Gilbert</td><td>M</td><td>Yang</td></tr><tr><td>145</td><td>Ian</td><td>A</td><td>Yuhasz</td></tr><tr><td>160</td><td>Jamie</td><td>C</td><td>Ye</td></tr><tr><td>162</td><td>Janet</td><td>NULL</td><td>Young</td></tr><tr><td>162</td><td>Janet</td><td>NULL</td><td>Young</td></tr><tr><td>164</td><td>Jason</td><td>M</td><td>Yang</td></tr><tr><td>167</td><td>Jenna</td><td>W</td><td>Young</td></tr><tr><td>173</td><td>Jesse</td><td>E</td><td>Young</td></tr><tr><td>174</td><td>Jessie</td><td>E</td><td>Yang</td></tr><tr><td>175</td><td>Jessie</td><td>J</td><td>Ye</td></tr><tr><td>180</td><td>Jon</td><td>W</td><td>Ye</td></tr><tr><td>184</td><td>Jordan</td><td>J</td><td>Young</td></tr><tr><td>192</td><td>Justin</td><td>S</td><td>Yang</td></tr><tr><td>199</td><td>Kate</td><td>NULL</td><td>Yuan</td></tr><tr><td>199</td><td>Kate</td><td>NULL</td><td>Yuan</td></tr><tr><td>200</td><td>Katelyn</td><td>W</td><td>Young</td></tr><tr><td>200</td><td>Katelyn</td><td>W</td><td>Young</td></tr><tr><td>207</td><td>Kelli</td><td>NULL</td><td>Ye</td></tr><tr><td>210</td><td>Kelvin</td><td>NULL</td><td>Yang</td></tr><tr><td>211</td><td>Kelvin</td><td>L</td><td>Yuan</td></tr><tr><td>234</td><td>Logan</td><td>M</td><td>Yang</td></tr><tr><td>239</td><td>Luis</td><td>NULL</td><td>Yang</td></tr><tr><td>241</td><td>Luke</td><td>NULL</td><td>Yang</td></tr><tr><td>247</td><td>Marcus</td><td>A</td><td>Young</td></tr><tr><td>250</td><td>Marshall</td><td>E</td><td>Yang</td></tr><tr><td>250</td><td>Marshall</td><td>E</td><td>Yang</td></tr><tr><td>252</td><td>Marshall</td><td>R</td><td>Ye</td></tr><tr><td>253</td><td>Martha</td><td>NULL</td><td>Ye</td></tr><tr><td>253</td><td>Martha</td><td>NULL</td><td>Ye</td></tr><tr><td>254</td><td>Martha</td><td>G</td><td>Yang</td></tr><tr><td>257</td><td>Maurice</td><td>NULL</td><td>Yuan</td></tr><tr><td>259</td><td>Micah</td><td>A</td><td>Yang</td></tr><tr><td>264</td><td>Misty</td><td>J</td><td>Yuan</td></tr><tr><td>264</td><td>Misty</td><td>J</td><td>Yuan</td></tr><tr><td>268</td><td>Nathan</td><td>D</td><td>Yang</td></tr><tr><td>273</td><td>Noah</td><td>NULL</td><td>Yang</td></tr><tr><td>276</td><td>Nuan</td><td>NULL</td><td>Yu</td></tr><tr><td>278</td><td>Omar</td><td>NULL</td><td>Yang</td></tr><tr><td>279</td><td>Omar</td><td>NULL</td><td>Ye</td></tr><tr><td>286</td><td>Ramon</td><td>K</td><td>Yang</td></tr><tr><td>288</td><td>Randy</td><td>G</td><td>Ye</td></tr><tr><td>292</td><td>Richard</td><td>T</td><td>Young</td></tr><tr><td>293</td><td>Rob</td><td>NULL</td><td>Young</td></tr><tr><td>296</td><td>Roger</td><td>NULL</td><td>Yuan</td></tr><tr><td>300</td><td>Rosa</td><td>NULL</td><td>Yang</td></tr><tr><td>304</td><td>Samuel</td><td>R</td><td>Yang</td></tr><tr><td>305</td><td>Sandra</td><td>NULL</td><td>Yang</td></tr><tr><td>305</td><td>Sandra</td><td>NULL</td><td>Yang</td></tr><tr><td>306</td><td>Sandra</td><td>NULL</td><td>Ye</td></tr><tr><td>318</td><td>Stacey</td><td>NULL</td><td>Ye</td></tr><tr><td>321</td><td>Steve</td><td>L</td><td>Yang</td></tr><tr><td>321</td><td>Steve</td><td>L</td><td>Yang</td></tr><tr><td>323</td><td>Susan</td><td>E</td><td>Yang</td></tr><tr><td>330</td><td>Tamara</td><td>R</td><td>Yang</td></tr><tr><td>333</td><td>Terrence</td><td>T</td><td>Yuan</td></tr><tr><td>337</td><td>Tiffany</td><td>K</td><td>Yang</td></tr><tr><td>339</td><td>Timothy</td><td>NULL</td><td>Young</td></tr><tr><td>341</td><td>Tom</td><td>NULL</td><td>Youtsey</td></tr><tr><td>344</td><td>Trisha</td><td>R</td><td>Ye</td></tr><tr><td>349</td><td>Warren</td><td>NULL</td><td>Ye</td></tr><tr><td>351</td><td>Warren</td><td>P</td><td>Yuan</td></tr><tr><td>358</td><td>Xavier</td><td>F</td><td>Young</td></tr><tr><td>359</td><td>Yolanda</td><td>C</td><td>Yuan</td></tr><tr><td>360</td><td>Zachary</td><td>F</td><td>Yang</td></tr></table>"
                    },
                    "metadata": {}
                }
            ],
            "execution_count": 1
        },
        {
            "cell_type": "markdown",
            "source": [
                "You can get customer information for clients who have bought mountain or frame products by running this query. You can use this to undertake some fundamental data analysis and respond to the report's questions.\n",
                "\n",
                "  \n",
                "\n",
                "By adding the sales of the mountain and frame products, for instance, you can use this data to determine the overall sales for the bike product category. Counting the number of mountain and frame products sold will allow you to construct a breakdown of sales by product using this data.\n",
                "\n",
                "  \n",
                "\n",
                "You can use this data to compare the overall number of customers in the Customers database to the number of customers that have purchased mountain or frame products in order to assess customer loyalty. This will give you a sense of the proportion of customers who have bought these kinds of products and their level of brand loyalty.\n",
                "\n",
                "  \n",
                "\n",
                "This data can be used to spot patterns and trends in consumer behaviour. To find patterns or trends in the data, you may, for instance, examine the distribution of client purchases over time. If you want to find out if there are any geographical patterns in client behaviour, you could also look at the distribution of purchases by area.\n",
                "\n",
                "  \n",
                "\n",
                "In terms of data modelling and forecasting, you could use this knowledge to produce a predictive model that forecasts, based on prior purchases, the possibility that a consumer will buy a mountain or frame product. This might be helpful for finding prospective clients for targeted marketing campaigns or for finding chances for upselling.\n",
                "\n",
                "  \n",
                "\n",
                "In conclusion, this search will yield a plethora of data that you can use to examine the success of the bike product category, comprehend client loyalty, and spot trends and patterns in consumer behaviour."
            ],
            "metadata": {
                "azdata_cell_guid": "f7f37c33-9494-4478-a8aa-d14745d4ad84"
            },
            "attachments": {}
        }
    ]
}