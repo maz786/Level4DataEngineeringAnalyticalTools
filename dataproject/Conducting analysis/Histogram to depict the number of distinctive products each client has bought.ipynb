{
    "metadata": {
        "kernelspec": {
            "name": "python3",
            "display_name": "Python 3 (ipykernel)",
            "language": "python"
        },
        "language_info": {
            "name": "python",
            "version": "3.9.13",
            "mimetype": "text/x-python",
            "codemirror_mode": {
                "name": "ipython",
                "version": 3
            },
            "pygments_lexer": "ipython3",
            "nbconvert_exporter": "python",
            "file_extension": ".py"
        }
    },
    "nbformat_minor": 2,
    "nbformat": 4,
    "cells": [
        {
            "cell_type": "markdown",
            "source": [
                "**<u>Histogram to depict the number of distinctive products each client has bought.</u>**"
            ],
            "metadata": {
                "azdata_cell_guid": "703aee8c-98ae-4d26-8b1d-711c2af15eaa"
            },
            "attachments": {}
        },
        {
            "cell_type": "code",
            "source": [
                "customer_unique_products.plot(kind='hist')\n",
                "plt.show()"
            ],
            "metadata": {
                "azdata_cell_guid": "b3420b95-a7a2-40fa-a6f6-30d07fdcb419",
                "language": "python"
            },
            "outputs": [
                {
                    "output_type": "error",
                    "ename": "NameError",
                    "evalue": "name 'customer_unique_products' is not defined",
                    "traceback": [
                        "\u001b[0;31m---------------------------------------------------------------------------\u001b[0m",
                        "\u001b[0;31mNameError\u001b[0m                                 Traceback (most recent call last)",
                        "\u001b[0;32m/var/folders/jh/8d6sqffx7q90ct5jlxs_mfy00000gn/T/ipykernel_31482/3362776052.py\u001b[0m in \u001b[0;36m<module>\u001b[0;34m\u001b[0m\n\u001b[0;32m----> 1\u001b[0;31m \u001b[0mcustomer_unique_products\u001b[0m\u001b[0;34m.\u001b[0m\u001b[0mplot\u001b[0m\u001b[0;34m(\u001b[0m\u001b[0mkind\u001b[0m\u001b[0;34m=\u001b[0m\u001b[0;34m'hist'\u001b[0m\u001b[0;34m)\u001b[0m\u001b[0;34m\u001b[0m\u001b[0;34m\u001b[0m\u001b[0m\n\u001b[0m\u001b[1;32m      2\u001b[0m \u001b[0mplt\u001b[0m\u001b[0;34m.\u001b[0m\u001b[0mshow\u001b[0m\u001b[0;34m(\u001b[0m\u001b[0;34m)\u001b[0m\u001b[0;34m\u001b[0m\u001b[0;34m\u001b[0m\u001b[0m\n",
                        "\u001b[0;31mNameError\u001b[0m: name 'customer_unique_products' is not defined"
                    ]
                }
            ],
            "execution_count": 1
        },
        {
            "cell_type": "markdown",
            "source": [
                "The customer unique products data would be plotted as a histogram after running this query. A histogram is a visual depiction of a dataset's distribution that can be used to spot patterns and trends.\n",
                "\n",
                "In this particular instance, the histogram would display the distribution of the variety of goods each customer purchased. The ability to observe how many various things each consumer has purchased and perhaps even spot patterns in their buying habits makes this information useful for assessing customer loyalty.\n",
                "\n",
                "For example, you might find that a significant portion of customers only purchase a single product, while a smaller portion of customers purchase a larger number of products. This could indicate that there is an opportunity to increase customer loyalty by encouraging customers to purchase more products.\n",
                "\n",
                "Additionally, the histogram could help identify any issues or recommendations related to the organization's sales and marketing strategies. For example, if the distribution is heavily skewed towards a small number of products, it could indicate that the organization is not effectively promoting a diverse range of products, or that certain products are not resonating with customers. This could be an area of focus for the organization to address in order to improve sales and customer loyalty."
            ],
            "metadata": {
                "azdata_cell_guid": "3926edfd-fb06-496f-9aec-6862bfb462f3"
            },
            "attachments": {}
        }
    ]
}