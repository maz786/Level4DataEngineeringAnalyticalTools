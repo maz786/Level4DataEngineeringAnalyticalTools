{
    "metadata": {
        "kernelspec": {
            "name": "python3",
            "display_name": "Python 3 (ipykernel)",
            "language": "python"
        },
        "language_info": {
            "name": "python",
            "version": "3.9.13",
            "mimetype": "text/x-python",
            "codemirror_mode": {
                "name": "ipython",
                "version": 3
            },
            "pygments_lexer": "ipython3",
            "nbconvert_exporter": "python",
            "file_extension": ".py"
        }
    },
    "nbformat_minor": 2,
    "nbformat": 4,
    "cells": [
        {
            "cell_type": "markdown",
            "source": [
                "**<u>Sales breakdown by product</u>**"
            ],
            "metadata": {
                "azdata_cell_guid": "6e0bc451-1f96-41a5-a3e4-fd188d17ff2b"
            },
            "attachments": {}
        },
        {
            "cell_type": "code",
            "source": [
                "# Set the figure size\n",
                "plt.figure(figsize=(10, 5))\n",
                "# Create the bar chart\n",
                "plt.bar(sales_by_product['Name'], sales_by_product['Total Quantity Sold'])\n",
                "# Add a title and axis labels\n",
                "plt.title('Sales Breakdown by Product')\n",
                "plt.xlabel('Product')\n",
                "plt.ylabel('Total Quantity Sold')\n",
                "# Show the plot\n",
                "plt.show()"
            ],
            "metadata": {
                "azdata_cell_guid": "8a4c388d-dc07-40ff-922a-b1b488ac785a",
                "language": "python",
                "pycharm": {
                    "is_executing": true
                },
                "tags": []
            },
            "outputs": [
                {
                    "traceback": [
                        "\u001b[0;31m---------------------------------------------------------------------------\u001b[0m",
                        "\u001b[0;31mNameError\u001b[0m                                 Traceback (most recent call last)",
                        "\u001b[0;32m/var/folders/jh/8d6sqffx7q90ct5jlxs_mfy00000gn/T/ipykernel_21764/2614074695.py\u001b[0m in \u001b[0;36m<module>\u001b[0;34m\u001b[0m\n\u001b[1;32m      1\u001b[0m \u001b[0;31m# Set the figure size\u001b[0m\u001b[0;34m\u001b[0m\u001b[0;34m\u001b[0m\u001b[0m\n\u001b[0;32m----> 2\u001b[0;31m \u001b[0mplt\u001b[0m\u001b[0;34m.\u001b[0m\u001b[0mfigure\u001b[0m\u001b[0;34m(\u001b[0m\u001b[0mfigsize\u001b[0m\u001b[0;34m=\u001b[0m\u001b[0;34m(\u001b[0m\u001b[0;36m10\u001b[0m\u001b[0;34m,\u001b[0m \u001b[0;36m5\u001b[0m\u001b[0;34m)\u001b[0m\u001b[0;34m)\u001b[0m\u001b[0;34m\u001b[0m\u001b[0;34m\u001b[0m\u001b[0m\n\u001b[0m\u001b[1;32m      3\u001b[0m \u001b[0;31m# Create the bar chart\u001b[0m\u001b[0;34m\u001b[0m\u001b[0;34m\u001b[0m\u001b[0m\n\u001b[1;32m      4\u001b[0m \u001b[0mplt\u001b[0m\u001b[0;34m.\u001b[0m\u001b[0mbar\u001b[0m\u001b[0;34m(\u001b[0m\u001b[0msales_by_product\u001b[0m\u001b[0;34m[\u001b[0m\u001b[0;34m'Name'\u001b[0m\u001b[0;34m]\u001b[0m\u001b[0;34m,\u001b[0m \u001b[0msales_by_product\u001b[0m\u001b[0;34m[\u001b[0m\u001b[0;34m'Total Quantity Sold'\u001b[0m\u001b[0;34m]\u001b[0m\u001b[0;34m)\u001b[0m\u001b[0;34m\u001b[0m\u001b[0;34m\u001b[0m\u001b[0m\n\u001b[1;32m      5\u001b[0m \u001b[0;31m# Add a title and axis labels\u001b[0m\u001b[0;34m\u001b[0m\u001b[0;34m\u001b[0m\u001b[0m\n",
                        "\u001b[0;31mNameError\u001b[0m: name 'plt' is not defined"
                    ],
                    "ename": "NameError",
                    "evalue": "name 'plt' is not defined",
                    "output_type": "error"
                }
            ],
            "execution_count": 2
        },
        {
            "cell_type": "markdown",
            "source": [
                "In order to see the relative performance of each product in terms of quantity sold, you would be able to see the sales breakdown by product by executing this query. You would be able to determine which goods are functioning well and which ones are not. Your ability to see trends or patterns in sales could help you make business decisions, such as focusing on products that are selling well or dropping those that are not.\n",
                "\n",
                "  \n",
                "\n",
                "On the basis of the sales data, you would also be able to see any potential problems or suggestions. For instance, you might want to look into why a certain product's sales are much lower than those of similar products and offer suggestions on how to increase those sales. Alternately, if you notice that a certain product's sales are much higher than those of similar products, you might want to think about boosting production or allocating more funds to its marketing.\n",
                "\n",
                "  \n",
                "\n",
                "Overall, performing this query would give you insightful information about the bike goods' sales performance and enable you to give the business data-driven recommendations."
            ],
            "metadata": {
                "azdata_cell_guid": "e92b4e74-7db0-4220-9d99-e4f5418da3e4"
            },
            "attachments": {}
        }
    ]
}