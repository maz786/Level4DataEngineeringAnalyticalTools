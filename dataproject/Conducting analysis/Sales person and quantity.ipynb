{
    "metadata": {
        "kernelspec": {
            "name": "python3",
            "display_name": "Python 3 (ipykernel)",
            "language": "python"
        },
        "language_info": {
            "name": "python",
            "version": "3.9.13",
            "mimetype": "text/x-python",
            "codemirror_mode": {
                "name": "ipython",
                "version": 3
            },
            "pygments_lexer": "ipython3",
            "nbconvert_exporter": "python",
            "file_extension": ".py"
        }
    },
    "nbformat_minor": 2,
    "nbformat": 4,
    "cells": [
        {
            "cell_type": "markdown",
            "source": [
                "```\n",
                "Sales person and quantity\n",
                "\n",
                "```"
            ],
            "metadata": {
                "azdata_cell_guid": "e1a5ad46-0724-4c8c-bedf-04caa3f1635e"
            },
            "attachments": {}
        },
        {
            "cell_type": "code",
            "source": [
                "# import matplotlib and set up the plot\n",
                "import matplotlib.pyplot as plt\n",
                "# read in the data and group it by salesperson\n",
                "sales_by_salesperson = sales_df.groupby('SalesPersonID')['Quantity'].sum()\n",
                "# plot the data using the 'pie' method\n",
                "plt.pie(sales_by_salesperson.values, labels=sales_by_salesperson.index)\n",
                "# show the plot\n",
                "plt.show()\n",
                ""
            ],
            "metadata": {
                "tags": [],
                "azdata_cell_guid": "6e0c025e-e1d0-4031-a254-0ba38f0a83a4",
                "language": "python"
            },
            "outputs": [
                {
                    "traceback": [
                        "\u001b[0;31m---------------------------------------------------------------------------\u001b[0m",
                        "\u001b[0;31mNameError\u001b[0m                                 Traceback (most recent call last)",
                        "\u001b[0;32m/var/folders/jh/8d6sqffx7q90ct5jlxs_mfy00000gn/T/ipykernel_39289/2685549985.py\u001b[0m in \u001b[0;36m<module>\u001b[0;34m\u001b[0m\n\u001b[1;32m      1\u001b[0m \u001b[0;31m# import matplotlib and set up the plot\u001b[0m\u001b[0;34m\u001b[0m\u001b[0;34m\u001b[0m\u001b[0m\n\u001b[1;32m      2\u001b[0m \u001b[0;32mimport\u001b[0m \u001b[0mmatplotlib\u001b[0m\u001b[0;34m.\u001b[0m\u001b[0mpyplot\u001b[0m \u001b[0;32mas\u001b[0m \u001b[0mplt\u001b[0m\u001b[0;34m\u001b[0m\u001b[0;34m\u001b[0m\u001b[0m\n\u001b[0;32m----> 3\u001b[0;31m \u001b[0mcustomers_df\u001b[0m \u001b[0;34m=\u001b[0m \u001b[0mpd\u001b[0m\u001b[0;34m.\u001b[0m\u001b[0mread_csv\u001b[0m\u001b[0;34m(\u001b[0m\u001b[0;34m'/Users/maz/Library/Mobile Documents/com~apple~CloudDocs/Documents/Education/Digital Skills/Data /Level 4 Data Analytics/Week 7/Project/csv/Customers.csv'\u001b[0m\u001b[0;34m)\u001b[0m\u001b[0;34m\u001b[0m\u001b[0;34m\u001b[0m\u001b[0m\n\u001b[0m\u001b[1;32m      4\u001b[0m \u001b[0msales_df\u001b[0m \u001b[0;34m=\u001b[0m \u001b[0mpd\u001b[0m\u001b[0;34m.\u001b[0m\u001b[0mread_csv\u001b[0m\u001b[0;34m(\u001b[0m\u001b[0;34m'/Users/maz/Library/Mobile Documents/com~apple~CloudDocs/Documents/Education/Digital Skills/Data /Level 4 Data Analytics/Week 7/Project/csv/Sales.csv'\u001b[0m\u001b[0;34m)\u001b[0m\u001b[0;34m\u001b[0m\u001b[0;34m\u001b[0m\u001b[0m\n\u001b[1;32m      5\u001b[0m \u001b[0memployees_df\u001b[0m \u001b[0;34m=\u001b[0m \u001b[0mpd\u001b[0m\u001b[0;34m.\u001b[0m\u001b[0mread_csv\u001b[0m\u001b[0;34m(\u001b[0m\u001b[0;34m'/Users/maz/Library/Mobile Documents/com~apple~CloudDocs/Documents/Education/Digital Skills/Data /Level 4 Data Analytics/Week 7/Project/csv/Employees.csv'\u001b[0m\u001b[0;34m)\u001b[0m\u001b[0;34m\u001b[0m\u001b[0;34m\u001b[0m\u001b[0m\n",
                        "\u001b[0;31mNameError\u001b[0m: name 'pd' is not defined"
                    ],
                    "ename": "NameError",
                    "evalue": "name 'pd' is not defined",
                    "output_type": "error"
                }
            ],
            "execution_count": 1
        },
        {
            "cell_type": "markdown",
            "source": [
                "Running this query would enable you to view the sales results of several salespeople as a pie chart. Each salesperson would be represented by a slice of the pie, and the pie chart would display the percentage of total sales that each salesperson generated. You may then see which salespeople are doing well and which might benefit from more coaching or training.\n",
                "\n",
                "  \n",
                "\n",
                "The data would also allow you to spot any patterns or trends, such as if some salespeople consistently outperform others or whether there are particular seasons of the year when a particular salesperson tends to have better sales. This data could be used to pinpoint areas that need improvement or to identify and honour exceptional performers."
            ],
            "metadata": {
                "azdata_cell_guid": "fda611cc-2957-4a7b-a4e3-eca2a69228fa"
            },
            "attachments": {}
        }
    ]
}