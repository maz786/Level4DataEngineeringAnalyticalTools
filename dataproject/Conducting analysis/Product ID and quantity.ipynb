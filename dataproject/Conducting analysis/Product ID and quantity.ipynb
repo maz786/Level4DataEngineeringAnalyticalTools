{
    "metadata": {
        "kernelspec": {
            "name": "pysparkkernel",
            "display_name": "PySpark",
            "language": ""
        },
        "language_info": {
            "name": "pyspark",
            "mimetype": "text/x-python",
            "codemirror_mode": {
                "name": "python",
                "version": 3
            },
            "file_extension": ".py",
            "pygments_lexer": "python3"
        }
    },
    "nbformat_minor": 2,
    "nbformat": 4,
    "cells": [
        {
            "cell_type": "markdown",
            "source": [
                "**<u>Product ID and quantity</u>**"
            ],
            "metadata": {
                "azdata_cell_guid": "4f2b8932-9bd5-40b0-a690-0e40594555aa"
            },
            "attachments": {}
        },
        {
            "cell_type": "code",
            "source": [
                "# import matplotlib and set up the plot\n",
                "import matplotlib.pyplot as plt\n",
                "\n",
                "# read in the data and group it by product\n",
                "sales_by_product = sales_df.groupby('ProductID')['Quantity'].sum()\n",
                "\n",
                "# plot the data using the 'bar' method\n",
                "plt.bar(sales_by_product.index, sales_by_product.values)\n",
                "\n",
                "# show the plot\n",
                "plt.show()"
            ],
            "metadata": {
                "azdata_cell_guid": "d5b04515-5fc0-453a-81c6-d2d36cd2833f",
                "language": "python"
            },
            "outputs": [
                {
                    "output_type": "stream",
                    "name": "stderr",
                    "text": "The code failed because of a fatal error:\n\tError sending http request and maximum retry encountered..\n\nSome things to try:\na) Make sure Spark has enough available resources for Jupyter to create a Spark context.\nb) Contact your Jupyter administrator to make sure the Spark magics library is configured correctly.\nc) Restart the kernel.\n"
                }
            ],
            "execution_count": 1
        },
        {
            "cell_type": "markdown",
            "source": [
                "You may see the overall amount of each product that was sold by running this query. It would be possible for you to determine which products are selling well and which are not. Additionally, you would be able to identify any patterns or trends in the sales data, such as how certain products consistently outperform others or how sales change over time.\n",
                "\n",
                "  \n",
                "\n",
                "You might be able to suggest changes or pinpoint problems for the organisation based on your report. For instance, if you see that a certain product's sales are continuously low, you might advise the company to stop selling it or look for ways to enhance its marketing and promotion. Similar to this, you can suggest that a firm employ measures to increase client retention if you notice that customer loyalty is poor."
            ],
            "metadata": {
                "azdata_cell_guid": "7cd39ff3-a9d5-4338-9f68-ad51e379b692"
            },
            "attachments": {}
        }
    ]
}